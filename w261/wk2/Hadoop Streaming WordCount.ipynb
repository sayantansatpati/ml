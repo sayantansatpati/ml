








<!DOCTYPE html>
<html lang="en">

<head>
  <meta charset="utf-8">
  <title></title>
  <meta name="viewport" content="width=device-width, initial-scale=1.0">
  <meta name="description" content="">
  <meta name="author" content="">
  
  <meta name="robots" content="noindex,nofollow">
  

  <!--NEW RELIC Start Perf Measurement-->
  
  <!--NREND-->

  <!-- Le styles -->
  <link href="/static/build/styles.css" rel="stylesheet">

  <!-- Le HTML5 shim, for IE6-8 support of HTML5 elements -->
  <!--[if lt IE 9]>
    <script src="http://html5shim.googlecode.com/svn/trunk/html5.js"></script>
  <![endif]-->

  <!-- Le fav and touch icons -->
  <link rel="shortcut icon" href="/static/ico/ipynb_icon_16x16.png">
  <link rel="apple-touch-icon-precomposed" sizes="144x144" 
        href="/static/ico/apple-touch-icon-144-precomposed.png">
  <link rel="apple-touch-icon-precomposed" sizes="114x114" 
        href="/static/ico/apple-touch-icon-114-precomposed.png">
  <link rel="apple-touch-icon-precomposed" sizes="72x72" 
        href="/static/ico/apple-touch-icon-72-precomposed.png">
  <link rel="apple-touch-icon-precomposed" 
        href="/static/ico/apple-touch-icon-57-precomposed.png">
  
  

  

  
  <meta name="twitter:card" content="summary">
  <meta name="twitter:title" content="Notebook on nbviewer">
  <meta name="twitter:description" content="Check out this Jupyter notebook!">

  
  <meta name="twitter:domain" content="nbviewer.ipython.org">
  <meta name="twitter:image:src" content="http://ipython.org/ipython-doc/dev/_images/ipynb_icon_128x128.png">

  
    <link href="/static/build/notebook.css" rel="stylesheet">
  

  

  
    <script src="https://cdn.mathjax.org/mathjax/latest/MathJax.js?config=TeX-AMS_HTML" type="text/javascript">
    </script>
    <script type="text/javascript">
      init_mathjax = function() {
        if (window.MathJax) {
          // MathJax loaded
          MathJax.Hub.Config({
            TeX: {
              equationNumbers: {
                autoNumber: "AMS",
                useLabelIds: true
              }
            },
            tex2jax: {
              inlineMath: [ ['$','$'], ["\\(","\\)"] ],
              displayMath: [ ['$$','$$'], ["\\[","\\]"] ],
              processEscapes: true,
              processEnvironments: true
            },
            displayAlign: 'center',
            "HTML-CSS": {
              styles: {'.MathJax_Display': {"margin": 0}},
              linebreaks: { automatic: true }
            }
          });
          MathJax.Hub.Queue(["Typeset", MathJax.Hub]);
        }
      }
      init_mathjax();
    </script>
  

</head>

<body data-spy="scroll" data-target=".subnav" data-offset="50">

  <!-- These are loaded at the top of the body so they are available to 
       notebook cells when they are loaded below. -->
  <script src="/static/components/jquery/dist/jquery.min.js"></script>
  <script src="/static/components/requirejs/require.js"></script>
  <script src="/static/components/moment/min/moment.min.js"></script>

<!-- Navbar
================================================== -->
  <nav id="menubar" class="navbar navbar-default navbar-fixed-top">
    <div class="container">
      <div class="navbar-header">
        <button type="button" class="navbar-toggle collapsed" data-toggle="collapse" data-target=".navbar-collapse">
          <span class="sr-only">Toggle navigation</span>
          <i class="fa fa-bars"></i>
        </button>
        <a class="navbar-brand" href="/">nbviewer</a>
      </div>

      <div class="collapse navbar-collapse">
        <ul class="nav navbar-nav">
          <li>
    <a href="/faq" title="FAQ" >
      
        <span>FAQ</span>
      
    </a>
  </li>
          <li class="">
            <a href="http://ipython.org">IPython</a>
          </li>
          <li class="">
            <a href="http://jupyter.org">Jupyter</a>
          </li>
        </ul>
        
        <ul class="nav navbar-nav navbar-right">
          
  
    
  

  
    <li>
    <a href="#" title="Python 2 Kernel" >
      <span class="fa fa-server fa-2x menu-icon"></span>
      <span class="menu-text">Python 2 Kernel</span>
    </a>
  </li>
  
  
  

  <li>
    <a href="https://dl.dropbox.com/s/dkyjsoi23zawiah/Hadoop%20Streaming%20WordCount.ipynb" title="Download Notebook" download>
      <span class="fa fa-download fa-2x menu-icon"></span>
      <span class="menu-text">Download Notebook</span>
    </a>
  </li>

        </ul>
      </div><!-- /.navbar-collapse -->
      
      
    </div>
  </nav>

  <div class="container">
    
  
  <div id="notebook">
    <div id="notebook-container">
      
<div class="cell border-box-sizing text_cell rendered">
<div class="prompt input_prompt">
</div>
<div class="inner_cell">
<div class="text_cell_render border-box-sizing rendered_html">
<h1 id="DATASCI-W261:-Machine-Learning-at-Scale">DATASCI W261: Machine Learning at Scale<a class="anchor-link" href="#DATASCI-W261:-Machine-Learning-at-Scale">&#182;</a></h1>
</div>
</div>
</div>
<div class="cell border-box-sizing text_cell rendered">
<div class="prompt input_prompt">
</div>
<div class="inner_cell">
<div class="text_cell_render border-box-sizing rendered_html">
<h1 id="This-notebook-shows-a-Hadoop-MapReduce-job-of-WordCount.">This notebook shows a Hadoop MapReduce job of WordCount.<a class="anchor-link" href="#This-notebook-shows-a-Hadoop-MapReduce-job-of-WordCount.">&#182;</a></h1>
</div>
</div>
</div>
<div class="cell border-box-sizing text_cell rendered">
<div class="prompt input_prompt">
</div>
<div class="inner_cell">
<div class="text_cell_render border-box-sizing rendered_html">
<h2 id="Data">Data<a class="anchor-link" href="#Data">&#182;</a></h2>
</div>
</div>
</div>
<div class="cell border-box-sizing code_cell rendered">
<div class="input">
<div class="prompt input_prompt">In&nbsp;[1]:</div>
<div class="inner_cell">
    <div class="input_area">
<div class=" highlight hl-ipython2"><pre><span class="o">%%</span><span class="k">writefile</span> wordcount.txt
hello hi hi hallo
bonjour hola hi ciao
nihao konnichiwa ola
hola nihao hello
</pre></div>

</div>
</div>
</div>

<div class="output_wrapper">
<div class="output">


<div class="output_area"><div class="prompt"></div>
<div class="output_subarea output_stream output_stdout output_text">
<pre>Overwriting wordcount.txt
</pre>
</div>
</div>

</div>
</div>

</div>
<div class="cell border-box-sizing text_cell rendered">
<div class="prompt input_prompt">
</div>
<div class="inner_cell">
<div class="text_cell_render border-box-sizing rendered_html">
<h2 id="Mapper">Mapper<a class="anchor-link" href="#Mapper">&#182;</a></h2>
</div>
</div>
</div>
<div class="cell border-box-sizing code_cell rendered">
<div class="input">
<div class="prompt input_prompt">In&nbsp;[2]:</div>
<div class="inner_cell">
    <div class="input_area">
<div class=" highlight hl-ipython2"><pre><span class="o">%%</span><span class="k">writefile</span> mapper.py
#!/usr/bin/python
import sys
# input comes from STDIN (standard input)
for line in sys.stdin:
    # remove leading and trailing whitespace
    line = line.strip()
    # split the line into words
    words = line.split()
    # increase counters
    for word in words:
        # write the results to STDOUT (standard output);
        # what we output here will be the input for the
        # Reduce step, i.e. the input for reducer.py
        #
        # tab-delimited; the trivial word count is 1
        print &#39;%s\t%s&#39; % (word, 1)
</pre></div>

</div>
</div>
</div>

<div class="output_wrapper">
<div class="output">


<div class="output_area"><div class="prompt"></div>
<div class="output_subarea output_stream output_stdout output_text">
<pre>Overwriting mapper.py
</pre>
</div>
</div>

</div>
</div>

</div>
<div class="cell border-box-sizing text_cell rendered">
<div class="prompt input_prompt">
</div>
<div class="inner_cell">
<div class="text_cell_render border-box-sizing rendered_html">
<h2 id="Reducer">Reducer<a class="anchor-link" href="#Reducer">&#182;</a></h2>
</div>
</div>
</div>
<div class="cell border-box-sizing code_cell rendered">
<div class="input">
<div class="prompt input_prompt">In&nbsp;[3]:</div>
<div class="inner_cell">
    <div class="input_area">
<div class=" highlight hl-ipython2"><pre><span class="o">%%</span><span class="k">writefile</span> reducer.py
#!/usr/bin/python
from operator import itemgetter
import sys

current_word = None
current_count = 0
word = None

# input comes from STDIN
for line in sys.stdin:
    # remove leading and trailing whitespace
    line = line.strip()

    # parse the input we got from mapper.py
    word, count = line.split(&#39;\t&#39;, 1)

    # convert count (currently a string) to int
    try:
        count = int(count)
    except ValueError:
        # count was not a number, so silently
        # ignore/discard this line
        continue

    # this IF-switch only works because Hadoop sorts map output
    # by key (here: word) before it is passed to the reducer
    if current_word == word:
        current_count += count
    else:
        if current_word:
            # write result to STDOUT
            print &#39;%s\t%s&#39; % (current_word, current_count)
        current_count = count
        current_word = word

# do not forget to output the last word if needed!
if current_word == word:
    print &#39;%s\t%s&#39; % (current_word, current_count)
</pre></div>

</div>
</div>
</div>

<div class="output_wrapper">
<div class="output">


<div class="output_area"><div class="prompt"></div>
<div class="output_subarea output_stream output_stdout output_text">
<pre>Overwriting reducer.py
</pre>
</div>
</div>

</div>
</div>

</div>
<div class="cell border-box-sizing text_cell rendered">
<div class="prompt input_prompt">
</div>
<div class="inner_cell">
<div class="text_cell_render border-box-sizing rendered_html">
<h2 id="Test-Code">Test Code<a class="anchor-link" href="#Test-Code">&#182;</a></h2>
</div>
</div>
</div>
<div class="cell border-box-sizing code_cell rendered">
<div class="input">
<div class="prompt input_prompt">In&nbsp;[4]:</div>
<div class="inner_cell">
    <div class="input_area">
<div class=" highlight hl-ipython2"><pre><span class="o">!</span><span class="nb">echo</span> <span class="s2">&quot;foo foo quux labs foo bar quux&quot;</span> <span class="p">|</span> python mapper.py <span class="p">|</span> sort -k1,1 <span class="p">|</span> python reducer.py
</pre></div>

</div>
</div>
</div>

<div class="output_wrapper">
<div class="output">


<div class="output_area"><div class="prompt"></div>
<div class="output_subarea output_stream output_stdout output_text">
<pre>bar	1
foo	3
labs	1
quux	2
</pre>
</div>
</div>

</div>
</div>

</div>
<div class="cell border-box-sizing text_cell rendered">
<div class="prompt input_prompt">
</div>
<div class="inner_cell">
<div class="text_cell_render border-box-sizing rendered_html">
<h2 id="Run-wordcount-in-hadoop">Run wordcount in hadoop<a class="anchor-link" href="#Run-wordcount-in-hadoop">&#182;</a></h2>
</div>
</div>
</div>
<div class="cell border-box-sizing text_cell rendered">
<div class="prompt input_prompt">
</div>
<div class="inner_cell">
<div class="text_cell_render border-box-sizing rendered_html">
<h3 id="start-yarn-and-hdfs">start yarn and hdfs<a class="anchor-link" href="#start-yarn-and-hdfs">&#182;</a></h3>
</div>
</div>
</div>
<div class="cell border-box-sizing code_cell rendered">
<div class="input">
<div class="prompt input_prompt">In&nbsp;[2]:</div>
<div class="inner_cell">
    <div class="input_area">
<div class=" highlight hl-ipython2"><pre><span class="o">!</span>/usr/local/Cellar/hadoop/2.6.0/sbin/start-yarn.sh
<span class="o">!</span>/usr/local/Cellar/hadoop/2.6.0/sbin/start-dfs.sh
</pre></div>

</div>
</div>
</div>

<div class="output_wrapper">
<div class="output">


<div class="output_area"><div class="prompt"></div>
<div class="output_subarea output_stream output_stdout output_text">
<pre>starting yarn daemons
starting resourcemanager, logging to /usr/local/Cellar/hadoop/2.6.0/libexec/logs/yarn-liang-resourcemanager-ldai.out
localhost: starting nodemanager, logging to /usr/local/Cellar/hadoop/2.6.0/libexec/logs/yarn-liang-nodemanager-ldai.out
15/08/21 06:23:20 WARN util.NativeCodeLoader: Unable to load native-hadoop library for your platform... using builtin-java classes where applicable
Starting namenodes on [localhost]
localhost: starting namenode, logging to /usr/local/Cellar/hadoop/2.6.0/libexec/logs/hadoop-liang-namenode-ldai.out
localhost: starting datanode, logging to /usr/local/Cellar/hadoop/2.6.0/libexec/logs/hadoop-liang-datanode-ldai.out
Starting secondary namenodes [0.0.0.0]
0.0.0.0: starting secondarynamenode, logging to /usr/local/Cellar/hadoop/2.6.0/libexec/logs/hadoop-liang-secondarynamenode-ldai.out
15/08/21 06:23:43 WARN util.NativeCodeLoader: Unable to load native-hadoop library for your platform... using builtin-java classes where applicable
</pre>
</div>
</div>

</div>
</div>

</div>
<div class="cell border-box-sizing text_cell rendered">
<div class="prompt input_prompt">
</div>
<div class="inner_cell">
<div class="text_cell_render border-box-sizing rendered_html">
<h3 id="create-a-folder">create a folder<a class="anchor-link" href="#create-a-folder">&#182;</a></h3>
</div>
</div>
</div>
<div class="cell border-box-sizing code_cell rendered">
<div class="input">
<div class="prompt input_prompt">In&nbsp;[3]:</div>
<div class="inner_cell">
    <div class="input_area">
<div class=" highlight hl-ipython2"><pre><span class="o">!</span>hdfs dfs -mkdir -p /user/liang
</pre></div>

</div>
</div>
</div>

<div class="output_wrapper">
<div class="output">


<div class="output_area"><div class="prompt"></div>
<div class="output_subarea output_stream output_stdout output_text">
<pre>15/08/21 06:23:49 WARN util.NativeCodeLoader: Unable to load native-hadoop library for your platform... using builtin-java classes where applicable
</pre>
</div>
</div>

</div>
</div>

</div>
<div class="cell border-box-sizing text_cell rendered">
<div class="prompt input_prompt">
</div>
<div class="inner_cell">
<div class="text_cell_render border-box-sizing rendered_html">
<h3 id="upload-wordcount.txt-to-hdfs">upload wordcount.txt to hdfs<a class="anchor-link" href="#upload-wordcount.txt-to-hdfs">&#182;</a></h3>
</div>
</div>
</div>
<div class="cell border-box-sizing code_cell rendered">
<div class="input">
<div class="prompt input_prompt">In&nbsp;[4]:</div>
<div class="inner_cell">
    <div class="input_area">
<div class=" highlight hl-ipython2"><pre><span class="o">!</span>hdfs dfs -put wordcount.txt /user/liang
</pre></div>

</div>
</div>
</div>

<div class="output_wrapper">
<div class="output">


<div class="output_area"><div class="prompt"></div>
<div class="output_subarea output_stream output_stdout output_text">
<pre>15/08/21 06:23:56 WARN util.NativeCodeLoader: Unable to load native-hadoop library for your platform... using builtin-java classes where applicable
put: &#96;/user/liang/wordcount.txt&apos;: File exists
</pre>
</div>
</div>

</div>
</div>

</div>
<div class="cell border-box-sizing text_cell rendered">
<div class="prompt input_prompt">
</div>
<div class="inner_cell">
<div class="text_cell_render border-box-sizing rendered_html">
<h3 id="Hadoop-streaming-command">Hadoop streaming command<a class="anchor-link" href="#Hadoop-streaming-command">&#182;</a></h3>
</div>
</div>
</div>
<div class="cell border-box-sizing text_cell rendered">
<div class="prompt input_prompt">
</div>
<div class="inner_cell">
<div class="text_cell_render border-box-sizing rendered_html">
<pre>
hadoop jar hadoopstreamingjarfile \
    -D stream.num.map.output.key.fields=n \
    -mapper mapperfile \
    -reducer reducerfile \
    -input inputfile \
    -output outputfile</pre>
</div>
</div>
</div>
<div class="cell border-box-sizing text_cell rendered">
<div class="prompt input_prompt">
</div>
<div class="inner_cell">
<div class="text_cell_render border-box-sizing rendered_html">
<p>hadoop streaming jar file can be found in your hadoop folder or downloaded from
<a href="http://mvnrepository.com/artifact/org.apache.hadoop/hadoop-streaming/2.6.0">http://mvnrepository.com/artifact/org.apache.hadoop/hadoop-streaming/2.6.0</a></p>

</div>
</div>
</div>
<div class="cell border-box-sizing code_cell rendered">
<div class="input">
<div class="prompt input_prompt">In&nbsp;[7]:</div>
<div class="inner_cell">
    <div class="input_area">
<div class=" highlight hl-ipython2"><pre><span class="o">!</span>hadoop jar hadoop-*streaming*.jar -mapper mapper.py -reducer reducer.py -input wordcount.txt -output wordcountOutput
</pre></div>

</div>
</div>
</div>

<div class="output_wrapper">
<div class="output">


<div class="output_area"><div class="prompt"></div>
<div class="output_subarea output_stream output_stdout output_text">
<pre>15/08/21 06:24:37 WARN util.NativeCodeLoader: Unable to load native-hadoop library for your platform... using builtin-java classes where applicable
15/08/21 06:24:38 INFO Configuration.deprecation: session.id is deprecated. Instead, use dfs.metrics.session-id
15/08/21 06:24:38 INFO jvm.JvmMetrics: Initializing JVM Metrics with processName=JobTracker, sessionId=
15/08/21 06:24:38 INFO jvm.JvmMetrics: Cannot initialize JVM Metrics with processName=JobTracker, sessionId= - already initialized
15/08/21 06:24:39 INFO mapred.FileInputFormat: Total input paths to process : 1
15/08/21 06:24:39 INFO mapreduce.JobSubmitter: number of splits:1
15/08/21 06:24:39 INFO mapreduce.JobSubmitter: Submitting tokens for job: job_local1633678757_0001
15/08/21 06:24:40 INFO mapreduce.Job: The url to track the job: http://localhost:8080/
15/08/21 06:24:40 INFO mapred.LocalJobRunner: OutputCommitter set in config null
15/08/21 06:24:40 INFO mapreduce.Job: Running job: job_local1633678757_0001
15/08/21 06:24:40 INFO mapred.LocalJobRunner: OutputCommitter is org.apache.hadoop.mapred.FileOutputCommitter
15/08/21 06:24:40 INFO mapred.LocalJobRunner: Waiting for map tasks
15/08/21 06:24:40 INFO mapred.LocalJobRunner: Starting task: attempt_local1633678757_0001_m_000000_0
15/08/21 06:24:40 INFO util.ProcfsBasedProcessTree: ProcfsBasedProcessTree currently is supported only on Linux.
15/08/21 06:24:40 INFO mapred.Task:  Using ResourceCalculatorProcessTree : null
15/08/21 06:24:40 INFO mapred.MapTask: Processing split: hdfs://localhost:9000/user/liang/wordcount.txt:0+76
15/08/21 06:24:40 INFO mapred.MapTask: numReduceTasks: 1
15/08/21 06:24:40 INFO mapred.MapTask: (EQUATOR) 0 kvi 26214396(104857584)
15/08/21 06:24:40 INFO mapred.MapTask: mapreduce.task.io.sort.mb: 100
15/08/21 06:24:40 INFO mapred.MapTask: soft limit at 83886080
15/08/21 06:24:40 INFO mapred.MapTask: bufstart = 0; bufvoid = 104857600
15/08/21 06:24:40 INFO mapred.MapTask: kvstart = 26214396; length = 6553600
15/08/21 06:24:40 INFO mapred.MapTask: Map output collector class = org.apache.hadoop.mapred.MapTask$MapOutputBuffer
15/08/21 06:24:40 INFO streaming.PipeMapRed: PipeMapRed exec [/Users/liang/Documents/PythonNotebook/hadoop/./mapper.py]
15/08/21 06:24:40 INFO Configuration.deprecation: mapred.tip.id is deprecated. Instead, use mapreduce.task.id
15/08/21 06:24:40 INFO Configuration.deprecation: mapred.local.dir is deprecated. Instead, use mapreduce.cluster.local.dir
15/08/21 06:24:40 INFO Configuration.deprecation: map.input.file is deprecated. Instead, use mapreduce.map.input.file
15/08/21 06:24:40 INFO Configuration.deprecation: mapred.skip.on is deprecated. Instead, use mapreduce.job.skiprecords
15/08/21 06:24:41 INFO Configuration.deprecation: map.input.length is deprecated. Instead, use mapreduce.map.input.length
15/08/21 06:24:41 INFO Configuration.deprecation: mapred.work.output.dir is deprecated. Instead, use mapreduce.task.output.dir
15/08/21 06:24:41 INFO Configuration.deprecation: map.input.start is deprecated. Instead, use mapreduce.map.input.start
15/08/21 06:24:41 INFO Configuration.deprecation: mapred.job.id is deprecated. Instead, use mapreduce.job.id
15/08/21 06:24:41 INFO Configuration.deprecation: user.name is deprecated. Instead, use mapreduce.job.user.name
15/08/21 06:24:41 INFO Configuration.deprecation: mapred.task.is.map is deprecated. Instead, use mapreduce.task.ismap
15/08/21 06:24:41 INFO Configuration.deprecation: mapred.task.id is deprecated. Instead, use mapreduce.task.attempt.id
15/08/21 06:24:41 INFO Configuration.deprecation: mapred.task.partition is deprecated. Instead, use mapreduce.task.partition
15/08/21 06:24:41 INFO mapreduce.Job: Job job_local1633678757_0001 running in uber mode : false
15/08/21 06:24:41 INFO mapreduce.Job:  map 0% reduce 0%
15/08/21 06:24:41 INFO streaming.PipeMapRed: R/W/S=1/0/0 in:NA [rec/s] out:NA [rec/s]
15/08/21 06:24:41 INFO streaming.PipeMapRed: MRErrorThread done
15/08/21 06:24:41 INFO streaming.PipeMapRed: Records R/W=4/1
15/08/21 06:24:41 INFO streaming.PipeMapRed: mapRedFinished
15/08/21 06:24:41 INFO mapred.LocalJobRunner: 
15/08/21 06:24:41 INFO mapred.MapTask: Starting flush of map output
15/08/21 06:24:41 INFO mapred.MapTask: Spilling map output
15/08/21 06:24:41 INFO mapred.MapTask: bufstart = 0; bufend = 105; bufvoid = 104857600
15/08/21 06:24:41 INFO mapred.MapTask: kvstart = 26214396(104857584); kvend = 26214344(104857376); length = 53/6553600
15/08/21 06:24:41 INFO mapred.MapTask: Finished spill 0
15/08/21 06:24:41 INFO mapred.Task: Task:attempt_local1633678757_0001_m_000000_0 is done. And is in the process of committing
15/08/21 06:24:41 INFO mapred.LocalJobRunner: Records R/W=4/1
15/08/21 06:24:41 INFO mapred.Task: Task &apos;attempt_local1633678757_0001_m_000000_0&apos; done.
15/08/21 06:24:41 INFO mapred.LocalJobRunner: Finishing task: attempt_local1633678757_0001_m_000000_0
15/08/21 06:24:41 INFO mapred.LocalJobRunner: map task executor complete.
15/08/21 06:24:41 INFO mapred.LocalJobRunner: Waiting for reduce tasks
15/08/21 06:24:41 INFO mapred.LocalJobRunner: Starting task: attempt_local1633678757_0001_r_000000_0
15/08/21 06:24:41 INFO util.ProcfsBasedProcessTree: ProcfsBasedProcessTree currently is supported only on Linux.
15/08/21 06:24:41 INFO mapred.Task:  Using ResourceCalculatorProcessTree : null
15/08/21 06:24:42 INFO mapred.ReduceTask: Using ShuffleConsumerPlugin: org.apache.hadoop.mapreduce.task.reduce.Shuffle@714ed7a1
15/08/21 06:24:42 INFO mapreduce.Job:  map 100% reduce 0%
15/08/21 06:24:42 INFO reduce.MergeManagerImpl: MergerManager: memoryLimit=334338464, maxSingleShuffleLimit=83584616, mergeThreshold=220663392, ioSortFactor=10, memToMemMergeOutputsThreshold=10
15/08/21 06:24:42 INFO reduce.EventFetcher: attempt_local1633678757_0001_r_000000_0 Thread started: EventFetcher for fetching Map Completion Events
15/08/21 06:24:42 INFO reduce.LocalFetcher: localfetcher#1 about to shuffle output of map attempt_local1633678757_0001_m_000000_0 decomp: 135 len: 139 to MEMORY
15/08/21 06:24:42 INFO reduce.InMemoryMapOutput: Read 135 bytes from map-output for attempt_local1633678757_0001_m_000000_0
15/08/21 06:24:42 INFO reduce.MergeManagerImpl: closeInMemoryFile -&gt; map-output of size: 135, inMemoryMapOutputs.size() -&gt; 1, commitMemory -&gt; 0, usedMemory -&gt;135
15/08/21 06:24:42 INFO reduce.EventFetcher: EventFetcher is interrupted.. Returning
15/08/21 06:24:42 INFO mapred.LocalJobRunner: 1 / 1 copied.
15/08/21 06:24:42 INFO reduce.MergeManagerImpl: finalMerge called with 1 in-memory map-outputs and 0 on-disk map-outputs
15/08/21 06:24:42 INFO mapred.Merger: Merging 1 sorted segments
15/08/21 06:24:42 INFO mapred.Merger: Down to the last merge-pass, with 1 segments left of total size: 125 bytes
15/08/21 06:24:42 INFO reduce.MergeManagerImpl: Merged 1 segments, 135 bytes to disk to satisfy reduce memory limit
15/08/21 06:24:42 INFO reduce.MergeManagerImpl: Merging 1 files, 139 bytes from disk
15/08/21 06:24:42 INFO reduce.MergeManagerImpl: Merging 0 segments, 0 bytes from memory into reduce
15/08/21 06:24:42 INFO mapred.Merger: Merging 1 sorted segments
15/08/21 06:24:42 INFO mapred.Merger: Down to the last merge-pass, with 1 segments left of total size: 125 bytes
15/08/21 06:24:42 INFO mapred.LocalJobRunner: 1 / 1 copied.
15/08/21 06:24:42 INFO streaming.PipeMapRed: PipeMapRed exec [/Users/liang/Documents/PythonNotebook/hadoop/./reducer.py]
15/08/21 06:24:42 INFO Configuration.deprecation: mapred.job.tracker is deprecated. Instead, use mapreduce.jobtracker.address
15/08/21 06:24:42 INFO Configuration.deprecation: mapred.map.tasks is deprecated. Instead, use mapreduce.job.maps
15/08/21 06:24:43 INFO streaming.PipeMapRed: R/W/S=1/0/0 in:NA [rec/s] out:NA [rec/s]
15/08/21 06:24:43 INFO streaming.PipeMapRed: R/W/S=10/0/0 in:NA [rec/s] out:NA [rec/s]
15/08/21 06:24:43 INFO streaming.PipeMapRed: MRErrorThread done
15/08/21 06:24:43 INFO streaming.PipeMapRed: Records R/W=14/1
15/08/21 06:24:43 INFO streaming.PipeMapRed: mapRedFinished
15/08/21 06:24:44 INFO mapred.Task: Task:attempt_local1633678757_0001_r_000000_0 is done. And is in the process of committing
15/08/21 06:24:44 INFO mapred.LocalJobRunner: 1 / 1 copied.
15/08/21 06:24:44 INFO mapred.Task: Task attempt_local1633678757_0001_r_000000_0 is allowed to commit now
15/08/21 06:24:44 INFO output.FileOutputCommitter: Saved output of task &apos;attempt_local1633678757_0001_r_000000_0&apos; to hdfs://localhost:9000/user/liang/wordcountOutput/_temporary/0/task_local1633678757_0001_r_000000
15/08/21 06:24:44 INFO mapred.LocalJobRunner: Records R/W=14/1 &gt; reduce
15/08/21 06:24:44 INFO mapred.Task: Task &apos;attempt_local1633678757_0001_r_000000_0&apos; done.
15/08/21 06:24:44 INFO mapred.LocalJobRunner: Finishing task: attempt_local1633678757_0001_r_000000_0
15/08/21 06:24:44 INFO mapred.LocalJobRunner: reduce task executor complete.
15/08/21 06:24:45 INFO mapreduce.Job:  map 100% reduce 100%
15/08/21 06:24:45 INFO mapreduce.Job: Job job_local1633678757_0001 completed successfully
15/08/21 06:24:45 INFO mapreduce.Job: Counters: 35
	File System Counters
		FILE: Number of bytes read=210570
		FILE: Number of bytes written=746473
		FILE: Number of read operations=0
		FILE: Number of large read operations=0
		FILE: Number of write operations=0
		HDFS: Number of bytes read=152
		HDFS: Number of bytes written=72
		HDFS: Number of read operations=13
		HDFS: Number of large read operations=0
		HDFS: Number of write operations=4
	Map-Reduce Framework
		Map input records=4
		Map output records=14
		Map output bytes=105
		Map output materialized bytes=139
		Input split bytes=98
		Combine input records=0
		Combine output records=0
		Reduce input groups=9
		Reduce shuffle bytes=139
		Reduce input records=14
		Reduce output records=9
		Spilled Records=28
		Shuffled Maps =1
		Failed Shuffles=0
		Merged Map outputs=1
		GC time elapsed (ms)=0
		Total committed heap usage (bytes)=562036736
	Shuffle Errors
		BAD_ID=0
		CONNECTION=0
		IO_ERROR=0
		WRONG_LENGTH=0
		WRONG_MAP=0
		WRONG_REDUCE=0
	File Input Format Counters 
		Bytes Read=76
	File Output Format Counters 
		Bytes Written=72
15/08/21 06:24:45 INFO streaming.StreamJob: Output directory: wordcountOutput
</pre>
</div>
</div>

</div>
</div>

</div>
<div class="cell border-box-sizing text_cell rendered">
<div class="prompt input_prompt">
</div>
<div class="inner_cell">
<div class="text_cell_render border-box-sizing rendered_html">
<h3 id="show-the-results">show the results<a class="anchor-link" href="#show-the-results">&#182;</a></h3>
</div>
</div>
</div>
<div class="cell border-box-sizing code_cell rendered">
<div class="input">
<div class="prompt input_prompt">In&nbsp;[8]:</div>
<div class="inner_cell">
    <div class="input_area">
<div class=" highlight hl-ipython2"><pre><span class="o">!</span>hdfs dfs -cat wordcountOutput/part-00000
</pre></div>

</div>
</div>
</div>

<div class="output_wrapper">
<div class="output">


<div class="output_area"><div class="prompt"></div>
<div class="output_subarea output_stream output_stdout output_text">
<pre>15/08/21 06:28:27 WARN util.NativeCodeLoader: Unable to load native-hadoop library for your platform... using builtin-java classes where applicable
bonjour	1
ciao	1
hallo	1
hello	2
hi	3
hola	2
konnichiwa	1
nihao	2
ola	1
</pre>
</div>
</div>

</div>
</div>

</div>
<div class="cell border-box-sizing text_cell rendered">
<div class="prompt input_prompt">
</div>
<div class="inner_cell">
<div class="text_cell_render border-box-sizing rendered_html">
<h3 id="stop-yarn-and-hdfs">stop yarn and hdfs<a class="anchor-link" href="#stop-yarn-and-hdfs">&#182;</a></h3>
</div>
</div>
</div>
<div class="cell border-box-sizing code_cell rendered">
<div class="input">
<div class="prompt input_prompt">In&nbsp;[9]:</div>
<div class="inner_cell">
    <div class="input_area">
<div class=" highlight hl-ipython2"><pre><span class="o">!</span>/usr/local/Cellar/hadoop/2.6.0/sbin/stop-yarn.sh
<span class="o">!</span>/usr/local/Cellar/hadoop/2.6.0/sbin/stop-dfs.sh
</pre></div>

</div>
</div>
</div>

<div class="output_wrapper">
<div class="output">


<div class="output_area"><div class="prompt"></div>
<div class="output_subarea output_stream output_stdout output_text">
<pre>stopping yarn daemons
stopping resourcemanager
localhost: stopping nodemanager
no proxyserver to stop
15/08/21 06:28:48 WARN util.NativeCodeLoader: Unable to load native-hadoop library for your platform... using builtin-java classes where applicable
Stopping namenodes on [localhost]
localhost: stopping namenode
localhost: stopping datanode
Stopping secondary namenodes [0.0.0.0]
0.0.0.0: stopping secondarynamenode
15/08/21 06:29:09 WARN util.NativeCodeLoader: Unable to load native-hadoop library for your platform... using builtin-java classes where applicable
</pre>
</div>
</div>

</div>
</div>

</div>
    </div>
  </div>


    <div class="back-to-top hidden-print text-center">
      <a href="#">Back to top</a>
    </div>

    
      <footer class="footer hidden-print col-md-12">
        <div class="col-md-4">
          <p>
            This web site does not host notebooks, it only renders notebooks
            available on other websites.
          </p>
        </div>

        <div class="col-md-4">
          <p>
            Delivered by <a href="http://www.fastly.com/">Fastly</a>, 
            Rendered by <a href="https://developer.rackspace.com/?nbviewer=awesome">Rackspace</a>
          </p>
          <p>
            nbviewer GitHub <a href="https://github.com/jupyter/nbviewer">repository</a>.
          </p>
        </div>

        <div class="col-md-4">
          
  
            
              <p>
                nbviewer version:
                <a href="https://github.com/jupyter/nbviewer/commit/03d6df082a04afe885eb1a7dd6dcd25b45a89181">
                  03d6df0
                </a>
              </p>
            
          
  
  <p class="text-muted">
    IPython version: 4.0.0
    
  </p>
  

          
  
  
  <p class="text-muted">
    Rendered
    <span class='date' data-date='Sat, 05 Sep 2015 17:09:30 UTC' title='Sat, 05 Sep 2015 17:09:30 UTC'>(Sat, 05 Sep 2015 17:09:30 UTC)</span>
  </p>
  

        </div>
      </footer>
    

  </div>

  <script src="/static/components/bootstrap/js/bootstrap.min.js"></script>
  <script src="/static/components/headroom.js/dist/headroom.min.js"></script>
  <script src="/static/components/headroom.js/dist/jQuery.headroom.min.js"></script>

  
  
  <script>
    $(function(){ $("#menubar").headroom({
      tolerance: 5,
      offset: 205,
      classes: {
        initial: "animated",
        pinned: "slideInDown",
        unpinned: "slideOutUp"
      }
    })});
  </script>


  <script>
    (function(i,s,o,g,r,a,m){i['GoogleAnalyticsObject']=r;i[r]=i[r]||function(){
      (i[r].q=i[r].q||[]).push(arguments)},i[r].l=1*new Date();a=s.createElement(o),
      m=s.getElementsByTagName(o)[0];a.async=1;a.src=g;m.parentNode.insertBefore(a,m)
    })(window,document,'script','//www.google-analytics.com/analytics.js','ga');
    ga('create', 'UA-38683231-2', 'auto');
    ga('send', 'pageview');
  </script>
  <script>
      var update_date  = function(){
          var str = window.moment($('.date').data('date')).fromNow();
          $('.date').text(str);
      }
      setInterval(update_date , 61*1000);
      $(update_date);
  </script>
  <!--NEW RELIC Stop Perf Measurement-->
  
  <!--NEW RELIC End-->
</body>
</html>