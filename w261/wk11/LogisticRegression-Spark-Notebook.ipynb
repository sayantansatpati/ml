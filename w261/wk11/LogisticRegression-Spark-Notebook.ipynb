{
 "cells": [
  {
   "cell_type": "markdown",
   "metadata": {},
   "source": [
    "#Data Generation"
   ]
  },
  {
   "cell_type": "code",
   "execution_count": 12,
   "metadata": {
    "collapsed": true
   },
   "outputs": [],
   "source": [
    "import numpy as np\n",
    "import csv\n",
    "def data_generate(fileName, w=[0,0,0]):\n",
    "    size = 100\n",
    "    np.random.seed(0)\n",
    "    x1 = np.random.uniform(-4,4,100)\n",
    "    x2 = np.random.uniform(-4,4,100)\n",
    "    noise = np.random.normal(0,3,100)\n",
    "    v = (x1 * w[0] + x2 * w[1] + w[2] + noise)\n",
    "    y = (v>0) * 2-1\n",
    "    data = zip(y, x1, x2)\n",
    "    with open(fileName,'wb') as f:\n",
    "        writer = csv.writer(f)\n",
    "        for row in data:\n",
    "            writer.writerow(row)\n",
    "    return True"
   ]
  },
  {
   "cell_type": "code",
   "execution_count": 13,
   "metadata": {
    "collapsed": false
   },
   "outputs": [
    {
     "data": {
      "text/plain": [
       "True"
      ]
     },
     "execution_count": 13,
     "metadata": {},
     "output_type": "execute_result"
    }
   ],
   "source": [
    "w = np.array([8, -3, -1])\n",
    "data_generate('data.csv', w)"
   ]
  },
  {
   "cell_type": "markdown",
   "metadata": {},
   "source": [
    "#Data Visualization"
   ]
  },
  {
   "cell_type": "code",
   "execution_count": 17,
   "metadata": {
    "collapsed": true
   },
   "outputs": [],
   "source": [
    "%matplotlib inline\n",
    "import matplotlib.pyplot as plt\n",
    "def dataPlot(file, w):\n",
    "    cols = {'1': 'r', '-1': 'b'}\n",
    "    with open(file,'r') as f:\n",
    "        reader = csv.reader(f)\n",
    "        for row in reader:\n",
    "            plt.plot(float(row[1]), float(row[2]), cols[row[0]]+'o')\n",
    "    plt.xlabel(\"x1\")\n",
    "    plt.ylabel(\"x2\")\n",
    "    x1 = [-4,4]\n",
    "    x2 = [-(i * w[0] + w[2]) / w[1] for i in x1]\n",
    "    plt.plot(x1, x2, linewidth=2.0)\n",
    "    plt.grid()\n",
    "    plt.show()"
   ]
  },
  {
   "cell_type": "code",
   "execution_count": 18,
   "metadata": {
    "collapsed": false
   },
   "outputs": [
    {
     "data": {
      "image/png": "[encoded data removed]",
      "text/plain": [
       "<matplotlib.figure.Figure at 0x109142790>"
      ]
     },
     "metadata": {},
     "output_type": "display_data"
    }
   ],
   "source": [
    "dataPlot('data.csv',w)"
   ]
  },
  {
   "cell_type": "markdown",
   "metadata": {},
   "source": [
    "#Start Spark"
   ]
  },
  {
   "cell_type": "code",
   "execution_count": 5,
   "metadata": {
    "collapsed": false
   },
   "outputs": [
    {
     "name": "stdout",
     "output_type": "stream",
     "text": [
      "Welcome to\n",
      "      ____              __\n",
      "     / __/__  ___ _____/ /__\n",
      "    _\\ \\/ _ \\/ _ `/ __/  '_/\n",
      "   /__ / .__/\\_,_/_/ /_/\\_\\   version 1.4.1\n",
      "      /_/\n",
      "\n",
      "Using Python version 2.7.10 (default, May 28 2015 17:04:42)\n",
      "SparkContext available as sc, HiveContext available as sqlContext.\n"
     ]
    }
   ],
   "source": [
    "import os\n",
    "import sys\n",
    "spark_home = os.environ['SPARK_HOME'] = '/Users/liang/Downloads/spark-1.4.1-bin-hadoop2.6/'\n",
    "if not spark_home:\n",
    "    raise ValueError('SPARK_HOME enviroment variable is not set')\n",
    "sys.path.insert(0,os.path.join(spark_home,'python'))\n",
    "sys.path.insert(0,os.path.join(spark_home,'python/lib/py4j-0.8.2.1-src.zip'))\n",
    "execfile(os.path.join(spark_home,'python/pyspark/shell.py'))"
   ]
  },
  {
   "cell_type": "markdown",
   "metadata": {},
   "source": [
    "#Gradient descent (no regularization)"
   ]
  },
  {
   "cell_type": "code",
   "execution_count": 6,
   "metadata": {
    "collapsed": true
   },
   "outputs": [],
   "source": [
    "from collections import namedtuple\n",
    "import numpy as np\n",
    "Point = namedtuple('Point', 'x y')\n",
    "\n",
    "def readPoint(line):\n",
    "    d = line.split(',')\n",
    "    x = [float(i) for i in d[1:]]\n",
    "    x.append(1.0)  #bias term\n",
    "    return Point(x, float(d[0]))\n",
    "\n",
    "def logisticRegressionGD(data, wInitial=None, learningRate=0.05, iterations=100):\n",
    "    featureLen = len(data.take(1)[0].x)\n",
    "    n = data.count()\n",
    "    if wInitial is None:\n",
    "        w = np.random.normal(size=featureLen)\n",
    "    else:\n",
    "        w = wInitial\n",
    "    for i in range(iterations):\n",
    "        wBroadcast = sc.broadcast(w)\n",
    "        gradient = data.map(lambda p: (1 / (1 + np.exp(-p.y*np.dot(wBroadcast.value, p.x)))-1) * p.y * np.array(p.x))\\\n",
    "                    .reduce(lambda a, b: a + b)\n",
    "        w = w - learningRate * gradient / n\n",
    "    #w = w / np.linalg.norm(w) #normalization\n",
    "    return w"
   ]
  },
  {
   "cell_type": "code",
   "execution_count": 7,
   "metadata": {
    "collapsed": false
   },
   "outputs": [
    {
     "data": {
      "text/plain": [
       "array([ 1.35420091, -0.46407845, -1.01559616])"
      ]
     },
     "execution_count": 7,
     "metadata": {},
     "output_type": "execute_result"
    }
   ],
   "source": [
    "data = sc.textFile('data.csv').map(readPoint).cache()\n",
    "logisticRegressionGD(data)"
   ]
  },
  {
   "cell_type": "markdown",
   "metadata": {},
   "source": [
    "##Plot w in iterations"
   ]
  },
  {
   "cell_type": "code",
   "execution_count": 8,
   "metadata": {
    "collapsed": true
   },
   "outputs": [],
   "source": [
    "def ierationsPlot(fileName, truew):\n",
    "    x1 = [-4, 4]\n",
    "    \n",
    "    w = truew\n",
    "    x2 = [-(i * w[0] + w[2]) / w[1] for i in x1]\n",
    "    plt.plot(x1, x2, 'b', label=\"True line\", linewidth=4.0)\n",
    "    \n",
    "    np.random.seed(800)\n",
    "    w = np.random.normal(0,1,3)\n",
    "    x2 = [-(i * w[0] + w[2]) / w[1] for i in x1]\n",
    "    plt.plot(x1, x2, 'r--', label=\"After 0 Iterations\", linewidth=2.0)\n",
    "    \n",
    "    data = sc.textFile(fileName).map(readPoint).cache()\n",
    "    w = logisticRegressionGD(data, w, iterations=30)\n",
    "    x2 = [-(i * w[0] + w[2]) / w[1] for i in x1]\n",
    "    plt.plot(x1, x2, 'g--', label=\"After 1 Iterations\", linewidth=2.0)\n",
    "    \n",
    "    w = logisticRegressionGD(data, w, iterations=30)\n",
    "    x2 = [-(i * w[0] + w[2]) / w[1] for i in x1]\n",
    "    plt.plot(x1, x2, 'm--', label=\"After 2 Iterations\", linewidth=2.0)\n",
    "    \n",
    "    w = logisticRegressionGD(data, w, iterations=30)\n",
    "    x2 = [-(i * w[0] + w[2]) / w[1] for i in x1]\n",
    "    plt.plot(x1, x2, 'y--', label=\"After 3 Iterations\", linewidth=2.0)\n",
    "    \n",
    "    plt.legend(bbox_to_anchor=(1.05, 1), loc=2, fontsize=20, borderaxespad=0.)\n",
    "    plt.xlabel(\"x1\")\n",
    "    plt.ylabel(\"x2\")\n",
    "    plt.grid()\n",
    "    plt.show()"
   ]
  },
  {
   "cell_type": "code",
   "execution_count": 9,
   "metadata": {
    "collapsed": false
   },
   "outputs": [
    {
     "data": {
      "image/png": "[encoded data removed]",
      "text/plain": [
       "<matplotlib.figure.Figure at 0x1082d4150>"
      ]
     },
     "metadata": {},
     "output_type": "display_data"
    }
   ],
   "source": [
    "ierationsPlot('data.csv',w)"
   ]
  },
  {
   "cell_type": "markdown",
   "metadata": {},
   "source": [
    "#Gradient descent (regularization)"
   ]
  },
  {
   "cell_type": "code",
   "execution_count": 10,
   "metadata": {
    "collapsed": true
   },
   "outputs": [],
   "source": [
    "def logisticRegressionGDReg(data, wInitial=None, learningRate=0.05, iterations=50, regParam=0.01, regType=None):\n",
    "    featureLen = len(data.take(1)[0].x)\n",
    "    n = data.count()\n",
    "    if wInitial is None:\n",
    "        w = np.random.normal(size=featureLen) # w should be broadcasted if it is large\n",
    "    else:\n",
    "        w = wInitial\n",
    "    for i in range(iterations):\n",
    "        wBroadcast = sc.broadcast(w)\n",
    "        gradient = data.map(lambda p: (1 / (1 + np.exp(-p.y*np.dot(wBroadcast.value, p.x)))-1) * p.y * np.array(p.x))\\\n",
    "                    .reduce(lambda a, b: a + b)\n",
    "        if regType == \"Ridge\":\n",
    "            wReg = w * 1\n",
    "            wReg[-1] = 0 #last value of weight vector is bias term, ignored in regularization\n",
    "        elif regType == \"Lasso\":\n",
    "            wReg = w * 1\n",
    "            wReg[-1] = 0 #last value of weight vector is bias term, ignored in regularization\n",
    "            wReg = (wReg>0).astype(int) * 2-1\n",
    "        else:\n",
    "            wReg = np.zeros(w.shape[0])\n",
    "        gradient = gradient + regParam * wReg  #gradient:  GD of Sqaured Error+ GD of regularized term \n",
    "        w = w - learningRate * gradient / n\n",
    "    return w"
   ]
  },
  {
   "cell_type": "markdown",
   "metadata": {},
   "source": [
    "##Ridge  Regression"
   ]
  },
  {
   "cell_type": "code",
   "execution_count": 11,
   "metadata": {
    "collapsed": false
   },
   "outputs": [
    {
     "data": {
      "text/plain": [
       "array([ 0.74835721, -0.17134752, -0.39953122])"
      ]
     },
     "execution_count": 11,
     "metadata": {},
     "output_type": "execute_result"
    }
   ],
   "source": [
    "np.random.seed(400)\n",
    "logisticRegressionGDReg(data, iterations=50, regParam=0.1, regType=\"Ridge\")"
   ]
  },
  {
   "cell_type": "markdown",
   "metadata": {},
   "source": [
    "##Lasso  Regression"
   ]
  },
  {
   "cell_type": "code",
   "execution_count": 12,
   "metadata": {
    "collapsed": false
   },
   "outputs": [
    {
     "data": {
      "text/plain": [
       "array([ 0.74788215, -0.17092861, -0.397468  ])"
      ]
     },
     "execution_count": 12,
     "metadata": {},
     "output_type": "execute_result"
    }
   ],
   "source": [
    "np.random.seed(400)\n",
    "logisticRegressionGDReg(data, iterations=50, regParam=0.1, regType=\"Lasso\")"
   ]
  }
 ],
 "metadata": {
  "kernelspec": {
   "display_name": "Python 2",
   "language": "python",
   "name": "python2"
  },
  "language_info": {
   "codemirror_mode": {
    "name": "ipython",
    "version": 2
   },
   "file_extension": ".py",
   "mimetype": "text/x-python",
   "name": "python",
   "nbconvert_exporter": "python",
   "pygments_lexer": "ipython2",
   "version": "2.7.10"
  }
 },
 "nbformat": 4,
 "nbformat_minor": 0
}
