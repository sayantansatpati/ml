{
 "cells": [
  {
   "cell_type": "markdown",
   "metadata": {},
   "source": [
    "# DATASCI W261: Machine Learning at Scale "
   ]
  },
  {
   "cell_type": "markdown",
   "metadata": {},
   "source": [
    "* **Sayantan Satpati**\n",
    "* **sayantan.satpati@ischool.berkeley.edu**\n",
    "* **W261**\n",
    "* **Week-11**\n",
    "* **Assignment-11**\n",
    "* **Date of Submission: 24-NOV-2015**"
   ]
  },
  {
   "cell_type": "markdown",
   "metadata": {},
   "source": [
    "#  === Week 11 ASSIGNMENTS ==="
   ]
  },
  {
   "cell_type": "markdown",
   "metadata": {},
   "source": [
    "### Environment Setup - Initialize Spark"
   ]
  },
  {
   "cell_type": "code",
   "execution_count": 1,
   "metadata": {
    "collapsed": false
   },
   "outputs": [
    {
     "name": "stdout",
     "output_type": "stream",
     "text": [
      "Welcome to\n",
      "      ____              __\n",
      "     / __/__  ___ _____/ /__\n",
      "    _\\ \\/ _ \\/ _ `/ __/  '_/\n",
      "   /__ / .__/\\_,_/_/ /_/\\_\\   version 1.5.1\n",
      "      /_/\n",
      "\n",
      "Using Python version 2.7.10 (default, Oct 19 2015 18:31:17)\n",
      "SparkContext available as sc, HiveContext available as sqlContext.\n"
     ]
    }
   ],
   "source": [
    "import os\n",
    "import sys\n",
    "#Escape L for line numbers\n",
    "spark_home = os.environ['SPARK_HOME'] = '/Users/ssatpati/0-DATASCIENCE/TOOLS/spark-1.5.1-bin-hadoop2.6'\n",
    "#spark_home = os.environ['SPARK_HOME'] = '/Users/jshanahan/Dropbox/Lectures-UC-Berkeley-ML-Class-2015/spark-1.5.0-bin-hadoop2.6/'\n",
    "if not spark_home:\n",
    "    raise ValueError('SPARK_HOME enviroment variable is not set')\n",
    "sys.path.insert(0,os.path.join(spark_home,'python'))\n",
    "sys.path.insert(0,os.path.join(spark_home,'python/lib/py4j-0.8.2.1-src.zip'))\n",
    "execfile(os.path.join(spark_home,'python/pyspark/shell.py'))"
   ]
  },
  {
   "cell_type": "markdown",
   "metadata": {},
   "source": [
    "## HW11.0\n",
    "---\n",
    "\n",
    "### HW11.0  Broadcast versus Caching in Spark\n",
    "```\n",
    "What is the difference between broadcasting and caching data in Spark? Give an example (in the context of machine learning) of each mechanism (at a highlevel). Feel free to cut and paste code examples from the lectures to support your answer.\n",
    "\n",
    "Review the following Spark-notebook-based implementation of KMeans and use the broadcast pattern to make this implementation more efficient. Please describe your changes in English first, implement, comment your code and highlight your changes:\n",
    "\n",
    "Notebook\n",
    "https://www.dropbox.com/s/41q9lgyqhy8ed5g/EM-Kmeans.ipynb?dl=0\n",
    "\n",
    "Notebook via NBViewer\n",
    "http://nbviewer.ipython.org/urls/dl.dropbox.com/s/41q9lgyqhy8ed5g/EM-Kmeans.ipynb\n",
    "```\n",
    "\n",
    "\n",
    "* Broadcast variables allow the programmer to keep a read-only variable cached on each machine rather than shipping a copy of it with tasks. They can be used, for example, to give every node a copy of a large input dataset in an efficient manner. Spark also attempts to distribute broadcast variables using efficient broadcast algorithms to reduce communication cost.\n",
    "\n",
    "* One of the most important capabilities in Spark is persisting (or caching) a dataset in memory across operations. When you persist an RDD, each node stores any partitions of it that it computes in memory and reuses them in other actions on that dataset (or datasets derived from it). This allows future actions to be much faster (often by more than 10x). Caching is a key tool for iterative algorithms and fast interactive use. This is also precisely one of the reasons why Spark is better than Hadoop!\n",
    "\n",
    "* **In summary: Broadcast is used to send some data into all the nodes in a Spark cluster (Ex: Send centroids to all nodes while running a distributed K-Means using Spark). This is analogous to Distributed Cache in Hadoop. Caching is used to cache the data local to the nodes in to memory, so that iterative processing can be done with it without incurring a Disk/Network IO cost involved in reading/writing data.**\n",
    "\n",
    "\n",
    "### Use of Broadcast variables in K-Means\n",
    "\n",
    "* In the K-Means example, the centroids should be broadcasted to each node, so that Spark doesn't end up making remote calls over network every time it computes the nearest centroid for any point.\n",
    "\n",
    "#### Proposed Changes in the Code:\n",
    "\n",
    "```\n",
    "# After new centroids have been created, broadcast them to all the nodes\n",
    "\n",
    "cBroadcast = sc.broadcast(centroids)\n",
    "\n",
    "# Inside the function, make use of broadcast variables\n",
    "\n",
    "def nearest_centroid(line):\n",
    "    x = np.array([float(f) for f in line.split(',')])\n",
    "    closest_centroid_idx = np.sum((x - cBroadcast.value)**2, axis=1).argmin()\n",
    "    return (closest_centroid_idx,(x,1))\n",
    "\n",
    "```\n",
    "\n"
   ]
  },
  {
   "cell_type": "markdown",
   "metadata": {},
   "source": [
    "## HW11.1\n",
    "---\n",
    "\n",
    "### HW11.1  Loss Functions\n",
    "\n",
    "\n",
    "#### In the context of binary classification problems, does the linear SVM learning algorithm yield the same result as a L2 penalized logistic regesssion learning algorithm?  In your reponse, please discuss the loss functions, and the learnt models, and separating surfaces between the two classes.\n",
    "\n",
    "**In general Loss Functions are defined as:**\n",
    "\n",
    "J(w) = Loss Term + Regularizaion Term = $\\displaystyle \\sum_{i=1}^{n} L(m_i(w)) + \\lambda R(w);m_i=y^if_w(x^i), y^i \\in (-1,1)$\n",
    "\n",
    "**SVM Loss Function:**\n",
    "\n",
    "J(w) = $\\displaystyle 1/2 * ||w||^2 + \\sum_{i} max(0, 1 - m_i(w))$\n",
    "\n",
    "**L2 Penalized Logistic Regression:**\n",
    "\n",
    "J(w) = $\\displaystyle \\lambda ||w||^2 + \\sum_{i} y^i * log(g(x^i)) + (1 - y^i)(1 - log(g(x^i)));y^i \\in (0,1)$\n",
    "\n",
    "* The decision boundary for Logistic Regression is $w^Tx > 0$, whereas for SVM its $w^Tx - 1 > 0$. Therefore, linear SVM & Logistic Regression would not produce the same result.\n",
    "\n",
    "\n",
    "#### In the context of binary classification problems, does the linear SVM learning algorithm yield the same result as a perceptron learning algorithm? \n",
    "\n",
    "\n",
    "**SVM Loss Function:**\n",
    "\n",
    "J(w) = $\\displaystyle 1/2 * ||w||^2 + \\sum_{i} max(0, 1 - m_i(w))$\n",
    "\n",
    "**Perceptron Loss Function:**\n",
    "\n",
    "J(w) = $\\displaystyle \\sum_{i} (-W^TX_iy_i) $\n",
    "\n",
    "* The Perceptron does not try to optimize the separation \"distance\". As long as it finds a hyperplane that separates the two sets, it is good. SVM on the other hand tries to maximize the \"support vector\", i.e., the distance between two closest opposite sample points.\n",
    "\n",
    "```\n",
    "[OPTIONAL]: generate an artifical binary classification dataset with 2 input features and plot the learnt separating surface for both a linear SVM and for  logistic regression. Comment on the learnt surfaces. Please feel free to do this in Python (no need to use Spark).\n",
    "```\n",
    "\n",
    "\n",
    "\n",
    "\n"
   ]
  },
  {
   "cell_type": "markdown",
   "metadata": {},
   "source": [
    "## HW11.2\n",
    "---\n",
    "\n",
    "### HW11.2 Gradient descent\n",
    "\n",
    "```\n",
    "In the context of logistic regression describe and define three flavors of penalized loss functions.  Are these all supported in Spark MLLib (include online references to support your answers)?\n",
    "\n",
    "Descibe probabilitic interpretations of the L1 and L2 priors for penalized logistic regression (HINT: see synchronous slides for week 11 for details)\n",
    "```\n",
    "\n",
    "#### Loss Functions: Logistic Regression\n",
    "\n",
    "##### The 3 penalized loss functions in the context of Logistic Regression are:\n",
    "\n",
    "1. Lasso (L1 norm of weights)\n",
    "2. Ridge (L2 norm of weights)\n",
    "3. Elastic Net (Combination of L1 & L2 using a ratio/weight)\n",
    "\n",
    "***Only L1 & L2 are supported by Spark Mllib (https://spark.apache.org/docs/1.5.0/api/python/pyspark.mllib.html) using the following parameters: regParam & regType***\n",
    "\n",
    "```\n",
    "classmethod train(data, iterations=100, step=1.0, miniBatchFraction=1.0, initialWeights=None, regParam=0.01, regType='l2', intercept=False, validateData=True)\n",
    "\n",
    "regParam – The regularizer parameter (default: 0.01).\n",
    "\n",
    "regType – The type of regularizer used for training our model.\n",
    "Allowed values:\t\n",
    "“l1” for using L1 regularization\n",
    "“l2” for using L2 regularization\n",
    "None for no regularization\n",
    "(default: “l2”)\n",
    "\n",
    "```\n",
    "\n",
    "#### Probabilistic Interpretation of L1 & L2: Logistic Regression\n",
    "\n",
    "* L1 usually corresponds to setting a Laplacean prior on the regression coefficients - and picking a maximum a posteriori hypothesis. L2 similarly corresponds to Gaussian prior. As one moves away from zero, the probability for such a coefficient grows progressively smaller. L1/Laplace tends to tolerate both large values as well as very small values of coefficients more than L2/Gaussian (tails)\n",
    "\n",
    "<img src=\"l1_l2.png\">\n"
   ]
  },
  {
   "cell_type": "markdown",
   "metadata": {},
   "source": [
    "## HW11.3\n",
    "---\n",
    "\n",
    "### HW11.1  Logistic Regression\n",
    "\n",
    "```\n",
    "Generate 2 sets of linearly separable data with 100 data points each using the data generation code provided below and plot each in separate plots. Call one the training set and the other the testing set.\n",
    "\n",
    "def generateData(n):\n",
    " \"\"\" \n",
    "  generates a 2D linearly separable dataset with n samples. \n",
    "  The third element of the sample is the label\n",
    " \"\"\"\n",
    " xb = (rand(n)*2-1)/2-0.5\n",
    " yb = (rand(n)*2-1)/2+0.5\n",
    " xr = (rand(n)*2-1)/2+0.5\n",
    " yr = (rand(n)*2-1)/2-0.5\n",
    " inputs = []\n",
    " for i in range(len(xb)):\n",
    "  inputs.append([xb[i],yb[i],1])\n",
    "  inputs.append([xr[i],yr[i],-1])\n",
    " return inputs\n",
    "\n",
    "Modify this data generation code to generating non-linearly separable training and testing datasets (with approximately 10% of the data falling on the wrong side of the separating hyperplane. Plot the resulting datasets. \n",
    "\n",
    "NOTE: For the remainder of this problem please use the non-linearly separable training and testing datasets.\n",
    "\n",
    "Using MLLib  train up a LASSO logistic regression model with the training dataset and evaluate with the testing set. What a good number of iterations for training the logistic regression model? Justify with plots and words. \n",
    "\n",
    "Derive and implement in Spark a weighted  LASSO logistic regression. Implement a convergence test of your choice to check for termination within your training algorithm . \n",
    "\n",
    "Weight the above training dataset as follows:  Weight each example using the inverse vector length (Euclidean norm): \n",
    "\n",
    "weight(X)= 1/||X||, \n",
    "\n",
    "where ||X|| = SQRT(X.X)= SQRT(X1^2 + X2^2)\n",
    "\n",
    "Here X is vector made up of X1 and X2.\n",
    "\n",
    "Evaluate your homegrown weighted  LASSO logistic regression on the test dataset. Report misclassification error (1 - Accuracy) and how many iterations does it took to converge.\n",
    "\n",
    "Does Spark MLLib have a weighted LASSO logistic regression implementation. If so use it and report your findings on the weighted training set and test set. \n",
    "```\n",
    "\n",
    "\n",
    "\n",
    "\n"
   ]
  },
  {
   "cell_type": "code",
   "execution_count": 46,
   "metadata": {
    "collapsed": false
   },
   "outputs": [],
   "source": [
    "%matplotlib inline\n",
    "import numpy as np\n",
    "import pylab as plt\n",
    "\n",
    "def generateData(n):\n",
    "    \"\"\" \n",
    "    generates a 2D linearly separable dataset with n samples. \n",
    "    The third element of the sample is the label\n",
    "    \"\"\"\n",
    "    xb = (np.random.rand(n)*2-1)/2-0.5\n",
    "    yb = (np.random.rand(n)*2-1)/2+0.5\n",
    "    xr = (np.random.rand(n)*2-1)/2+0.5\n",
    "    yr = (np.random.rand(n)*2-1)/2-0.5\n",
    "    inputs = []\n",
    "    for i in range(len(xb)):\n",
    "        inputs.append([xb[i],yb[i],1])\n",
    "        inputs.append([xr[i],yr[i],-1])\n",
    "    return inputs"
   ]
  },
  {
   "cell_type": "code",
   "execution_count": 47,
   "metadata": {
    "collapsed": false
   },
   "outputs": [
    {
     "data": {
      "image/png": "[encoded data removed]",
      "text/plain": [
       "<matplotlib.figure.Figure at 0x10c25d690>"
      ]
     },
     "metadata": {},
     "output_type": "display_data"
    }
   ],
   "source": [
    "data = generateData(100)\n",
    "plt.title('Linearly Separable Dataset')\n",
    "for x,y,l in data:\n",
    "    if l == 1:\n",
    "        plt.plot(x, y,'*', color = 'blue')\n",
    "    else:\n",
    "        plt.plot(x, y,'+', color = 'red')\n",
    "    "
   ]
  },
  {
   "cell_type": "code",
   "execution_count": 236,
   "metadata": {
    "collapsed": true
   },
   "outputs": [],
   "source": [
    "%matplotlib inline\n",
    "import numpy as np\n",
    "import pylab as plt\n",
    "\n",
    "def generateData_nonLinear(n, overlap_percentage=10):\n",
    "    \"\"\" \n",
    "    generates a 2D linearly separable dataset with n samples. \n",
    "    The third element of the sample is the label\n",
    "    \"\"\"\n",
    "    xb = (np.random.rand(n)*2-1)/1.25-0.5\n",
    "    yb = (np.random.rand(n)*2-1)/1.25+0.5\n",
    "    xr = (np.random.rand(n)*2-1)/1.25+0.5\n",
    "    yr = (np.random.rand(n)*2-1)/1.25-0.5\n",
    "    inputs = []\n",
    "    count = 0\n",
    "    for i in range(len(xb)):\n",
    "        '''\n",
    "        count += 1\n",
    "        if count % overlap_percentage == 0:\n",
    "            inputs.append([0,xb[i],yb[i]])\n",
    "            inputs.append([1,xr[i],yr[i]])\n",
    "        else:\n",
    "            inputs.append([1,xb[i],yb[i]])\n",
    "            inputs.append([0,xr[i],yr[i]])\n",
    "        '''\n",
    "        inputs.append([1,xb[i],yb[i]])\n",
    "        inputs.append([0,xr[i],yr[i]])\n",
    "        \n",
    "    return inputs"
   ]
  },
  {
   "cell_type": "code",
   "execution_count": 237,
   "metadata": {
    "collapsed": false
   },
   "outputs": [
    {
     "data": {
      "image/png": "[encoded data removed]",
      "text/plain": [
       "<matplotlib.figure.Figure at 0x11ee84ed0>"
      ]
     },
     "metadata": {},
     "output_type": "display_data"
    }
   ],
   "source": [
    "data = generateData_nonLinear(100)\n",
    "plt.title('Non-Linearly Separable Dataset')\n",
    "for l,x,y in data:\n",
    "    if l == 1:\n",
    "        plt.plot(x, y,'*', color = 'blue')\n",
    "    else:\n",
    "        plt.plot(x, y,'+', color = 'red')\n",
    "    "
   ]
  },
  {
   "cell_type": "markdown",
   "metadata": {},
   "source": [
    "### Using Mllib LogisticRegressionWithSGD"
   ]
  },
  {
   "cell_type": "code",
   "execution_count": 260,
   "metadata": {
    "collapsed": false
   },
   "outputs": [
    {
     "name": "stdout",
     "output_type": "stream",
     "text": [
      "[[ 1.          0.07487799 -0.27926005]\n",
      " [ 0.          0.79002569 -0.79325183]]\n",
      "100 100\n",
      "\n",
      "### Iteration: 5\n",
      "Weights [-0.616219266189,0.561905537976]\n",
      "Intercept 0.0\n",
      "[10] Training Error = 0.1\n",
      "[9] Testing Error = 0.09\n",
      "\n",
      "### Iteration: 10\n",
      "Weights [-0.844304479016,0.773704239827]\n",
      "Intercept 0.0\n",
      "[10] Training Error = 0.1\n",
      "[9] Testing Error = 0.09\n",
      "\n",
      "### Iteration: 15\n",
      "Weights [-0.990579732176,0.910719246669]\n",
      "Intercept 0.0\n",
      "[10] Training Error = 0.1\n",
      "[9] Testing Error = 0.09\n",
      "\n",
      "### Iteration: 20\n",
      "Weights [-1.098857119,1.01273393427]\n",
      "Intercept 0.0\n",
      "[10] Training Error = 0.1\n",
      "[9] Testing Error = 0.09\n",
      "\n",
      "### Iteration: 25\n",
      "Weights [-1.18494825302,1.09419462164]\n",
      "Intercept 0.0\n",
      "[10] Training Error = 0.1\n",
      "[9] Testing Error = 0.09\n",
      "\n",
      "### Iteration: 50\n",
      "Weights [-1.4609274751,1.35724465303]\n",
      "Intercept 0.0\n",
      "[10] Training Error = 0.1\n",
      "[9] Testing Error = 0.09\n",
      "\n",
      "### Iteration: 75\n",
      "Weights [-1.62610760754,1.51587058927]\n",
      "Intercept 0.0\n",
      "[10] Training Error = 0.1\n",
      "[9] Testing Error = 0.09\n",
      "\n",
      "### Iteration: 100\n",
      "Weights [-1.74398763152,1.62947594896]\n",
      "Intercept 0.0\n",
      "[10] Training Error = 0.1\n",
      "[9] Testing Error = 0.09\n",
      "\n",
      "### Iteration: 500\n",
      "Weights [-2.03309837035,1.90884049874]\n",
      "Intercept 0.0\n",
      "[10] Training Error = 0.1\n",
      "[9] Testing Error = 0.09\n"
     ]
    },
    {
     "data": {
      "text/plain": [
       "<matplotlib.legend.Legend at 0x12418ee50>"
      ]
     },
     "execution_count": 260,
     "metadata": {},
     "output_type": "execute_result"
    },
    {
     "data": {
      "image/png": "[encoded data removed]",
      "text/plain": [
       "<matplotlib.figure.Figure at 0x11f7442d0>"
      ]
     },
     "metadata": {},
     "output_type": "display_data"
    }
   ],
   "source": [
    "import numpy as np\n",
    "from pyspark.mllib.classification import LogisticRegressionWithSGD, LogisticRegressionModel\n",
    "from pyspark.mllib.regression import LabeledPoint\n",
    "\n",
    "iterations = [5,10,15,20,25,50,75,100,500]\n",
    "\n",
    "def labeled_point(value):\n",
    "    return LabeledPoint(value[0], value[1:])\n",
    "\n",
    "data = np.array(data)\n",
    "print data[:2]\n",
    "training_set = sc.parallelize(data[data[:,0] == 1]).map(labeled_point).cache()\n",
    "test_set = sc.parallelize(data[data[:,0] == 0]).map(labeled_point).cache()\n",
    "\n",
    "print training_set.count(), test_set.count()\n",
    "\n",
    "x1 = [-1.5, 1.5]\n",
    "\n",
    "#Plot the Points\n",
    "plt.figure(figsize=(15,5))\n",
    "for l,x,y in data:\n",
    "    if l == 1:\n",
    "        plt.plot(x, y,'*', color = 'blue')\n",
    "    else:\n",
    "        plt.plot(x, y,'+', color = 'red')\n",
    "\n",
    "for i in iterations:\n",
    "    # Build the model\n",
    "    model = LogisticRegressionWithSGD.train(training_set, iterations=i, regType='l1', initialWeights=[0,0])\n",
    "    \n",
    "    print \"\\n### Iteration: {0}\".format(i)\n",
    "    print \"Weights\", model.weights\n",
    "    print 'Intercept', model.intercept\n",
    "    \n",
    "    # Plot Decision Boundary\n",
    "    # B1 * x1 + B2 * x2 >= 0\n",
    "    # x2 >= - (B1 * x1) / x2\n",
    "    \n",
    "    x2 = [- j*model.weights[0] / model.weights[1] for j in x1]\n",
    "    plt.plot(x1,x2, label='Iter:' + str(i), linewidth=0.5)\n",
    "    \n",
    "    # Evaluating the model on training data\n",
    "    labelsAndPreds = training_set.map(lambda p: (p.label, model.predict(p.features)))\n",
    "    miscats = labelsAndPreds.filter(lambda (v, p): v != p).count()\n",
    "    trainErr =  miscats * 1.0 / float(training_set.count())\n",
    "    print(\"[{0}] Training Error = {1}\".format(miscats, trainErr))\n",
    "    \n",
    "    # Evaluating the model on test data\n",
    "    labelsAndPreds = test_set.map(lambda p: (p.label, model.predict(p.features)))\n",
    "    miscats = labelsAndPreds.filter(lambda (v, p): v != p).count()\n",
    "    testErr =  miscats * 1.0 / float(test_set.count())\n",
    "    print(\"[{0}] Testing Error = {1}\".format(miscats, testErr))\n",
    "\n",
    "plt.legend()"
   ]
  },
  {
   "cell_type": "markdown",
   "metadata": {},
   "source": [
    "***In this case, all the iterations led to a decision boundary which has an accuracy of 91 with test set%***"
   ]
  },
  {
   "cell_type": "markdown",
   "metadata": {},
   "source": [
    "### Using Spark (Homegrown Code)"
   ]
  },
  {
   "cell_type": "code",
   "execution_count": 298,
   "metadata": {
    "collapsed": false
   },
   "outputs": [],
   "source": [
    "def logisticRegressionGDReg(data, wInitial=None, learningRate=0.05, iterations=50, regParam=0.01, regType=None, stopCriteria=0.0001):\n",
    "    featureLen = len(data.take(1)[0].features)\n",
    "    n = data.count()\n",
    "    if wInitial is None:\n",
    "        w = np.random.normal(size=featureLen) # w should be broadcasted if it is large\n",
    "    else:\n",
    "        w = wInitial\n",
    "    for i in range(iterations):\n",
    "        wBroadcast = sc.broadcast(w)\n",
    "        # Weighted each example using the inverse vector length (Euclidean norm)\n",
    "        gradient = data.map(lambda p: \\\n",
    "                            (1 / (1 + np.exp(-p.label*np.dot(wBroadcast.value, p.features)))-1) \\\n",
    "                            * p.label \\\n",
    "                            * p.features \\\n",
    "                            * np.reciprocal(np.sqrt(sum(np.square(p.features))))) \\\n",
    "                    .reduce(lambda a, b: a + b)\n",
    "        if regType == \"Ridge\":\n",
    "            wReg = w * 1\n",
    "            wReg[-1] = 0 #last value of weight vector is bias term, ignored in regularization\n",
    "        elif regType == \"Lasso\":\n",
    "            wReg = w * 1\n",
    "            wReg[-1] = 0 #last value of weight vector is bias term, ignored in regularization\n",
    "            wReg = (wReg>0).astype(int) * 2-1\n",
    "        else:\n",
    "            wReg = np.zeros(w.shape[0])\n",
    "        \n",
    "        #gradient = gradient + regParam * wReg  #gradient:  GD of Sqaured Error+ GD of regularized term \n",
    "        #w = w - learningRate * gradient / n\n",
    "        \n",
    "        wdelta = learningRate * (gradient + regParam * wReg)/n  #gradient: hinge loss + regularized term\n",
    "        \n",
    "        if i % 100 == 0:\n",
    "            print '[{0}] {1}, {2}, {3}'.format(i, sum(abs(wdelta.toArray())), sum(abs(w)), stopCriteria*sum(abs(w)))\n",
    "        \n",
    "        #wdelta = eta*(g+regPara*wreg)  #gradient: hinge loss + regularized term \n",
    "        if sum(abs(wdelta.toArray())) <= stopCriteria*sum(abs(w)): # converged as updates to weight vector are small\n",
    "            print '### Converged in {0} iterations...'.format(i)\n",
    "            break\n",
    "        w = w - wdelta\n",
    "    return w\n",
    "\n"
   ]
  },
  {
   "cell_type": "code",
   "execution_count": 299,
   "metadata": {
    "collapsed": false
   },
   "outputs": [
    {
     "name": "stdout",
     "output_type": "stream",
     "text": [
      "[0] 0.0109343936578, 1.82677074719, 0.000182677074719\n",
      "[100] 0.00711914122756, 2.70736593124, 0.000270736593124\n",
      "[200] 0.0051538180351, 3.31279888198, 0.000331279888198\n",
      "[300] 0.00396531490096, 3.76497936365, 0.000376497936365\n",
      "[400] 0.00317078700297, 4.11977923583, 0.000411977923583\n",
      "[500] 0.0026030568028, 4.40729496325, 0.000440729496325\n",
      "[600] 0.00217792016864, 4.64560203148, 0.000464560203148\n",
      "[700] 0.00184838845853, 4.84642371892, 0.000484642371892\n",
      "[800] 0.00158615722794, 5.01780821401, 0.000501780821401\n",
      "[900] 0.00137313992716, 5.16552693422, 0.000516552693422\n",
      "[1000] 0.00119722433394, 5.29386347688, 0.000529386347688\n",
      "[1100] 0.00104998393899, 5.40608669197, 0.000540608669197\n",
      "[1200] 0.00092536831409, 5.5047486609, 0.00055047486609\n",
      "[1300] 0.000818916123144, 5.59188017067, 0.000559188017067\n",
      "[1400] 0.000727262381947, 5.66912339522, 0.000566912339522\n",
      "[1500] 0.000647818976844, 5.73782460984, 0.000573782460984\n",
      "### Converged in 1599 iterations...\n",
      "[-2.99939868  2.79912273]\n"
     ]
    }
   ],
   "source": [
    "np.random.seed(400)\n",
    "#print training_set.take(1)[0].features, training_set.take(1)[0].label\n",
    "w = logisticRegressionGDReg(training_set, iterations=2000, regParam=0.1, regType=\"Lasso\")\n",
    "print w"
   ]
  },
  {
   "cell_type": "code",
   "execution_count": 302,
   "metadata": {
    "collapsed": false
   },
   "outputs": [
    {
     "name": "stdout",
     "output_type": "stream",
     "text": [
      "Total Predictions: 100, Correct Predictions: 91\n",
      "### Accurary: 0.91\n"
     ]
    },
    {
     "data": {
      "text/plain": [
       "[<matplotlib.lines.Line2D at 0x10d0da690>]"
      ]
     },
     "execution_count": 302,
     "metadata": {},
     "output_type": "execute_result"
    },
    {
     "data": {
      "image/png": "[encoded data removed]",
      "text/plain": [
       "<matplotlib.figure.Figure at 0x124c4a890>"
      ]
     },
     "metadata": {},
     "output_type": "display_data"
    }
   ],
   "source": [
    "# Test Accuracy on Test Set\n",
    "wBroadcast = sc.broadcast(w)\n",
    "\n",
    "preds_total = test_set.count()\n",
    "preds_correct = test_set.map(lambda p: np.dot(wBroadcast.value, p.features)).filter(lambda x: x < 0).count()\n",
    "\n",
    "print 'Total Predictions: {0}, Correct Predictions: {1}'.format(preds_total, preds_correct)\n",
    "print '### Accurary: {0}'.format(preds_correct * 1.0/preds_total)\n",
    "\n",
    "#Plot the Points\n",
    "plt.figure(figsize=(15,5))\n",
    "for l,x,y in data:\n",
    "    if l == 1:\n",
    "        plt.plot(x, y,'*', color = 'blue')\n",
    "    else:\n",
    "        plt.plot(x, y,'+', color = 'red')\n",
    "        \n",
    "x2 = [- j*model.weights[0] / model.weights[1] for j in x1]\n",
    "plt.plot(x1,x2, label='Iter:' + str(i), linewidth=0.5)"
   ]
  },
  {
   "cell_type": "markdown",
   "metadata": {},
   "source": [
    "### Accuracy on Test Set: 91%.\n",
    "\n",
    "\n",
    "* Does Spark MLLib have a weighted LASSO logistic regression implementation. If so use it and report your findings on the weighted training set and test set.\n",
    "\n",
    "***SPARK DOESN'T YET HAVE A WEIGHTED LASSO LOGISTIC REGRESSION IMPLEMENTATION***"
   ]
  },
  {
   "cell_type": "markdown",
   "metadata": {},
   "source": [
    "## HW11.4 SVMs\n",
    "___\n",
    "\n",
    "```\n",
    "Use the non-linearly separable training and testing datasets from HW11.3 in this problem.\n",
    "\n",
    "Using MLLib  train up a soft SVM model with the training dataset and evaluate with the testing set. What is a good number of iterations for training the SVM model? Justify with plots and words. \n",
    "\n",
    "Derive and Implement in Spark a weighted soft linear svm classification learning algorithm.\n",
    "Evaluate your homegrown weighted soft linear svm classification learning algorithm on the weighted training dataset and test dataset from HW11.3. Report misclassification error (1 - Accuracy) and how many iterations does it took to converge?  How many support vectors do you end up?\n",
    "\n",
    "Does Spark MLLib have a weighted soft SVM learner. If so use it and report your findings on the weighted training set and test set. \n",
    "```"
   ]
  },
  {
   "cell_type": "markdown",
   "metadata": {},
   "source": [
    "### Using Mllib SVMWithSGD"
   ]
  },
  {
   "cell_type": "code",
   "execution_count": 261,
   "metadata": {
    "collapsed": false
   },
   "outputs": [
    {
     "name": "stdout",
     "output_type": "stream",
     "text": [
      "\n",
      "### Iteration: 5\n",
      "Weights [-1.04876660431,0.995844220975]\n",
      "Intercept 0.0\n",
      "[10] Training Error = 0.1\n",
      "[9] Testing Error = 0.09\n",
      "\n",
      "### Iteration: 10\n",
      "Weights [-1.19840144095,1.16114551123]\n",
      "Intercept 0.0\n",
      "[10] Training Error = 0.1\n",
      "[9] Testing Error = 0.09\n",
      "\n",
      "### Iteration: 15\n",
      "Weights [-1.27826488445,1.24926875591]\n",
      "Intercept 0.0\n",
      "[10] Training Error = 0.1\n",
      "[9] Testing Error = 0.09\n",
      "\n",
      "### Iteration: 20\n",
      "Weights [-1.32719705354,1.3142227577]\n",
      "Intercept 0.0\n",
      "[10] Training Error = 0.1\n",
      "[9] Testing Error = 0.09\n",
      "\n",
      "### Iteration: 25\n",
      "Weights [-1.35860188476,1.36159904022]\n",
      "Intercept 0.0\n",
      "[10] Training Error = 0.1\n",
      "[9] Testing Error = 0.09\n",
      "\n",
      "### Iteration: 50\n",
      "Weights [-1.43035581723,1.45563796948]\n",
      "Intercept 0.0\n",
      "[10] Training Error = 0.1\n",
      "[9] Testing Error = 0.09\n",
      "\n",
      "### Iteration: 75\n",
      "Weights [-1.44909824192,1.47605595442]\n",
      "Intercept 0.0\n",
      "[10] Training Error = 0.1\n",
      "[9] Testing Error = 0.09\n",
      "\n",
      "### Iteration: 100\n",
      "Weights [-1.44909824192,1.47605595442]\n",
      "Intercept 0.0\n",
      "[10] Training Error = 0.1\n",
      "[9] Testing Error = 0.09\n",
      "\n",
      "### Iteration: 500\n",
      "Weights [-1.44909824192,1.47605595442]\n",
      "Intercept 0.0\n",
      "[10] Training Error = 0.1\n",
      "[9] Testing Error = 0.09\n"
     ]
    },
    {
     "data": {
      "text/plain": [
       "<matplotlib.legend.Legend at 0x11c2ed590>"
      ]
     },
     "execution_count": 261,
     "metadata": {},
     "output_type": "execute_result"
    },
    {
     "data": {
      "image/png": "[encoded data removed]",
      "text/plain": [
       "<matplotlib.figure.Figure at 0x121975d90>"
      ]
     },
     "metadata": {},
     "output_type": "display_data"
    }
   ],
   "source": [
    "import numpy as np\n",
    "from pyspark.mllib.classification import SVMWithSGD\n",
    "from pyspark.mllib.regression import LabeledPoint\n",
    "\n",
    "iterations = [5,10,15,20,25,50,75,100,500]\n",
    "\n",
    "x1 = [-1.5, 1.5]\n",
    "\n",
    "#Plot the Points\n",
    "plt.figure(figsize=(15,5))\n",
    "for l,x,y in data:\n",
    "    if l == 1:\n",
    "        plt.plot(x, y,'*', color = 'blue')\n",
    "    else:\n",
    "        plt.plot(x, y,'+', color = 'red')\n",
    "\n",
    "for i in iterations:\n",
    "    # Build the model\n",
    "    #model = LogisticRegressionWithSGD.train(training_set, iterations=i, regType='l1', initialWeights=[0,0])\n",
    "    model = SVMWithSGD.train(training_set, iterations=i)\n",
    "    \n",
    "    print \"\\n### Iteration: {0}\".format(i)\n",
    "    print \"Weights\", model.weights\n",
    "    print 'Intercept', model.intercept\n",
    "    \n",
    "    # Plot Decision Boundary\n",
    "    # B1 * x1 + B2 * x2 -1 >= 0\n",
    "    # x2 >= - (B1 * x1) / x2\n",
    "    \n",
    "    x2 = [(- j*model.weights[0]) / model.weights[1] for j in x1]\n",
    "    plt.plot(x1,x2, label='Iter:' + str(i), linewidth=0.5)\n",
    "    \n",
    "    # Evaluating the model on training data\n",
    "    labelsAndPreds = training_set.map(lambda p: (p.label, model.predict(p.features)))\n",
    "    miscats = labelsAndPreds.filter(lambda (v, p): v != p).count()\n",
    "    trainErr =  miscats * 1.0 / float(training_set.count())\n",
    "    print(\"[{0}] Training Error = {1}\".format(miscats, trainErr))\n",
    "    \n",
    "    # Evaluating the model on test data\n",
    "    labelsAndPreds = test_set.map(lambda p: (p.label, model.predict(p.features)))\n",
    "    miscats = labelsAndPreds.filter(lambda (v, p): v != p).count()\n",
    "    testErr =  miscats * 1.0 / float(test_set.count())\n",
    "    print(\"[{0}] Testing Error = {1}\".format(miscats, testErr))\n",
    "    \n",
    "plt.legend()"
   ]
  },
  {
   "cell_type": "markdown",
   "metadata": {},
   "source": [
    "***In this case, all the iterations led to a decision boundary which has an accuracy of 91 with test set%***"
   ]
  },
  {
   "cell_type": "markdown",
   "metadata": {},
   "source": [
    "### Using Spark (Homegrown Code)"
   ]
  },
  {
   "cell_type": "code",
   "execution_count": 322,
   "metadata": {
    "collapsed": false
   },
   "outputs": [],
   "source": [
    "'''\n",
    "def SVM_GD_SPARK(data,y,w=None,eta=0.01,iter_num=1000,regPara=0.01,stopCriteria=0.0001):\n",
    "    #eta learning rate\n",
    "    #regPara\n",
    "    dataRDD = sc.parallelize(np.append(y[:,None],data,axis=1)).cache() #prepend y to X\n",
    "    if w==None:\n",
    "        w = np.random.normal(size=data.shape[1]+1)\n",
    "    for i in range(iter_num):       #label * margin\n",
    "        sv = dataRDD.filter(lambda x:x[0]*np.dot(w,np.append(x[1:],1))<1)  #Support vector? with label*margin<1\n",
    "        if sv.isEmpty(): # converged as no more updates possible\n",
    "            break       # hinge loss compoent of gradient y*x and sum up \n",
    "        g = -sv.map(lambda x:x[0]*np.append(x[1:],1)).reduce(lambda x,y:x+y)/data.shape[0] #gradient: avg hinge loss\n",
    "        wreg = w*1   #temp copy of weight vector\n",
    "        wreg[-1] = 0 #last value of weight vector is bias term; ignore in regularization\n",
    "        wdelta = eta*(g+regPara*wreg)  #gradient: hinge loss + regularized term \n",
    "        if sum(abs(wdelta))<=stopCriteria*sum(abs(w)): # converged as updates to weight vector are small\n",
    "            break\n",
    "        w = w - wdelta\n",
    "    return w\n",
    "'''\n",
    "def SVM_GD_SPARK(data,w=None,eta=0.01,iter_num=1000,regPara=0.01,stopCriteria=0.0001):\n",
    "    #eta learning rate\n",
    "    #regPara\n",
    "    \n",
    "    featureLen = len(data.take(1)[0].features) + 1\n",
    "    n = data.count()\n",
    "    \n",
    "    #dataRDD = sc.parallelize(np.append(y[:,None],data,axis=1)).cache() #prepend y to X\n",
    "    if w==None:\n",
    "        w = np.random.normal(size=featureLen)\n",
    "    for i in range(iter_num):       #label * margin\n",
    "        sv = data.filter(lambda p:p.label*np.dot(w,np.append(p.features,1))<1)  #Support vector? with label*margin<1\n",
    "        if sv.isEmpty(): # converged as no more updates possible\n",
    "            break       # hinge loss compoent of gradient y*x and sum up \n",
    "        g = -sv.map(lambda p:p.label*np.append(p.features,1)).reduce(lambda x,y:x+y)/n #gradient: avg hinge loss\n",
    "        wreg = w*1   #temp copy of weight vector\n",
    "        wreg[-1] = 0 #last value of weight vector is bias term; ignore in regularization\n",
    "        wdelta = eta*(g+regPara*wreg)  #gradient: hinge loss + regularized term \n",
    "        \n",
    "        if i % 100 == 0:\n",
    "            print '[{0}] {1}, {2}, {3}'.format(i, sum(abs(wdelta)), sum(abs(w)), stopCriteria*sum(abs(w)))\n",
    "        \n",
    "        if sum(abs(wdelta))<=stopCriteria*sum(abs(w)): # converged as updates to weight vector are small\n",
    "            print '### Converged in {0} iterations...'.format(i)\n",
    "            break\n",
    "        w = w - wdelta\n",
    "    return w"
   ]
  },
  {
   "cell_type": "code",
   "execution_count": 323,
   "metadata": {
    "collapsed": false
   },
   "outputs": [
    {
     "name": "stdout",
     "output_type": "stream",
     "text": [
      "[0] 0.0137558525037, 2.25906384643, 0.000225906384643\n",
      "[100] 0.00504214421269, 2.27939175668, 0.000227939175668\n",
      "[200] 0.0025211558885, 2.64428827329, 0.000264428827329\n",
      "[300] 0.00193973937153, 2.83196846441, 0.000283196846441\n",
      "[400] 0.00186869355061, 2.94557555075, 0.000294557555075\n",
      "[500] 0.00160175205801, 3.03149514981, 0.000303149514981\n",
      "[600] 0.00109380672728, 3.08835474825, 0.000308835474825\n",
      "[700] 0.000976857500193, 3.11525610193, 0.000311525610193\n",
      "[800] 0.000858777448261, 3.1333890256, 0.00031333890256\n",
      "[900] 0.00073740837635, 3.14423746444, 0.000314423746444\n",
      "[1000] 0.000610509764742, 3.14928724365, 0.000314928724365\n",
      "[1100] 0.00060741998724, 3.14838946863, 0.000314838946863\n",
      "[1200] 0.000469229345496, 3.14262108949, 0.000314262108949\n",
      "[1300] 0.000466550335465, 3.13583098918, 0.000313583098918\n",
      "[1400] 0.000327268762065, 3.12778766922, 0.000312778766922\n",
      "[1500] 0.000325007287588, 3.11517292445, 0.000311517292445\n",
      "[1600] 0.000322768316277, 3.10278321134, 0.000310278321134\n",
      "[1700] 0.000320551624211, 3.09061629069, 0.000309061629069\n",
      "[1800] 0.000318356989698, 3.07866994555, 0.000307866994555\n",
      "[1900] 0.000316184193249, 3.06694198106, 0.000306694198106\n",
      "[-0.95343636  0.70491626  1.4058069 ]\n"
     ]
    },
    {
     "data": {
      "text/plain": [
       "[<matplotlib.lines.Line2D at 0x121946810>]"
      ]
     },
     "execution_count": 323,
     "metadata": {},
     "output_type": "execute_result"
    },
    {
     "data": {
      "image/png": "[encoded data removed]",
      "text/plain": [
       "<matplotlib.figure.Figure at 0x11dae5950>"
      ]
     },
     "metadata": {},
     "output_type": "display_data"
    }
   ],
   "source": [
    "#print training_set.take(1)[0].label\n",
    "#print training_set.take(1)[0].features\n",
    "np.random.seed(400)\n",
    "w = SVM_GD_SPARK(training_set, iter_num=2000)\n",
    "print w\n",
    "\n",
    "#Plot the Points\n",
    "plt.figure(figsize=(15,5))\n",
    "for l,x,y in data:\n",
    "    if l == 1:\n",
    "        plt.plot(x, y,'*', color = 'blue')\n",
    "    else:\n",
    "        plt.plot(x, y,'+', color = 'red')\n",
    "        \n",
    "x2 = [- j*model.weights[0] / model.weights[1] for j in x1]\n",
    "plt.plot(x1,x2, label='Iter:' + str(i), linewidth=0.5)"
   ]
  },
  {
   "cell_type": "code",
   "execution_count": null,
   "metadata": {
    "collapsed": true
   },
   "outputs": [],
   "source": []
  }
 ],
 "metadata": {
  "kernelspec": {
   "display_name": "Python 2",
   "language": "python",
   "name": "python2"
  },
  "language_info": {
   "codemirror_mode": {
    "name": "ipython",
    "version": 2
   },
   "file_extension": ".py",
   "mimetype": "text/x-python",
   "name": "python",
   "nbconvert_exporter": "python",
   "pygments_lexer": "ipython2",
   "version": "2.7.10"
  }
 },
 "nbformat": 4,
 "nbformat_minor": 0
}
