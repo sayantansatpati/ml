{
 "cells": [
  {
   "cell_type": "markdown",
   "metadata": {},
   "source": [
    "# DATASCI W261: Machine Learning at Scale "
   ]
  },
  {
   "cell_type": "markdown",
   "metadata": {},
   "source": [
    "* **Sayantan Satpati**\n",
    "* **sayantan.satpati@ischool.berkeley.edu**\n",
    "* **W261**\n",
    "* **Week-11**\n",
    "* **Assignment-11**\n",
    "* **Date of Submission: 24-NOV-2015**"
   ]
  },
  {
   "cell_type": "markdown",
   "metadata": {},
   "source": [
    "#  === Week 11 ASSIGNMENTS ==="
   ]
  },
  {
   "cell_type": "markdown",
   "metadata": {},
   "source": [
    "### Environment Setup - Initialize Spark"
   ]
  },
  {
   "cell_type": "code",
   "execution_count": 1,
   "metadata": {
    "collapsed": false
   },
   "outputs": [
    {
     "name": "stdout",
     "output_type": "stream",
     "text": [
      "Welcome to\n",
      "      ____              __\n",
      "     / __/__  ___ _____/ /__\n",
      "    _\\ \\/ _ \\/ _ `/ __/  '_/\n",
      "   /__ / .__/\\_,_/_/ /_/\\_\\   version 1.5.1\n",
      "      /_/\n",
      "\n",
      "Using Python version 2.7.10 (default, Oct 19 2015 18:31:17)\n",
      "SparkContext available as sc, HiveContext available as sqlContext.\n"
     ]
    }
   ],
   "source": [
    "import os\n",
    "import sys\n",
    "#Escape L for line numbers\n",
    "spark_home = os.environ['SPARK_HOME'] = '/Users/ssatpati/0-DATASCIENCE/TOOLS/spark-1.5.1-bin-hadoop2.6'\n",
    "#spark_home = os.environ['SPARK_HOME'] = '/Users/jshanahan/Dropbox/Lectures-UC-Berkeley-ML-Class-2015/spark-1.5.0-bin-hadoop2.6/'\n",
    "if not spark_home:\n",
    "    raise ValueError('SPARK_HOME enviroment variable is not set')\n",
    "sys.path.insert(0,os.path.join(spark_home,'python'))\n",
    "sys.path.insert(0,os.path.join(spark_home,'python/lib/py4j-0.8.2.1-src.zip'))\n",
    "execfile(os.path.join(spark_home,'python/pyspark/shell.py'))"
   ]
  },
  {
   "cell_type": "markdown",
   "metadata": {},
   "source": [
    "## HW11.0\n",
    "---\n",
    "\n",
    "### HW11.0  Broadcast versus Caching in Spark\n",
    "```\n",
    "What is the difference between broadcasting and caching data in Spark? Give an example (in the context of machine learning) of each mechanism (at a highlevel). Feel free to cut and paste code examples from the lectures to support your answer.\n",
    "\n",
    "Review the following Spark-notebook-based implementation of KMeans and use the broadcast pattern to make this implementation more efficient. Please describe your changes in English first, implement, comment your code and highlight your changes:\n",
    "\n",
    "Notebook\n",
    "https://www.dropbox.com/s/41q9lgyqhy8ed5g/EM-Kmeans.ipynb?dl=0\n",
    "\n",
    "Notebook via NBViewer\n",
    "http://nbviewer.ipython.org/urls/dl.dropbox.com/s/41q9lgyqhy8ed5g/EM-Kmeans.ipynb\n",
    "```\n",
    "\n",
    "\n",
    "\n",
    "\n"
   ]
  },
  {
   "cell_type": "markdown",
   "metadata": {},
   "source": [
    "## HW11.1\n",
    "---\n",
    "\n",
    "### HW11.1  Loss Functions\n",
    "\n",
    "```\n",
    "In the context of binary classification problems, does the linear SVM learning algorithm yield the same result as a L2 penalized logistic regesssion learning algorithm? \n",
    "\n",
    "In your reponse, please discuss the loss functions, and the learnt models, and separating surfaces between the two classes.\n",
    "\n",
    "\n",
    "In the context of binary classification problems, does the linear SVM learning algorithm yield the same result as a perceptron learning algorithm? \n",
    "\n",
    "[OPTIONAL]: generate an artifical binary classification dataset with 2 input features and plot the learnt separating surface for both a linear SVM and for  logistic regression. Comment on the learnt surfaces. Please feel free to do this in Python (no need to use Spark).\n",
    "```\n",
    "\n",
    "\n",
    "\n",
    "\n"
   ]
  },
  {
   "cell_type": "markdown",
   "metadata": {},
   "source": [
    "## HW11.2\n",
    "---\n",
    "\n",
    "### HW11.2 Gradient descent\n",
    "\n",
    "```\n",
    "In the context of logistic regression describe and define three flavors of penalized loss functions.  Are these all supported in Spark MLLib (include online references to support your answers)?\n",
    "\n",
    "Descibe probabilitic interpretations of the L1 and L2 priors for penalized logistic regression (HINT: see synchronous slides for week 11 for details)\n",
    "```\n",
    "\n",
    "\n",
    "\n",
    "\n"
   ]
  },
  {
   "cell_type": "markdown",
   "metadata": {},
   "source": [
    "## HW11.3\n",
    "---\n",
    "\n",
    "### HW11.1  Logistic Regression\n",
    "\n",
    "```\n",
    "Generate 2 sets of linearly separable data with 100 data points each using the data generation code provided below and plot each in separate plots. Call one the training set and the other the testing set.\n",
    "\n",
    "def generateData(n):\n",
    " \"\"\" \n",
    "  generates a 2D linearly separable dataset with n samples. \n",
    "  The third element of the sample is the label\n",
    " \"\"\"\n",
    " xb = (rand(n)*2-1)/2-0.5\n",
    " yb = (rand(n)*2-1)/2+0.5\n",
    " xr = (rand(n)*2-1)/2+0.5\n",
    " yr = (rand(n)*2-1)/2-0.5\n",
    " inputs = []\n",
    " for i in range(len(xb)):\n",
    "  inputs.append([xb[i],yb[i],1])\n",
    "  inputs.append([xr[i],yr[i],-1])\n",
    " return inputs\n",
    "\n",
    "Modify this data generation code to generating non-linearly separable training and testing datasets (with approximately 10% of the data falling on the wrong side of the separating hyperplane. Plot the resulting datasets. \n",
    "\n",
    "NOTE: For the remainder of this problem please use the non-linearly separable training and testing datasets.\n",
    "\n",
    "Using MLLib  train up a LASSO logistic regression model with the training dataset and evaluate with the testing set. What a good number of iterations for training the logistic regression model? Justify with plots and words. \n",
    "\n",
    "Derive and implement in Spark a weighted  LASSO logistic regression. Implement a convergence test of your choice to check for termination within your training algorithm . \n",
    "\n",
    "Weight the above training dataset as follows:  Weight each example using the inverse vector length (Euclidean norm): \n",
    "\n",
    "weight(X)= 1/||X||, \n",
    "\n",
    "where ||X|| = SQRT(X.X)= SQRT(X1^2 + X2^2)\n",
    "\n",
    "Here X is vector made up of X1 and X2.\n",
    "\n",
    "Evaluate your homegrown weighted  LASSO logistic regression on the test dataset. Report misclassification error (1 - Accuracy) and how many iterations does it took to converge.\n",
    "\n",
    "Does Spark MLLib have a weighted LASSO logistic regression implementation. If so use it and report your findings on the weighted training set and test set. \n",
    "```\n",
    "\n",
    "\n",
    "\n",
    "\n"
   ]
  },
  {
   "cell_type": "code",
   "execution_count": 46,
   "metadata": {
    "collapsed": false
   },
   "outputs": [],
   "source": [
    "%matplotlib inline\n",
    "import numpy as np\n",
    "import pylab as plt\n",
    "\n",
    "def generateData(n):\n",
    "    \"\"\" \n",
    "    generates a 2D linearly separable dataset with n samples. \n",
    "    The third element of the sample is the label\n",
    "    \"\"\"\n",
    "    xb = (np.random.rand(n)*2-1)/2-0.5\n",
    "    yb = (np.random.rand(n)*2-1)/2+0.5\n",
    "    xr = (np.random.rand(n)*2-1)/2+0.5\n",
    "    yr = (np.random.rand(n)*2-1)/2-0.5\n",
    "    inputs = []\n",
    "    for i in range(len(xb)):\n",
    "        inputs.append([xb[i],yb[i],1])\n",
    "        inputs.append([xr[i],yr[i],-1])\n",
    "    return inputs"
   ]
  },
  {
   "cell_type": "code",
   "execution_count": 47,
   "metadata": {
    "collapsed": false
   },
   "outputs": [
    {
     "data": {
      "image/png": "[encoded data removed]",
      "text/plain": [
       "<matplotlib.figure.Figure at 0x10c25d690>"
      ]
     },
     "metadata": {},
     "output_type": "display_data"
    }
   ],
   "source": [
    "data = generateData(100)\n",
    "plt.title('Linearly Separable Dataset')\n",
    "for x,y,l in data:\n",
    "    if l == 1:\n",
    "        plt.plot(x, y,'*', color = 'blue')\n",
    "    else:\n",
    "        plt.plot(x, y,'+', color = 'red')\n",
    "    "
   ]
  },
  {
   "cell_type": "code",
   "execution_count": 107,
   "metadata": {
    "collapsed": true
   },
   "outputs": [],
   "source": [
    "%matplotlib inline\n",
    "import numpy as np\n",
    "import pylab as plt\n",
    "\n",
    "def generateData_nonLinear(n, overlap_percentage=10):\n",
    "    \"\"\" \n",
    "    generates a 2D linearly separable dataset with n samples. \n",
    "    The third element of the sample is the label\n",
    "    \"\"\"\n",
    "    xb = (np.random.rand(n)*2-1)/2-0.5\n",
    "    yb = (np.random.rand(n)*2-1)/2+0.5\n",
    "    xr = (np.random.rand(n)*2-1)/2+0.5\n",
    "    yr = (np.random.rand(n)*2-1)/2-0.5\n",
    "    inputs = []\n",
    "    count = 0\n",
    "    for i in range(len(xb)):\n",
    "        count += 1\n",
    "        if count % overlap_percentage == 0:\n",
    "            inputs.append([0,xb[i],yb[i]])\n",
    "            inputs.append([1,xr[i],yr[i]])\n",
    "        else:\n",
    "            inputs.append([1,xb[i],yb[i]])\n",
    "            inputs.append([0,xr[i],yr[i]])\n",
    "        \n",
    "    return inputs"
   ]
  },
  {
   "cell_type": "code",
   "execution_count": 108,
   "metadata": {
    "collapsed": false
   },
   "outputs": [
    {
     "data": {
      "image/png": "[encoded data removed]",
      "text/plain": [
       "<matplotlib.figure.Figure at 0x10b6aafd0>"
      ]
     },
     "metadata": {},
     "output_type": "display_data"
    }
   ],
   "source": [
    "data = generateData_nonLinear(100)\n",
    "plt.title('Non-Linearly Separable Dataset')\n",
    "for l,x,y in data:\n",
    "    if l == 1:\n",
    "        plt.plot(x, y,'*', color = 'blue')\n",
    "    else:\n",
    "        plt.plot(x, y,'+', color = 'red')\n",
    "    "
   ]
  },
  {
   "cell_type": "code",
   "execution_count": 144,
   "metadata": {
    "collapsed": false
   },
   "outputs": [
    {
     "name": "stdout",
     "output_type": "stream",
     "text": [
      "[ 0.          0.22227279 -0.27299544] <type 'numpy.ndarray'>\n",
      "[ 1.          0.22227279 -0.27299544]\n"
     ]
    }
   ],
   "source": [
    "data = np.array(data)\n",
    "x = data[1]\n",
    "print x, type(x)\n",
    "print np.hstack(([1], x[1:]))"
   ]
  },
  {
   "cell_type": "markdown",
   "metadata": {},
   "source": [
    "### Using Mllib"
   ]
  },
  {
   "cell_type": "code",
   "execution_count": 175,
   "metadata": {
    "collapsed": false
   },
   "outputs": [
    {
     "name": "stdout",
     "output_type": "stream",
     "text": [
      "[[ 1.         -0.33127109  0.35212955]\n",
      " [ 0.          0.22227279 -0.27299544]]\n",
      "100 100\n",
      "\n",
      "### Iteration: 5\n",
      "Weights [-0.506756011305,0.476653143694]\n",
      "Intercept 0.0\n",
      "[10] Training Error = 0.1\n",
      "[10] Testing Error = 0.1\n",
      "\n",
      "### Iteration: 10\n",
      "Weights [-0.700898759872,0.662148450498]\n",
      "Intercept 0.0\n",
      "[10] Training Error = 0.1\n",
      "[10] Testing Error = 0.1\n",
      "\n",
      "### Iteration: 15\n",
      "Weights [-0.825025311131,0.781904725604]\n",
      "Intercept 0.0\n",
      "[10] Training Error = 0.1\n",
      "[10] Testing Error = 0.1\n",
      "\n",
      "### Iteration: 20\n",
      "Weights [-0.915924039659,0.87030117721]\n",
      "Intercept 0.0\n",
      "[10] Training Error = 0.1\n",
      "[10] Testing Error = 0.1\n",
      "\n",
      "### Iteration: 25\n",
      "Weights [-0.987221904859,0.940119229486]\n",
      "Intercept 0.0\n",
      "[10] Training Error = 0.1\n",
      "[10] Testing Error = 0.1\n",
      "\n",
      "### Iteration: 50\n",
      "Weights [-1.20657835068,1.15834975737]\n",
      "Intercept 0.0\n",
      "[10] Training Error = 0.1\n",
      "[10] Testing Error = 0.1\n",
      "\n",
      "### Iteration: 75\n",
      "Weights [-1.32824466462,1.28248903313]\n",
      "Intercept 0.0\n",
      "[10] Training Error = 0.1\n",
      "[10] Testing Error = 0.1\n",
      "\n",
      "### Iteration: 100\n",
      "Weights [-1.40919615292,1.36691871658]\n",
      "Intercept 0.0\n",
      "[10] Training Error = 0.1\n",
      "[10] Testing Error = 0.1\n",
      "\n",
      "### Iteration: 500\n",
      "Weights [-1.53284273699,1.50024621682]\n",
      "Intercept 0.0\n",
      "[10] Training Error = 0.1\n",
      "[10] Testing Error = 0.1\n"
     ]
    },
    {
     "data": {
      "text/plain": [
       "<matplotlib.legend.Legend at 0x119ff3d90>"
      ]
     },
     "execution_count": 175,
     "metadata": {},
     "output_type": "execute_result"
    },
    {
     "data": {
      "image/png": "[encoded data removed]",
      "text/plain": [
       "<matplotlib.figure.Figure at 0x10f67f7d0>"
      ]
     },
     "metadata": {},
     "output_type": "display_data"
    }
   ],
   "source": [
    "import numpy as np\n",
    "from pyspark.mllib.classification import LogisticRegressionWithLBFGS, LogisticRegressionModel\n",
    "from pyspark.mllib.regression import LabeledPoint\n",
    "\n",
    "iterations = [5,10,15,20,25,50,75,100,500]\n",
    "\n",
    "def labeled_point(value):\n",
    "    return LabeledPoint(value[0], value[1:])\n",
    "\n",
    "data = np.array(data)\n",
    "print data[:2]\n",
    "training_set = sc.parallelize(data[data[:,0] == 1]).map(labeled_point).cache()\n",
    "test_set = sc.parallelize(data[data[:,0] == 0]).map(labeled_point).cache()\n",
    "\n",
    "print training_set.count(), test_set.count()\n",
    "\n",
    "x1 = [-1.0, 1.0]\n",
    "\n",
    "#Plot the Points\n",
    "plt.figure(figsize=(15,5))\n",
    "for l,x,y in data:\n",
    "    if l == 1:\n",
    "        plt.plot(x, y,'*', color = 'blue')\n",
    "    else:\n",
    "        plt.plot(x, y,'+', color = 'red')\n",
    "\n",
    "for i in iterations:\n",
    "    # Build the model\n",
    "    model = LogisticRegressionWithSGD.train(training_set, iterations=i, regType='l1', initialWeights=[0,0])\n",
    "    \n",
    "    print \"\\n### Iteration: {0}\".format(i)\n",
    "    print \"Weights\", model.weights\n",
    "    print 'Intercept', model.intercept\n",
    "    \n",
    "    # Plot Decision Boundary\n",
    "    # B1 * x1 + B2 * x2 >= 0\n",
    "    # x2 >= - (B1 * x1) / x2\n",
    "    \n",
    "    x2 = [- j*model.weights[0] / model.weights[1] for j in x1]\n",
    "    plt.plot(x1,x2, label='Iter:' + str(i), linewidth=0.5)\n",
    "    \n",
    "    # Evaluating the model on training data\n",
    "    labelsAndPreds = training_set.map(lambda p: (p.label, model.predict(p.features)))\n",
    "    miscats = labelsAndPreds.filter(lambda (v, p): v != p).count()\n",
    "    trainErr =  miscats / float(training_set.count())\n",
    "    print(\"[{0}] Training Error = {1}\".format(miscats, trainErr))\n",
    "    \n",
    "    # Evaluating the model on test data\n",
    "    labelsAndPreds = test_set.map(lambda p: (p.label, model.predict(p.features)))\n",
    "    miscats = labelsAndPreds.filter(lambda (v, p): v != p).count()\n",
    "    trainErr =  miscats / float(training_set.count())\n",
    "    print(\"[{0}] Testing Error = {1}\".format(miscats, trainErr))\n",
    "\n",
    "plt.legend()"
   ]
  },
  {
   "cell_type": "markdown",
   "metadata": {},
   "source": [
    "***In this case, all the iterations led to a decision boundary which has an accuracy of 90%***"
   ]
  },
  {
   "cell_type": "markdown",
   "metadata": {},
   "source": [
    "### Using Spark"
   ]
  },
  {
   "cell_type": "code",
   "execution_count": 196,
   "metadata": {
    "collapsed": false
   },
   "outputs": [],
   "source": [
    "def logisticRegressionGDReg(data, wInitial=None, learningRate=0.05, iterations=50, regParam=0.01, regType=None):\n",
    "    featureLen = len(data.take(1)[0].features)\n",
    "    n = data.count()\n",
    "    if wInitial is None:\n",
    "        w = np.random.normal(size=featureLen) # w should be broadcasted if it is large\n",
    "    else:\n",
    "        w = wInitial\n",
    "    for i in range(iterations):\n",
    "        wBroadcast = sc.broadcast(w)\n",
    "        # Weighted each example using the inverse vector length (Euclidean norm)\n",
    "        gradient = data.map(lambda p: \\\n",
    "                            (1 / (1 + np.exp(-p.label*np.dot(wBroadcast.value, p.features)))-1) \\\n",
    "                            * p.label \\\n",
    "                            * p.features \\\n",
    "                            * np.reciprocal(np.sqrt(sum(np.square(p.features))))) \\\n",
    "                    .reduce(lambda a, b: a + b)\n",
    "        if regType == \"Ridge\":\n",
    "            wReg = w * 1\n",
    "            wReg[-1] = 0 #last value of weight vector is bias term, ignored in regularization\n",
    "        elif regType == \"Lasso\":\n",
    "            wReg = w * 1\n",
    "            wReg[-1] = 0 #last value of weight vector is bias term, ignored in regularization\n",
    "            wReg = (wReg>0).astype(int) * 2-1\n",
    "        else:\n",
    "            wReg = np.zeros(w.shape[0])\n",
    "        gradient = gradient + regParam * wReg  #gradient:  GD of Sqaured Error+ GD of regularized term \n",
    "        w = w - learningRate * gradient / n\n",
    "    return w"
   ]
  },
  {
   "cell_type": "code",
   "execution_count": 199,
   "metadata": {
    "collapsed": false
   },
   "outputs": [
    {
     "name": "stdout",
     "output_type": "stream",
     "text": [
      "[-1.39044209  0.97649511]\n"
     ]
    }
   ],
   "source": [
    "np.random.seed(400)\n",
    "#print training_set.take(1)[0].features, training_set.take(1)[0].label\n",
    "w = logisticRegressionGDReg(training_set, iterations=50, regParam=0.1, regType=\"Lasso\")\n",
    "print w"
   ]
  },
  {
   "cell_type": "code",
   "execution_count": 203,
   "metadata": {
    "collapsed": false
   },
   "outputs": [
    {
     "name": "stdout",
     "output_type": "stream",
     "text": [
      "Total Predictions: 100, Correct Predictions: 90\n",
      "### Accurary: 0.9\n"
     ]
    }
   ],
   "source": [
    "# Test Accuracy on Test Set\n",
    "wBroadcast = sc.broadcast(w)\n",
    "\n",
    "preds_total = test_set.count()\n",
    "preds_correct = test_set.map(lambda p: np.dot(wBroadcast.value, p.features)).filter(lambda x: x < 0).count()\n",
    "\n",
    "print 'Total Predictions: {0}, Correct Predictions: {1}'.format(preds_total, preds_correct)\n",
    "print '### Accurary: {0}'.format(preds_correct * 1.0/preds_total)"
   ]
  },
  {
   "cell_type": "markdown",
   "metadata": {},
   "source": [
    "### Accuracy on Test Set: 90%"
   ]
  },
  {
   "cell_type": "code",
   "execution_count": null,
   "metadata": {
    "collapsed": true
   },
   "outputs": [],
   "source": []
  },
  {
   "cell_type": "code",
   "execution_count": null,
   "metadata": {
    "collapsed": true
   },
   "outputs": [],
   "source": []
  }
 ],
 "metadata": {
  "kernelspec": {
   "display_name": "Python 2",
   "language": "python",
   "name": "python2"
  },
  "language_info": {
   "codemirror_mode": {
    "name": "ipython",
    "version": 2
   },
   "file_extension": ".py",
   "mimetype": "text/x-python",
   "name": "python",
   "nbconvert_exporter": "python",
   "pygments_lexer": "ipython2",
   "version": "2.7.10"
  }
 },
 "nbformat": 4,
 "nbformat_minor": 0
}
