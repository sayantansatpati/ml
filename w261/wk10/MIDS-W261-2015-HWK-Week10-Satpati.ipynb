{
 "cells": [
  {
   "cell_type": "markdown",
   "metadata": {},
   "source": [
    "# DATASCI W261: Machine Learning at Scale "
   ]
  },
  {
   "cell_type": "markdown",
   "metadata": {},
   "source": [
    "* **Sayantan Satpati**\n",
    "* **sayantan.satpati@ischool.berkeley.edu**\n",
    "* **W261**\n",
    "* **Week-10**\n",
    "* **Assignment-10**\n",
    "* **Date of Submission: 17-NOV-2015**"
   ]
  },
  {
   "cell_type": "markdown",
   "metadata": {},
   "source": [
    "#  === Week 10 ASSIGNMENTS ==="
   ]
  },
  {
   "cell_type": "markdown",
   "metadata": {},
   "source": [
    "### Environment Setup - Initialize Spark"
   ]
  },
  {
   "cell_type": "code",
   "execution_count": 1,
   "metadata": {
    "collapsed": false
   },
   "outputs": [
    {
     "name": "stdout",
     "output_type": "stream",
     "text": [
      "Welcome to\n",
      "      ____              __\n",
      "     / __/__  ___ _____/ /__\n",
      "    _\\ \\/ _ \\/ _ `/ __/  '_/\n",
      "   /__ / .__/\\_,_/_/ /_/\\_\\   version 1.5.1\n",
      "      /_/\n",
      "\n",
      "Using Python version 2.7.10 (default, Oct 19 2015 18:31:17)\n",
      "SparkContext available as sc, HiveContext available as sqlContext.\n"
     ]
    }
   ],
   "source": [
    "import os\n",
    "import sys\n",
    "#Escape L for line numbers\n",
    "spark_home = os.environ['SPARK_HOME'] = '/Users/ssatpati/0-DATASCIENCE/TOOLS/spark-1.5.1-bin-hadoop2.6'\n",
    "#spark_home = os.environ['SPARK_HOME'] = '/Users/jshanahan/Dropbox/Lectures-UC-Berkeley-ML-Class-2015/spark-1.5.0-bin-hadoop2.6/'\n",
    "if not spark_home:\n",
    "    raise ValueError('SPARK_HOME enviroment variable is not set')\n",
    "sys.path.insert(0,os.path.join(spark_home,'python'))\n",
    "sys.path.insert(0,os.path.join(spark_home,'python/lib/py4j-0.8.2.1-src.zip'))\n",
    "execfile(os.path.join(spark_home,'python/pyspark/shell.py'))"
   ]
  },
  {
   "cell_type": "markdown",
   "metadata": {},
   "source": [
    "## HW10.0\n",
    "---\n",
    "\n",
    "### === HW 10.0: Short answer questions===\n",
    "\n",
    "***What is Apache Spark and how is it different to Apache Hadoop?***\n",
    "\n",
    "* Apache Spark™ is a fast and general engine for large-scale data processing.\n",
    "\n",
    "* Spark is basically developed to overcome MapReduce's shortcoming that it is not optimized for of iterative algorithms and interactive data analysis which performs cyclic operations on same set of data. Spark uses Resilient Distributed Datasets (RDDs), immutable distributed collection of objects, which can be loaded into the memory for running iterative algorithms in a fast and efficient way.\n",
    "\n",
    "#### Fill in the blanks:\n",
    "\n",
    "* Spark API consists of interfaces to develop applications based on it in ***Java, Scala, and Python*** languages (list languages). \n",
    "\n",
    "* Using Spark, resource management can be done either in a single server instance or using a framework such as ***Mesos or Yarn*** in a distributed manner.\n",
    "\n",
    "#### What is an RDD and show a fun example of creating one and bringing the first element back to the driver program.\n",
    "\n",
    "* An RDD in Spark is simply an immutable distributed collection of objects. Each RDD is split into multiple partitions, which may be computed on different nodes of the cluster. RDDs can contain any type of Python, Java, or Scala objects, including user-defined classes.\n",
    "\n",
    "\n",
    "\n",
    "\n"
   ]
  },
  {
   "cell_type": "code",
   "execution_count": 2,
   "metadata": {
    "collapsed": false
   },
   "outputs": [
    {
     "name": "stdout",
     "output_type": "stream",
     "text": [
      "[1]\n"
     ]
    }
   ],
   "source": [
    "print sc.parallelize([1,2,3,4,5,6,7,8,9]).take(1)"
   ]
  },
  {
   "cell_type": "markdown",
   "metadata": {},
   "source": [
    "#### What is lazy evaluation and give an intuitoive example of lazy evaluation and comment on the massive computational savings to be had from lazy evaluation.\n",
    "\n",
    "\n",
    "* Once created, RDDs offer two types of operations: transformations and actions. Transformations construct a new RDD from a previous one. For example, one common transformation is filtering data that matches a predicate. Actions, on the other hand, compute a result based on an RDD, and either return it to the driver program or save it to an external storage system (e.g., HDFS). \n",
    "\n",
    "* Transformations and actions are different because of the way Spark computes RDDs. Although you can define new RDDs any time, Spark computes them only in a lazy fashion—that is, the first time they are used in an action. This approach might seem unusual at first, but makes a lot of sense when you are working with Big Data.  For instance, consider Example below, where we defined a text file and then filtered the lines that include Python. If Spark were to load and store all the lines in the file as soon as we wrote lines = sc.textFile(...), it would waste a lot of storage space, given that we then immediately filter out many lines. Instead, once Spark sees the whole chain of transformations, it can compute just the data needed for its result. In fact, for the first() action, Spark scans the file only until it finds the first matching line; it doesn’t even read the whole file.\n",
    "\n",
    "```\n",
    "### Transformation ###\n",
    "\n",
    ">>> pythonLines = lines.filter(lambda line: \"Python\" in line)\n",
    "\n",
    "### Action ###\n",
    "\n",
    ">>> pythonLines.first()\n",
    "u'## Interactive Python Shell'\n",
    "```"
   ]
  },
  {
   "cell_type": "markdown",
   "metadata": {
    "collapsed": true
   },
   "source": [
    "## HW10.1\n",
    "___\n",
    "\n",
    "In Spark write the code to count how often each word appears in a text document (or set of documents). Please use this homework document as a the example document to run an experiment.  Report the following: provide a sorted list of tokens in decreasing order of frequency of occurence."
   ]
  },
  {
   "cell_type": "code",
   "execution_count": 5,
   "metadata": {
    "collapsed": false
   },
   "outputs": [
    {
     "name": "stdout",
     "output_type": "stream",
     "text": [
      "116\n"
     ]
    }
   ],
   "source": [
    "lines = sc.textFile('MIDS-MLS-HW-10.txt')\n",
    "print lines.count()"
   ]
  },
  {
   "cell_type": "code",
   "execution_count": 6,
   "metadata": {
    "collapsed": false
   },
   "outputs": [
    {
     "data": {
      "text/plain": [
       "[(u'the', 44),\n",
       " (u'and', 23),\n",
       " (u'of', 17),\n",
       " (u'in', 17),\n",
       " (u'10', 15),\n",
       " (u'a', 12),\n",
       " (u'data', 11),\n",
       " (u'HW', 11),\n",
       " (u'code', 10),\n",
       " (u'to', 9),\n",
       " (u'clusters', 9),\n",
       " (u'KMeans', 8),\n",
       " (u'1', 7),\n",
       " (u'for', 7),\n",
       " (u'HW10', 7),\n",
       " (u'with', 7),\n",
       " (u'is', 7),\n",
       " (u'Using', 7),\n",
       " (u'on', 7),\n",
       " (u'2', 7)]"
      ]
     },
     "execution_count": 6,
     "metadata": {},
     "output_type": "execute_result"
    }
   ],
   "source": [
    "import re\n",
    "# Showing the top 15 Words sorted based on Descending Word Count\n",
    "lines.flatMap(lambda x: re.findall(r'[\\w]+', x)) \\\n",
    "        .map(lambda x: (x, 1)) \\\n",
    "        .reduceByKey(lambda x, y: x + y) \\\n",
    "        .takeOrdered(20, key = lambda x: -x[1])"
   ]
  },
  {
   "cell_type": "markdown",
   "metadata": {},
   "source": [
    "## HW 10.1.1\n",
    "____\n",
    "\n",
    "Modify the above word count code to count words that begin with lower case letters (a-z) and report your findings. Again sort the output words in decreasing order of frequency."
   ]
  },
  {
   "cell_type": "code",
   "execution_count": 7,
   "metadata": {
    "collapsed": false
   },
   "outputs": [
    {
     "data": {
      "text/plain": [
       "[(u'the', 44),\n",
       " (u'and', 23),\n",
       " (u'of', 17),\n",
       " (u'in', 17),\n",
       " (u'a', 12),\n",
       " (u'data', 11),\n",
       " (u'code', 10),\n",
       " (u'to', 9),\n",
       " (u'clusters', 9),\n",
       " (u'for', 7),\n",
       " (u'with', 7),\n",
       " (u'is', 7),\n",
       " (u'on', 7),\n",
       " (u's', 6),\n",
       " (u'x', 6)]"
      ]
     },
     "execution_count": 7,
     "metadata": {},
     "output_type": "execute_result"
    }
   ],
   "source": [
    "import re\n",
    "# Showing the top 15 Words sorted based on Descending Word Count\n",
    "lines.flatMap(lambda x: re.findall(r'\\b[a-z][a-zA-Z0-9]*\\b', x)) \\\n",
    "        .map(lambda x: (x, 1)) \\\n",
    "        .reduceByKey(lambda x, y: x + y) \\\n",
    "        .takeOrdered(15, key = lambda x: -x[1])"
   ]
  },
  {
   "cell_type": "markdown",
   "metadata": {},
   "source": [
    "## HW 10.2\n",
    "___\n",
    "\n",
    "```\n",
    "\n",
    "===HW 10.2: KMeans a la MLLib ===\n",
    "Using the following  MLlib-centric KMeans code snippet: \n",
    "\n",
    "from pyspark.mllib.clustering import KMeans, KMeansModel\n",
    "from numpy import array\n",
    "from math import sqrt\n",
    "\n",
    "# Load and parse the data\n",
    "# NOTE  kmeans_data.txt is available here https://www.dropbox.com/s/q85t0ytb9apggnh/kmeans_data.txt?dl=0 \n",
    "data = sc.textFile(\"kmeans_data.txt\")\n",
    "parsedData = data.map(lambda line: array([float(x) for x in line.split(' ')]))\n",
    "\n",
    "# Build the model (cluster the data)\n",
    "clusters = KMeans.train(parsedData, 2, maxIterations=10,\n",
    "        runs=10, initializationMode=\"random\")\n",
    "\n",
    "# Evaluate clustering by computing Within Set Sum of Squared Errors\n",
    "def error(point):\n",
    "    center = clusters.centers[clusters.predict(point)]\n",
    "    return sqrt(sum([x**2 for x in (point - center)]))\n",
    "\n",
    "WSSSE = parsedData.map(lambda point: error(point)).reduce(lambda x, y: x + y)\n",
    "print(\"Within Set Sum of Squared Error = \" + str(WSSSE))\n",
    "\n",
    "# Save and load model\n",
    "clusters.save(sc, \"myModelPath\")\n",
    "sameModel = KMeansModel.load(sc, \"myModelPath\")\n",
    "\n",
    "\n",
    "# NOTE  kmeans_data.txt is available here https://www.dropbox.com/s/q85t0ytb9apggnh/kmeans_data.txt?dl=0 \n",
    "\n",
    "Run this code snippet and list the clusters that your find and compute the Within Set Sum of Squared Errors for the found clusters. Comment on your findings.\n",
    "```"
   ]
  },
  {
   "cell_type": "code",
   "execution_count": 11,
   "metadata": {
    "collapsed": false
   },
   "outputs": [
    {
     "name": "stdout",
     "output_type": "stream",
     "text": [
      "[array([ 0.,  0.,  0.]), array([ 0.1,  0.1,  0.1]), array([ 0.2,  0.2,  0.2]), array([ 9.,  9.,  9.]), array([ 9.1,  9.1,  9.1]), array([ 9.2,  9.2,  9.2])]\n",
      "\n",
      "### Within Set Sum of Squared Error = 0.692820323028\n",
      "\n",
      "### Cluster Centers: [array([ 0.1,  0.1,  0.1]), array([ 9.1,  9.1,  9.1])]\n"
     ]
    }
   ],
   "source": [
    "!rm -rf myModelPath\n",
    "\n",
    "from pyspark.mllib.clustering import KMeans, KMeansModel\n",
    "from numpy import array\n",
    "from math import sqrt\n",
    "\n",
    "# Load and parse the data\n",
    "# NOTE  kmeans_data.txt is available here https://www.dropbox.com/s/q85t0ytb9apggnh/kmeans_data.txt?dl=0 \n",
    "data = sc.textFile(\"kmeans_data.txt\")\n",
    "parsedData = data.map(lambda line: array([float(x) for x in line.split(' ')]))\n",
    "\n",
    "print parsedData.collect()\n",
    "\n",
    "# Build the model (cluster the data)\n",
    "clusters = KMeans.train(parsedData, 2, maxIterations=10,\n",
    "        runs=10, initializationMode=\"random\")\n",
    "\n",
    "# Evaluate clustering by computing Within Set Sum of Squared Errors\n",
    "def error(point):\n",
    "    center = clusters.centers[clusters.predict(point)]\n",
    "    return sqrt(sum([x**2 for x in (point - center)]))\n",
    "\n",
    "WSSSE = parsedData.map(lambda point: error(point)).reduce(lambda x, y: x + y)\n",
    "print(\"\\n### Within Set Sum of Squared Error = \" + str(WSSSE))\n",
    "\n",
    "print '\\n### Cluster Centers: {0}'.format(clusters.clusterCenters)\n",
    "\n",
    "# Save and load model\n",
    "clusters.save(sc, \"myModelPath\")\n",
    "sameModel = KMeansModel.load(sc, \"myModelPath\")\n"
   ]
  },
  {
   "cell_type": "markdown",
   "metadata": {
    "collapsed": true
   },
   "source": [
    "### Findings\n",
    "\n",
    "* Within Set Sum of Squared Error = ***0.692820323028***\n",
    "\n",
    "* Cluster Centers: ***[array([ 0.1,  0.1,  0.1]), array([ 9.1,  9.1,  9.1])]***"
   ]
  },
  {
   "cell_type": "markdown",
   "metadata": {},
   "source": [
    "## HW 10.3\n",
    "___\n",
    "\n",
    "```\n",
    "=== HW 10.3: ===\n",
    "Download the following KMeans notebook:\n",
    "\n",
    "https://www.dropbox.com/s/3nsthvp8g2rrrdh/EM-Kmeans.ipynb?dl=0\n",
    "\n",
    "Generate 3 clusters with 100 (one hundred) data points per cluster (using the code provided). Plot the data.\n",
    "Then run MLlib's Kmean implementation on this data  and report your results as follows:\n",
    "\n",
    "  -- plot the resulting clusters after 1 iteration, 10 iterations, after 20 iterations, after 100 iterations.\n",
    "  -- in each plot please report the Within Set Sum of Squared Errors for the found clusters. Comment on the progress of this measure as the KMEans algorithms runs for more iterations\n",
    "```"
   ]
  },
  {
   "cell_type": "markdown",
   "metadata": {},
   "source": [
    "### Generate Data"
   ]
  },
  {
   "cell_type": "code",
   "execution_count": 12,
   "metadata": {
    "collapsed": true
   },
   "outputs": [],
   "source": [
    " %matplotlib inline\n",
    "import numpy as np\n",
    "import pylab \n",
    "import json\n",
    "size1 = size2 = size3 = 100\n",
    "samples1 = np.random.multivariate_normal([4, 0], [[1, 0],[0, 1]], size1)\n",
    "data = samples1\n",
    "samples2 = np.random.multivariate_normal([6, 6], [[1, 0],[0, 1]], size2)\n",
    "data = np.append(data,samples2, axis=0)\n",
    "samples3 = np.random.multivariate_normal([0, 4], [[1, 0],[0, 1]], size3)\n",
    "data = np.append(data,samples3, axis=0)\n",
    "# Randomlize data\n",
    "data = data[np.random.permutation(size1+size2+size3),]\n",
    "np.savetxt('data.csv',data,delimiter = ',')"
   ]
  },
  {
   "cell_type": "markdown",
   "metadata": {},
   "source": [
    "### Plot Data"
   ]
  },
  {
   "cell_type": "code",
   "execution_count": 13,
   "metadata": {
    "collapsed": false
   },
   "outputs": [
    {
     "data": {
      "image/png": "[encoded data removed]",
      "text/plain": [
       "<matplotlib.figure.Figure at 0x10ac03290>"
      ]
     },
     "metadata": {},
     "output_type": "display_data"
    }
   ],
   "source": [
    "pylab.plot(samples1[:, 0], samples1[:, 1],'*', color = 'red')\n",
    "pylab.plot(samples2[:, 0], samples2[:, 1],'o', color = 'blue')\n",
    "pylab.plot(samples3[:, 0], samples3[:, 1],'+', color = 'green')\n",
    "pylab.show()"
   ]
  },
  {
   "cell_type": "markdown",
   "metadata": {},
   "source": [
    "### Run KMeans using Spark Mllib"
   ]
  },
  {
   "cell_type": "code",
   "execution_count": 41,
   "metadata": {
    "collapsed": false
   },
   "outputs": [
    {
     "name": "stdout",
     "output_type": "stream",
     "text": [
      "\n",
      "\n",
      "[1] ### Number of Iterations: 1\n",
      "[1] Within Set Sum of Squared Error = 751.211780901\n",
      "[1] Cluster Centers: [array([ 3.40803497,  5.28965097]), array([ 3.98093152, -1.28733331]), array([ 2.97179035,  0.96202015])]\n"
     ]
    },
    {
     "data": {
      "image/png": "[encoded data removed]",
      "text/plain": [
       "<matplotlib.figure.Figure at 0x10b808d50>"
      ]
     },
     "metadata": {},
     "output_type": "display_data"
    },
    {
     "name": "stdout",
     "output_type": "stream",
     "text": [
      "\n",
      "\n",
      "[10] ### Number of Iterations: 10\n",
      "[10] Within Set Sum of Squared Error = 376.861109478\n",
      "[10] Cluster Centers: [array([ 5.82428678,  5.83461633]), array([-0.0177415 ,  4.09952867]), array([ 4.02499157,  0.0788202 ])]\n"
     ]
    },
    {
     "data": {
      "image/png": "[encoded data removed]",
      "text/plain": [
       "<matplotlib.figure.Figure at 0x10b820610>"
      ]
     },
     "metadata": {},
     "output_type": "display_data"
    },
    {
     "name": "stdout",
     "output_type": "stream",
     "text": [
      "\n",
      "\n",
      "[20] ### Number of Iterations: 20\n",
      "[20] Within Set Sum of Squared Error = 376.861109478\n",
      "[20] Cluster Centers: [array([ 5.82428678,  5.83461633]), array([ 4.02499157,  0.0788202 ]), array([-0.0177415 ,  4.09952867])]\n"
     ]
    },
    {
     "data": {
      "image/png": "[encoded data removed]",
      "text/plain": [
       "<matplotlib.figure.Figure at 0x10b056450>"
      ]
     },
     "metadata": {},
     "output_type": "display_data"
    },
    {
     "name": "stdout",
     "output_type": "stream",
     "text": [
      "\n",
      "\n",
      "[100] ### Number of Iterations: 100\n",
      "[100] Within Set Sum of Squared Error = 376.861109478\n",
      "[100] Cluster Centers: [array([ 5.82428678,  5.83461633]), array([-0.0177415 ,  4.09952867]), array([ 4.02499157,  0.0788202 ])]\n"
     ]
    },
    {
     "data": {
      "image/png": "[encoded data removed]",
      "text/plain": [
       "<matplotlib.figure.Figure at 0x10b733910>"
      ]
     },
     "metadata": {},
     "output_type": "display_data"
    }
   ],
   "source": [
    "k = 3\n",
    "iterations = [1,10,20,100]\n",
    "\n",
    "def error(clusters, point):\n",
    "    center = clusters.centers[clusters.predict(point)]\n",
    "    return sqrt(sum([x**2 for x in (point - center)]))\n",
    "\n",
    "#plot centroids and data points for each iteration\n",
    "def plot_iteration(means):\n",
    "    pylab.plot(samples1[:, 0], samples1[:, 1], '.', color = 'blue', alpha=0.25)\n",
    "    pylab.plot(samples2[:, 0], samples2[:, 1], '.', color = 'blue', alpha=0.25)\n",
    "    pylab.plot(samples3[:, 0], samples3[:, 1],'.', color = 'blue', alpha=0.25)\n",
    "    pylab.plot(means[0][0], means[0][1],'*',markersize =10,color = 'red')\n",
    "    pylab.plot(means[1][0], means[1][1],'*',markersize =10,color = 'red')\n",
    "    pylab.plot(means[2][0], means[2][1],'*',markersize =10,color = 'red')\n",
    "    pylab.show()\n",
    "\n",
    "# Create RDD\n",
    "rddData = sc.parallelize(data)\n",
    "rddData.cache()\n",
    "#print rddData.count()\n",
    "\n",
    "clusters = None\n",
    "\n",
    "for i in iterations:\n",
    "    print '\\n\\n[{0}] ### Number of Iterations: {0}'.format(i)\n",
    "    # Build the model (cluster the data)\n",
    "    clusters = KMeans.train(rddData, k, maxIterations=i,\n",
    "        runs=1, initializationMode=\"random\")\n",
    "    \n",
    "    WSSSE = rddData.map(lambda point: error(clusters, point)).reduce(lambda x, y: x + y)\n",
    "    \n",
    "    print(\"[{0}] Within Set Sum of Squared Error = {1}\".format(i, WSSSE))\n",
    "    print '[{0}] Cluster Centers: {1}'.format(i, clusters.clusterCenters)\n",
    "    \n",
    "    # Plot the points & centroids\n",
    "    plot_iteration(clusters.clusterCenters)\n",
    "    "
   ]
  },
  {
   "cell_type": "markdown",
   "metadata": {},
   "source": [
    "**It is evident from the above plots that as the number of the iterations increases, the error (within cluster sum of squared error) continues to decrease and the centroids tend to move towards the middle of the points. There is not much difference between 20 & 100 iterations, indicating that covergence was reached for this dataset by 20 iterations.**"
   ]
  },
  {
   "cell_type": "markdown",
   "metadata": {},
   "source": [
    "## HW10.4\n",
    "___\n",
    "\n",
    "```\n",
    "==HW 10.4: ===\n",
    "Using the KMeans code (homegrown code) provided repeat the experiments in HW10.3. Comment on any differences between the results in HW10.3 and HW10.4. Explain.\n",
    "```"
   ]
  },
  {
   "cell_type": "markdown",
   "metadata": {},
   "source": [
    "### Run KMeans using Homegrown Code with Spark"
   ]
  },
  {
   "cell_type": "code",
   "execution_count": 44,
   "metadata": {
    "collapsed": false
   },
   "outputs": [
    {
     "name": "stdout",
     "output_type": "stream",
     "text": [
      "### Iteration: 1\n",
      "[[-0.20343358  1.40418613]\n",
      " [ 3.98724182  2.61084674]\n",
      " [ 1.76500666  5.59927668]]\n"
     ]
    },
    {
     "data": {
      "image/png": "[encoded data removed]",
      "text/plain": [
       "<matplotlib.figure.Figure at 0x10b705a90>"
      ]
     },
     "metadata": {},
     "output_type": "display_data"
    },
    {
     "name": "stdout",
     "output_type": "stream",
     "text": [
      "### Iteration: 10\n",
      "[[-0.19735785  2.79115731]\n",
      " [ 4.94487658  2.31048157]\n",
      " [ 2.07127357  5.48337367]]\n"
     ]
    },
    {
     "data": {
      "image/png": "[encoded data removed]",
      "text/plain": [
       "<matplotlib.figure.Figure at 0x10b6eb5d0>"
      ]
     },
     "metadata": {},
     "output_type": "display_data"
    },
    {
     "name": "stdout",
     "output_type": "stream",
     "text": [
      "### Iteration: 20\n",
      "[[-0.29234796  3.57639868]\n",
      " [ 4.91232112  1.93851062]\n",
      " [ 3.69903554  5.90642892]]\n"
     ]
    },
    {
     "data": {
      "image/png": "[encoded data removed]",
      "text/plain": [
       "<matplotlib.figure.Figure at 0x10b0ebc50>"
      ]
     },
     "metadata": {},
     "output_type": "display_data"
    },
    {
     "name": "stdout",
     "output_type": "stream",
     "text": [
      "### Iteration: 100\n",
      "[[-0.1321773   4.01277358]\n",
      " [ 4.22377503  0.3935243 ]\n",
      " [ 5.51739044  5.99176964]]\n"
     ]
    },
    {
     "data": {
      "image/png": "[encoded data removed]",
      "text/plain": [
       "<matplotlib.figure.Figure at 0x10b262190>"
      ]
     },
     "metadata": {},
     "output_type": "display_data"
    },
    {
     "name": "stdout",
     "output_type": "stream",
     "text": [
      "Final Results:\n",
      "[[-0.1321773   4.01277358]\n",
      " [ 4.22377503  0.3935243 ]\n",
      " [ 5.51739044  5.99176964]]\n"
     ]
    }
   ],
   "source": [
    "K = 3\n",
    "iterations = [1,10,20,100]\n",
    "\n",
    "# Initialization: initialization of parameter is fixed to show an example\n",
    "centroids = np.array([[0.0,0.0],[2.0,2.0],[0.0,7.0]])\n",
    "\n",
    "#Calculate which class each data point belongs to\n",
    "def nearest_centroid(x):\n",
    "    closest_centroid_idx = np.sum((x - centroids)**2, axis=1).argmin()\n",
    "    return (closest_centroid_idx,(x,1))\n",
    "\n",
    "iter_num = 0\n",
    "for i in range(100):  \n",
    "    res = rddData.map(nearest_centroid).reduceByKey(lambda x,y : (x[0]+y[0],x[1]+y[1])).collect()\n",
    "    #res [(0, (array([  2.66546663e+00,   3.94844436e+03]), 1001)  ), \n",
    "    #     (2, (array([ 6023.84995923,  5975.48511018]), 1000)), \n",
    "    #     (1, (array([ 3986.85984761,    15.93153464]), 999))]\n",
    "    # res[1][1][1] returns 1000 here\n",
    "    res = sorted(res,key = lambda x : x[0])  #sort based on clusted ID\n",
    "    centroids_new = np.array([x[1][0]/x[1][1] for x in res])  #divide by cluster size\n",
    "    #if np.sum(np.absolute(centroids_new-centroids))<0.01:\n",
    "    #    break\n",
    "    if i+1 in iterations:\n",
    "        print \"### Iteration: \" + str(i+1)\n",
    "        iter_num = iter_num + 1 \n",
    "        centroids = centroids_new\n",
    "        print centroids\n",
    "        plot_iteration(centroids)\n",
    "print \"Final Results:\"\n",
    "print centroids"
   ]
  },
  {
   "cell_type": "code",
   "execution_count": null,
   "metadata": {
    "collapsed": true
   },
   "outputs": [],
   "source": []
  },
  {
   "cell_type": "markdown",
   "metadata": {},
   "source": [
    "## HW10.5 (Optional)\n",
    "---\n",
    "\n",
    "```\n",
    "==HW 10.5: === (OPTIONAL)\n",
    "Using the KMeans code provided modify it to do a weighted KMeans and repeat the experiements in HW10.3. Comment on any differences between the results in HW10.3 and HW10.5. Explain.\n",
    "```"
   ]
  },
  {
   "cell_type": "markdown",
   "metadata": {
    "collapsed": true
   },
   "source": [
    "## HW 10.6 (Optional)\n",
    "\n",
    "```\n",
    "==HW 10.6: Linear Regression ===  (OPTIONAL)\n",
    "HW 10.6.1\n",
    "Using the following linear regression notebook:\n",
    "\n",
    " https://www.dropbox.com/s/atzqkc0p1eajuz6/LinearRegression-Notebook-Challenge.ipynb?dl=0 \n",
    "\n",
    "Generate 2 sets of data with 100 data points using the data generation code provided and plot each in separate plots. Call one the training set and the other the testing set.\n",
    "\n",
    "Using MLLib's LinearRegressionWithSGD train up a linear regression model with the training dataset and evaluate with the testing set. What a good number of iterations for training the linear regression model? Justify with plots and words. \n",
    "\n",
    "HW 10.6.2\n",
    "In the notebook provide, in the cell labeled \"Gradient descent (regularization)\".\n",
    "\n",
    "Fill in the blanks and get this code to work for LASS0 and RIDGE linear regression.\n",
    "\n",
    "Using the data from 10.6.1 tune the hyper parameters of your LASS0 and RIDGE regression. Report your findings with words and plots.\n",
    "```"
   ]
  },
  {
   "cell_type": "code",
   "execution_count": null,
   "metadata": {
    "collapsed": true
   },
   "outputs": [],
   "source": []
  }
 ],
 "metadata": {
  "kernelspec": {
   "display_name": "Python 2",
   "language": "python",
   "name": "python2"
  },
  "language_info": {
   "codemirror_mode": {
    "name": "ipython",
    "version": 2
   },
   "file_extension": ".py",
   "mimetype": "text/x-python",
   "name": "python",
   "nbconvert_exporter": "python",
   "pygments_lexer": "ipython2",
   "version": "2.7.10"
  }
 },
 "nbformat": 4,
 "nbformat_minor": 0
}
