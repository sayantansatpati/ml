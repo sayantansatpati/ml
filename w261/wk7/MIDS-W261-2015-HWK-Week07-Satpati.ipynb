{
 "cells": [
  {
   "cell_type": "markdown",
   "metadata": {},
   "source": [
    "#DATASCI W261: Machine Learning at Scale "
   ]
  },
  {
   "cell_type": "code",
   "execution_count": null,
   "metadata": {
    "collapsed": true
   },
   "outputs": [],
   "source": []
  },
  {
   "cell_type": "markdown",
   "metadata": {},
   "source": [
    "* **Sayantan Satpati**\n",
    "* **sayantan.satpati@ischool.berkeley.edu**\n",
    "* **W261**\n",
    "* **Week-7**\n",
    "* **Assignment-7**\n",
    "* **Date of Submission: 27-OCT-2015**"
   ]
  },
  {
   "cell_type": "markdown",
   "metadata": {},
   "source": [
    "#  === Week 7: Graph Processing ==="
   ]
  },
  {
   "cell_type": "markdown",
   "metadata": {},
   "source": [
    "## HW 7.0: Toy Dataset\n",
    "---\n",
    "\n",
    "Shortest path graph distances (toy networks)===\n",
    "\n",
    "In this part of your assignment you will develop the base of your code for the week.\n",
    "\n",
    "Write MRJob classes to find shortest path graph distances, \n",
    "as described in the lectures. In addition to finding the distances, \n",
    "your code should also output a distance-minimizing path between the source and target.\n",
    "Work locally for this part of the assignment, and use \n",
    "both of the undirected and directed toy networks.\n",
    "\n",
    "To proof you code's function, run the following jobs\n",
    "\n",
    "- shortest path in the undirected network from node 1 to node 4\n",
    "Solution: 1,5,4 \n",
    "\n",
    "- shortest path in the directed network from node 1 to node 5\n",
    "Solution: 1,2,4,5\n",
    "\n",
    "and report your output---make sure it is correct!\n"
   ]
  },
  {
   "cell_type": "code",
   "execution_count": null,
   "metadata": {
    "collapsed": false
   },
   "outputs": [],
   "source": [
    "!aws s3 cp s3://ucb-mids-mls-networks/undirected_toy.txt .\n",
    "!aws s3 cp s3://ucb-mids-mls-networks/directed_toy.txt ."
   ]
  },
  {
   "cell_type": "code",
   "execution_count": 38,
   "metadata": {
    "collapsed": false
   },
   "outputs": [
    {
     "name": "stdout",
     "output_type": "stream",
     "text": [
      "UnDirected\n",
      "\n",
      "1\t{'2': 1,'5': 1}\n",
      "2\t{'1': 1,'3': 1,'4': 1,'5': 1}\n",
      "3\t{'2': 1, '4': 1}\n",
      "4\t{'2': 1,'3': 1,'5': 1}\n",
      "5\t{'1': 1, '2': 1, '4': 1}\n",
      "\n",
      "Directed\n",
      "\n",
      "1\t{'2': 1, '6': 1}\n",
      "2\t{'1': 1, '3': 1, '4': 1}\n",
      "3\t{'2': 1, '4': 1}\n",
      "4\t{'2': 1, '5': 1}\n",
      "5\t{'1': 1, '2': 1, '4': 1}\n"
     ]
    }
   ],
   "source": [
    "!echo \"UnDirected\\n\"\n",
    "!head undirected_toy.txt\n",
    "!echo \"\\nDirected\\n\"\n",
    "!head directed_toy.txt"
   ]
  },
  {
   "cell_type": "markdown",
   "metadata": {},
   "source": [
    "## First Version: Distributed Shortest Path Algorithm using Map/Reduce\n",
    "___"
   ]
  },
  {
   "cell_type": "code",
   "execution_count": 51,
   "metadata": {
    "collapsed": false
   },
   "outputs": [
    {
     "name": "stdout",
     "output_type": "stream",
     "text": [
      "Overwriting mrjob_sp_hw70.py\n"
     ]
    }
   ],
   "source": [
    "%%writefile mrjob_sp_hw70.py\n",
    "from mrjob.job import MRJob\n",
    "from mrjob.step import MRStep\n",
    "from mrjob.compat import get_jobconf_value\n",
    "import sys\n",
    "import ast\n",
    "\n",
    "'''\n",
    "Record Emitted by Mapper/Reducer:\n",
    "Node <TAB> NULL|Neighbor Dict,Distance,Parent/Child,V|Q|U\n",
    "'''\n",
    "\n",
    "class ShortestPath(MRJob):\n",
    "    def steps(self):\n",
    "        return [\n",
    "            MRStep(mapper_init=self.mapper_init,\n",
    "                   mapper=self.mapper,\n",
    "                   reducer=self.reducer)\n",
    "        ]\n",
    "    \n",
    "    def val1(self,ngbr,dist,parent,child,state):\n",
    "        return '{0}|{1}|{2}/{3}|{4}'.format(ngbr,str(dist),parent,child,state)\n",
    "    \n",
    "    def val2(self,ngbr,dist,path,state):\n",
    "        return '{0}|{1}|{2}|{3}'.format(ngbr,str(dist),path,state)\n",
    "    \n",
    "    def mapper_init(self):\n",
    "        self.frontier_node = get_jobconf_value('frontier_node')\n",
    "        if not self.frontier_node:\n",
    "            # Save a list of visited nodes\n",
    "            self.visited = [s.strip() for s in \n",
    "                              open('visited.txt').readlines()]\n",
    "            open('visited.txt', 'w').close()\n",
    "            #sys.stderr.write('### Visited: {0}\\n'.format(self.visited))\n",
    "        #sys.stderr.write('### Frontier Node: {0}\\n'.format(self.frontier_node))\n",
    "\n",
    "    def mapper(self, _, line):\n",
    "        line = line.replace(\"\\\"\",\"\")\n",
    "        # Passed only to first iteration\n",
    "        t = line.strip().split('\\t')\n",
    "        node = t[0]\n",
    "        #sys.stderr.write('[M] {0}\\n'.format(line))\n",
    "        if self.frontier_node: # First frontier\n",
    "            neighbors = ast.literal_eval(t[1])    \n",
    "            if node == self.frontier_node:\n",
    "                # Mark Node as Visited\n",
    "                yield node, self.val1(neighbors,0,node,node,'V')\n",
    "                self.increment_counter('graph', 'nodes', amount=1)\n",
    "                \n",
    "                # Open/Emit Frontiers\n",
    "                for k,v in neighbors.iteritems():\n",
    "                    self.increment_counter('graph', 'frontiers', amount=1)\n",
    "                    self.increment_counter('graph', 'links', amount=1)\n",
    "                    yield k, self.val1('NULL',v,node,k,'Q')\n",
    "            else:\n",
    "                # Rest Passthrough\n",
    "                yield node, self.val1(neighbors,sys.maxint,'NULL','NULL','U')\n",
    "        else: # Not First\n",
    "            t1 = t[1].split(\"|\")\n",
    "            neighbors = {}\n",
    "            if t1[0] != 'NULL':\n",
    "                neighbors = ast.literal_eval(t1[0])\n",
    "            dist = t1[1]\n",
    "            path = t1[2]\n",
    "            status = t1[3]\n",
    "            if status == 'Q':\n",
    "                # Mark Node as Visited\n",
    "                yield node, self.val2(neighbors,dist,path,'V')\n",
    "                self.increment_counter('graph', 'nodes', amount=1)\n",
    "                self.visited.append(node)\n",
    "                \n",
    "                # Open/Emit Frontiers if NOT Visited\n",
    "                for k,v in neighbors.iteritems():\n",
    "                    if k not in self.visited:\n",
    "                        self.increment_counter('graph', 'frontiers', amount=1)\n",
    "                        self.increment_counter('graph', 'links', amount=1)\n",
    "                        yield k, self.val1('NULL', int(dist) + int(v), path, k,'Q')\n",
    "            else:\n",
    "                yield t[0], t[1] # Passthrough (Rest)\n",
    "            \n",
    "    def combiner(self, key, counts):\n",
    "        pass\n",
    "\n",
    "    def reducer(self, key, values):\n",
    "        '''\n",
    "        Passed to Reducer would be either of these combinations:\n",
    "        1. Visited and Frontiers (Merge based on distance)\n",
    "        2. Frontiers and Unvisited (Merge)\n",
    "        3. Unvisited\n",
    "        '''\n",
    "        vList = [value for value in values]\n",
    "        # Set min distance to integer max\n",
    "        min_dist = sys.maxint\n",
    "        \n",
    "        if len(vList) == 1:\n",
    "            yield key, vList[0]\n",
    "        else:\n",
    "            neighbors = None\n",
    "            dist = None\n",
    "            path = None\n",
    "            status = None\n",
    "            \n",
    "            for value in vList:\n",
    "                #sys.stderr.write('[R1] {0} : {1}\\n'.format(key,value))\n",
    "                t = value.split(\"|\")\n",
    "                #sys.stderr.write('[R2] D:{0},MD:{1}\\n'.format(dist,min_dist))\n",
    "\n",
    "                if int(t[1]) < min_dist:\n",
    "                    dist = t[1]\n",
    "                    path = t[2]\n",
    "                    status = t[3]\n",
    "                    min_dist = int(t[1])\n",
    "                    \n",
    "                if t[3] == 'V' or t[3] == 'U':\n",
    "                    neighbors = ast.literal_eval(t[0])\n",
    "                    \n",
    "                #sys.stderr.write('[R3] {0}\\n'.format(self.val2(neighbors,dist,path,status)))\n",
    "                \n",
    "            #sys.stderr.write('[R4] {0} # {1} \\n\\n'.format(key, self.val2(neighbors,dist,path,status)))\n",
    "            yield key, self.val2(neighbors,dist,path,status)    \n",
    "            \n",
    "    \n",
    "if __name__ == '__main__':\n",
    "    ShortestPath.run()"
   ]
  },
  {
   "cell_type": "code",
   "execution_count": 52,
   "metadata": {
    "collapsed": false
   },
   "outputs": [],
   "source": [
    "!chmod a+x mrjob_sp_hw70.py"
   ]
  },
  {
   "cell_type": "code",
   "execution_count": 54,
   "metadata": {
    "collapsed": false,
    "scrolled": true
   },
   "outputs": [
    {
     "name": "stdout",
     "output_type": "stream",
     "text": [
      "\n",
      "@@@@@ SHORTEST PATH ANALYSIS FOR: undirected_toy.txt\n",
      "\n",
      "iteration: 1:\n",
      "('1', \"{'2': 1, '5': 1}|0|1/1|V\")\n",
      "('2', \"{'1': 1, '3': 1, '5': 1, '4': 1}|1|1/2|Q\")\n",
      "('3', \"{'2': 1, '4': 1}|9223372036854775807|NULL/NULL|U\")\n",
      "('4', \"{'3': 1, '2': 1, '5': 1}|9223372036854775807|NULL/NULL|U\")\n",
      "('5', \"{'1': 1, '2': 1, '4': 1}|1|1/5|Q\")\n",
      "# Counters: [{'graph': {'nodes': 1, 'links': 2, 'frontiers': 2}}]\n",
      "iteration: 2:\n",
      "('1', \"{'2': 1, '5': 1}|0|1/1|V\")\n",
      "('2', \"{'1': 1, '3': 1, '5': 1, '4': 1}|1|1/2|V\")\n",
      "('3', \"{'2': 1, '4': 1}|2|1/2/3|Q\")\n",
      "('4', \"{'3': 1, '2': 1, '5': 1}|2|1/2/4|Q\")\n",
      "('5', \"{'1': 1, '2': 1, '4': 1}|1|1/5|V\")\n",
      "# Counters: [{'graph': {'nodes': 2, 'links': 4, 'frontiers': 4}}]\n",
      "iteration: 3:\n",
      "('1', \"{'2': 1, '5': 1}|0|1/1|V\")\n",
      "('2', \"{'1': 1, '3': 1, '5': 1, '4': 1}|1|1/2|V\")\n",
      "('3', \"{'2': 1, '4': 1}|2|1/2/3|V\")\n",
      "('4', \"{'3': 1, '2': 1, '5': 1}|2|1/2/4|V\")\n",
      "('5', \"{'1': 1, '2': 1, '4': 1}|1|1/5|V\")\n",
      "# Counters: [{'graph': {'nodes': 2, 'links': 1, 'frontiers': 1}}]\n",
      "iteration: 4:\n",
      "('1', \"{'2': 1, '5': 1}|0|1/1|V\")\n",
      "('2', \"{'1': 1, '3': 1, '5': 1, '4': 1}|1|1/2|V\")\n",
      "('3', \"{'2': 1, '4': 1}|2|1/2/3|V\")\n",
      "('4', \"{'3': 1, '2': 1, '5': 1}|2|1/2/4|V\")\n",
      "('5', \"{'1': 1, '2': 1, '4': 1}|1|1/5|V\")\n",
      "# Nodes: 5\n",
      "# Links: 7\n",
      "\n",
      "@@@@@ SHORTEST PATH ANALYSIS FOR: directed_toy.txt\n",
      "\n",
      "iteration: 1:\n",
      "('1', \"{'2': 1, '6': 1}|0|1/1|V\")\n",
      "('2', \"{'1': 1, '3': 1, '4': 1}|1|1/2|Q\")\n",
      "('3', \"{'2': 1, '4': 1}|9223372036854775807|NULL/NULL|U\")\n",
      "('4', \"{'2': 1, '5': 1}|9223372036854775807|NULL/NULL|U\")\n",
      "('5', \"{'1': 1, '2': 1, '4': 1}|9223372036854775807|NULL/NULL|U\")\n",
      "('6', 'NULL|1|1/6|Q')\n",
      "# Counters: [{'graph': {'nodes': 1, 'links': 2, 'frontiers': 2}}]\n",
      "iteration: 2:\n",
      "('1', \"{'2': 1, '6': 1}|0|1/1|V\")\n",
      "('2', \"{'1': 1, '3': 1, '4': 1}|1|1/2|V\")\n",
      "('3', \"{'2': 1, '4': 1}|2|1/2/3|Q\")\n",
      "('4', \"{'2': 1, '5': 1}|2|1/2/4|Q\")\n",
      "('5', \"{'1': 1, '2': 1, '4': 1}|9223372036854775807|NULL/NULL|U\")\n",
      "('6', '{}|1|1/6|V')\n",
      "# Counters: [{'graph': {'nodes': 2, 'links': 2, 'frontiers': 2}}]\n",
      "iteration: 3:\n",
      "('1', \"{'2': 1, '6': 1}|0|1/1|V\")\n",
      "('2', \"{'1': 1, '3': 1, '4': 1}|1|1/2|V\")\n",
      "('3', \"{'2': 1, '4': 1}|2|1/2/3|V\")\n",
      "('4', \"{'2': 1, '5': 1}|2|1/2/4|V\")\n",
      "('5', \"{'1': 1, '2': 1, '4': 1}|3|1/2/4/5|Q\")\n",
      "('6', '{}|1|1/6|V')\n",
      "# Counters: [{'graph': {'nodes': 2, 'links': 2, 'frontiers': 2}}]\n",
      "iteration: 4:\n",
      "('1', \"{'2': 1, '6': 1}|0|1/1|V\")\n",
      "('2', \"{'1': 1, '3': 1, '4': 1}|1|1/2|V\")\n",
      "('3', \"{'2': 1, '4': 1}|2|1/2/3|V\")\n",
      "('4', \"{'2': 1, '5': 1}|2|1/2/4|V\")\n",
      "('5', \"{'1': 1, '2': 1, '4': 1}|3|1/2/4/5|V\")\n",
      "('6', '{}|1|1/6|V')\n",
      "# Counters: [{'graph': {'nodes': 1}}]\n",
      "# Nodes: 6\n",
      "# Links: 6\n"
     ]
    }
   ],
   "source": [
    "%reload_ext autoreload\n",
    "%autoreload 2\n",
    "from mrjob_sp_hw70 import ShortestPath\n",
    "\n",
    "files = ['undirected_toy.txt', 'directed_toy.txt']\n",
    "\n",
    "for input_file in files:\n",
    "    print '\\n@@@@@ SHORTEST PATH ANALYSIS FOR: {0}\\n'.format(input_file)\n",
    "    \n",
    "    # Init\n",
    "    frontiers = 1\n",
    "    nodes = 0\n",
    "    links = 0\n",
    "    cnt = 0\n",
    "    \n",
    "    while frontiers and frontiers > 0:\n",
    "        print \"iteration: \" + str(cnt+1) + \":\"\n",
    "\n",
    "        mr_job = None\n",
    "        if cnt == 0: # First Iteration\n",
    "            mr_job = ShortestPath(args=[input_file,\n",
    "                                '--jobconf', 'frontier_node=1',\n",
    "                                '--no-strict-protocol'])\n",
    "        else:\n",
    "            mr_job = ShortestPath(args=[input_file + '1',\n",
    "                                '--file', 'visited.txt',\n",
    "                                '--no-strict-protocol'])\n",
    "\n",
    "        with mr_job.make_runner() as runner: \n",
    "            runner.run()\n",
    "            # stream_output: get access of the output \n",
    "            with open(input_file + '1','w') as f, open('visited.txt','w') as f1:\n",
    "                for line in runner.stream_output():\n",
    "                    parsed_line = mr_job.parse_output_line(line)\n",
    "                    print parsed_line\n",
    "                    if parsed_line[1].endswith('V'):\n",
    "                        f1.write(parsed_line[0] + '\\n')\n",
    "                    f.write(line)\n",
    "\n",
    "            if 'graph' in runner.counters()[0]:\n",
    "                print \"# Counters: {0}\".format(runner.counters())\n",
    "                frontiers = runner.counters()[0]['graph'].get('frontiers', 0)\n",
    "                nodes += runner.counters()[0]['graph'].get('nodes', 0)\n",
    "                links += runner.counters()[0]['graph'].get('links', 0)\n",
    "            else:\n",
    "                break;\n",
    "\n",
    "        cnt += 1\n",
    "    \n",
    "    print \"# Nodes: {0}\".format(nodes) \n",
    "    print \"# Links: {0}\".format(links) "
   ]
  },
  {
   "cell_type": "markdown",
   "metadata": {},
   "source": [
    "## Undirected Graph\n",
    "\n",
    "### Shortest Path: 1/2/4\n",
    "\n",
    "\n",
    "***('4', \"{'3': 1, '2': 1, '5': 1}|2|1/2/4|V\")***\n",
    "\n",
    "\n",
    "## Directed Graph\n",
    "\n",
    "### Shortest Path: 1/2/4/5\n",
    "\n",
    "***('5', \"{'1': 1, '2': 1, '4': 1}|3|1/2/4/5|V\")***"
   ]
  },
  {
   "cell_type": "markdown",
   "metadata": {},
   "source": [
    "## HW 7.0: Main Dataset\n",
    "---\n",
    "\n",
    "==Main dataset 1: NLTK synonyms==\n",
    "\n",
    "In the next part of this assignment you will explore a network derived from\n",
    "the NLTK synonym database used for evaluation in HW 5. At a high level, this\n",
    "network is undirected, defined so that there exists link between two nodes/words \n",
    "if the pair or words are a synonym. These data may be found at the location:\n",
    "\n",
    "s3://ucb-mids-mls-networks/synNet/synNet.txt\n",
    "s3://ucb-mids-mls-networks/synNet/indices.txt\n",
    "\n",
    "where synNet.txt contains a sparse representation of the network:\n",
    "\n",
    "(index) \\t (dictionary of links)\n",
    "\n",
    "in indexed form, and indices.txt contains a lookup list\n",
    "\n",
    "(word) \\t (index)\n",
    "\n",
    "of indices and words. This network is small enough for you to explore and run\n",
    "scripts locally, but will also be good for a systems test (for later) on AWS.\n",
    "\n",
    "In the dictionary, target nodes are keys, link weights are values \n",
    "(here, all weights are 1, i.e., the network is unweighted)."
   ]
  },
  {
   "cell_type": "code",
   "execution_count": null,
   "metadata": {
    "collapsed": false
   },
   "outputs": [],
   "source": [
    "!aws s3 cp s3://ucb-mids-mls-networks/synNet/synNet.txt .\n",
    "!aws s3 cp s3://ucb-mids-mls-networks/synNet/indices.txt ."
   ]
  },
  {
   "cell_type": "code",
   "execution_count": 32,
   "metadata": {
    "collapsed": false
   },
   "outputs": [
    {
     "name": "stdout",
     "output_type": "stream",
     "text": [
      "Graph\n",
      "\n",
      "1\t{'2': 1, '3': 1, '4': 1}\n",
      "2\t{'1': 1, '3': 1, '4': 1, '310': 1, '311': 1}\n",
      "3\t{'1': 1, '2': 1, '4': 1}\n",
      "4\t{'1': 1, '2': 1, '3': 1, '311': 1}\n",
      "5\t{'6': 1}\n",
      "    8271 synNet.txt\n",
      "\n",
      "Indices\n",
      "\n",
      "A\t1\n",
      "As\t2\n",
      "a\t3\n",
      "as\t4\n",
      "AB\t5\n",
      "    8271 indices.txt\n"
     ]
    }
   ],
   "source": [
    "!echo \"Graph\\n\"\n",
    "!head -n 5 synNet.txt\n",
    "!wc -l synNet.txt\n",
    "!echo \"\\nIndices\\n\"\n",
    "!head -n 5 indices.txt\n",
    "!wc -l indices.txt"
   ]
  },
  {
   "cell_type": "markdown",
   "metadata": {
    "collapsed": true
   },
   "source": [
    "## HW 7.1\n",
    "---\n",
    "\n",
    "Exploratory data analysis (NLTK synonyms)===\n",
    "\n",
    "Using MRJob, explore the synonyms network data.\n",
    "Consider plotting the degree distribution (does it follow a power law?),\n",
    "and determine some of the key features, like:\n",
    "\n",
    "number of nodes, \n",
    "number links,\n",
    "or the average degree (i.e., the average number of links per node),\n",
    "etc...\n",
    "\n",
    "As you develop your code, please be sure to run it locally first (though on the whole dataset). \n",
    "Once you have gotten you code to run locally, deploy it on AWS as a systems test\n",
    "in preparation for our next dataset (which will require AWS)."
   ]
  },
  {
   "cell_type": "code",
   "execution_count": 60,
   "metadata": {
    "collapsed": false
   },
   "outputs": [
    {
     "name": "stdout",
     "output_type": "stream",
     "text": [
      "Overwriting mrjob_sp_hw71.py\n"
     ]
    }
   ],
   "source": [
    "%%writefile mrjob_sp_hw71.py\n",
    "from mrjob.job import MRJob\n",
    "from mrjob.step import MRStep\n",
    "from mrjob.compat import get_jobconf_value\n",
    "import sys\n",
    "import ast\n",
    "\n",
    "class Graph_EDA(MRJob):\n",
    "    def steps(self):\n",
    "        return [\n",
    "            MRStep(mapper=self.mapper,\n",
    "                   combiner=self.combiner,\n",
    "                  reducer_init=self.reducer_init,\n",
    "                  reducer=self.reducer,\n",
    "                 reducer_final=self.reducer_final,\n",
    "                  jobconf={\n",
    "                            'mapred.output.key.comparator.class': 'org.apache.hadoop.mapred.lib.KeyFieldBasedComparator',\n",
    "                            'mapred.text.key.comparator.options': '-k1,1n',\n",
    "                            }\n",
    "                   )\n",
    "        ]\n",
    "    \n",
    "\n",
    "    def mapper(self, _, line):\n",
    "        line = line.replace(\"\\\"\",\"\")\n",
    "        # Passed only to first iteration\n",
    "        t = line.strip().split('\\t')\n",
    "        node = t[0]\n",
    "        neighbors = ast.literal_eval(t[1]) \n",
    "        self.increment_counter('graph', 'nodes', amount=1)\n",
    "        self.increment_counter('graph', 'links', amount=len(neighbors))\n",
    "        yield len(neighbors), node\n",
    "            \n",
    "    def combiner(self, key, values):\n",
    "        l = [v for v in values]\n",
    "        yield key,len(l)\n",
    "\n",
    "    def reducer_init(self):\n",
    "        self.max_link_bucket = 0\n",
    "        self.max_link_num_nodes = 0\n",
    "        self.min_link_bucket = 0\n",
    "        self.min_link_num_nodes = sys.maxint\n",
    "        \n",
    "    def reducer(self, key, values):\n",
    "        n_nodes = sum(values)\n",
    "        \n",
    "        if n_nodes > self.max_link_num_nodes:\n",
    "            self.max_link_bucket = key\n",
    "            self.max_link_num_nodes = n_nodes\n",
    "            \n",
    "        if n_nodes < self.min_link_num_nodes:\n",
    "            self.min_link_bucket = key\n",
    "            self.min_link_num_nodes = n_nodes\n",
    "        \n",
    "        self.increment_counter('graph', 'link_buckets', amount=1)\n",
    "        yield key,n_nodes\n",
    "        \n",
    "    def reducer_final(self):\n",
    "        c_min = '[MIN_NUM_NODES]{0}'.format(self.min_link_bucket)\n",
    "        self.increment_counter('graph', c_min, amount=self.min_link_num_nodes)\n",
    "        c_max = '[MAX_NUM_NODES]{0}'.format(self.max_link_bucket)\n",
    "        self.increment_counter('graph', c_max, amount=self.max_link_num_nodes)\n",
    "            \n",
    "    \n",
    "if __name__ == '__main__':\n",
    "    Graph_EDA.run()"
   ]
  },
  {
   "cell_type": "code",
   "execution_count": 61,
   "metadata": {
    "collapsed": false
   },
   "outputs": [],
   "source": [
    "!chmod a+x mrjob_sp_hw71.py"
   ]
  },
  {
   "cell_type": "code",
   "execution_count": 62,
   "metadata": {
    "collapsed": false
   },
   "outputs": [
    {
     "name": "stdout",
     "output_type": "stream",
     "text": [
      "# MR Counters:\n",
      "{'graph': {'[MAX_NUM_NODES]1': 1421,\n",
      "           '[MIN_NUM_NODES]117': 1,\n",
      "           'link_buckets': 83,\n",
      "           'links': 61134,\n",
      "           'nodes': 8271}}\n",
      "      83 synNet.txt2\r\n"
     ]
    }
   ],
   "source": [
    "%reload_ext autoreload\n",
    "%autoreload 2\n",
    "from mrjob_sp_hw71 import Graph_EDA\n",
    "import pprint\n",
    "\n",
    "input_file = 'synNet.txt'\n",
    "\n",
    "mr_job = Graph_EDA(args=[input_file,\n",
    "                        '--no-strict-protocol'])\n",
    "\n",
    "with mr_job.make_runner() as runner: \n",
    "    runner.run()\n",
    "    \n",
    "    with open(input_file + '2','w') as f:\n",
    "        for line in runner.stream_output():\n",
    "            #parsed_line = mr_job.parse_output_line(line)\n",
    "            #print parsed_line\n",
    "            f.write(line)\n",
    "\n",
    "    print \"# MR Counters:\"\n",
    "    pprint.pprint(runner.counters()[0])\n",
    "    \n",
    "!wc -l synNet.txt2"
   ]
  },
  {
   "cell_type": "code",
   "execution_count": 15,
   "metadata": {
    "collapsed": false
   },
   "outputs": [
    {
     "name": "stdout",
     "output_type": "stream",
     "text": [
      "1\t1421\r\n",
      "2\t1127\r\n",
      "3\t906\r\n",
      "4\t783\r\n",
      "5\t637\r\n",
      "6\t488\r\n",
      "7\t429\r\n",
      "8\t309\r\n",
      "9\t296\r\n",
      "10\t254\r\n"
     ]
    }
   ],
   "source": [
    "# Looks like Power Law (Graphed Later)\n",
    "!cat synNet.txt2 | sort -n -k1 | head -n 10"
   ]
  },
  {
   "cell_type": "code",
   "execution_count": 2,
   "metadata": {
    "collapsed": false
   },
   "outputs": [
    {
     "name": "stdout",
     "output_type": "stream",
     "text": [
      "iteration: 1:\n",
      "# Counters: [{'graph': {'nodes': 1, 'links': 3, 'frontiers': 3}}]\n",
      "iteration: 2:\n",
      "# Counters: [{'graph': {'nodes': 3, 'links': 6, 'frontiers': 6}}]\n",
      "iteration: 3:\n",
      "# Counters: [{'graph': {'nodes': 2, 'links': 13, 'frontiers': 13}}]\n",
      "iteration: 4:\n",
      "# Counters: [{'graph': {'nodes': 13, 'links': 170, 'frontiers': 170}}]\n",
      "iteration: 5:\n",
      "# Counters: [{'graph': {'nodes': 94, 'links': 985, 'frontiers': 985}}]\n",
      "iteration: 6:\n",
      "# Counters: [{'graph': {'nodes': 460, 'links': 4778, 'frontiers': 4778}}]\n",
      "iteration: 7:\n",
      "# Counters: [{'graph': {'nodes': 1601, 'links': 13329, 'frontiers': 13329}}]\n",
      "iteration: 8:\n",
      "# Counters: [{'graph': {'nodes': 2470, 'links': 7591, 'frontiers': 7591}}]\n",
      "iteration: 9:\n",
      "# Counters: [{'graph': {'nodes': 1298, 'links': 1721, 'frontiers': 1721}}]\n",
      "iteration: 10:\n",
      "# Counters: [{'graph': {'nodes': 422, 'links': 413, 'frontiers': 413}}]\n",
      "iteration: 11:\n",
      "# Counters: [{'graph': {'nodes': 159, 'links': 100, 'frontiers': 100}}]\n",
      "iteration: 12:\n",
      "# Counters: [{'graph': {'nodes': 20, 'links': 7, 'frontiers': 7}}]\n",
      "iteration: 13:\n",
      "# Counters: [{'graph': {'nodes': 2, 'links': 1, 'frontiers': 1}}]\n",
      "iteration: 14:\n",
      "# Counters: [{'graph': {'nodes': 1}}]\n",
      "# Nodes: 6546\n",
      "# Links: 29117\n"
     ]
    }
   ],
   "source": [
    "%reload_ext autoreload\n",
    "%autoreload 2\n",
    "from mrjob_sp_hw70 import ShortestPath\n",
    "\n",
    "input_file = 'synNet.txt'\n",
    "\n",
    "# Init\n",
    "frontiers = 1\n",
    "nodes = 0\n",
    "links = 0\n",
    "cnt = 0\n",
    "\n",
    "while frontiers and frontiers > 0:\n",
    "    print \"iteration: \" + str(cnt+1) + \":\"\n",
    "\n",
    "    mr_job = None\n",
    "    if cnt == 0: # First Iteration\n",
    "        mr_job = ShortestPath(args=[input_file,\n",
    "                            '--jobconf', 'frontier_node=1',\n",
    "                            '--no-strict-protocol'])\n",
    "    else:\n",
    "        mr_job = ShortestPath(args=[input_file + '1',\n",
    "                            '--file', 'visited.txt',\n",
    "                            '--no-strict-protocol'])\n",
    "\n",
    "    with mr_job.make_runner() as runner: \n",
    "        runner.run()\n",
    "        # stream_output: get access of the output \n",
    "        with open(input_file + '1','w') as f, open('visited.txt','w') as f1:\n",
    "            for line in runner.stream_output():\n",
    "                parsed_line = mr_job.parse_output_line(line)\n",
    "                #print parsed_line\n",
    "                if parsed_line[1].endswith('V'):\n",
    "                    f1.write(parsed_line[0] + '\\n')\n",
    "                f.write(line)\n",
    "\n",
    "        if 'graph' in runner.counters()[0]:\n",
    "            print \"# Counters: {0}\".format(runner.counters())\n",
    "            frontiers = runner.counters()[0]['graph'].get('frontiers', 0)\n",
    "            nodes += runner.counters()[0]['graph'].get('nodes', 0)\n",
    "            links += runner.counters()[0]['graph'].get('links', 0)\n",
    "        else:\n",
    "            break;\n",
    "\n",
    "    cnt += 1\n",
    "\n",
    "print \"# Nodes: {0}\".format(nodes) \n",
    "print \"# Links: {0}\".format(links)\n",
    "\n",
    "     "
   ]
  },
  {
   "cell_type": "markdown",
   "metadata": {},
   "source": [
    "## Results of EDA\n",
    "---\n",
    "\n",
    "* Total Number of Nodes: **8271**\n",
    "\n",
    "* Total Number of Links: **61134**\n",
    "\n",
    "* Max num of Nodes containing same num of Links (1): **1421 nodes have 1 Links.**\n",
    "\n",
    "* Min num of Nodes containing same num of Links (117): **1 node has 117 Links.** This is a tie. A lot of nodes have only 1 Link.\n",
    "\n",
    "* Total Number of Unique Links: $61134 / 2$ == **30567**\n",
    "\n",
    "* Number of Nodes reachable from Node \"1\": **6546**\n",
    "\n",
    "* Number of Links reachable from Node \"1\": **29117**\n",
    "\n",
    "```\n",
    "# MR Counters:\n",
    "{'graph': {'[MAX_NUM_NODES]1': 1421,\n",
    "           '[MIN_NUM_NODES]117': 1,\n",
    "           'link_buckets': 83,\n",
    "           'links': 61134,\n",
    "           'nodes': 8271}}\n",
    "```"
   ]
  },
  {
   "cell_type": "markdown",
   "metadata": {},
   "source": [
    "## Long Tail Distribution showing evidence of Power Law\n",
    "___"
   ]
  },
  {
   "cell_type": "code",
   "execution_count": 10,
   "metadata": {
    "collapsed": false
   },
   "outputs": [
    {
     "data": {
      "image/png": "[encoded data removed]",
      "text/plain": [
       "<matplotlib.figure.Figure at 0x112e09a10>"
      ]
     },
     "metadata": {},
     "output_type": "display_data"
    }
   ],
   "source": [
    "import ast, sys\n",
    "import numpy as np\n",
    "import matplotlib.pyplot as plt\n",
    "%matplotlib inline \n",
    "\n",
    "def hist_link_node(files, bins=None):\n",
    "    degrees = []\n",
    "    for file in files:\n",
    "        with open(file, 'r') as f:\n",
    "            for l in f:\n",
    "                t = l.split('\\t')\n",
    "                n_links = int(t[0])\n",
    "                n_nodes = int(t[1]) \n",
    "\n",
    "                for i in xrange(n_nodes):\n",
    "                    degrees.append(n_links)\n",
    "\n",
    "    plt.figure(figsize=(10,6))\n",
    "    plt.title('Histogram showing Number of Links & Nodes')\n",
    "    plt.xlabel('Number of Links')\n",
    "    plt.ylabel('Number of Nodes')\n",
    "    if not bins:\n",
    "        bins = range(min(degrees), max(degrees) + 2, 2)\n",
    "    plt.hist(degrees, bins=bins, facecolor='blue', alpha=0.75)\n",
    "    \n",
    "hist_link_node(['synNet.txt2'])"
   ]
  },
  {
   "cell_type": "markdown",
   "metadata": {},
   "source": [
    "## HW 7.3\n",
    "___\n",
    "\n",
    "```\n",
    "==Main dataset 2: English Wikipedia==\n",
    "\n",
    "For the remainder of this assignment you will explore the English Wikipedia hyperlink network.\n",
    "The dataset is built from the Sept. 2015 XML snapshot of English Wikipedia.\n",
    "For this directed network, a link between articles: \n",
    "\n",
    "A -> B\n",
    "\n",
    "is defined by the existence of a hyperlink in A pointing to B.\n",
    "This network also exists in the indexed format:\n",
    "\n",
    "Data: s3://ucb-mids-mls-networks/wikipedia/all-pages-indexed-out.txt\n",
    "Data: s3://ucb-mids-mls-networks/wikipedia/all-pages-indexed-in.txt\n",
    "Data: s3://ucb-mids-mls-networks/wikipedia/indices.txt\n",
    "\n",
    "but has an index with more detailed data:\n",
    "\n",
    "(article name) \\t (index) \\t (in degree) \\t (out degree)\n",
    "\n",
    "In the dictionary, target nodes are keys, link weights are values .\n",
    "Here, a weight indicates the number of time a page links to another.\n",
    "However, for the sake of this assignment, treat this an unweighted network,\n",
    "and set all weights to 1 upon data input.\n",
    "```"
   ]
  },
  {
   "cell_type": "code",
   "execution_count": 5,
   "metadata": {
    "collapsed": false
   },
   "outputs": [
    {
     "name": "stdout",
     "output_type": "stream",
     "text": [
      "download: s3://ucb-mids-mls-networks/wikipedia/all-pages-indexed-out.txt to ./all-pages-indexed-out.txt\n",
      "download: s3://ucb-mids-mls-networks/wikipedia/all-pages-indexed-in.txt to ./all-pages-indexed-in.txt\n",
      "download: s3://ucb-mids-mls-networks/wikipedia/indices.txt to ./indices.txt\n"
     ]
    }
   ],
   "source": [
    "!aws s3 cp s3://ucb-mids-mls-networks/wikipedia/all-pages-indexed-out.txt .\n",
    "!aws s3 cp s3://ucb-mids-mls-networks/wikipedia/all-pages-indexed-in.txt .\n",
    "!aws s3 cp s3://ucb-mids-mls-networks/wikipedia/indices.txt ."
   ]
  },
  {
   "cell_type": "code",
   "execution_count": 6,
   "metadata": {
    "collapsed": false
   },
   "outputs": [
    {
     "name": "stdout",
     "output_type": "stream",
     "text": [
      "73\t{'14417532': 1}\r\n",
      "299\t{'4214575': 1}\r\n",
      "2552\t{'15043376': 1, '13430968': 1, '13451035': 1, '7263397': 1, '13001625': 1, '13443575': 1, '13451269': 1, '13432316': 1, '11623371': 1, '15028971': 1, '13425865': 1, '15042703': 1, '5051368': 1, '9854998': 2, '13442976': 1, '13315025': 1, '2992307': 1, '1054486': 1, '1322325': 1, '13450983': 1}\r\n"
     ]
    }
   ],
   "source": [
    "!head -n 3 all-pages-indexed-out.txt"
   ]
  },
  {
   "cell_type": "code",
   "execution_count": 7,
   "metadata": {
    "collapsed": false
   },
   "outputs": [
    {
     "name": "stdout",
     "output_type": "stream",
     "text": [
      "90\t{'8430954': 2}\r\n",
      "212\t{'3351482': 1, '3635586': 1}\r\n",
      "332\t{'8996949': 1}\r\n"
     ]
    }
   ],
   "source": [
    "!head -n 3 all-pages-indexed-in.txt"
   ]
  },
  {
   "cell_type": "code",
   "execution_count": 8,
   "metadata": {
    "collapsed": false
   },
   "outputs": [
    {
     "name": "stdout",
     "output_type": "stream",
     "text": [
      "! $var = &quot;&quot;\t1\t1\t0\r\n",
      "! (CONFIG.SYS directive)\t2\t1\t1\r\n",
      "! (album)\t3\t12\t17\r\n"
     ]
    }
   ],
   "source": [
    "!head -n 3 indices.txt"
   ]
  },
  {
   "cell_type": "markdown",
   "metadata": {},
   "source": [
    "## HW  7.3\n",
    "___\n",
    "\n",
    "=== Exploratory data analysis (Wikipedia)===\n",
    "\n",
    "Using MRJob, explore the Wikipedia network data on the AWS cloud. Reuse your code from HW 7.1---does is scale well? \n",
    "Be cautioned that Wikipedia is a directed network, where links are not symmetric. \n",
    "So, even though a node may be linked to, it will not appear as a primary record itself if it has no out-links. \n",
    "This means that you may have to ADJUST your code (depending on its design). \n",
    "To be sure of your code's functionality in this context, run a systems test on the directed_toy.txt network."
   ]
  },
  {
   "cell_type": "code",
   "execution_count": 7,
   "metadata": {
    "collapsed": false
   },
   "outputs": [
    {
     "name": "stdout",
     "output_type": "stream",
     "text": [
      "using configs in /Users/ssatpati/.mrjob.conf\n",
      "using existing scratch bucket mrjob-5249db1e872328e3\n",
      "using s3://mrjob-5249db1e872328e3/tmp/ as our scratch dir on S3\n",
      "creating tmp directory /var/folders/h5/1q71m1c54cn07f16c232pqgm38ynd8/T/mrjob_sp_hw71.ssatpati.20151025.234505.465338\n",
      "writing master bootstrap script to /var/folders/h5/1q71m1c54cn07f16c232pqgm38ynd8/T/mrjob_sp_hw71.ssatpati.20151025.234505.465338/b.py\n",
      "Copying non-input files into s3://mrjob-5249db1e872328e3/tmp/mrjob_sp_hw71.ssatpati.20151025.234505.465338/files/\n",
      "Waiting 5.0s for S3 eventual consistency\n",
      "Creating Elastic MapReduce job flow\n",
      "Can't access IAM API, trying default instance profile: EMR_EC2_DefaultRole\n",
      "Can't access IAM API, trying default service role: EMR_DefaultRole\n",
      "Job flow created with ID: j-L30PGUBQBZLY\n",
      "Created new job flow j-L30PGUBQBZLY\n",
      "Job launched 30.3s ago, status STARTING: Provisioning Amazon EC2 capacity\n",
      "Job launched 61.0s ago, status STARTING: Provisioning Amazon EC2 capacity\n",
      "Job launched 91.2s ago, status STARTING: Provisioning Amazon EC2 capacity\n",
      "Job launched 121.9s ago, status STARTING: Provisioning Amazon EC2 capacity\n",
      "Job launched 152.2s ago, status STARTING: Configuring cluster software\n",
      "Job launched 182.9s ago, status STARTING: Configuring cluster software\n",
      "Job launched 213.2s ago, status BOOTSTRAPPING: Running bootstrap actions\n",
      "Job launched 243.9s ago, status RUNNING: Running step\n",
      "Job launched 274.1s ago, status RUNNING: Running step (mrjob_sp_hw71.ssatpati.20151025.234505.465338: Step 1 of 1)\n",
      "Job launched 304.9s ago, status RUNNING: Running step (mrjob_sp_hw71.ssatpati.20151025.234505.465338: Step 1 of 1)\n",
      "Job launched 335.2s ago, status RUNNING: Running step (mrjob_sp_hw71.ssatpati.20151025.234505.465338: Step 1 of 1)\n",
      "Job launched 365.9s ago, status RUNNING: Running step (mrjob_sp_hw71.ssatpati.20151025.234505.465338: Step 1 of 1)\n",
      "Job launched 396.2s ago, status RUNNING: Running step (mrjob_sp_hw71.ssatpati.20151025.234505.465338: Step 1 of 1)\n",
      "Job launched 426.9s ago, status RUNNING: Running step (mrjob_sp_hw71.ssatpati.20151025.234505.465338: Step 1 of 1)\n",
      "Job launched 459.2s ago, status RUNNING: Running step (mrjob_sp_hw71.ssatpati.20151025.234505.465338: Step 1 of 1)\n",
      "Job launched 489.6s ago, status RUNNING: Running step (mrjob_sp_hw71.ssatpati.20151025.234505.465338: Step 1 of 1)\n",
      "Job launched 519.9s ago, status RUNNING: Running step (mrjob_sp_hw71.ssatpati.20151025.234505.465338: Step 1 of 1)\n",
      "Job launched 550.6s ago, status RUNNING: Running step (mrjob_sp_hw71.ssatpati.20151025.234505.465338: Step 1 of 1)\n",
      "Job launched 580.9s ago, status RUNNING: Running step (mrjob_sp_hw71.ssatpati.20151025.234505.465338: Step 1 of 1)\n",
      "Job launched 611.6s ago, status RUNNING: Running step (mrjob_sp_hw71.ssatpati.20151025.234505.465338: Step 1 of 1)\n",
      "Job completed.\n",
      "Running time was 364.0s (not counting time spent waiting for the EC2 instances)\n",
      "ec2_key_pair_file not specified, going to S3\n",
      "Fetching counters from S3...\n",
      "Waiting 5.0s for S3 eventual consistency\n",
      "Counters from step 1:\n",
      "  File Input Format Counters :\n",
      "    Bytes Read: 2090922300\n",
      "  File Output Format Counters :\n",
      "    Bytes Written: 14755\n",
      "  FileSystemCounters:\n",
      "    FILE_BYTES_READ: 65323\n",
      "    FILE_BYTES_WRITTEN: 1313686\n",
      "    HDFS_BYTES_READ: 2816\n",
      "    S3_BYTES_READ: 2090922300\n",
      "    S3_BYTES_WRITTEN: 14755\n",
      "  Job Counters :\n",
      "    Launched map tasks: 34\n",
      "    Launched reduce tasks: 11\n",
      "    Rack-local map tasks: 34\n",
      "    SLOTS_MILLIS_MAPS: 3836866\n",
      "    SLOTS_MILLIS_REDUCES: 968449\n",
      "    Total time spent by all maps waiting after reserving slots (ms): 0\n",
      "    Total time spent by all reduces waiting after reserving slots (ms): 0\n",
      "  Map-Reduce Framework:\n",
      "    CPU time spent (ms): 2278930\n",
      "    Combine input records: 5781290\n",
      "    Combine output records: 22770\n",
      "    Map input bytes: 2090459616\n",
      "    Map input records: 5781290\n",
      "    Map output bytes: 74367743\n",
      "    Map output materialized bytes: 154789\n",
      "    Map output records: 5781290\n",
      "    Physical memory (bytes) snapshot: 16093413376\n",
      "    Reduce input groups: 2062\n",
      "    Reduce input records: 22770\n",
      "    Reduce output records: 2062\n",
      "    Reduce shuffle bytes: 154789\n",
      "    SPLIT_RAW_BYTES: 2816\n",
      "    Spilled Records: 45540\n",
      "    Total committed heap usage (bytes): 14953742336\n",
      "    Virtual memory (bytes) snapshot: 53039976448\n",
      "  graph:\n",
      "    [MAX_NUM_NODES]1: 869993\n",
      "    [MAX_NUM_NODES]11: 186724\n",
      "    [MAX_NUM_NODES]12: 178481\n",
      "    [MAX_NUM_NODES]13: 211048\n",
      "    [MAX_NUM_NODES]5: 191640\n",
      "    [MAX_NUM_NODES]6: 193050\n",
      "    [MAX_NUM_NODES]7: 201193\n",
      "    [MAX_NUM_NODES]8: 232863\n",
      "    [MIN_NUM_NODES]1044: 1\n",
      "    [MIN_NUM_NODES]1056: 1\n",
      "    [MIN_NUM_NODES]1062: 1\n",
      "    [MIN_NUM_NODES]1090: 1\n",
      "    [MIN_NUM_NODES]1302: 1\n",
      "    [MIN_NUM_NODES]884: 1\n",
      "    [MIN_NUM_NODES]964: 1\n",
      "    [MIN_NUM_NODES]982: 1\n",
      "    link_buckets: 2062\n",
      "    links: 142114057\n",
      "    nodes: 5781290\n",
      "removing tmp directory /var/folders/h5/1q71m1c54cn07f16c232pqgm38ynd8/T/mrjob_sp_hw71.ssatpati.20151025.234505.465338\n",
      "Removing all files in s3://mrjob-5249db1e872328e3/tmp/mrjob_sp_hw71.ssatpati.20151025.234505.465338/\n",
      "Removing all files in s3://mrjob-5249db1e872328e3/tmp/logs/j-L30PGUBQBZLY/\n",
      "Terminating job flow: j-L30PGUBQBZLY\n"
     ]
    }
   ],
   "source": [
    "!aws s3 rm --recursive s3://w261/hw73/output/\n",
    "!python mrjob_sp_hw71.py -r emr \\\n",
    " s3://w261/all-pages-indexed-out.txt \\\n",
    " --output-dir=s3://w261/hw73/output/ \\\n",
    " --no-output \\\n",
    " --no-strict-protocol"
   ]
  },
  {
   "cell_type": "code",
   "execution_count": 71,
   "metadata": {
    "collapsed": false
   },
   "outputs": [
    {
     "name": "stdout",
     "output_type": "stream",
     "text": [
      "2015-10-25 16:09:03          0 _SUCCESS\n",
      "2015-10-25 16:08:47       1851 part-00000\n",
      "2015-10-25 16:08:46       1925 part-00001\n",
      "2015-10-25 16:08:50       1724 part-00002\n",
      "2015-10-25 16:09:01       1852 part-00003\n",
      "2015-10-25 16:08:47       1817 part-00004\n",
      "2015-10-25 16:09:00       1805 part-00005\n",
      "2015-10-25 16:09:08       1896 part-00006\n",
      "2015-10-25 16:09:10       1885 part-00007\n",
      "download: s3://w261/hw73/output/_SUCCESS to ./_SUCCESS\n",
      "download: s3://w261/hw73/output/part-00004 to ./part-00004\n",
      "download: s3://w261/hw73/output/part-00002 to ./part-00002\n",
      "download: s3://w261/hw73/output/part-00006 to ./part-00006\n",
      "download: s3://w261/hw73/output/part-00000 to ./part-00000\n",
      "download: s3://w261/hw73/output/part-00003 to ./part-00003\n",
      "download: s3://w261/hw73/output/part-00005 to ./part-00005\n",
      "download: s3://w261/hw73/output/part-00007 to ./part-00007\n",
      "download: s3://w261/hw73/output/part-00001 to ./part-00001\n"
     ]
    }
   ],
   "source": [
    "!aws s3 ls s3://w261/hw73/output/\n",
    "!aws --recursive s3 cp s3://w261/hw73/output ."
   ]
  },
  {
   "cell_type": "code",
   "execution_count": 12,
   "metadata": {
    "collapsed": false
   },
   "outputs": [
    {
     "name": "stdout",
     "output_type": "stream",
     "text": [
      "['./part-00000', './part-00001', './part-00002', './part-00003', './part-00004', './part-00005', './part-00006', './part-00007']\n"
     ]
    },
    {
     "data": {
      "image/png": "[encoded data removed]",
      "text/plain": [
       "<matplotlib.figure.Figure at 0x111e0b2d0>"
      ]
     },
     "metadata": {},
     "output_type": "display_data"
    }
   ],
   "source": [
    "import glob\n",
    "files = [f for f in glob.glob('./part-*')]\n",
    "print files\n",
    "hist_link_node(files, bins=[10,20,30,40,50,100,200,300,400,500,1000,2000,10000])"
   ]
  },
  {
   "cell_type": "markdown",
   "metadata": {},
   "source": [
    "## HW  7.4\n",
    "___\n",
    "\n",
    "===Shortest path graph distances (Wikipedia)===\n",
    "\n",
    "Using MRJob, find shortest path graph distances in the Wikipedia network on the AWS cloud.\n",
    "Reuse your code from 7.2, but once again be warned of Wikipedia being a directed network.\n",
    "To be sure of your code's functionality in this context, run a systems test on the directed_toy.txt network.\n",
    "\n",
    "When running your code on the Wikipedia network, proof its function by running the job:\n",
    "\n",
    "- shortest path from \"Ireland\" (index=6176135) to \"University of California, Berkeley\" (index=13466359),\n",
    "\n",
    "and show your code's output.\n",
    "\n",
    "Once your code is running, find some other shortest paths and report your results."
   ]
  },
  {
   "cell_type": "markdown",
   "metadata": {},
   "source": [
    "## [Alternate Approach] Distributed Shortest Path Algorithm using Map/Reduce \n",
    "\n",
    "***Finds Shortest Path between Start & Stop Nodes. Stops whenever Stop Node is found the first time***\n",
    "\n",
    "***Relies on Job Counters for exchaning information between MRJob and Driver (No file transfer involved)***\n"
   ]
  },
  {
   "cell_type": "code",
   "execution_count": 1,
   "metadata": {
    "collapsed": false
   },
   "outputs": [
    {
     "name": "stdout",
     "output_type": "stream",
     "text": [
      "Overwriting mrjob_sp_hw74.py\n"
     ]
    }
   ],
   "source": [
    "%%writefile mrjob_sp_hw74.py\n",
    "from mrjob.job import MRJob\n",
    "from mrjob.step import MRStep\n",
    "from mrjob.compat import get_jobconf_value\n",
    "import sys\n",
    "import ast\n",
    "\n",
    "'''\n",
    "Record Emitted by Mapper/Reducer:\n",
    "Node <TAB> NULL|Neighbor Dict,Distance,Parent/Child,V|Q|U\n",
    "'''\n",
    "\n",
    "class ShortestPath_AWS(MRJob):\n",
    "    def steps(self):\n",
    "        return [\n",
    "            MRStep(mapper_init=self.mapper_init,\n",
    "                   mapper=self.mapper,\n",
    "                   reducer=self.reducer)\n",
    "        ]\n",
    "    \n",
    "    def val1(self,ngbr,dist,parent,child,state):\n",
    "        return '{0}|{1}|{2}/{3}|{4}'.format(ngbr,str(dist),parent,child,state)\n",
    "    \n",
    "    def val2(self,ngbr,dist,path,state):\n",
    "        return '{0}|{1}|{2}|{3}'.format(ngbr,str(dist),path,state)\n",
    "    \n",
    "    def mapper_init(self):\n",
    "        self.start_node = get_jobconf_value('start_node')\n",
    "        self.stop_node = get_jobconf_value('stop_node')\n",
    "        sys.stderr.write('### Start/Frontier Node: {0}\\n'.format(self.start_node))\n",
    "        sys.stderr.write('### Stop: {0}\\n'.format(self.stop_node))\n",
    "\n",
    "    def mapper(self, _, line):\n",
    "        line = line.replace(\"\\\"\",\"\")\n",
    "        # Passed only to first iteration\n",
    "        t = line.strip().split('\\t')\n",
    "        node = t[0]\n",
    "        #sys.stderr.write('[M] {0}\\n'.format(line))\n",
    "        if self.start_node: # First frontier\n",
    "            neighbors = ast.literal_eval(t[1])    \n",
    "            if node == self.start_node:\n",
    "                # Mark Node as Visited\n",
    "                yield node, self.val1(neighbors,0,node,node,'V')\n",
    "                self.increment_counter('graph', 'nodes', amount=1)\n",
    "                \n",
    "                # Open/Emit Frontiers\n",
    "                for k,v in neighbors.iteritems():\n",
    "                    self.increment_counter('graph', 'frontiers', amount=1)\n",
    "                    yield k, self.val1('NULL',v,node,k,'Q')\n",
    "            else:\n",
    "                # Rest Passthrough\n",
    "                yield node, self.val1(neighbors,sys.maxint,'NULL','NULL','U')\n",
    "        else: # Not First\n",
    "            t1 = t[1].split(\"|\")\n",
    "            neighbors = {}\n",
    "            if t1[0] != 'NULL':\n",
    "                neighbors = ast.literal_eval(t1[0])\n",
    "            dist = t1[1]\n",
    "            path = t1[2]\n",
    "            status = t1[3]\n",
    "            if status == 'Q':\n",
    "                # Mark Node as Visited\n",
    "                yield node, self.val2(neighbors,dist,path,'V')\n",
    "                self.increment_counter('graph', 'nodes', amount=1)\n",
    "                \n",
    "                # Signal Driver to Stop Processing anymore\n",
    "                if node == self.stop_node:\n",
    "                    self.increment_counter('graph', 'action_stop', amount=1)\n",
    "                \n",
    "                if neighbors and len(neighbors) > 0:\n",
    "                    # Open/Emit Frontiers if NOT Visited\n",
    "                    for k,v in neighbors.iteritems():\n",
    "                        self.increment_counter('graph', 'frontiers', amount=1)\n",
    "                        yield k, self.val1('NULL', int(dist) + int(v), path, k,'Q')\n",
    "            else:\n",
    "                yield t[0], t[1] # Passthrough (Rest)\n",
    "            \n",
    "    def combiner(self, key, counts):\n",
    "        pass\n",
    "\n",
    "    def reducer(self, key, values):\n",
    "        '''\n",
    "        Passed to Reducer would be either of these combinations:\n",
    "        1. Visited and Frontiers (Merge based on distance)\n",
    "        2. Frontiers and Unvisited (Merge)\n",
    "        3. Unvisited\n",
    "        '''\n",
    "        vList = [value for value in values]\n",
    "        # Set min distance to integer max\n",
    "        min_dist = sys.maxint\n",
    "        \n",
    "        if len(vList) == 1:\n",
    "            yield key, vList[0]\n",
    "        else:\n",
    "            neighbors = None\n",
    "            dist = None\n",
    "            path = None\n",
    "            status = None\n",
    "            \n",
    "            for value in vList:\n",
    "                #sys.stderr.write('[R1] {0} : {1}\\n'.format(key,value))\n",
    "                t = value.split(\"|\")\n",
    "                #sys.stderr.write('[R2] D:{0},MD:{1}\\n'.format(dist,min_dist))\n",
    "\n",
    "                if int(t[1]) < min_dist:\n",
    "                    dist = t[1]\n",
    "                    path = t[2]\n",
    "                    status = t[3]\n",
    "                    min_dist = int(t[1])\n",
    "                    \n",
    "                if t[3] == 'V' or t[3] == 'U':\n",
    "                    neighbors = ast.literal_eval(t[0])\n",
    "                    \n",
    "                #sys.stderr.write('[R3] {0}\\n'.format(self.val2(neighbors,dist,path,status)))\n",
    "                \n",
    "            #sys.stderr.write('[R4] {0} # {1} \\n\\n'.format(key, self.val2(neighbors,dist,path,status)))\n",
    "            yield key, self.val2(neighbors,dist,path,status)    \n",
    "            \n",
    "    \n",
    "if __name__ == '__main__':\n",
    "    ShortestPath_AWS.run()"
   ]
  },
  {
   "cell_type": "code",
   "execution_count": 2,
   "metadata": {
    "collapsed": true
   },
   "outputs": [],
   "source": [
    "!chmod a+x mrjob_sp_hw74.py"
   ]
  },
  {
   "cell_type": "markdown",
   "metadata": {},
   "source": [
    "### Test on AWS: Using the Directed Toy Dataset"
   ]
  },
  {
   "cell_type": "code",
   "execution_count": 11,
   "metadata": {
    "collapsed": false
   },
   "outputs": [
    {
     "name": "stdout",
     "output_type": "stream",
     "text": [
      "delete: s3://w261/hw74/output/0/part-00000\n",
      "delete: s3://w261/hw74/output/0/_SUCCESS         \n"
     ]
    },
    {
     "name": "stderr",
     "output_type": "stream",
     "text": [
      "WARNING:mrjob.util:hash_object() is deprecated and will be removed in v0.5\n"
     ]
    },
    {
     "name": "stdout",
     "output_type": "stream",
     "text": [
      "iteration: 1:\n",
      "Output Dir: s3://w261/hw74/output/0\n",
      "('1', \"{'2': 1, '5': 1}|0|1/1|V\")\n",
      "('2', \"{'1': 1, '3': 1, '5': 1, '4': 1}|1|1/2|Q\")\n",
      "('3', \"{'2': 1, '4': 1}|9223372036854775807|NULL/NULL|U\")\n",
      "('4', \"{'3': 1, '2': 1, '5': 1}|9223372036854775807|NULL/NULL|U\")\n",
      "('5', \"{'1': 1, '2': 1, '4': 1}|1|1/5|Q\")\n",
      "Job Flow Id: j-5L8FHDPTKLNV\n",
      "[{'frontiers': '2', 'links': '2', 'nodes': '1'},\n",
      " {'frontiers': '7', 'links': '7', 'nodes': '2'},\n",
      " {'action_stop': '1', 'frontiers': '5', 'links': '5', 'nodes': '2'},\n",
      " {'frontiers': '2', 'links': '2', 'nodes': '1'},\n",
      " {'frontiers': '2', 'links': '2', 'nodes': '1'}]\n",
      "iteration: 2:"
     ]
    },
    {
     "name": "stderr",
     "output_type": "stream",
     "text": [
      "WARNING:mrjob.util:hash_object() is deprecated and will be removed in v0.5\n"
     ]
    },
    {
     "name": "stdout",
     "output_type": "stream",
     "text": [
      "\n",
      "Output Dir: s3://w261/hw74/output/1\n",
      "('1', \"{'2': 1, '5': 1}|0|1/1|V\")\n",
      "('2', \"{'1': 1, '3': 1, '5': 1, '4': 1}|1|1/2|V\")\n",
      "('3', \"{'2': 1, '4': 1}|2|1/2/3|Q\")\n",
      "('4', \"{'3': 1, '2': 1, '5': 1}|2|1/2/4|Q\")\n",
      "('5', \"{'1': 1, '2': 1, '4': 1}|1|1/5|V\")\n",
      "Job Flow Id: j-5L8FHDPTKLNV\n",
      "[{'frontiers': '2', 'links': '2', 'nodes': '1'},\n",
      " {'frontiers': '7', 'links': '7', 'nodes': '2'},\n",
      " {'action_stop': '1', 'frontiers': '5', 'links': '5', 'nodes': '2'},\n",
      " {'frontiers': '2', 'links': '2', 'nodes': '1'},\n",
      " {'frontiers': '2', 'links': '2', 'nodes': '1'},\n",
      " {'frontiers': '7', 'links': '7', 'nodes': '2'}]\n",
      "iteration: 3:"
     ]
    },
    {
     "name": "stderr",
     "output_type": "stream",
     "text": [
      "WARNING:mrjob.util:hash_object() is deprecated and will be removed in v0.5\n"
     ]
    },
    {
     "name": "stdout",
     "output_type": "stream",
     "text": [
      "\n",
      "Output Dir: s3://w261/hw74/output/2\n",
      "('1', \"{'2': 1, '5': 1}|0|1/1|V\")\n",
      "('2', \"{'1': 1, '3': 1, '5': 1, '4': 1}|1|1/2|V\")\n",
      "('3', \"{'2': 1, '4': 1}|2|1/2/3|V\")\n",
      "('4', \"{'3': 1, '2': 1, '5': 1}|2|1/2/4|V\")\n",
      "('5', \"{'1': 1, '2': 1, '4': 1}|1|1/5|V\")\n",
      "Job Flow Id: j-5L8FHDPTKLNV\n",
      "[{'frontiers': '2', 'links': '2', 'nodes': '1'},\n",
      " {'frontiers': '7', 'links': '7', 'nodes': '2'},\n",
      " {'action_stop': '1', 'frontiers': '5', 'links': '5', 'nodes': '2'},\n",
      " {'frontiers': '2', 'links': '2', 'nodes': '1'},\n",
      " {'frontiers': '2', 'links': '2', 'nodes': '1'},\n",
      " {'frontiers': '7', 'links': '7', 'nodes': '2'},\n",
      " {'action_stop': '1', 'frontiers': '5', 'links': '5', 'nodes': '2'}]\n",
      "\n",
      "@@@@@ Shortest Path Found between Nodes: 1 and 4, Aborting!!!\n",
      "download: s3://w261/hw74/output/2/_SUCCESS to distance/_SUCCESS\n",
      "download: s3://w261/hw74/output/2/part-00000 to distance/part-00000\n",
      "distance/part-00000:\"4\"\t\"{'3': 1, '2': 1, '5': 1}|2|1/2/4|V\"\n"
     ]
    }
   ],
   "source": [
    "%reload_ext autoreload\n",
    "%autoreload 2\n",
    "from mrjob_sp_hw74 import ShortestPath_AWS\n",
    "import pprint\n",
    "import time\n",
    "\n",
    "# Delete Existing Output\n",
    "!aws s3 rm --recursive s3://w261/hw74/output/\n",
    "    \n",
    "# Init\n",
    "cnt = 0\n",
    "start_node = 1\n",
    "stop_node = 4\n",
    "\n",
    "while True:\n",
    "    print \"iteration: \" + str(cnt+1) + \":\"\n",
    "    \n",
    "    out_dir = 's3://w261/hw74/output/{0}'.format(cnt)\n",
    "    print 'Output Dir: {0}'.format(out_dir)\n",
    "\n",
    "    mr_job = None\n",
    "    if cnt == 0: # First Iteration\n",
    "        mr_job = ShortestPath_AWS(args=['-r', 'emr', 's3://w261/undirected_toy.txt',\n",
    "                            '--jobconf', 'start_node={0}'.format(start_node),\n",
    "                            '--output-dir', out_dir,\n",
    "                            '--no-strict-protocol',\n",
    "                            '--pool-emr-job-flows', \n",
    "                            '--max-hours-idle', '1',\n",
    "                            '--pool-name', 'ShortestDistance'])\n",
    "    else: # Subsequent Iterations\n",
    "        mr_job = ShortestPath_AWS(args=['-r', 'emr', 's3://w261/hw74/output/{0}/'.format(cnt-1),\n",
    "                            '--jobconf', 'stop_node={0}'.format(stop_node),\n",
    "                            '--output-dir', out_dir,\n",
    "                            '--no-strict-protocol',\n",
    "                            '--pool-emr-job-flows',\n",
    "                            '--max-hours-idle', '1',\n",
    "                            '--pool-name', 'ShortestDistance'])\n",
    "        \n",
    "    cnt += 1\n",
    "\n",
    "    with mr_job.make_runner() as runner: \n",
    "        runner.run()\n",
    "        # stream_output: get access of the output \n",
    "        for line in runner.stream_output():\n",
    "            print mr_job.parse_output_line(line)\n",
    "        \n",
    "        jf = runner.get_emr_job_flow_id()\n",
    "        print \"Job Flow Id: {0}\".format(jf)\n",
    "        \n",
    "        time.sleep(10)\n",
    "        \n",
    "        # Get the Job Counters (MRJOB Bug: Programmatic Way Doesn't Work)\n",
    "        !rm -f $jf\n",
    "        !python -m mrjob.tools.emr.fetch_logs --counters $jf > $jf 2>&1\n",
    "        \n",
    "        \n",
    "        frontiers = []\n",
    "        action_stop = []\n",
    "\n",
    "        graph = []\n",
    "        marker = False\n",
    "        d = {}\n",
    "        with open(jf) as f:\n",
    "            for l in f:\n",
    "                l = l.strip()\n",
    "\n",
    "                if l.startswith('Counters from step'):\n",
    "                    marker = False\n",
    "                    if len(d) > 0:\n",
    "                        graph.append(d.copy())\n",
    "                    d.clear()\n",
    "                if l.startswith('graph'):\n",
    "                    marker = True\n",
    "                    continue\n",
    "\n",
    "                if marker:\n",
    "                    t = l.split(':')\n",
    "                    d[t[0].strip()] = t[1].strip()\n",
    "\n",
    "\n",
    "        pprint.pprint(graph)\n",
    "        \n",
    "        if len(graph) == 0:\n",
    "            break\n",
    "            \n",
    "        if graph[-1].get('action_stop', '0') == '1':\n",
    "            print(\"\\n@@@@@ Shortest Path Found between Nodes: {0} and {1}, Aborting!!!\".format(start_node, stop_node))\n",
    "            !rm -rf ./distance;mkdir distance;\n",
    "            !aws s3 cp --recursive $out_dir distance\n",
    "            !grep -r \\\"$stop_node\\\" distance\n",
    "            break\n",
    "            \n",
    "        if graph[-1].get('frontiers', 0) == 0:\n",
    "            print('\\n@@@@@ No more frontiers to explore, Aborting!!!')\n",
    "            break\n",
    "    \n",
    "    \n"
   ]
  },
  {
   "cell_type": "markdown",
   "metadata": {},
   "source": [
    "### =========== Running on AWS on the Wikipedia Dataset =========== \n",
    "\n",
    "* MRJob has a bug: runner.counters() doesn't work for job flows that are re-used; it kept getting the counters from 1st run. To mitigate this error,  ***python -m mrjob.tools.emr.fetch_logs --counters ${JOB_FLOW_ID}*** has been used. This brings back all the counters, so some extra bit of processing is required to find the last one."
   ]
  },
  {
   "cell_type": "code",
   "execution_count": 4,
   "metadata": {
    "collapsed": false
   },
   "outputs": [
    {
     "name": "stdout",
     "output_type": "stream",
     "text": [
      "delete: s3://w261/hw74/output/0/_SUCCESS\n",
      "delete: s3://w261/hw74/output/0/part-00009    \n",
      "delete: s3://w261/hw74/output/0/part-00010         \n",
      "delete: s3://w261/hw74/output/0/part-00000         \n",
      "delete: s3://w261/hw74/output/0/part-00005         \n",
      "delete: s3://w261/hw74/output/0/part-00002         \n",
      "delete: s3://w261/hw74/output/0/part-00006         \n",
      "delete: s3://w261/hw74/output/0/part-00007         \n",
      "delete: s3://w261/hw74/output/0/part-00001         \n",
      "delete: s3://w261/hw74/output/0/part-00008         \n",
      "delete: s3://w261/hw74/output/0/part-00004          \n",
      "delete: s3://w261/hw74/output/0/part-00003          \n",
      "delete: s3://w261/hw74/output/0/part-00012          \n",
      "delete: s3://w261/hw74/output/0/part-00011          \n",
      "delete: s3://w261/hw74/output/0/part-00014          \n",
      "delete: s3://w261/hw74/output/0/part-00013          \n",
      "delete: s3://w261/hw74/output/0/part-00015          \n",
      "delete: s3://w261/hw74/output/0/part-00016          \n",
      "delete: s3://w261/hw74/output/0/part-00017          \n",
      "delete: s3://w261/hw74/output/0/part-00018          \n",
      "delete: s3://w261/hw74/output/0/part-00019          \n",
      "delete: s3://w261/hw74/output/0/part-00021          \n",
      "delete: s3://w261/hw74/output/0/part-00020          \n",
      "delete: s3://w261/hw74/output/0/part-00022          \n",
      "delete: s3://w261/hw74/output/0/part-00023          \n",
      "delete: s3://w261/hw74/output/0/part-00024          \n",
      "delete: s3://w261/hw74/output/0/part-00025          \n",
      "delete: s3://w261/hw74/output/0/part-00026          \n",
      "delete: s3://w261/hw74/output/0/part-00028          \n",
      "delete: s3://w261/hw74/output/0/part-00029          \n",
      "delete: s3://w261/hw74/output/0/part-00030          \n",
      "delete: s3://w261/hw74/output/0/part-00032          \n",
      "delete: s3://w261/hw74/output/0/part-00031          \n",
      "delete: s3://w261/hw74/output/0/part-00027          \n",
      "delete: s3://w261/hw74/output/0/part-00033          \n",
      "delete: s3://w261/hw74/output/0/part-00034          \n",
      "delete: s3://w261/hw74/output/1/_SUCCESS            \n",
      "delete: s3://w261/hw74/output/1/part-00000          \n",
      "delete: s3://w261/hw74/output/1/part-00001          \n",
      "delete: s3://w261/hw74/output/1/part-00002          \n",
      "delete: s3://w261/hw74/output/1/part-00004          \n",
      "delete: s3://w261/hw74/output/1/part-00003          \n",
      "delete: s3://w261/hw74/output/1/part-00008          \n",
      "delete: s3://w261/hw74/output/1/part-00006          \n",
      "delete: s3://w261/hw74/output/1/part-00007          \n",
      "delete: s3://w261/hw74/output/1/part-00009          \n",
      "delete: s3://w261/hw74/output/1/part-00005          \n",
      "delete: s3://w261/hw74/output/1/part-00010          \n",
      "delete: s3://w261/hw74/output/1/part-00011          \n",
      "delete: s3://w261/hw74/output/1/part-00012          \n",
      "delete: s3://w261/hw74/output/1/part-00014          \n",
      "delete: s3://w261/hw74/output/1/part-00016          \n",
      "delete: s3://w261/hw74/output/1/part-00013          \n",
      "delete: s3://w261/hw74/output/1/part-00015          \n",
      "delete: s3://w261/hw74/output/1/part-00017          \n",
      "delete: s3://w261/hw74/output/1/part-00019          \n",
      "delete: s3://w261/hw74/output/1/part-00020          \n",
      "delete: s3://w261/hw74/output/1/part-00018          \n",
      "delete: s3://w261/hw74/output/1/part-00021          \n",
      "delete: s3://w261/hw74/output/1/part-00022          \n",
      "delete: s3://w261/hw74/output/1/part-00023          \n",
      "delete: s3://w261/hw74/output/1/part-00025          \n",
      "delete: s3://w261/hw74/output/1/part-00024          \n",
      "delete: s3://w261/hw74/output/1/part-00026         \n",
      "delete: s3://w261/hw74/output/1/part-00027         \n",
      "delete: s3://w261/hw74/output/1/part-00029         \n",
      "delete: s3://w261/hw74/output/1/part-00028         \n",
      "delete: s3://w261/hw74/output/1/part-00030         \n",
      "delete: s3://w261/hw74/output/1/part-00032         \n",
      "delete: s3://w261/hw74/output/1/part-00033         \n",
      "delete: s3://w261/hw74/output/1/part-00031         \n",
      "delete: s3://w261/hw74/output/1/part-00034         \n"
     ]
    },
    {
     "name": "stderr",
     "output_type": "stream",
     "text": [
      "WARNING:mrjob.util:hash_object() is deprecated and will be removed in v0.5\n",
      "WARNING:mrjob.util:hash_object() is deprecated and will be removed in v0.5\n"
     ]
    },
    {
     "name": "stdout",
     "output_type": "stream",
     "text": [
      "iteration: 1:\n",
      "Output Dir: s3://w261/hw74/output/0\n",
      "Job Flow Id: j-30KGFUMIJKI0H\n",
      "[{'frontiers': '925', 'nodes': '1'}]\n",
      "iteration: 2:"
     ]
    },
    {
     "name": "stderr",
     "output_type": "stream",
     "text": [
      "WARNING:mrjob.util:hash_object() is deprecated and will be removed in v0.5\n"
     ]
    },
    {
     "name": "stdout",
     "output_type": "stream",
     "text": [
      "\n",
      "Output Dir: s3://w261/hw74/output/1\n",
      "Job Flow Id: j-30KGFUMIJKI0H\n",
      "[{'frontiers': '925', 'nodes': '1'}, {'frontiers': '112757', 'nodes': '925'}]\n",
      "iteration: 3:"
     ]
    },
    {
     "name": "stderr",
     "output_type": "stream",
     "text": [
      "WARNING:mrjob.util:hash_object() is deprecated and will be removed in v0.5\n"
     ]
    },
    {
     "name": "stdout",
     "output_type": "stream",
     "text": [
      "\n",
      "Output Dir: s3://w261/hw74/output/2\n",
      "Job Flow Id: j-30KGFUMIJKI0H\n",
      "[{'frontiers': '925', 'nodes': '1'},\n",
      " {'frontiers': '112757', 'nodes': '925'},\n",
      " {'action_stop': '1', 'frontiers': '4408799', 'nodes': '66152'}]\n",
      "\n",
      "@@@@@ Shortest Path Found between Nodes: 6176135 and 13466359, Aborting!!!\n",
      "download: s3://w261/hw74/output/2/_SUCCESS to distance/_SUCCESS\n",
      "download: s3://w261/hw74/output/2/part-00000 to distance/part-00000\n",
      "download: s3://w261/hw74/output/2/part-00001 to distance/part-00001\n",
      "download: s3://w261/hw74/output/2/part-00002 to distance/part-00002\n",
      "download: s3://w261/hw74/output/2/part-00003 to distance/part-00003\n",
      "download: s3://w261/hw74/output/2/part-00004 to distance/part-00004\n",
      "download: s3://w261/hw74/output/2/part-00005 to distance/part-00005\n",
      "download: s3://w261/hw74/output/2/part-00006 to distance/part-00006\n",
      "download: s3://w261/hw74/output/2/part-00007 to distance/part-00007\n",
      "download: s3://w261/hw74/output/2/part-00008 to distance/part-00008\n",
      "download: s3://w261/hw74/output/2/part-00010 to distance/part-00010\n",
      "download: s3://w261/hw74/output/2/part-00009 to distance/part-00009\n",
      "download: s3://w261/hw74/output/2/part-00011 to distance/part-00011\n",
      "download: s3://w261/hw74/output/2/part-00012 to distance/part-00012\n",
      "download: s3://w261/hw74/output/2/part-00013 to distance/part-00013\n",
      "download: s3://w261/hw74/output/2/part-00014 to distance/part-00014\n",
      "download: s3://w261/hw74/output/2/part-00015 to distance/part-00015\n",
      "download: s3://w261/hw74/output/2/part-00016 to distance/part-00016\n",
      "download: s3://w261/hw74/output/2/part-00017 to distance/part-00017\n",
      "download: s3://w261/hw74/output/2/part-00018 to distance/part-00018\n",
      "download: s3://w261/hw74/output/2/part-00019 to distance/part-00019\n",
      "download: s3://w261/hw74/output/2/part-00020 to distance/part-00020\n",
      "download: s3://w261/hw74/output/2/part-00021 to distance/part-00021\n",
      "download: s3://w261/hw74/output/2/part-00022 to distance/part-00022\n",
      "download: s3://w261/hw74/output/2/part-00023 to distance/part-00023\n",
      "download: s3://w261/hw74/output/2/part-00024 to distance/part-00024\n",
      "download: s3://w261/hw74/output/2/part-00025 to distance/part-00025\n",
      "download: s3://w261/hw74/output/2/part-00026 to distance/part-00026\n",
      "download: s3://w261/hw74/output/2/part-00027 to distance/part-00027\n",
      "download: s3://w261/hw74/output/2/part-00028 to distance/part-00028\n",
      "download: s3://w261/hw74/output/2/part-00029 to distance/part-00029\n",
      "download: s3://w261/hw74/output/2/part-00030 to distance/part-00030\n",
      "download: s3://w261/hw74/output/2/part-00031 to distance/part-00031\n",
      "download: s3://w261/hw74/output/2/part-00032 to distance/part-00032\n",
      "download: s3://w261/hw74/output/2/part-00033 to distance/part-00033\n",
      "download: s3://w261/hw74/output/2/part-00034 to distance/part-00034\n",
      "distance/part-00005:\"13466359\"\t\"{'8757918': 1, '12406767': 1, '8580292': 1, '1287922': 2, '12668025': 1, '8740403': 1, '6351341': 1, '6147218': 1, '3186265': 1, '8530126': 1, '14597737': 2, '3677524': 1, '661539': 1, '13330597': 1, '5196071': 3, '3760817': 1, '14381260': 1, '10706921': 1, '13521772': 1, '12311728': 2, '9276255': 1, '13466349': 1, '13466348': 1, '6438294': 1, '12406919': 1, '12275315': 2, '3084832': 1, '10613342': 1, '11067962': 2, '2211195': 1, '8493875': 1, '12937975': 1, '5171177': 1, '8732893': 1, '5880341': 1, '1371976': 1, '1862095': 2, '14559180': 1, '8170858': 1, '8192110': 1, '10467871': 1, '9016578': 1, '1165910': 1, '476627': 1, '1059528': 1, '2546997': 1, '9252396': 1, '11218294': 1, '2933827': 1, '14484387': 1, '6173264': 1, '11218291': 1, '7337965': 1, '13396427': 1, '10658893': 1, '10494422': 1, '12720200': 1, '10706990': 1, '13782957': 1, '4766560': 1, '11405912': 1, '311890': 1, '1184382': 1, '3257376': 1, '5588769': 1, '5248062': 2, '4987976': 1, '12408195': 1, '11075669': 1, '5217038': 1, '661288': 1, '7848497': 1, '15070928': 1, '14181310': 1, '6144438': 1, '13466240': 1, '10229821': 1, '4762309': 1, '5178448': 1, '1861718': 1, '13918685': 1, '6663386': 1, '6126397': 2, '1144541': 1, '7932675': 1, '12190300': 1, '9056606': 1, '9160121': 1, '10333648': 1, '13444928': 1, '9998401': 1, '14871508': 1, '12123521': 1, '5476392': 1, '13475043': 1, '2758142': 1, '10604283': 1, '14736918': 1, '8657482': 1, '14257984': 1, '12842849': 1, '12142216': 1, '15161012': 1, '9285085': 2, '1161933': 1, '10506029': 1, '3998398': 1, '9131086': 1, '10138033': 2, '4056814': 1, '5007919': 1, '978850': 2, '13475035': 2, '4316301': 1, '15050698': 1, '7490939': 2, '14908634': 1, '2382937': 1, '7428081': 1, '699694': 1, '7634544': 1, '12047476': 2, '12774862': 1, '11060620': 1, '5293737': 2, '7163559': 1, '1587331': 1, '6326478': 1, '14860583': 1, '10613313': 1, '9765827': 1, '10864005': 1, '6148061': 1, '4110907': 1, '5616499': 1, '10555809': 2, '1742948': 1, '3192534': 1, '9009083': 1, '13466380': 1, '1941073': 1, '14974672': 1, '14112583': 1, '7054580': 2, '5423729': 1, '11621391': 1, '7139295': 1, '11350442': 1, '12274413': 1, '1939576': 1, '5757229': 1, '10187550': 1, '3472260': 1, '11523449': 1, '10939474': 1, '2121458': 2, '12069548': 1, '3739196': 1, '3374970': 1, '4267117': 1, '3955698': 1, '1537093': 1, '9909721': 2, '9499624': 1, '12686534': 1, '478503': 1, '10876224': 1, '2393274': 2, '10254619': 1, '13330457': 1, '4172574': 1, '14529184': 1, '5913551': 1, '13330459': 1, '9927308': 1, '10971649': 1, '15087007': 1, '3338915': 1, '10602437': 1, '12192164': 1, '2392376': 2, '13037460': 1, '2393288': 1, '12850228': 1, '8474773': 1, '9499534': 2, '1443087': 1, '11940070': 1, '14151729': 1, '13675773': 1, '8018392': 1, '8370750': 1, '317474': 1, '14106392': 1, '14066610': 1, '2835307': 1, '3029562': 2, '14171024': 1, '10546225': 1, '14986309': 1, '1169407': 1, '11978458': 1, '8019717': 3, '13018370': 1, '15035007': 1, '11093237': 1, '9257965': 2, '9625359': 2, '14571635': 1, '1441162': 1, '2855670': 1, '13466470': 1, '6972247': 1, '7234779': 1, '5221802': 2, '10113874': 1, '2729341': 1, '4549806': 1, '5246755': 1, '12248909': 1, '6270161': 1, '4172447': 1, '584705': 1, '6634597': 2, '14942758': 1, '14112840': 1, '2439045': 1, '7489503': 1, '3835916': 1, '15162477': 1, '12735467': 1, '4545148': 1, '14151769': 1, '9558708': 1, '13468201': 1, '14043191': 1, '13462859': 1, '2771704': 2, '11073321': 1, '11459755': 1, '6421639': 1, '2177766': 1, '14505077': 1, '15011154': 1, '9499544': 2, '7326354': 1, '9268636': 2, '12816349': 1, '2382348': 1, '8526685': 1, '14877834': 1, '9418536': 1, '10255371': 1, '9057440': 1, '5195908': 1, '3273930': 1, '14637171': 1, '14616372': 1, '1177293': 1, '12297302': 1, '11404621': 1, '1287671': 1, '13329898': 1, '8018362': 1, '9175630': 1, '4598919': 1, '9391083': 1, '13330460': 1, '13330461': 1, '13330462': 1, '8412686': 1, '6135940': 1, '12329967': 1, '10795841': 1, '15087074': 1, '4605063': 1, '13241379': 1, '4763720': 1, '5726165': 1, '2703347': 1, '1862003': 1, '6547180': 1, '5532480': 1, '7167247': 1, '14571411': 1, '6564291': 1, '9814366': 1, '5654441': 1, '13063726': 1, '10526250': 1, '12371682': 1, '11447646': 1, '10191200': 1, '12629601': 1, '9268735': 1, '3030964': 1, '3947553': 1, '978862': 1, '9037861': 1, '6172466': 1, '14769357': 1, '13466250': 1, '12794919': 1, '13466257': 1, '14001511': 1, '13466323': 3, '13279754': 2, '661699': 1, '7805191': 1, '7805190': 1, '7805192': 1, '9293776': 1, '2071200': 1, '6223531': 1, '7767839': 1, '2784273': 1, '7767832': 1, '14943948': 1, '14025964': 1, '11652258': 1, '2712192': 1, '9419615': 2, '11523454': 1, '9279121': 1, '7466975': 1, '9814246': 1, '4771334': 1, '11606690': 1, '3824370': 2, '8134161': 1, '13466432': 1, '13443180': 1, '11229101': 1, '3835923': 1, '1861680': 1, '14665594': 1, '13651703': 1, '3217124': 1, '2532139': 1, '15087081': 1, '14553227': 2, '1088576': 1, '14684494': 1, '12946902': 1, '1424640': 1, '7599990': 1, '13328938': 1, '13474118': 1, '14819320': 1, '9960027': 1, '2937400': 1, '2937403': 1, '7149897': 1, '1862010': 1, '6149280': 1, '14725136': 1, '14848023': 1, '11071078': 2, '577754': 1, '1861744': 1, '723745': 2, '3343803': 1, '585390': 1, '13320244': 1, '2766474': 1, '1053511': 1, '8377759': 1, '6882000': 1, '14713597': 1, '5588756': 1, '4102651': 1, '4042442': 1, '1269569': 1, '4906815': 1, '13465634': 1, '10197898': 1, '14080572': 1, '6363108': 1, '12063444': 1, '8724122': 1, '5862906': 1, '3595060': 2, '14842979': 1, '9817861': 1, '738261': 1, '14014097': 1, '13983792': 1, '3579434': 1, '14671929': 1, '9499660': 4, '7467127': 1, '13444941': 1, '11735799': 1, '11626560': 1, '2719366': 1, '4249471': 2, '13466212': 1, '6505407': 1, '10215108': 1, '5971026': 1, '12705963': 1, '12705964': 1, '12192219': 1, '6875991': 1, '14697381': 1, '5435161': 1, '4771344': 1, '5174991': 1, '1150074': 1, '13844255': 1, '577629': 1, '1898880': 1, '9243150': 2, '14905591': 1, '13330581': 2, '9907852': 1, '7010410': 1, '14757269': 1, '8191723': 1, '10095224': 1, '13037465': 1, '4172454': 1, '14860083': 1, '1482252': 1, '5332852': 1, '3454355': 1, '10139806': 1, '8448144': 1, '8517060': 1, '13449048': 1, '6114083': 1, '12581530': 1, '3829081': 1, '12280346': 1, '6988419': 1, '5543931': 1, '2393722': 3, '6850051': 1, '581015': 1, '13644763': 1, '9230685': 1, '14463050': 1, '4850514': 1, '12810419': 1, '6410308': 1, '3792600': 2, '9004415': 1, '10254708': 1, '1442912': 1, '12071800': 1, '15183187': 1, '6822606': 1, '7333578': 1, '11605262': 1, '6377795': 1, '1585388': 1, '3191364': 1, '3349446': 1, '15174683': 1, '5222148': 1, '11074240': 2, '13523745': 1, '11982753': 1, '10996919': 1, '8117402': 1, '8117403': 1, '13681469': 1, '13433038': 1, '662125': 1, '2392702': 1, '15087146': 1, '12017192': 1, '661991': 1, '13514604': 1, '3578768': 1, '2933740': 1, '10196787': 1, '5104492': 1, '7233874': 1, '11135108': 1, '1861786': 1, '9157132': 1, '1265852': 1, '12115979': 1, '1050202': 1, '4012629': 1, '9535616': 1, '12748476': 3, '2396749': 2, '5579530': 1, '9045351': 1, '13318112': 1, '10118176': 1, '6580306': 1, '2393407': 1, '11553236': 1, '9040765': 1, '11540458': 1, '10139841': 1, '7490386': 1, '5554636': 1, '1926300': 1, '2301597': 1, '5264638': 1, '1051344': 1, '3076738': 1, '4817506': 1, '5202545': 2, '14995346': 1, '10600590': 1, '14766023': 1, '8506734': 1, '3293359': 1, '10797159': 1, '13443271': 1, '8947592': 1, '4496781': 1, '6994090': 1, '7584693': 1, '1665096': 1, '662265': 2, '12346589': 1, '1287998': 1, '7544623': 1, '3950156': 1, '7050828': 1, '1441772': 2, '6762364': 1, '14960594': 1, '853125': 1, '15068845': 1, '13819434': 1, '5553492': 1, '12721756': 1, '870922': 1, '13348077': 1, '12895919': 1, '7805187': 1, '8308050': 1, '7805188': 1, '11290521': 1, '12853635': 1, '662166': 1, '15040614': 1, '14605877': 1, '13085005': 1, '1443139': 1, '4650257': 1, '12274324': 2, '5553516': 1, '6506919': 1, '1861999': 1, '683110': 1, '1022590': 1, '9257063': 1, '7584342': 1, '3833157': 1, '12850973': 1, '4243772': 1, '2212236': 1, '9390959': 2, '2082246': 1, '13425865': 1, '2034471': 1, '9817859': 1, '4672148': 1, '11657828': 1, '6190234': 1, '13491079': 1, '12196123': 1, '6067622': 1, '6491381': 1, '10284398': 1, '8758030': 1, '13469572': 1, '4307842': 1, '14666787': 1, '662282': 1, '6353244': 1, '14338837': 1, '2393851': 1, '7448937': 1, '14695562': 1, '13433048': 1, '7515039': 1, '14381230': 1, '6672649': 1, '13444932': 1, '15139125': 1, '14524902': 2, '5881346': 1, '1869512': 1, '5435077': 1, '2715845': 1, '7102294': 1, '13330445': 1, '1051518': 1, '1862377': 1, '12192575': 1, '7563631': 1, '6724184': 1, '964029': 1, '5195517': 1, '13937510': 1, '6384387': 1, '9155799': 1, '11200593': 1, '8376429': 1, '10985585': 1, '2528268': 1, '9277501': 1, '12384230': 1, '4853388': 1, '1861753': 1, '10409905': 1, '6506860': 1, '13031052': 3, '4760856': 1, '11220044': 1, '4639421': 1, '2962404': 1, '14359060': 1, '6139768': 1, '5435583': 2, '13464177': 1, '5435581': 1, '866817': 1, '2395691': 1, '13330669': 1, '15009723': 1, '13443226': 1, '1861817': 2, '15095677': 2, '13021286': 1, '4677712': 1, '13082907': 1, '10125064': 1, '2782378': 1, '1861950': 1, '12250318': 1, '2657740': 1, '11064351': 1, '10601280': 1, '14594413': 1, '755585': 1, '15068813': 1, '11408163': 3, '4777410': 1, '13345823': 1, '1497670': 1, '4119557': 1, '1566705': 1, '6132343': 1, '14918984': 1, '9499632': 1, '12263727': 1, '3084322': 1, '13330443': 1, '13330440': 2, '13330441': 2, '3415502': 2, '13330444': 1, '2038849': 1, '13330448': 1, '13330449': 1, '8741661': 1, '1787421': 1, '5132120': 2, '14080571': 1, '12714710': 1, '6134114': 1, '15119316': 1, '5258132': 1, '4757432': 1, '12091533': 1, '14789940': 1, '13944917': 1, '9499645': 1}|3|6176135/12905382/10195527/13466359|Q\"\n"
     ]
    }
   ],
   "source": [
    "%reload_ext autoreload\n",
    "%autoreload 2\n",
    "from mrjob_sp_hw74 import ShortestPath_AWS\n",
    "import pprint\n",
    "import time\n",
    "\n",
    "# Delete Existing Output\n",
    "!aws s3 rm --recursive s3://w261/hw74/output/\n",
    "    \n",
    "# Init\n",
    "cnt = 0\n",
    "start_node = 6176135\n",
    "stop_node = 13466359\n",
    "\n",
    "while True:\n",
    "    print \"iteration: \" + str(cnt+1) + \":\"\n",
    "    \n",
    "    out_dir = 's3://w261/hw74/output/{0}'.format(cnt)\n",
    "    print 'Output Dir: {0}'.format(out_dir)\n",
    "\n",
    "    mr_job = None\n",
    "    if cnt == 0: # First Iteration\n",
    "        mr_job = ShortestPath_AWS(args=['-r', 'emr', 's3://w261/all-pages-indexed-out.txt',\n",
    "                            '--jobconf', 'start_node={0}'.format(start_node),\n",
    "                            '--output-dir', out_dir,\n",
    "                            '--no-strict-protocol',\n",
    "                            '--pool-emr-job-flows', \n",
    "                            '--max-hours-idle', '1',\n",
    "                            '--pool-name', 'ShortestDistance',\n",
    "                            '--bootstrap-action=s3://elasticmapreduce/bootstrap-actions/configure-hadoop -m mapred.tasktracker.map.tasks.maximum=4 -m mapreduce.map.memory.mb=3000'])\n",
    "    else: # Subsequent Iterations\n",
    "        mr_job = ShortestPath_AWS(args=['-r', 'emr', 's3://w261/hw74/output/{0}/'.format(cnt-1),\n",
    "                            '--jobconf', 'stop_node={0}'.format(stop_node),\n",
    "                            '--output-dir', out_dir,\n",
    "                            '--no-strict-protocol',\n",
    "                            '--pool-emr-job-flows',\n",
    "                            '--max-hours-idle', '1',\n",
    "                            '--pool-name', 'ShortestDistance',\n",
    "                            '--bootstrap-action=s3://elasticmapreduce/bootstrap-actions/configure-hadoop -m mapred.tasktracker.map.tasks.maximum=4 -m mapreduce.map.memory.mb=3000'])\n",
    "        \n",
    "    cnt += 1\n",
    "\n",
    "    with mr_job.make_runner() as runner: \n",
    "        runner.run()\n",
    "        # stream_output: get access of the output\n",
    "        '''\n",
    "        for line in runner.stream_output():\n",
    "            print mr_job.parse_output_line(line)\n",
    "        '''\n",
    "        \n",
    "        jf = runner.get_emr_job_flow_id()\n",
    "        print \"Job Flow Id: {0}\".format(jf)\n",
    "        \n",
    "        time.sleep(30)\n",
    "        \n",
    "        # Get the Job Counters (MRJOB Bug: Programmatic Way Doesn't Work)\n",
    "        !rm -f $jf\n",
    "        !python -m mrjob.tools.emr.fetch_logs --counters $jf > $jf 2>&1\n",
    "        \n",
    "        \n",
    "        frontiers = []\n",
    "        action_stop = []\n",
    "\n",
    "        graph = []\n",
    "        marker = False\n",
    "        d = {}\n",
    "        with open(jf) as f:\n",
    "            for l in f:\n",
    "                l = l.strip()\n",
    "\n",
    "                if l.startswith('Counters from step'):\n",
    "                    marker = False\n",
    "                    if len(d) > 0:\n",
    "                        graph.append(d.copy())\n",
    "                    d.clear()\n",
    "                if l.startswith('graph'):\n",
    "                    marker = True\n",
    "                    continue\n",
    "\n",
    "                if marker:\n",
    "                    t = l.split(':')\n",
    "                    d[t[0].strip()] = t[1].strip()\n",
    "\n",
    "\n",
    "        pprint.pprint(graph)\n",
    "        \n",
    "        if len(graph) == 0:\n",
    "            break\n",
    "            \n",
    "        if graph[-1].get('action_stop', '0') == '1':\n",
    "            print(\"\\n@@@@@ Shortest Path Found between Nodes: {0} and {1}, Aborting!!!\".format(start_node, stop_node))\n",
    "            !rm -rf ./distance;mkdir distance;\n",
    "            !aws s3 cp --recursive $out_dir distance\n",
    "            !grep -r \\\"$stop_node\\\" distance\n",
    "            break\n",
    "            \n",
    "        if graph[-1].get('frontiers', 0) == 0:\n",
    "            print('\\n@@@@@ No more frontiers to explore, Aborting!!!')\n",
    "            break\n",
    "    \n",
    "    \n"
   ]
  },
  {
   "cell_type": "code",
   "execution_count": 10,
   "metadata": {
    "collapsed": false
   },
   "outputs": [
    {
     "name": "stdout",
     "output_type": "stream",
     "text": [
      "[Path] Ireland --> The Washington Post --> Peter S. Goodman --> University of California, Berkeley\n"
     ]
    }
   ],
   "source": [
    "i = {}\n",
    "with open('indices.txt') as f:\n",
    "    for l in f:\n",
    "        t  = l.strip().split('\\t')\n",
    "        i[t[1].strip()] = t[0].strip()\n",
    "\n",
    "print \"[Path] {0} --> {1} --> {2} --> {3}\".format(i[\"6176135\"],i[\"12905382\"],i[\"10195527\"],i[\"13466359\"])"
   ]
  },
  {
   "cell_type": "markdown",
   "metadata": {},
   "source": [
    "### Shortest Path Between 6176135 and 13466359: \n",
    "\n",
    "* Path: **6176135/12905382/10195527/13466359**\n",
    "\n",
    "* Distance: **3**\n",
    "\n",
    "* 3|6176135/12905382/10195527/13466359|Q"
   ]
  },
  {
   "cell_type": "code",
   "execution_count": null,
   "metadata": {
    "collapsed": true
   },
   "outputs": [],
   "source": []
  }
 ],
 "metadata": {
  "kernelspec": {
   "display_name": "Python 2",
   "language": "python",
   "name": "python2"
  },
  "language_info": {
   "codemirror_mode": {
    "name": "ipython",
    "version": 2
   },
   "file_extension": ".py",
   "mimetype": "text/x-python",
   "name": "python",
   "nbconvert_exporter": "python",
   "pygments_lexer": "ipython2",
   "version": "2.7.10"
  }
 },
 "nbformat": 4,
 "nbformat_minor": 0
}
