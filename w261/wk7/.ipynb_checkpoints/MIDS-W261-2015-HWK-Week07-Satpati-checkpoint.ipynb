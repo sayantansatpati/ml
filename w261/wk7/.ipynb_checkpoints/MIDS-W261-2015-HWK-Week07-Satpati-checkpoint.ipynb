{
 "cells": [
  {
   "cell_type": "markdown",
   "metadata": {},
   "source": [
    "#DATASCI W261: Machine Learning at Scale "
   ]
  },
  {
   "cell_type": "code",
   "execution_count": null,
   "metadata": {
    "collapsed": true
   },
   "outputs": [],
   "source": []
  },
  {
   "cell_type": "markdown",
   "metadata": {},
   "source": [
    "* **Sayantan Satpati**\n",
    "* **sayantan.satpati@ischool.berkeley.edu**\n",
    "* **W261**\n",
    "* **Week-7**\n",
    "* **Assignment-7**\n",
    "* **Date of Submission: 27-OCT-2015**"
   ]
  },
  {
   "cell_type": "markdown",
   "metadata": {},
   "source": [
    "#  === Week 7: Graph Processing ==="
   ]
  },
  {
   "cell_type": "markdown",
   "metadata": {},
   "source": [
    "## HW 7.0\n",
    "---\n",
    "\n",
    "Shortest path graph distances (toy networks)===\n",
    "\n",
    "In this part of your assignment you will develop the base of your code for the week.\n",
    "\n",
    "Write MRJob classes to find shortest path graph distances, \n",
    "as described in the lectures. In addition to finding the distances, \n",
    "your code should also output a distance-minimizing path between the source and target.\n",
    "Work locally for this part of the assignment, and use \n",
    "both of the undirected and directed toy networks.\n",
    "\n",
    "To proof you code's function, run the following jobs\n",
    "\n",
    "- shortest path in the undirected network from node 1 to node 4\n",
    "Solution: 1,5,4 \n",
    "\n",
    "- shortest path in the directed network from node 1 to node 5\n",
    "Solution: 1,2,4,5\n",
    "\n",
    "and report your output---make sure it is correct!\n"
   ]
  },
  {
   "cell_type": "code",
   "execution_count": null,
   "metadata": {
    "collapsed": false
   },
   "outputs": [],
   "source": [
    "!aws s3 cp s3://ucb-mids-mls-networks/undirected_toy.txt .\n",
    "!aws s3 cp s3://ucb-mids-mls-networks/directed_toy.txt ."
   ]
  },
  {
   "cell_type": "code",
   "execution_count": 38,
   "metadata": {
    "collapsed": false
   },
   "outputs": [
    {
     "name": "stdout",
     "output_type": "stream",
     "text": [
      "UnDirected\n",
      "\n",
      "1\t{'2': 1,'5': 1}\n",
      "2\t{'1': 1,'3': 1,'4': 1,'5': 1}\n",
      "3\t{'2': 1, '4': 1}\n",
      "4\t{'2': 1,'3': 1,'5': 1}\n",
      "5\t{'1': 1, '2': 1, '4': 1}\n",
      "\n",
      "Directed\n",
      "\n",
      "1\t{'2': 1, '6': 1}\n",
      "2\t{'1': 1, '3': 1, '4': 1}\n",
      "3\t{'2': 1, '4': 1}\n",
      "4\t{'2': 1, '5': 1}\n",
      "5\t{'1': 1, '2': 1, '4': 1}\n"
     ]
    }
   ],
   "source": [
    "!echo \"UnDirected\\n\"\n",
    "!head undirected_toy.txt\n",
    "!echo \"\\nDirected\\n\"\n",
    "!head directed_toy.txt"
   ]
  },
  {
   "cell_type": "markdown",
   "metadata": {},
   "source": [
    "## Distributed Shortest Path Algorithm using Map/Reduce\n",
    "___"
   ]
  },
  {
   "cell_type": "code",
   "execution_count": 51,
   "metadata": {
    "collapsed": false
   },
   "outputs": [
    {
     "name": "stdout",
     "output_type": "stream",
     "text": [
      "Overwriting mrjob_sp_hw70.py\n"
     ]
    }
   ],
   "source": [
    "%%writefile mrjob_sp_hw70.py\n",
    "from mrjob.job import MRJob\n",
    "from mrjob.step import MRStep\n",
    "from mrjob.compat import get_jobconf_value\n",
    "import sys\n",
    "import ast\n",
    "\n",
    "'''\n",
    "Record Emitted by Mapper/Reducer:\n",
    "Node <TAB> NULL|Neighbor Dict,Distance,Parent/Child,V|Q|U\n",
    "'''\n",
    "\n",
    "class ShortestPath(MRJob):\n",
    "    def steps(self):\n",
    "        return [\n",
    "            MRStep(mapper_init=self.mapper_init,\n",
    "                   mapper=self.mapper,\n",
    "                   reducer=self.reducer)\n",
    "        ]\n",
    "    \n",
    "    def val1(self,ngbr,dist,parent,child,state):\n",
    "        return '{0}|{1}|{2}/{3}|{4}'.format(ngbr,str(dist),parent,child,state)\n",
    "    \n",
    "    def val2(self,ngbr,dist,path,state):\n",
    "        return '{0}|{1}|{2}|{3}'.format(ngbr,str(dist),path,state)\n",
    "    \n",
    "    def mapper_init(self):\n",
    "        self.frontier_node = get_jobconf_value('frontier_node')\n",
    "        if not self.frontier_node:\n",
    "            # Save a list of visited nodes\n",
    "            self.visited = [s.strip() for s in \n",
    "                              open('visited.txt').readlines()]\n",
    "            open('visited.txt', 'w').close()\n",
    "            #sys.stderr.write('### Visited: {0}\\n'.format(self.visited))\n",
    "        #sys.stderr.write('### Frontier Node: {0}\\n'.format(self.frontier_node))\n",
    "\n",
    "    def mapper(self, _, line):\n",
    "        line = line.replace(\"\\\"\",\"\")\n",
    "        # Passed only to first iteration\n",
    "        t = line.strip().split('\\t')\n",
    "        node = t[0]\n",
    "        #sys.stderr.write('[M] {0}\\n'.format(line))\n",
    "        if self.frontier_node: # First frontier\n",
    "            neighbors = ast.literal_eval(t[1])    \n",
    "            if node == self.frontier_node:\n",
    "                # Mark Node as Visited\n",
    "                yield node, self.val1(neighbors,0,node,node,'V')\n",
    "                self.increment_counter('graph', 'nodes', amount=1)\n",
    "                \n",
    "                # Open/Emit Frontiers\n",
    "                for k,v in neighbors.iteritems():\n",
    "                    self.increment_counter('graph', 'frontiers', amount=1)\n",
    "                    self.increment_counter('graph', 'links', amount=1)\n",
    "                    yield k, self.val1('NULL',v,node,k,'Q')\n",
    "            else:\n",
    "                # Rest Passthrough\n",
    "                yield node, self.val1(neighbors,sys.maxint,'NULL','NULL','U')\n",
    "        else: # Not First\n",
    "            t1 = t[1].split(\"|\")\n",
    "            neighbors = {}\n",
    "            if t1[0] != 'NULL':\n",
    "                neighbors = ast.literal_eval(t1[0])\n",
    "            dist = t1[1]\n",
    "            path = t1[2]\n",
    "            status = t1[3]\n",
    "            if status == 'Q':\n",
    "                # Mark Node as Visited\n",
    "                yield node, self.val2(neighbors,dist,path,'V')\n",
    "                self.increment_counter('graph', 'nodes', amount=1)\n",
    "                self.visited.append(node)\n",
    "                \n",
    "                # Open/Emit Frontiers if NOT Visited\n",
    "                for k,v in neighbors.iteritems():\n",
    "                    if k not in self.visited:\n",
    "                        self.increment_counter('graph', 'frontiers', amount=1)\n",
    "                        self.increment_counter('graph', 'links', amount=1)\n",
    "                        yield k, self.val1('NULL', int(dist) + int(v), path, k,'Q')\n",
    "            else:\n",
    "                yield t[0], t[1] # Passthrough (Rest)\n",
    "            \n",
    "    def combiner(self, key, counts):\n",
    "        pass\n",
    "\n",
    "    def reducer(self, key, values):\n",
    "        '''\n",
    "        Passed to Reducer would be either of these combinations:\n",
    "        1. Visited and Frontiers (Merge based on distance)\n",
    "        2. Frontiers and Unvisited (Merge)\n",
    "        3. Unvisited\n",
    "        '''\n",
    "        vList = [value for value in values]\n",
    "        # Set min distance to integer max\n",
    "        min_dist = sys.maxint\n",
    "        \n",
    "        if len(vList) == 1:\n",
    "            yield key, vList[0]\n",
    "        else:\n",
    "            neighbors = None\n",
    "            dist = None\n",
    "            path = None\n",
    "            status = None\n",
    "            \n",
    "            for value in vList:\n",
    "                #sys.stderr.write('[R1] {0} : {1}\\n'.format(key,value))\n",
    "                t = value.split(\"|\")\n",
    "                #sys.stderr.write('[R2] D:{0},MD:{1}\\n'.format(dist,min_dist))\n",
    "\n",
    "                if int(t[1]) < min_dist:\n",
    "                    dist = t[1]\n",
    "                    path = t[2]\n",
    "                    status = t[3]\n",
    "                    min_dist = int(t[1])\n",
    "                    \n",
    "                if t[3] == 'V' or t[3] == 'U':\n",
    "                    neighbors = ast.literal_eval(t[0])\n",
    "                    \n",
    "                #sys.stderr.write('[R3] {0}\\n'.format(self.val2(neighbors,dist,path,status)))\n",
    "                \n",
    "            #sys.stderr.write('[R4] {0} # {1} \\n\\n'.format(key, self.val2(neighbors,dist,path,status)))\n",
    "            yield key, self.val2(neighbors,dist,path,status)    \n",
    "            \n",
    "    \n",
    "if __name__ == '__main__':\n",
    "    ShortestPath.run()"
   ]
  },
  {
   "cell_type": "code",
   "execution_count": 52,
   "metadata": {
    "collapsed": false
   },
   "outputs": [],
   "source": [
    "!chmod a+x mrjob_sp_hw70.py"
   ]
  },
  {
   "cell_type": "code",
   "execution_count": 54,
   "metadata": {
    "collapsed": false,
    "scrolled": true
   },
   "outputs": [
    {
     "name": "stdout",
     "output_type": "stream",
     "text": [
      "\n",
      "@@@@@ SHORTEST PATH ANALYSIS FOR: undirected_toy.txt\n",
      "\n",
      "iteration: 1:\n",
      "('1', \"{'2': 1, '5': 1}|0|1/1|V\")\n",
      "('2', \"{'1': 1, '3': 1, '5': 1, '4': 1}|1|1/2|Q\")\n",
      "('3', \"{'2': 1, '4': 1}|9223372036854775807|NULL/NULL|U\")\n",
      "('4', \"{'3': 1, '2': 1, '5': 1}|9223372036854775807|NULL/NULL|U\")\n",
      "('5', \"{'1': 1, '2': 1, '4': 1}|1|1/5|Q\")\n",
      "# Counters: [{'graph': {'nodes': 1, 'links': 2, 'frontiers': 2}}]\n",
      "iteration: 2:\n",
      "('1', \"{'2': 1, '5': 1}|0|1/1|V\")\n",
      "('2', \"{'1': 1, '3': 1, '5': 1, '4': 1}|1|1/2|V\")\n",
      "('3', \"{'2': 1, '4': 1}|2|1/2/3|Q\")\n",
      "('4', \"{'3': 1, '2': 1, '5': 1}|2|1/2/4|Q\")\n",
      "('5', \"{'1': 1, '2': 1, '4': 1}|1|1/5|V\")\n",
      "# Counters: [{'graph': {'nodes': 2, 'links': 4, 'frontiers': 4}}]\n",
      "iteration: 3:\n",
      "('1', \"{'2': 1, '5': 1}|0|1/1|V\")\n",
      "('2', \"{'1': 1, '3': 1, '5': 1, '4': 1}|1|1/2|V\")\n",
      "('3', \"{'2': 1, '4': 1}|2|1/2/3|V\")\n",
      "('4', \"{'3': 1, '2': 1, '5': 1}|2|1/2/4|V\")\n",
      "('5', \"{'1': 1, '2': 1, '4': 1}|1|1/5|V\")\n",
      "# Counters: [{'graph': {'nodes': 2, 'links': 1, 'frontiers': 1}}]\n",
      "iteration: 4:\n",
      "('1', \"{'2': 1, '5': 1}|0|1/1|V\")\n",
      "('2', \"{'1': 1, '3': 1, '5': 1, '4': 1}|1|1/2|V\")\n",
      "('3', \"{'2': 1, '4': 1}|2|1/2/3|V\")\n",
      "('4', \"{'3': 1, '2': 1, '5': 1}|2|1/2/4|V\")\n",
      "('5', \"{'1': 1, '2': 1, '4': 1}|1|1/5|V\")\n",
      "# Nodes: 5\n",
      "# Links: 7\n",
      "\n",
      "@@@@@ SHORTEST PATH ANALYSIS FOR: directed_toy.txt\n",
      "\n",
      "iteration: 1:\n",
      "('1', \"{'2': 1, '6': 1}|0|1/1|V\")\n",
      "('2', \"{'1': 1, '3': 1, '4': 1}|1|1/2|Q\")\n",
      "('3', \"{'2': 1, '4': 1}|9223372036854775807|NULL/NULL|U\")\n",
      "('4', \"{'2': 1, '5': 1}|9223372036854775807|NULL/NULL|U\")\n",
      "('5', \"{'1': 1, '2': 1, '4': 1}|9223372036854775807|NULL/NULL|U\")\n",
      "('6', 'NULL|1|1/6|Q')\n",
      "# Counters: [{'graph': {'nodes': 1, 'links': 2, 'frontiers': 2}}]\n",
      "iteration: 2:\n",
      "('1', \"{'2': 1, '6': 1}|0|1/1|V\")\n",
      "('2', \"{'1': 1, '3': 1, '4': 1}|1|1/2|V\")\n",
      "('3', \"{'2': 1, '4': 1}|2|1/2/3|Q\")\n",
      "('4', \"{'2': 1, '5': 1}|2|1/2/4|Q\")\n",
      "('5', \"{'1': 1, '2': 1, '4': 1}|9223372036854775807|NULL/NULL|U\")\n",
      "('6', '{}|1|1/6|V')\n",
      "# Counters: [{'graph': {'nodes': 2, 'links': 2, 'frontiers': 2}}]\n",
      "iteration: 3:\n",
      "('1', \"{'2': 1, '6': 1}|0|1/1|V\")\n",
      "('2', \"{'1': 1, '3': 1, '4': 1}|1|1/2|V\")\n",
      "('3', \"{'2': 1, '4': 1}|2|1/2/3|V\")\n",
      "('4', \"{'2': 1, '5': 1}|2|1/2/4|V\")\n",
      "('5', \"{'1': 1, '2': 1, '4': 1}|3|1/2/4/5|Q\")\n",
      "('6', '{}|1|1/6|V')\n",
      "# Counters: [{'graph': {'nodes': 2, 'links': 2, 'frontiers': 2}}]\n",
      "iteration: 4:\n",
      "('1', \"{'2': 1, '6': 1}|0|1/1|V\")\n",
      "('2', \"{'1': 1, '3': 1, '4': 1}|1|1/2|V\")\n",
      "('3', \"{'2': 1, '4': 1}|2|1/2/3|V\")\n",
      "('4', \"{'2': 1, '5': 1}|2|1/2/4|V\")\n",
      "('5', \"{'1': 1, '2': 1, '4': 1}|3|1/2/4/5|V\")\n",
      "('6', '{}|1|1/6|V')\n",
      "# Counters: [{'graph': {'nodes': 1}}]\n",
      "# Nodes: 6\n",
      "# Links: 6\n"
     ]
    }
   ],
   "source": [
    "%reload_ext autoreload\n",
    "%autoreload 2\n",
    "from mrjob_sp_hw70 import ShortestPath\n",
    "\n",
    "files = ['undirected_toy.txt', 'directed_toy.txt']\n",
    "\n",
    "for input_file in files:\n",
    "    print '\\n@@@@@ SHORTEST PATH ANALYSIS FOR: {0}\\n'.format(input_file)\n",
    "    \n",
    "    # Init\n",
    "    frontiers = 1\n",
    "    nodes = 0\n",
    "    links = 0\n",
    "    cnt = 0\n",
    "    \n",
    "    while frontiers and frontiers > 0:\n",
    "        print \"iteration: \" + str(cnt+1) + \":\"\n",
    "\n",
    "        mr_job = None\n",
    "        if cnt == 0: # First Iteration\n",
    "            mr_job = ShortestPath(args=[input_file,\n",
    "                                '--jobconf', 'frontier_node=1',\n",
    "                                '--no-strict-protocol'])\n",
    "        else:\n",
    "            mr_job = ShortestPath(args=[input_file + '1',\n",
    "                                '--file', 'visited.txt',\n",
    "                                '--no-strict-protocol'])\n",
    "\n",
    "        with mr_job.make_runner() as runner: \n",
    "            runner.run()\n",
    "            # stream_output: get access of the output \n",
    "            with open(input_file + '1','w') as f, open('visited.txt','w') as f1:\n",
    "                for line in runner.stream_output():\n",
    "                    parsed_line = mr_job.parse_output_line(line)\n",
    "                    print parsed_line\n",
    "                    if parsed_line[1].endswith('V'):\n",
    "                        f1.write(parsed_line[0] + '\\n')\n",
    "                    f.write(line)\n",
    "\n",
    "            if 'graph' in runner.counters()[0]:\n",
    "                print \"# Counters: {0}\".format(runner.counters())\n",
    "                frontiers = runner.counters()[0]['graph'].get('frontiers', 0)\n",
    "                nodes += runner.counters()[0]['graph'].get('nodes', 0)\n",
    "                links += runner.counters()[0]['graph'].get('links', 0)\n",
    "            else:\n",
    "                break;\n",
    "\n",
    "        cnt += 1\n",
    "    \n",
    "    print \"# Nodes: {0}\".format(nodes) \n",
    "    print \"# Links: {0}\".format(links) "
   ]
  },
  {
   "cell_type": "markdown",
   "metadata": {},
   "source": [
    "## Undirected Graph\n",
    "\n",
    "### Shortest Path: 1/2/4\n",
    "\n",
    "\n",
    "***('4', \"{'3': 1, '2': 1, '5': 1}|2|1/2/4|V\")***\n",
    "\n",
    "\n",
    "## Directed Graph\n",
    "\n",
    "### Shortest Path: 1/2/4/5\n",
    "\n",
    "***('5', \"{'1': 1, '2': 1, '4': 1}|3|1/2/4/5|V\")***"
   ]
  },
  {
   "cell_type": "markdown",
   "metadata": {},
   "source": [
    "## HW 7.0\n",
    "---\n",
    "\n",
    "==Main dataset 1: NLTK synonyms==\n",
    "\n",
    "In the next part of this assignment you will explore a network derived from\n",
    "the NLTK synonym database used for evaluation in HW 5. At a high level, this\n",
    "network is undirected, defined so that there exists link between two nodes/words \n",
    "if the pair or words are a synonym. These data may be found at the location:\n",
    "\n",
    "s3://ucb-mids-mls-networks/synNet/synNet.txt\n",
    "s3://ucb-mids-mls-networks/synNet/indices.txt\n",
    "\n",
    "where synNet.txt contains a sparse representation of the network:\n",
    "\n",
    "(index) \\t (dictionary of links)\n",
    "\n",
    "in indexed form, and indices.txt contains a lookup list\n",
    "\n",
    "(word) \\t (index)\n",
    "\n",
    "of indices and words. This network is small enough for you to explore and run\n",
    "scripts locally, but will also be good for a systems test (for later) on AWS.\n",
    "\n",
    "In the dictionary, target nodes are keys, link weights are values \n",
    "(here, all weights are 1, i.e., the network is unweighted)."
   ]
  },
  {
   "cell_type": "code",
   "execution_count": null,
   "metadata": {
    "collapsed": false
   },
   "outputs": [],
   "source": [
    "!aws s3 cp s3://ucb-mids-mls-networks/synNet/synNet.txt .\n",
    "!aws s3 cp s3://ucb-mids-mls-networks/synNet/indices.txt ."
   ]
  },
  {
   "cell_type": "code",
   "execution_count": 32,
   "metadata": {
    "collapsed": false
   },
   "outputs": [
    {
     "name": "stdout",
     "output_type": "stream",
     "text": [
      "Graph\n",
      "\n",
      "1\t{'2': 1, '3': 1, '4': 1}\n",
      "2\t{'1': 1, '3': 1, '4': 1, '310': 1, '311': 1}\n",
      "3\t{'1': 1, '2': 1, '4': 1}\n",
      "4\t{'1': 1, '2': 1, '3': 1, '311': 1}\n",
      "5\t{'6': 1}\n",
      "    8271 synNet.txt\n",
      "\n",
      "Indices\n",
      "\n",
      "A\t1\n",
      "As\t2\n",
      "a\t3\n",
      "as\t4\n",
      "AB\t5\n",
      "    8271 indices.txt\n"
     ]
    }
   ],
   "source": [
    "!echo \"Graph\\n\"\n",
    "!head -n 5 synNet.txt\n",
    "!wc -l synNet.txt\n",
    "!echo \"\\nIndices\\n\"\n",
    "!head -n 5 indices.txt\n",
    "!wc -l indices.txt"
   ]
  },
  {
   "cell_type": "markdown",
   "metadata": {
    "collapsed": true
   },
   "source": [
    "## HW 7.1\n",
    "---\n",
    "\n",
    "Exploratory data analysis (NLTK synonyms)===\n",
    "\n",
    "Using MRJob, explore the synonyms network data.\n",
    "Consider plotting the degree distribution (does it follow a power law?),\n",
    "and determine some of the key features, like:\n",
    "\n",
    "number of nodes, \n",
    "number links,\n",
    "or the average degree (i.e., the average number of links per node),\n",
    "etc...\n",
    "\n",
    "As you develop your code, please be sure to run it locally first (though on the whole dataset). \n",
    "Once you have gotten you code to run locally, deploy it on AWS as a systems test\n",
    "in preparation for our next dataset (which will require AWS)."
   ]
  },
  {
   "cell_type": "code",
   "execution_count": 60,
   "metadata": {
    "collapsed": false
   },
   "outputs": [
    {
     "name": "stdout",
     "output_type": "stream",
     "text": [
      "Overwriting mrjob_sp_hw71.py\n"
     ]
    }
   ],
   "source": [
    "%%writefile mrjob_sp_hw71.py\n",
    "from mrjob.job import MRJob\n",
    "from mrjob.step import MRStep\n",
    "from mrjob.compat import get_jobconf_value\n",
    "import sys\n",
    "import ast\n",
    "\n",
    "class Graph_EDA(MRJob):\n",
    "    def steps(self):\n",
    "        return [\n",
    "            MRStep(mapper=self.mapper,\n",
    "                   combiner=self.combiner,\n",
    "                  reducer_init=self.reducer_init,\n",
    "                  reducer=self.reducer,\n",
    "                 reducer_final=self.reducer_final,\n",
    "                  jobconf={\n",
    "                            'mapred.output.key.comparator.class': 'org.apache.hadoop.mapred.lib.KeyFieldBasedComparator',\n",
    "                            'mapred.text.key.comparator.options': '-k1,1n',\n",
    "                            }\n",
    "                   )\n",
    "        ]\n",
    "    \n",
    "\n",
    "    def mapper(self, _, line):\n",
    "        line = line.replace(\"\\\"\",\"\")\n",
    "        # Passed only to first iteration\n",
    "        t = line.strip().split('\\t')\n",
    "        node = t[0]\n",
    "        neighbors = ast.literal_eval(t[1]) \n",
    "        self.increment_counter('graph', 'nodes', amount=1)\n",
    "        self.increment_counter('graph', 'links', amount=len(neighbors))\n",
    "        yield len(neighbors), node\n",
    "            \n",
    "    def combiner(self, key, values):\n",
    "        l = [v for v in values]\n",
    "        yield key,len(l)\n",
    "\n",
    "    def reducer_init(self):\n",
    "        self.max_link_bucket = 0\n",
    "        self.max_link_num_nodes = 0\n",
    "        self.min_link_bucket = 0\n",
    "        self.min_link_num_nodes = sys.maxint\n",
    "        \n",
    "    def reducer(self, key, values):\n",
    "        n_nodes = sum(values)\n",
    "        \n",
    "        if n_nodes > self.max_link_num_nodes:\n",
    "            self.max_link_bucket = key\n",
    "            self.max_link_num_nodes = n_nodes\n",
    "            \n",
    "        if n_nodes < self.min_link_num_nodes:\n",
    "            self.min_link_bucket = key\n",
    "            self.min_link_num_nodes = n_nodes\n",
    "        \n",
    "        self.increment_counter('graph', 'link_buckets', amount=1)\n",
    "        yield key,n_nodes\n",
    "        \n",
    "    def reducer_final(self):\n",
    "        c_min = '[MIN_NUM_NODES]{0}'.format(self.min_link_bucket)\n",
    "        self.increment_counter('graph', c_min, amount=self.min_link_num_nodes)\n",
    "        c_max = '[MAX_NUM_NODES]{0}'.format(self.max_link_bucket)\n",
    "        self.increment_counter('graph', c_max, amount=self.max_link_num_nodes)\n",
    "            \n",
    "    \n",
    "if __name__ == '__main__':\n",
    "    Graph_EDA.run()"
   ]
  },
  {
   "cell_type": "code",
   "execution_count": 61,
   "metadata": {
    "collapsed": false
   },
   "outputs": [],
   "source": [
    "!chmod a+x mrjob_sp_hw71.py"
   ]
  },
  {
   "cell_type": "code",
   "execution_count": 62,
   "metadata": {
    "collapsed": false
   },
   "outputs": [
    {
     "name": "stdout",
     "output_type": "stream",
     "text": [
      "# MR Counters:\n",
      "{'graph': {'[MAX_NUM_NODES]1': 1421,\n",
      "           '[MIN_NUM_NODES]117': 1,\n",
      "           'link_buckets': 83,\n",
      "           'links': 61134,\n",
      "           'nodes': 8271}}\n",
      "      83 synNet.txt2\r\n"
     ]
    }
   ],
   "source": [
    "%reload_ext autoreload\n",
    "%autoreload 2\n",
    "from mrjob_sp_hw71 import Graph_EDA\n",
    "import pprint\n",
    "\n",
    "input_file = 'synNet.txt'\n",
    "\n",
    "mr_job = Graph_EDA(args=[input_file,\n",
    "                        '--no-strict-protocol'])\n",
    "\n",
    "with mr_job.make_runner() as runner: \n",
    "    runner.run()\n",
    "    \n",
    "    with open(input_file + '2','w') as f:\n",
    "        for line in runner.stream_output():\n",
    "            #parsed_line = mr_job.parse_output_line(line)\n",
    "            #print parsed_line\n",
    "            f.write(line)\n",
    "\n",
    "    print \"# MR Counters:\"\n",
    "    pprint.pprint(runner.counters()[0])\n",
    "    \n",
    "!wc -l synNet.txt2"
   ]
  },
  {
   "cell_type": "code",
   "execution_count": 15,
   "metadata": {
    "collapsed": false
   },
   "outputs": [
    {
     "name": "stdout",
     "output_type": "stream",
     "text": [
      "1\t1421\r\n",
      "2\t1127\r\n",
      "3\t906\r\n",
      "4\t783\r\n",
      "5\t637\r\n",
      "6\t488\r\n",
      "7\t429\r\n",
      "8\t309\r\n",
      "9\t296\r\n",
      "10\t254\r\n"
     ]
    }
   ],
   "source": [
    "# Looks like Power Law (Graphed Later)\n",
    "!cat synNet.txt2 | sort -n -k1 | head -n 10"
   ]
  },
  {
   "cell_type": "code",
   "execution_count": 2,
   "metadata": {
    "collapsed": false
   },
   "outputs": [
    {
     "name": "stdout",
     "output_type": "stream",
     "text": [
      "iteration: 1:\n",
      "# Counters: [{'graph': {'nodes': 1, 'links': 3, 'frontiers': 3}}]\n",
      "iteration: 2:\n",
      "# Counters: [{'graph': {'nodes': 3, 'links': 6, 'frontiers': 6}}]\n",
      "iteration: 3:\n",
      "# Counters: [{'graph': {'nodes': 2, 'links': 13, 'frontiers': 13}}]\n",
      "iteration: 4:\n",
      "# Counters: [{'graph': {'nodes': 13, 'links': 170, 'frontiers': 170}}]\n",
      "iteration: 5:\n",
      "# Counters: [{'graph': {'nodes': 94, 'links': 985, 'frontiers': 985}}]\n",
      "iteration: 6:\n",
      "# Counters: [{'graph': {'nodes': 460, 'links': 4778, 'frontiers': 4778}}]\n",
      "iteration: 7:\n",
      "# Counters: [{'graph': {'nodes': 1601, 'links': 13329, 'frontiers': 13329}}]\n",
      "iteration: 8:\n",
      "# Counters: [{'graph': {'nodes': 2470, 'links': 7591, 'frontiers': 7591}}]\n",
      "iteration: 9:\n",
      "# Counters: [{'graph': {'nodes': 1298, 'links': 1721, 'frontiers': 1721}}]\n",
      "iteration: 10:\n",
      "# Counters: [{'graph': {'nodes': 422, 'links': 413, 'frontiers': 413}}]\n",
      "iteration: 11:\n",
      "# Counters: [{'graph': {'nodes': 159, 'links': 100, 'frontiers': 100}}]\n",
      "iteration: 12:\n",
      "# Counters: [{'graph': {'nodes': 20, 'links': 7, 'frontiers': 7}}]\n",
      "iteration: 13:\n",
      "# Counters: [{'graph': {'nodes': 2, 'links': 1, 'frontiers': 1}}]\n",
      "iteration: 14:\n",
      "# Counters: [{'graph': {'nodes': 1}}]\n",
      "# Nodes: 6546\n",
      "# Links: 29117\n"
     ]
    }
   ],
   "source": [
    "%reload_ext autoreload\n",
    "%autoreload 2\n",
    "from mrjob_sp_hw70 import ShortestPath\n",
    "\n",
    "input_file = 'synNet.txt'\n",
    "\n",
    "# Init\n",
    "frontiers = 1\n",
    "nodes = 0\n",
    "links = 0\n",
    "cnt = 0\n",
    "\n",
    "while frontiers and frontiers > 0:\n",
    "    print \"iteration: \" + str(cnt+1) + \":\"\n",
    "\n",
    "    mr_job = None\n",
    "    if cnt == 0: # First Iteration\n",
    "        mr_job = ShortestPath(args=[input_file,\n",
    "                            '--jobconf', 'frontier_node=1',\n",
    "                            '--no-strict-protocol'])\n",
    "    else:\n",
    "        mr_job = ShortestPath(args=[input_file + '1',\n",
    "                            '--file', 'visited.txt',\n",
    "                            '--no-strict-protocol'])\n",
    "\n",
    "    with mr_job.make_runner() as runner: \n",
    "        runner.run()\n",
    "        # stream_output: get access of the output \n",
    "        with open(input_file + '1','w') as f, open('visited.txt','w') as f1:\n",
    "            for line in runner.stream_output():\n",
    "                parsed_line = mr_job.parse_output_line(line)\n",
    "                #print parsed_line\n",
    "                if parsed_line[1].endswith('V'):\n",
    "                    f1.write(parsed_line[0] + '\\n')\n",
    "                f.write(line)\n",
    "\n",
    "        if 'graph' in runner.counters()[0]:\n",
    "            print \"# Counters: {0}\".format(runner.counters())\n",
    "            frontiers = runner.counters()[0]['graph'].get('frontiers', 0)\n",
    "            nodes += runner.counters()[0]['graph'].get('nodes', 0)\n",
    "            links += runner.counters()[0]['graph'].get('links', 0)\n",
    "        else:\n",
    "            break;\n",
    "\n",
    "    cnt += 1\n",
    "\n",
    "print \"# Nodes: {0}\".format(nodes) \n",
    "print \"# Links: {0}\".format(links)\n",
    "\n",
    "     "
   ]
  },
  {
   "cell_type": "markdown",
   "metadata": {},
   "source": [
    "## Results of EDA\n",
    "---\n",
    "\n",
    "* Total Number of Nodes: **8271**\n",
    "\n",
    "* Total Number of Links: **61134**\n",
    "\n",
    "* Max num of Nodes containing same num of Links (1): **1421 nodes have 1 Links.**\n",
    "\n",
    "* Min num of Nodes containing same num of Links (117): **1 node has 117 Links.** This is a tie. A lot of nodes have only 1 Link.\n",
    "\n",
    "* Total Number of Unique Links: $61134 / 2$ == **30567**\n",
    "\n",
    "* Number of Nodes reachable from Node \"1\": **6546**\n",
    "\n",
    "* Number of Links reachable from Node \"1\": **29117**\n",
    "\n",
    "```\n",
    "# MR Counters:\n",
    "{'graph': {'[MAX_NUM_NODES]1': 1421,\n",
    "           '[MIN_NUM_NODES]117': 1,\n",
    "           'link_buckets': 83,\n",
    "           'links': 61134,\n",
    "           'nodes': 8271}}\n",
    "```"
   ]
  },
  {
   "cell_type": "markdown",
   "metadata": {},
   "source": [
    "## Long Tail Distribution showing evidence of Power Law\n",
    "___"
   ]
  },
  {
   "cell_type": "code",
   "execution_count": 64,
   "metadata": {
    "collapsed": false
   },
   "outputs": [
    {
     "name": "stdout",
     "output_type": "stream",
     "text": [
      "[MIN] Number of Links: 117, Number of Nodes: 1\n",
      "[MAX] Number of Links: 1, Number of Nodes: 1421\n"
     ]
    },
    {
     "data": {
      "image/png": "[encoded data removed]",
      "text/plain": [
       "<matplotlib.figure.Figure object at 0x108d22710>"
      ]
     },
     "metadata": {},
     "output_type": "display_data"
    }
   ],
   "source": [
    "import ast, sys\n",
    "import numpy as np\n",
    "import matplotlib.pyplot as plt\n",
    "%matplotlib inline \n",
    "\n",
    "def hist_link_node(file):\n",
    "    degrees = []\n",
    "    with open(file, 'r') as f:\n",
    "        for l in f:\n",
    "            t = l.split('\\t')\n",
    "            n_links = int(t[0])\n",
    "            n_nodes = int(t[1]) \n",
    "\n",
    "            for i in xrange(n_nodes):\n",
    "                degrees.append(n_links)\n",
    "\n",
    "    print \"[MIN] Number of Links: {0}, Number of Nodes: {1}\".format(min_link_bucket,min_link_num_nodes)\n",
    "    print \"[MAX] Number of Links: {0}, Number of Nodes: {1}\".format(max_link_bucket,max_link_num_nodes)\n",
    "\n",
    "\n",
    "    plt.figure(figsize=(10,6))\n",
    "    plt.title('Histogram showing Number of Links & Nodes')\n",
    "    plt.xlabel('Number of Links')\n",
    "    plt.ylabel('Number of Nodes')\n",
    "    plt.hist(degrees, 83, facecolor='blue', alpha=0.75)\n",
    "    \n",
    "hist_link_node('synNet.txt2')"
   ]
  },
  {
   "cell_type": "markdown",
   "metadata": {},
   "source": [
    "## HW 7.3\n",
    "___\n",
    "\n",
    "```\n",
    "==Main dataset 2: English Wikipedia==\n",
    "\n",
    "For the remainder of this assignment you will explore the English Wikipedia hyperlink network.\n",
    "The dataset is built from the Sept. 2015 XML snapshot of English Wikipedia.\n",
    "For this directed network, a link between articles: \n",
    "\n",
    "A -> B\n",
    "\n",
    "is defined by the existence of a hyperlink in A pointing to B.\n",
    "This network also exists in the indexed format:\n",
    "\n",
    "Data: s3://ucb-mids-mls-networks/wikipedia/all-pages-indexed-out.txt\n",
    "Data: s3://ucb-mids-mls-networks/wikipedia/all-pages-indexed-in.txt\n",
    "Data: s3://ucb-mids-mls-networks/wikipedia/indices.txt\n",
    "\n",
    "but has an index with more detailed data:\n",
    "\n",
    "(article name) \\t (index) \\t (in degree) \\t (out degree)\n",
    "\n",
    "In the dictionary, target nodes are keys, link weights are values .\n",
    "Here, a weight indicates the number of time a page links to another.\n",
    "However, for the sake of this assignment, treat this an unweighted network,\n",
    "and set all weights to 1 upon data input.\n",
    "```"
   ]
  },
  {
   "cell_type": "code",
   "execution_count": 5,
   "metadata": {
    "collapsed": false
   },
   "outputs": [
    {
     "name": "stdout",
     "output_type": "stream",
     "text": [
      "download: s3://ucb-mids-mls-networks/wikipedia/all-pages-indexed-out.txt to ./all-pages-indexed-out.txt\n",
      "download: s3://ucb-mids-mls-networks/wikipedia/all-pages-indexed-in.txt to ./all-pages-indexed-in.txt\n",
      "download: s3://ucb-mids-mls-networks/wikipedia/indices.txt to ./indices.txt\n"
     ]
    }
   ],
   "source": [
    "!aws s3 cp s3://ucb-mids-mls-networks/wikipedia/all-pages-indexed-out.txt .\n",
    "!aws s3 cp s3://ucb-mids-mls-networks/wikipedia/all-pages-indexed-in.txt .\n",
    "!aws s3 cp s3://ucb-mids-mls-networks/wikipedia/indices.txt ."
   ]
  },
  {
   "cell_type": "code",
   "execution_count": 6,
   "metadata": {
    "collapsed": false
   },
   "outputs": [
    {
     "name": "stdout",
     "output_type": "stream",
     "text": [
      "73\t{'14417532': 1}\r\n",
      "299\t{'4214575': 1}\r\n",
      "2552\t{'15043376': 1, '13430968': 1, '13451035': 1, '7263397': 1, '13001625': 1, '13443575': 1, '13451269': 1, '13432316': 1, '11623371': 1, '15028971': 1, '13425865': 1, '15042703': 1, '5051368': 1, '9854998': 2, '13442976': 1, '13315025': 1, '2992307': 1, '1054486': 1, '1322325': 1, '13450983': 1}\r\n"
     ]
    }
   ],
   "source": [
    "!head -n 3 all-pages-indexed-out.txt"
   ]
  },
  {
   "cell_type": "code",
   "execution_count": 7,
   "metadata": {
    "collapsed": false
   },
   "outputs": [
    {
     "name": "stdout",
     "output_type": "stream",
     "text": [
      "90\t{'8430954': 2}\r\n",
      "212\t{'3351482': 1, '3635586': 1}\r\n",
      "332\t{'8996949': 1}\r\n"
     ]
    }
   ],
   "source": [
    "!head -n 3 all-pages-indexed-in.txt"
   ]
  },
  {
   "cell_type": "code",
   "execution_count": 8,
   "metadata": {
    "collapsed": false
   },
   "outputs": [
    {
     "name": "stdout",
     "output_type": "stream",
     "text": [
      "! $var = &quot;&quot;\t1\t1\t0\r\n",
      "! (CONFIG.SYS directive)\t2\t1\t1\r\n",
      "! (album)\t3\t12\t17\r\n"
     ]
    }
   ],
   "source": [
    "!head -n 3 indices.txt"
   ]
  },
  {
   "cell_type": "markdown",
   "metadata": {},
   "source": [
    "## HW  7.3\n",
    "___\n",
    "\n",
    "=== Exploratory data analysis (Wikipedia)===\n",
    "\n",
    "Using MRJob, explore the Wikipedia network data on the AWS cloud. Reuse your code from HW 7.1---does is scale well? \n",
    "Be cautioned that Wikipedia is a directed network, where links are not symmetric. \n",
    "So, even though a node may be linked to, it will not appear as a primary record itself if it has no out-links. \n",
    "This means that you may have to ADJUST your code (depending on its design). \n",
    "To be sure of your code's functionality in this context, run a systems test on the directed_toy.txt network."
   ]
  },
  {
   "cell_type": "code",
   "execution_count": null,
   "metadata": {
    "collapsed": true
   },
   "outputs": [],
   "source": []
  },
  {
   "cell_type": "code",
   "execution_count": null,
   "metadata": {
    "collapsed": true
   },
   "outputs": [],
   "source": []
  },
  {
   "cell_type": "markdown",
   "metadata": {},
   "source": [
    "# ==========================================================="
   ]
  },
  {
   "cell_type": "markdown",
   "metadata": {},
   "source": [
    "## HW 5.1\n",
    "---\n",
    "\n",
    "***In the database world What is 3NF? Does machine learning use data in 3NF? If so why? ***\n",
    "\n",
    "* Third normal form is a normal form used in normalizing a database design to reduce the duplication of data and ensure referential integrity by ensuring that the entity is in second normal form and all the attributes in a table are determined only by the candidate keys of that table and not by any non-prime attributes.\n",
    "\n",
    "* ML requires data to be in one single tabular format. So, if a data set is in 3NF, it should be denormalized into 2NF.\n",
    "\n",
    "***In what form does ML consume data?***\n",
    "\n",
    "* Machine Learning algorithms require data to be into a single text file in tabular format, with each row representing a full instance of the input dataset and each column one of its features. Data is typically in normal form separated in tables: Ex: one for users, another for movies, and another for ratings. To get the date in machine-learning-ready format in this way we would need to join the tables and get it in a single tabular format (Ex: Join users with ratings): Second Normal Form.\n",
    "\n",
    "***Why would one use log files that are denormalized?***\n",
    "\n",
    "* Log files are denormalized for faster & easier processing of data. In absence of denormalized data, there can be severe challenges in finding out all the relevant information."
   ]
  },
  {
   "cell_type": "markdown",
   "metadata": {},
   "source": [
    "## HW 5.2\n",
    "---\n",
    "\n",
    "Using MRJob, implement a hashside join (memory-backed map-side) for left, \n",
    "right and inner joins. Run your code on the  data used in HW 4.4: (Recall HW 4.4: Find the most frequent visitor of each page using mrjob and the output of 4.2  (i.e., transfromed log file). In this output please include the webpage URL, webpageID and Visitor ID.)\n",
    ":\n",
    "\n",
    "Justify which table you chose as the Left table in this hashside join.\n",
    "\n",
    "Please report the number of rows resulting from:\n",
    "\n",
    "```\n",
    "(1) Left joining Table Left with Table Right\n",
    "(2) Right joining Table Left with Table Right\n",
    "(3) Inner joining Table Left with Table Right\n",
    "```"
   ]
  },
  {
   "cell_type": "markdown",
   "metadata": {},
   "source": [
    "### Approach\n",
    "\n",
    "***File containing url(s) look like follows:***\n",
    "\n",
    "```\n",
    "[cloudera@localhost wk5]$ head -5 ../wk4/url \n",
    "A,1287,1,\"International AutoRoute\",\"/autoroute\"\n",
    "A,1288,1,\"library\",\"/library\"\n",
    "A,1289,1,\"Master Chef Product Information\",\"/masterchef\"\n",
    "A,1297,1,\"Central America\",\"/centroam\"\n",
    "A,1215,1,\"For Developers Only Info\",\"/developer\"\n",
    "```\n",
    "\n",
    "***File containing Page Visits by Customers look like follows:***\n",
    "\n",
    "```\n",
    "V,1000,1,C,10001\n",
    "V,1001,1,C,10001\n",
    "V,1002,1,C,10001\n",
    "V,1001,1,C,10002\n",
    "V,1003,1,C,10002\n",
    "```\n",
    "\n",
    "* For **INNER** and **LEFT** join, the url file is passed to the mrjob as a '--file' parameter; it is then loaded by the reducers in a dict for INNER and LEFT join. After determining the page Vists in descending order by customers in the first pass, the url details are added, using the url file, in the 2nd pass. In the case of a LEFT join, the page visits would output the URL as 'NA', if the 'url' file is missing any URL. In the case of an INNER join, the page visits would be output only if there is a macthing URL. Since no URL(s) are missing from the 'url' file, the result from LEFT & INNER joins are identical having 98654 rows. The type of join is passed to mrjob as a parameter.\n",
    "* For **RIGHT** join, we are supposed to show the page visits for all URLS present in the 'url' file, even though they have not been visited. For this one, we pass the 'pages visited file' as a '--file' parameter, and the url file as an input to the mrjob. Since there are urls which haven't been visited, the output 98663 rows, which is more than the previous 2 outputs."
   ]
  },
  {
   "cell_type": "code",
   "execution_count": null,
   "metadata": {
    "collapsed": true
   },
   "outputs": [],
   "source": []
  }
 ],
 "metadata": {
  "kernelspec": {
   "display_name": "Python 2",
   "language": "python",
   "name": "python2"
  },
  "language_info": {
   "codemirror_mode": {
    "name": "ipython",
    "version": 2
   },
   "file_extension": ".py",
   "mimetype": "text/x-python",
   "name": "python",
   "nbconvert_exporter": "python",
   "pygments_lexer": "ipython2",
   "version": "2.7.10"
  }
 },
 "nbformat": 4,
 "nbformat_minor": 0
}
