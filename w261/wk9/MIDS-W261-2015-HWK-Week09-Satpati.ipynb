{
 "cells": [
  {
   "cell_type": "markdown",
   "metadata": {},
   "source": [
    "#DATASCI W261: Machine Learning at Scale "
   ]
  },
  {
   "cell_type": "code",
   "execution_count": null,
   "metadata": {
    "collapsed": true
   },
   "outputs": [],
   "source": []
  },
  {
   "cell_type": "markdown",
   "metadata": {},
   "source": [
    "* **Sayantan Satpati**\n",
    "* **sayantan.satpati@ischool.berkeley.edu**\n",
    "* **W261**\n",
    "* **Week-7**\n",
    "* **Assignment-7**\n",
    "* **Date of Submission: 27-OCT-2015**"
   ]
  },
  {
   "cell_type": "markdown",
   "metadata": {},
   "source": [
    "#  === Week 9: Page Rank ==="
   ]
  },
  {
   "cell_type": "markdown",
   "metadata": {},
   "source": [
    "### First BASE Version [Before HW9 was published]"
   ]
  },
  {
   "cell_type": "code",
   "execution_count": 21,
   "metadata": {
    "collapsed": false
   },
   "outputs": [
    {
     "name": "stdout",
     "output_type": "stream",
     "text": [
      "Overwriting mrjob_hw90.py\n"
     ]
    }
   ],
   "source": [
    "%%writefile mrjob_hw90.py\n",
    "from mrjob.job import MRJob\n",
    "from mrjob.step import MRStep\n",
    "from mrjob.protocol import RawProtocol\n",
    "from mrjob.compat import get_jobconf_value\n",
    "import sys\n",
    "import ast\n",
    "\n",
    "'''\n",
    "Sample Input Data:\n",
    "1\t0.2,[2,4]\n",
    "2\t0.2,[3,5]\n",
    "3\t0.2,[4]\n",
    "4\t0.2,[5]\n",
    "5\t0.2,[1,2,3]\n",
    "'''\n",
    "\n",
    "class PageRank(MRJob):\n",
    "    \n",
    "    INPUT_PROTOCOL = RawProtocol\n",
    "    \n",
    "    def steps(self):\n",
    "        return [\n",
    "            MRStep(mapper=self.mapper,\n",
    "                  reducer=self.reducer)\n",
    "        ]\n",
    "    \n",
    "\n",
    "    def mapper(self, key, value):\n",
    "        value = value.strip().replace(\"\\\"\",\"\")\n",
    "        t = value.split(\"|\")\n",
    "        \n",
    "        #sys.stderr.write('[M] {0} | {1} | {2}\\n'.format(key, t[0], t[1]))\n",
    "        \n",
    "        node = key\n",
    "        score = t[0]\n",
    "        neighbors = ast.literal_eval(t[1])\n",
    "        \n",
    "        # Emit the Graph Structure\n",
    "        yield int(node), ('NODE', value)\n",
    "        \n",
    "        # Emit the mass\n",
    "        for n in neighbors:\n",
    "            yield n, ('SCORE', float(score)/len(neighbors))\n",
    "                   \n",
    "        #self.increment_counter('page_rank', 'dangling_node', amount=1)\n",
    "            \n",
    "    def combiner(self, key, values):\n",
    "        pass\n",
    "\n",
    "        \n",
    "    def reducer(self, key, values):\n",
    "        prev_score = None\n",
    "        adj_list = None\n",
    "        total_score = 0\n",
    "\n",
    "        for value_type, value in values:\n",
    "            #sys.stderr.write('[R1] {0} | {1} | {2}\\n'.format(key, value_type, value))\n",
    "            if value_type == 'NODE':\n",
    "                t = value.strip().split(\"|\")\n",
    "                prev_score = t[0]\n",
    "                adj_list = t[1]\n",
    "            else:\n",
    "                assert value_type == 'SCORE'\n",
    "                total_score += value\n",
    "        \n",
    "        '''\n",
    "        node['prev_score'] = node['score']\n",
    "\n",
    "        d = self.options.damping_factor\n",
    "        node['score'] = 1 - d + d * total_score\n",
    "        '''\n",
    "\n",
    "        #sys.stderr.write('[R2] {0} | {1} | {2}\\n\\n'.format(key, total_score, adj_list))\n",
    "        yield key, '{0}|{1}'.format(total_score, adj_list)\n",
    "\n",
    "   \n",
    "if __name__ == '__main__':\n",
    "    PageRank.run()"
   ]
  },
  {
   "cell_type": "code",
   "execution_count": 22,
   "metadata": {
    "collapsed": false
   },
   "outputs": [],
   "source": [
    "!chmod a+x mrjob_hw90.py"
   ]
  },
  {
   "cell_type": "code",
   "execution_count": 23,
   "metadata": {
    "collapsed": false
   },
   "outputs": [
    {
     "name": "stdout",
     "output_type": "stream",
     "text": [
      "using configs in /Users/ssatpati/.mrjob.conf\r\n",
      "creating tmp directory /var/folders/h5/1q71m1c54cn07f16c232pqgm38ynd8/T/mrjob_hw90.ssatpati.20151029.205324.659854\r\n",
      "\r\n",
      "PLEASE NOTE: Starting in mrjob v0.5.0, protocols will be strict by default. It's recommended you run your job with --strict-protocols or set up mrjob.conf as described at https://pythonhosted.org/mrjob/whats-new.html#ready-for-strict-protocols\r\n",
      "\r\n",
      "writing to /var/folders/h5/1q71m1c54cn07f16c232pqgm38ynd8/T/mrjob_hw90.ssatpati.20151029.205324.659854/step-0-mapper_part-00000\r\n",
      "Counters from step 1:\r\n",
      "  (no counters found)\r\n",
      "writing to /var/folders/h5/1q71m1c54cn07f16c232pqgm38ynd8/T/mrjob_hw90.ssatpati.20151029.205324.659854/step-0-mapper-sorted\r\n",
      "> sort /var/folders/h5/1q71m1c54cn07f16c232pqgm38ynd8/T/mrjob_hw90.ssatpati.20151029.205324.659854/step-0-mapper_part-00000\r\n",
      "writing to /var/folders/h5/1q71m1c54cn07f16c232pqgm38ynd8/T/mrjob_hw90.ssatpati.20151029.205324.659854/step-0-reducer_part-00000\r\n",
      "Counters from step 1:\r\n",
      "  (no counters found)\r\n",
      "Moving /var/folders/h5/1q71m1c54cn07f16c232pqgm38ynd8/T/mrjob_hw90.ssatpati.20151029.205324.659854/step-0-reducer_part-00000 -> /var/folders/h5/1q71m1c54cn07f16c232pqgm38ynd8/T/mrjob_hw90.ssatpati.20151029.205324.659854/output/part-00000\r\n",
      "Streaming final output from /var/folders/h5/1q71m1c54cn07f16c232pqgm38ynd8/T/mrjob_hw90.ssatpati.20151029.205324.659854/output\r\n",
      "1\t\"0.0666666666667|[2,4]\"\r\n",
      "2\t\"0.166666666667|[3,5]\"\r\n",
      "3\t\"0.166666666667|[4]\"\r\n",
      "4\t\"0.3|[5]\"\r\n",
      "5\t\"0.3|[1,2,3]\"\r\n",
      "removing tmp directory /var/folders/h5/1q71m1c54cn07f16c232pqgm38ynd8/T/mrjob_hw90.ssatpati.20151029.205324.659854\r\n"
     ]
    }
   ],
   "source": [
    "# Run Once\n",
    "!python mrjob_hw90.py pr.txt"
   ]
  },
  {
   "cell_type": "code",
   "execution_count": 27,
   "metadata": {
    "collapsed": false
   },
   "outputs": [
    {
     "name": "stdout",
     "output_type": "stream",
     "text": [
      "\n",
      "\n",
      "Iteration: 1:\n",
      "(1, '0.0666666666667|[2,4]')\n",
      "(2, '0.166666666667|[3,5]')\n",
      "(3, '0.166666666667|[4]')\n",
      "(4, '0.3|[5]')\n",
      "(5, '0.3|[1,2,3]')\n",
      "\n",
      "\n",
      "Iteration: 2:\n",
      "(1, '0.1|[2,4]')\n",
      "(2, '0.133333333333|[3,5]')\n",
      "(3, '0.183333333333|[4]')\n",
      "(4, '0.2|[5]')\n",
      "(5, '0.383333333334|[1,2,3]')\n",
      "\n",
      "\n",
      "Iteration: 3:\n",
      "(1, '0.127777777778|[2,4]')\n",
      "(2, '0.177777777778|[3,5]')\n",
      "(3, '0.194444444444|[4]')\n",
      "(4, '0.233333333333|[5]')\n",
      "(5, '0.266666666667|[1,2,3]')\n",
      "\n",
      "\n",
      "Iteration: 4:\n",
      "(1, '0.088888888889|[2,4]')\n",
      "(2, '0.152777777778|[3,5]')\n",
      "(3, '0.177777777778|[4]')\n",
      "(4, '0.258333333333|[5]')\n",
      "(5, '0.322222222222|[1,2,3]')\n",
      "\n",
      "\n",
      "Iteration: 5:\n",
      "(1, '0.107407407407|[2,4]')\n",
      "(2, '0.151851851852|[3,5]')\n",
      "(3, '0.183796296296|[4]')\n",
      "(4, '0.222222222222|[5]')\n",
      "(5, '0.334722222222|[1,2,3]')\n"
     ]
    }
   ],
   "source": [
    "%reload_ext autoreload\n",
    "%autoreload 2\n",
    "from mrjob_hw90 import PageRank\n",
    "import pprint\n",
    "\n",
    "input_file = 'pr.txt'\n",
    "input_file_iter = input_file + '1'\n",
    "\n",
    "cnt = 0\n",
    "\n",
    "# After so many iterations (TBD: Convergence Criteria)\n",
    "while cnt < 5:\n",
    "    print \"\\n\\nIteration: \" + str(cnt+1) + \":\"\n",
    "    if cnt == 0:\n",
    "        mr_job = PageRank(args=[input_file,\n",
    "                                '--no-strict-protocol'])\n",
    "    else:\n",
    "        mr_job = PageRank(args=[input_file_iter,\n",
    "                                '--no-strict-protocol'])\n",
    "\n",
    "    with mr_job.make_runner() as runner: \n",
    "        runner.run()\n",
    "\n",
    "        with open(input_file_iter, 'w') as f:\n",
    "            for line in runner.stream_output():\n",
    "                parsed_line = mr_job.parse_output_line(line)\n",
    "                print parsed_line\n",
    "                f.write(line)\n",
    "                \n",
    "    cnt += 1\n",
    "\n",
    "    #print \"# MR Counters:\"\n",
    "    #pprint.pprint(runner.counters()[0])"
   ]
  },
  {
   "cell_type": "code",
   "execution_count": null,
   "metadata": {
    "collapsed": true
   },
   "outputs": [],
   "source": []
  }
 ],
 "metadata": {
  "kernelspec": {
   "display_name": "Python 2",
   "language": "python",
   "name": "python2"
  },
  "language_info": {
   "codemirror_mode": {
    "name": "ipython",
    "version": 2
   },
   "file_extension": ".py",
   "mimetype": "text/x-python",
   "name": "python",
   "nbconvert_exporter": "python",
   "pygments_lexer": "ipython2",
   "version": "2.7.10"
  }
 },
 "nbformat": 4,
 "nbformat_minor": 0
}
