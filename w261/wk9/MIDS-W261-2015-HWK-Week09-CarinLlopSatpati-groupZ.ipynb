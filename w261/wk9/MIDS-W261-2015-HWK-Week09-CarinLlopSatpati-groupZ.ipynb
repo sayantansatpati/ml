{
 "cells": [
  {
   "cell_type": "markdown",
   "metadata": {},
   "source": [
    "# DATASCI W261: Machine Learning at Scale "
   ]
  },
  {
   "cell_type": "markdown",
   "metadata": {},
   "source": [
    "* **Sayantan/Juanjose/Chris**\n",
    "* **W261**\n",
    "* **Week-9**\n",
    "* **Assignment-9**\n",
    "* **Date of Submission: 04-NOV-2015**"
   ]
  },
  {
   "cell_type": "markdown",
   "metadata": {},
   "source": [
    "#  === Week 9: Page Rank ==="
   ]
  },
  {
   "cell_type": "markdown",
   "metadata": {},
   "source": [
    "### First BASE Version [Before HW9 was published]"
   ]
  },
  {
   "cell_type": "code",
   "execution_count": 163,
   "metadata": {
    "collapsed": false,
    "scrolled": true
   },
   "outputs": [
    {
     "name": "stdout",
     "output_type": "stream",
     "text": [
      "Overwriting mrjob_hw90.py\n"
     ]
    }
   ],
   "source": [
    "%%writefile mrjob_hw90.py\n",
    "from mrjob.job import MRJob\n",
    "from mrjob.step import MRStep\n",
    "from mrjob.protocol import RawProtocol\n",
    "from mrjob.compat import get_jobconf_value\n",
    "import sys\n",
    "import ast\n",
    "\n",
    "'''\n",
    "Sample Input Data:\n",
    "1\t0.2,[2,4]\n",
    "2\t0.2,[3,5]\n",
    "3\t0.2,[4]\n",
    "4\t0.2,[5]\n",
    "5\t0.2,[1,2,3]\n",
    "'''\n",
    "\n",
    "class PageRankFirstVersion(MRJob):\n",
    "    \n",
    "    INPUT_PROTOCOL = RawProtocol\n",
    "    \n",
    "    def steps(self):\n",
    "        return [\n",
    "            MRStep(mapper=self.mapper,\n",
    "                  reducer=self.reducer)\n",
    "        ]\n",
    "    \n",
    "\n",
    "    def mapper(self, key, value):\n",
    "        value = value.strip().replace(\"\\\"\",\"\")\n",
    "        t = value.split(\"|\")\n",
    "        \n",
    "        #sys.stderr.write('[M] {0} | {1} | {2}\\n'.format(key, t[0], t[1]))\n",
    "        \n",
    "        node = key\n",
    "        score = t[0]\n",
    "        neighbors = ast.literal_eval(t[1])\n",
    "        \n",
    "        # Emit the Graph Structure\n",
    "        yield int(node), ('NODE', value)\n",
    "        \n",
    "        # Emit the mass\n",
    "        for n in neighbors:\n",
    "            yield n, ('SCORE', float(score)/len(neighbors))\n",
    "                   \n",
    "        #self.increment_counter('page_rank', 'dangling_node', amount=1)\n",
    "            \n",
    "    def combiner(self, key, values):\n",
    "        pass\n",
    "\n",
    "        \n",
    "    def reducer(self, key, values):\n",
    "        prev_score = None\n",
    "        adj_list = None\n",
    "        total_score = 0\n",
    "\n",
    "        for value_type, value in values:\n",
    "            #sys.stderr.write('[R1] {0} | {1} | {2}\\n'.format(key, value_type, value))\n",
    "            if value_type == 'NODE':\n",
    "                t = value.strip().split(\"|\")\n",
    "                prev_score = t[0]\n",
    "                adj_list = t[1]\n",
    "            else:\n",
    "                assert value_type == 'SCORE'\n",
    "                total_score += value\n",
    "        \n",
    "        '''\n",
    "        node['prev_score'] = node['score']\n",
    "\n",
    "        d = self.options.damping_factor\n",
    "        node['score'] = 1 - d + d * total_score\n",
    "        '''\n",
    "\n",
    "        #sys.stderr.write('[R2] {0} | {1} | {2}\\n\\n'.format(key, total_score, adj_list))\n",
    "        yield key, '{0}|{1}'.format(total_score, adj_list)\n",
    "\n",
    "   \n",
    "if __name__ == '__main__':\n",
    "    PageRankFirstVersion.run()"
   ]
  },
  {
   "cell_type": "code",
   "execution_count": 164,
   "metadata": {
    "collapsed": false,
    "scrolled": true
   },
   "outputs": [],
   "source": [
    "!chmod a+x mrjob_hw90.py"
   ]
  },
  {
   "cell_type": "code",
   "execution_count": 165,
   "metadata": {
    "collapsed": false,
    "scrolled": true
   },
   "outputs": [
    {
     "name": "stdout",
     "output_type": "stream",
     "text": [
      "using configs in /Users/ssatpati/.mrjob.conf\n",
      "creating tmp directory /var/folders/h5/1q71m1c54cn07f16c232pqgm38ynd8/T/mrjob_hw90.ssatpati.20151101.165710.431202\n",
      "\n",
      "PLEASE NOTE: Starting in mrjob v0.5.0, protocols will be strict by default. It's recommended you run your job with --strict-protocols or set up mrjob.conf as described at https://pythonhosted.org/mrjob/whats-new.html#ready-for-strict-protocols\n",
      "\n",
      "writing to /var/folders/h5/1q71m1c54cn07f16c232pqgm38ynd8/T/mrjob_hw90.ssatpati.20151101.165710.431202/step-0-mapper_part-00000\n",
      "Counters from step 1:\n",
      "  (no counters found)\n",
      "writing to /var/folders/h5/1q71m1c54cn07f16c232pqgm38ynd8/T/mrjob_hw90.ssatpati.20151101.165710.431202/step-0-mapper-sorted\n",
      "> sort /var/folders/h5/1q71m1c54cn07f16c232pqgm38ynd8/T/mrjob_hw90.ssatpati.20151101.165710.431202/step-0-mapper_part-00000\n",
      "writing to /var/folders/h5/1q71m1c54cn07f16c232pqgm38ynd8/T/mrjob_hw90.ssatpati.20151101.165710.431202/step-0-reducer_part-00000\n",
      "Counters from step 1:\n",
      "  (no counters found)\n",
      "Moving /var/folders/h5/1q71m1c54cn07f16c232pqgm38ynd8/T/mrjob_hw90.ssatpati.20151101.165710.431202/step-0-reducer_part-00000 -> /var/folders/h5/1q71m1c54cn07f16c232pqgm38ynd8/T/mrjob_hw90.ssatpati.20151101.165710.431202/output/part-00000\n",
      "Streaming final output from /var/folders/h5/1q71m1c54cn07f16c232pqgm38ynd8/T/mrjob_hw90.ssatpati.20151101.165710.431202/output\n",
      "1\t\"0.0666666666667|[2,4]\"\n",
      "2\t\"0.166666666667|[3,5]\"\n",
      "3\t\"0.166666666667|[4]\"\n",
      "4\t\"0.3|[5]\"\n",
      "5\t\"0.3|[1,2,3]\"\n",
      "removing tmp directory /var/folders/h5/1q71m1c54cn07f16c232pqgm38ynd8/T/mrjob_hw90.ssatpati.20151101.165710.431202\n"
     ]
    }
   ],
   "source": [
    "# Run Once\n",
    "!python mrjob_hw90.py pr.txt"
   ]
  },
  {
   "cell_type": "code",
   "execution_count": 167,
   "metadata": {
    "collapsed": false,
    "scrolled": true
   },
   "outputs": [
    {
     "name": "stdout",
     "output_type": "stream",
     "text": [
      "\n",
      "\n",
      "Iteration: 1:\n",
      "(1, '0.0666666666667|[2,4]')\n",
      "(2, '0.166666666667|[3,5]')\n",
      "(3, '0.166666666667|[4]')\n",
      "(4, '0.3|[5]')\n",
      "(5, '0.3|[1,2,3]')\n",
      "\n",
      "\n",
      "Iteration: 2:\n",
      "(1, '0.1|[2,4]')\n",
      "(2, '0.133333333333|[3,5]')\n",
      "(3, '0.183333333333|[4]')\n",
      "(4, '0.2|[5]')\n",
      "(5, '0.383333333334|[1,2,3]')\n",
      "\n",
      "\n",
      "Iteration: 3:\n",
      "(1, '0.127777777778|[2,4]')\n",
      "(2, '0.177777777778|[3,5]')\n",
      "(3, '0.194444444444|[4]')\n",
      "(4, '0.233333333333|[5]')\n",
      "(5, '0.266666666667|[1,2,3]')\n",
      "\n",
      "\n",
      "Iteration: 4:\n",
      "(1, '0.088888888889|[2,4]')\n",
      "(2, '0.152777777778|[3,5]')\n",
      "(3, '0.177777777778|[4]')\n",
      "(4, '0.258333333333|[5]')\n",
      "(5, '0.322222222222|[1,2,3]')\n",
      "\n",
      "\n",
      "Iteration: 5:\n",
      "(1, '0.107407407407|[2,4]')\n",
      "(2, '0.151851851852|[3,5]')\n",
      "(3, '0.183796296296|[4]')\n",
      "(4, '0.222222222222|[5]')\n",
      "(5, '0.334722222222|[1,2,3]')\n"
     ]
    }
   ],
   "source": [
    "%reload_ext autoreload\n",
    "%autoreload 2\n",
    "from mrjob_hw90 import PageRankFirstVersion\n",
    "import pprint\n",
    "\n",
    "input_file = 'pr.txt'\n",
    "input_file_iter = input_file + '1'\n",
    "\n",
    "cnt = 0\n",
    "\n",
    "# After so many iterations (TBD: Convergence Criteria)\n",
    "while cnt < 5:\n",
    "    print \"\\n\\nIteration: \" + str(cnt+1) + \":\"\n",
    "    if cnt == 0:\n",
    "        mr_job = PageRankFirstVersion(args=[input_file,\n",
    "                                '--no-strict-protocol'])\n",
    "    else:\n",
    "        mr_job = PageRankFirstVersion(args=[input_file_iter,\n",
    "                                '--no-strict-protocol'])\n",
    "\n",
    "    with mr_job.make_runner() as runner: \n",
    "        runner.run()\n",
    "\n",
    "        with open(input_file_iter, 'w') as f:\n",
    "            for line in runner.stream_output():\n",
    "                parsed_line = mr_job.parse_output_line(line)\n",
    "                print parsed_line\n",
    "                f.write(line)\n",
    "                \n",
    "    cnt += 1\n",
    "\n",
    "    #print \"# MR Counters:\"\n",
    "    #pprint.pprint(runner.counters()[0])"
   ]
  },
  {
   "cell_type": "markdown",
   "metadata": {},
   "source": [
    "## HW9.0\n",
    "____\n",
    "\n",
    "***===HW 9.0: Short answer questions===***\n",
    "\n",
    "What is PageRank and what is it used for in the context of web search?\n",
    "What modifications have to be made to the webgraph in order to leverage the machinery of Markov Chains to \n",
    "compute the steady stade distibuton?\n",
    "OPTIONAL: In topic-specific pagerank, how can we insure that the irreducible property is satified? (HINT: see HW9.4)"
   ]
  },
  {
   "cell_type": "markdown",
   "metadata": {},
   "source": [
    "PageRank is an algorithm for computing a ranking for every web page based on the graph of the web. It uses (apart from the structure of that graph) the forward links and backlinks connecting the web pages, and has applications in search, browsing, traffic estimation, etc.\n",
    "\n",
    "In order to compute the steady state distribution of the Markov chain that is the random surfer in which PageRank is based, the matrix that represents the random surfer must be stochastic. To have such a matrix, we must ensure that the random surfer does not get stuck at a dangling node, by adding a teleportation factor to all probabilities in the matrix (α/N, where N is the number of nodes in the web graph) such that the random surfer will jump to any node, with uniform probability. A second modification is that we have to distribute the probability mass (m) of all dangling nodes at a certain state to all the nodes in the graph; this is done by substituting all cells in a column of the transition matrix corresponding to a dangling node (i.e., a node with no forward links), which would be zero, by 1/N.\n",
    "\n",
    "By removing all columns of the transition matrix M and all elements of the teleportation vector p that correspond to nodes not reachable from nodes of a certain topic (i.e., nonzero nodes in p). In topic-specific PageRank, teleportation probabilities are not uniform: for a given topic, only nodes corresponding to that topic get a nonzero teleportation probability (1/x, with x the number of nodes in that category), and the rest will have a zero teleportation probability."
   ]
  },
  {
   "cell_type": "markdown",
   "metadata": {},
   "source": [
    "## HW 7.5.1\n",
    "___\n",
    "\n",
    "***Addendum questions from HW7***\n",
    "=== HW 7.5.1: \n",
    "\n",
    "Can we utilize combiners in the HW 7 to perform the shortest path implementation?\n",
    "\n",
    "Does order inversion help with the HW 7 shortest path implementation?"
   ]
  },
  {
   "cell_type": "markdown",
   "metadata": {},
   "source": [
    "Yes, we could use combiners. Say we have the following graph:\n",
    "\n",
    "```\n",
    " A {B: 1, E: 10}\n",
    " B {C:1}\n",
    " C {D:1, F: 2}\n",
    " D {E:3}\n",
    " F {E: 1}\n",
    "```\n",
    "\n",
    "In the 1st iteration the distance from A to E is set to 10. In the 4th iteration, the mapper emits both (E, 6) (A-B-C-D-E) and (E, 5) (A-B-C-F-E). A combiner would take both outputs from the mapper and discards the former, passing to the reducer only the latter, and hence reducing network traffic.\n",
    "\n",
    "This answer is based on the implementation of the shortest path for weighted links, the one that we used in HW7; if the graph is unweighted, a combiner would add no value.\n",
    "\n",
    "Another apporach would be with a code quite similar to those in the reducers. I.e., they would update the SSSP and the Frontiers \"in advance\"(N.B.: this answer is based .\n",
    "\n",
    "No (at least in the weighted graph version), since there is no general information about a node that must be used first."
   ]
  },
  {
   "cell_type": "markdown",
   "metadata": {},
   "source": [
    "## HW 9.1\n",
    "---\n",
    "\n",
    "MRJob implementation of basic PageRank\n",
    "\n",
    "Write a basic MRJob implementation of the iterative PageRank algorithm\n",
    "that takes sparse adjacency lists as input (as explored in HW 7).\n",
    "Make sure that you implementation utilizes teleportation (damping),\n",
    "and further, distributes the mass of dangling nodes with each iteration\n",
    "so that the output of each iteration is correctly normalized (sums to 1).\n",
    "\n",
    "\n",
    "As you build your code, use the test data\n",
    "\n",
    "s3://ucb-mids-mls-networks/PageRank-test.txt\n",
    "\n",
    "with teleportation parameter set to 0.15, and crosscheck\n",
    "your work with the true result, displayed in the first image\n",
    "in the Wikipedia article:\n",
    "\n",
    "https://en.wikipedia.org/wiki/PageRank\n",
    "\n",
    "and here for reference are the corresponding PageRank probabilities:\n",
    "\n",
    "\n",
    "```\n",
    "A,0.033\n",
    "B,0.384\n",
    "C,0.343\n",
    "D,0.039\n",
    "E,0.081\n",
    "F,0.039\n",
    "G,0.016\n",
    "H,0.016\n",
    "I,0.016\n",
    "J,0.016\n",
    "K,0.016\n",
    "```"
   ]
  },
  {
   "cell_type": "code",
   "execution_count": 121,
   "metadata": {
    "collapsed": false
   },
   "outputs": [
    {
     "name": "stdout",
     "output_type": "stream",
     "text": [
      "Overwriting mrjob_preproc_hw91.py\n"
     ]
    }
   ],
   "source": [
    "%%writefile mrjob_preproc_hw91.py\n",
    "from mrjob.job import MRJob\n",
    "from mrjob.step import MRStep\n",
    "from mrjob.protocol import RawProtocol\n",
    "from mrjob.compat import get_jobconf_value\n",
    "import sys\n",
    "import ast\n",
    "\n",
    "\n",
    "class FilePreProc(MRJob):\n",
    "        \n",
    "    def steps(self):\n",
    "        return [\n",
    "            MRStep(mapper=self.mapper,\n",
    "                  reducer=self.reducer)\n",
    "        ]\n",
    "    \n",
    "\n",
    "    def mapper(self, _, line):\n",
    "        t = line.strip().split('\\t')\n",
    "        adj_list = ast.literal_eval(t[1])\n",
    "        \n",
    "        yield t[0], adj_list\n",
    "        \n",
    "        for n in adj_list:\n",
    "            yield n, '*'\n",
    "          \n",
    "    def reducer(self, key, values):  \n",
    "        source = False\n",
    "        adj_list = {}\n",
    "        for v in values:\n",
    "            if type(v) == type({}):\n",
    "                source = True\n",
    "                adj_list = v\n",
    "        yield key, adj_list\n",
    "   \n",
    "if __name__ == '__main__':\n",
    "    FilePreProc.run()"
   ]
  },
  {
   "cell_type": "code",
   "execution_count": 122,
   "metadata": {
    "collapsed": true
   },
   "outputs": [],
   "source": [
    "!chmod a+x mrjob_preproc_hw91.py"
   ]
  },
  {
   "cell_type": "code",
   "execution_count": 123,
   "metadata": {
    "collapsed": false
   },
   "outputs": [
    {
     "name": "stdout",
     "output_type": "stream",
     "text": [
      "using configs in /Users/ssatpati/.mrjob.conf\r\n",
      "creating tmp directory /var/folders/h5/1q71m1c54cn07f16c232pqgm38ynd8/T/mrjob_preproc_hw91.ssatpati.20151101.215010.833223\r\n",
      "\r\n",
      "PLEASE NOTE: Starting in mrjob v0.5.0, protocols will be strict by default. It's recommended you run your job with --strict-protocols or set up mrjob.conf as described at https://pythonhosted.org/mrjob/whats-new.html#ready-for-strict-protocols\r\n",
      "\r\n",
      "writing to /var/folders/h5/1q71m1c54cn07f16c232pqgm38ynd8/T/mrjob_preproc_hw91.ssatpati.20151101.215010.833223/step-0-mapper_part-00000\r\n",
      "Counters from step 1:\r\n",
      "  (no counters found)\r\n",
      "writing to /var/folders/h5/1q71m1c54cn07f16c232pqgm38ynd8/T/mrjob_preproc_hw91.ssatpati.20151101.215010.833223/step-0-mapper-sorted\r\n",
      "> sort /var/folders/h5/1q71m1c54cn07f16c232pqgm38ynd8/T/mrjob_preproc_hw91.ssatpati.20151101.215010.833223/step-0-mapper_part-00000\r\n",
      "writing to /var/folders/h5/1q71m1c54cn07f16c232pqgm38ynd8/T/mrjob_preproc_hw91.ssatpati.20151101.215010.833223/step-0-reducer_part-00000\r\n",
      "Counters from step 1:\r\n",
      "  (no counters found)\r\n",
      "Moving /var/folders/h5/1q71m1c54cn07f16c232pqgm38ynd8/T/mrjob_preproc_hw91.ssatpati.20151101.215010.833223/step-0-reducer_part-00000 -> /var/folders/h5/1q71m1c54cn07f16c232pqgm38ynd8/T/mrjob_preproc_hw91.ssatpati.20151101.215010.833223/output/part-00000\r\n",
      "Streaming final output from /var/folders/h5/1q71m1c54cn07f16c232pqgm38ynd8/T/mrjob_preproc_hw91.ssatpati.20151101.215010.833223/output\r\n",
      "removing tmp directory /var/folders/h5/1q71m1c54cn07f16c232pqgm38ynd8/T/mrjob_preproc_hw91.ssatpati.20151101.215010.833223\r\n"
     ]
    }
   ],
   "source": [
    "!python mrjob_preproc_hw91.py PageRank-test.txt > PageRank-test.txt.pp"
   ]
  },
  {
   "cell_type": "code",
   "execution_count": 203,
   "metadata": {
    "collapsed": false,
    "scrolled": true
   },
   "outputs": [
    {
     "name": "stdout",
     "output_type": "stream",
     "text": [
      "Overwriting mrjob_hw91.py\n"
     ]
    }
   ],
   "source": [
    "%%writefile mrjob_hw91.py\n",
    "from mrjob.job import MRJob\n",
    "from mrjob.step import MRStep\n",
    "from mrjob.protocol import RawProtocol\n",
    "from mrjob.compat import get_jobconf_value\n",
    "import sys\n",
    "import ast\n",
    "from numpy import log1p, exp, log\n",
    "\n",
    "## A function to sum log probabilities\n",
    "def sum_log(p, q):\n",
    "    if q > p:\n",
    "        b = log(q)\n",
    "        if p == 0:\n",
    "            return exp(b + log1p(0))\n",
    "        else:\n",
    "            a = log(p)\n",
    "            return exp(b + log1p(exp(a-b)))\n",
    "    else:\n",
    "        if q == 0:\n",
    "            if p == 0:\n",
    "                return 0.\n",
    "            else:\n",
    "                a = log(p)\n",
    "                return exp(a + log1p(0))\n",
    "        else:\n",
    "            b = log(q)\n",
    "            a = log(p)\n",
    "            return exp(a + log1p(exp(b-a)))\n",
    "\n",
    "\n",
    "class PageRank(MRJob):\n",
    "    \n",
    "    INPUT_PROTOCOL = RawProtocol\n",
    "    \n",
    "    def steps(self):\n",
    "        return [\n",
    "            MRStep(mapper=self.mapper,\n",
    "                  reducer=self.reducer),\n",
    "            MRStep(mapper_init=self.mapper_dangling_init,\n",
    "                mapper=self.mapper_dangling)\n",
    "        ]\n",
    "    \n",
    "\n",
    "    def mapper(self, key, value):\n",
    "        nodes = int(get_jobconf_value('nodes'))\n",
    "        i = int(get_jobconf_value('iteration'))\n",
    "        #sys.stderr.write('[M] {0}, {1} \\n'.format(key, value))\n",
    "        key = key.replace(\"\\\"\",\"\")\n",
    "        key = key.replace(\"\\\\\",\"\")\n",
    "        adj_list = ast.literal_eval(value)\n",
    "      \n",
    "        score = 0\n",
    "        l = 0\n",
    "        \n",
    "        if 'score' in adj_list.keys():\n",
    "            # Previous Mass/Page Rank\n",
    "            score = adj_list['score']\n",
    "            l = len(adj_list) - 1\n",
    "        else: # First iteration ('score' not yet part of the adjacency list!)\n",
    "            # Start with uniform probability distribution\n",
    "            score = 1.0 / nodes\n",
    "            l = len(adj_list)\n",
    "            adj_list['score'] = score\n",
    "            \n",
    "        if l == 0: # Only 'score' & no out links [Dangling!]\n",
    "            sys.stderr.write('[{0}][M] \"DANGLING MASS\" | {1} | {2}\\n'.format(i, key, score))\n",
    "            # Emit using a special key; Accumlate in Reducer;Distribute in the next MRJob\n",
    "            yield 'DANGLING', ('SCORE', score)\n",
    "       \n",
    "        # Emit the Graph Structure\n",
    "        yield key, ('GRAPH', adj_list)\n",
    "                    \n",
    "        # Emit the new Mass/Page Rank\n",
    "        for n in adj_list:\n",
    "            if n != 'score':\n",
    "                yield n, ('SCORE', score/l)\n",
    "                               \n",
    "    def combiner(self, key, values):\n",
    "        pass\n",
    "\n",
    "        \n",
    "    def reducer(self, key, values):     \n",
    "        i = int(get_jobconf_value('iteration'))\n",
    "        teleportation = float(get_jobconf_value('teleportation'))\n",
    "        nodes = int(get_jobconf_value('nodes'))\n",
    "        \n",
    "        adj_list = None\n",
    "        total_score = 0\n",
    "\n",
    "        for value_type, value in values:\n",
    "            if value_type == 'GRAPH':\n",
    "                adj_list = value\n",
    "            else:\n",
    "                assert value_type == 'SCORE'\n",
    "                total_score += value\n",
    "                #total_score = sum_log(total_score, value)\n",
    "                \n",
    "        # Special Key\n",
    "        if key == 'DANGLING':\n",
    "            # Write accumulated Dangling Score in a file\n",
    "            with open('/Users/ssatpati/0-DATASCIENCE/DEV/github/ml/w261/wk9/dangling.txt', 'w') as f:\n",
    "                f.write('DANGLING\\t{0}\\n'.format(total_score))\n",
    "        else:\n",
    "            #total_score = (teleportation / nodes) + ((1 - teleportation) * total_score)\n",
    "            #total_score = sum_log((teleportation / nodes), ((1 - teleportation) * total_score))\n",
    "            if adj_list:\n",
    "                adj_list['score'] = total_score\n",
    "            else:\n",
    "                adj_list = {'score': total_score}\n",
    "    \n",
    "            #sys.stderr.write('[R2] {0} | {1} | {2}\\n\\n'.format(key, total_score, adj_list))\n",
    "            yield key, adj_list\n",
    "       \n",
    "\n",
    "    def mapper_dangling_init(self):\n",
    "        i = int(get_jobconf_value('iteration'))\n",
    "        self.dangling_mass = 0\n",
    "        f_dangling = '/Users/ssatpati/0-DATASCIENCE/DEV/github/ml/w261/wk9/dangling.txt'\n",
    "        try:\n",
    "            with open(f_dangling, 'r') as f:\n",
    "                l = f.readlines()\n",
    "                if l:\n",
    "                    self.dangling_mass = float(l[0].split('\\t')[1])\n",
    "            open(f_dangling, 'w').close()\n",
    "        except Exception as e:\n",
    "            pass\n",
    "        sys.stderr.write('[{0}][M_D] DANGLING MASS: {1}\\n'.format(i, self.dangling_mass))\n",
    "        \n",
    "    def mapper_dangling(self, key, value):\n",
    "        #sys.stderr.write('[M_D] {0}, {1} \\n'.format(key, value))\n",
    "        i = int(get_jobconf_value('iteration'))\n",
    "        key = key.replace(\"\\\"\",\"\")\n",
    "        key = key.replace(\"\\\\\",\"\")\n",
    "        adj_list = ast.literal_eval(str(value))\n",
    "        \n",
    "        if self.dangling_mass > 0:\n",
    "            nodes = int(get_jobconf_value('nodes'))\n",
    "            teleportation = float(get_jobconf_value('teleportation'))\n",
    "            score = adj_list['score']\n",
    "            modified_score = (teleportation / nodes) + (1 - teleportation) * ((self.dangling_mass / nodes) + score)\n",
    "            #modified_score = sum_log((teleportation / nodes), (1 - teleportation)*(self.dangling_mass / nodes))\n",
    "            #modified_score = sum_log(modified_score, (1 - teleportation)*score)\n",
    "            adj_list['score'] = modified_score\n",
    "            \n",
    "        yield key, adj_list\n",
    "        \n",
    "\n",
    "   \n",
    "if __name__ == '__main__':\n",
    "    PageRank.run()"
   ]
  },
  {
   "cell_type": "code",
   "execution_count": 204,
   "metadata": {
    "collapsed": false,
    "scrolled": true
   },
   "outputs": [],
   "source": [
    "!chmod a+x mrjob_hw91.py"
   ]
  },
  {
   "cell_type": "code",
   "execution_count": 209,
   "metadata": {
    "collapsed": false,
    "scrolled": true
   },
   "outputs": [
    {
     "name": "stderr",
     "output_type": "stream",
     "text": [
      "[1][M] \"DANGLING MASS\" | A | 0.0909090909091\n",
      "[1][M_D] DANGLING MASS: 0.0909090909091\n",
      "[2][M] \"DANGLING MASS\" | A | 0.0592975206612\n",
      "[2][M_D] DANGLING MASS: 0.0592975206612\n"
     ]
    },
    {
     "name": "stdout",
     "output_type": "stream",
     "text": [
      "\n",
      "\n",
      "Iteration: 1:\n",
      "('A', {'score': 0.059297520661157725})\n",
      "('B', {'C': 1, 'score': 0.3168732782369153})\n",
      "('C', {'B': 1, 'score': 0.09793388429752137})\n",
      "('D', {'A': 1, 'B': 1, 'score': 0.04641873278236985})\n",
      "('E', {'F': 1, 'B': 1, 'score': 0.3297520661157031, 'D': 1})\n",
      "('F', {'B': 1, 'E': 1, 'score': 0.04641873278236985})\n",
      "('G', {'B': 1, 'E': 1, 'score': 0.02066115702479409})\n",
      "('H', {'B': 1, 'E': 1, 'score': 0.02066115702479409})\n",
      "('I', {'B': 1, 'E': 1, 'score': 0.02066115702479409})\n",
      "('J', {'score': 0.02066115702479409, 'E': 1})\n",
      "('K', {'score': 0.02066115702479409, 'E': 1})\n",
      "\n",
      "#Iteration: 1, Page Rank (Sum): 1.0\n",
      "#Iteration: 1, Difference in Ranks: 0.941\n",
      "Prev Page Ranks:  [True]\n",
      "Curr Page Ranks:  [0.059, 0.317, 0.098, 0.046, 0.33, 0.046, 0.021, 0.021, 0.021, 0.021, 0.021]\n",
      "\n",
      "\n",
      "Iteration: 2:\n",
      "('A', {'score': 0.03794640621087264})\n",
      "('B', {'C': 1, 'score': 0.26069089656900135})\n",
      "('C', {'B': 1, 'score': 0.2875607312797434})\n",
      "('D', {'A': 1, 'B': 1, 'score': 0.11164819684448135})\n",
      "('E', {'F': 1, 'B': 1, 'score': 0.09941334835963506, 'D': 1})\n",
      "('F', {'B': 1, 'E': 1, 'score': 0.11164819684448135})\n",
      "('G', {'B': 1, 'E': 1, 'score': 0.018218444778365452})\n",
      "('H', {'B': 1, 'E': 1, 'score': 0.018218444778365452})\n",
      "('I', {'B': 1, 'E': 1, 'score': 0.018218444778365452})\n",
      "('J', {'score': 0.018218444778365452, 'E': 1})\n",
      "('K', {'score': 0.018218444778365452, 'E': 1})\n",
      "\n",
      "#Iteration: 2, Page Rank (Sum): 1.0\n",
      "#Iteration: 2, Difference in Ranks: 0.645\n",
      "Prev Page Ranks:  [0.059, 0.317, 0.098, 0.046, 0.33, 0.046, 0.021, 0.021, 0.021, 0.021, 0.021]\n",
      "Curr Page Ranks:  [0.038, 0.261, 0.288, 0.112, 0.099, 0.112, 0.018, 0.018, 0.018, 0.018, 0.018]\n",
      "\n",
      "\n",
      "Iteration: 3:\n",
      "('A', {'score': 0.0640190695933832})"
     ]
    },
    {
     "name": "stderr",
     "output_type": "stream",
     "text": [
      "[3][M] \"DANGLING MASS\" | A | 0.0379464062109\n",
      "[3][M_D] DANGLING MASS: 0.0379464062109\n",
      "[4][M] \"DANGLING MASS\" | A | 0.0640190695934\n"
     ]
    },
    {
     "name": "stdout",
     "output_type": "stream",
     "text": [
      "\n",
      "('B', {'C': 1, 'score': 0.40729180730104886})\n",
      "('C', {'B': 1, 'score': 0.23815584801812978})\n",
      "('D', {'A': 1, 'B': 1, 'score': 0.0447357013030419})\n",
      "('E', {'F': 1, 'B': 1, 'score': 0.11821894280902044, 'D': 1})\n",
      "('F', {'B': 1, 'E': 1, 'score': 0.0447357013030419})\n",
      "('G', {'B': 1, 'E': 1, 'score': 0.016568585934478637})\n",
      "('H', {'B': 1, 'E': 1, 'score': 0.016568585934478637})\n",
      "('I', {'B': 1, 'E': 1, 'score': 0.016568585934478637})\n",
      "('J', {'score': 0.016568585934478637, 'E': 1})\n",
      "('K', {'score': 0.016568585934478637, 'E': 1})\n",
      "\n",
      "#Iteration: 3, Page Rank (Sum): 1.0\n",
      "#Iteration: 3, Difference in Ranks: 0.38\n",
      "Prev Page Ranks:  [0.038, 0.261, 0.288, 0.112, 0.099, 0.112, 0.018, 0.018, 0.018, 0.018, 0.018]\n",
      "Curr Page Ranks:  [0.064, 0.407, 0.238, 0.045, 0.118, 0.045, 0.017, 0.017, 0.017, 0.017, 0.017]\n",
      "\n",
      "\n",
      "Iteration: 4:\n",
      "('A', {'score': 0.03759596479510099})\n",
      "('B', {'C': 1, 'score': 0.31366142285998677})\n",
      "('C', {'B': 1, 'score': 0.3647813279471997})"
     ]
    },
    {
     "name": "stderr",
     "output_type": "stream",
     "text": [
      "[4][M_D] DANGLING MASS: 0.0640190695934\n",
      "[5][M] \"DANGLING MASS\" | A | 0.0375959647951\n",
      "[5][M_D] DANGLING MASS: 0.0375959647951\n"
     ]
    },
    {
     "name": "stdout",
     "output_type": "stream",
     "text": [
      "\n",
      "('D', {'A': 1, 'B': 1, 'score': 0.05207865887053064})\n",
      "('E', {'F': 1, 'B': 1, 'score': 0.08688750795017493, 'D': 1})\n",
      "('F', {'B': 1, 'E': 1, 'score': 0.05207865887053064})\n",
      "('G', {'B': 1, 'E': 1, 'score': 0.01858329174130818})\n",
      "('H', {'B': 1, 'E': 1, 'score': 0.01858329174130818})\n",
      "('I', {'B': 1, 'E': 1, 'score': 0.01858329174130818})\n",
      "('J', {'score': 0.01858329174130818, 'E': 1})\n",
      "('K', {'score': 0.01858329174130818, 'E': 1})\n",
      "\n",
      "#Iteration: 4, Page Rank (Sum): 1.0\n",
      "#Iteration: 4, Difference in Ranks: 0.301\n",
      "Prev Page Ranks:  [0.064, 0.407, 0.238, 0.045, 0.118, 0.045, 0.017, 0.017, 0.017, 0.017, 0.017]\n",
      "Curr Page Ranks:  [0.038, 0.314, 0.365, 0.052, 0.087, 0.052, 0.019, 0.019, 0.019, 0.019, 0.019]\n",
      "\n",
      "\n",
      "Iteration: 5:\n",
      "('A', {'score': 0.038674936390505975})"
     ]
    },
    {
     "name": "stderr",
     "output_type": "stream",
     "text": [
      "[6][M] \"DANGLING MASS\" | A | 0.0386749363905\n",
      "[6][M_D] DANGLING MASS: 0.0386749363905\n",
      "[7][M] \"DANGLING MASS\" | A | 0.0341177257382\n",
      "[7][M_D] DANGLING MASS: 0.0341177257382\n"
     ]
    },
    {
     "name": "stdout",
     "output_type": "stream",
     "text": [
      "\n",
      "('B', {'C': 1, 'score': 0.41918431938831874})\n",
      "('C', {'B': 1, 'score': 0.28315371580151916})\n",
      "('D', {'A': 1, 'B': 1, 'score': 0.04115963362308002})\n",
      "('E', {'F': 1, 'B': 1, 'score': 0.09396022932089781, 'D': 1})\n",
      "('F', {'B': 1, 'E': 1, 'score': 0.04115963362308002})\n",
      "('G', {'B': 1, 'E': 1, 'score': 0.016541506370530455})\n",
      "('H', {'B': 1, 'E': 1, 'score': 0.016541506370530455})\n",
      "('I', {'B': 1, 'E': 1, 'score': 0.016541506370530455})\n",
      "('J', {'score': 0.016541506370530455, 'E': 1})\n",
      "('K', {'score': 0.016541506370530455, 'E': 1})\n",
      "\n",
      "#Iteration: 5, Page Rank (Sum): 1.0\n",
      "#Iteration: 5, Difference in Ranks: 0.227\n",
      "Prev Page Ranks:  [0.038, 0.314, 0.365, 0.052, 0.087, 0.052, 0.019, 0.019, 0.019, 0.019, 0.019]\n",
      "Curr Page Ranks:  [0.039, 0.419, 0.283, 0.041, 0.094, 0.041, 0.017, 0.017, 0.017, 0.017, 0.017]\n",
      "\n",
      "\n",
      "Iteration: 6:\n",
      "('A', {'score': 0.03411772573816582})\n",
      "('B', {'C': 1, 'score': 0.34000371405594676})\n",
      "('C', {'B': 1, 'score': 0.3729315529284277})\n",
      "('D', {'A': 1, 'B': 1, 'score': 0.0432469464226112})\n",
      "('E', {'F': 1, 'B': 1, 'score': 0.08332870719049393, 'D': 1})\n",
      "('F', {'B': 1, 'E': 1, 'score': 0.0432469464226112})\n",
      "('G', {'B': 1, 'E': 1, 'score': 0.016624881448356818})\n",
      "('H', {'B': 1, 'E': 1, 'score': 0.016624881448356818})\n",
      "('I', {'B': 1, 'E': 1, 'score': 0.016624881448356818})\n",
      "('J', {'score': 0.016624881448356818, 'E': 1})\n",
      "('K', {'score': 0.016624881448356818, 'E': 1})\n",
      "\n",
      "#Iteration: 6, Page Rank (Sum): 1.0\n",
      "#Iteration: 6, Difference in Ranks: 0.189\n",
      "Prev Page Ranks:  [0.039, 0.419, 0.283, 0.041, 0.094, 0.041, 0.017, 0.017, 0.017, 0.017, 0.017]\n",
      "Curr Page Ranks:  [0.034, 0.34, 0.373, 0.043, 0.083, 0.043, 0.017, 0.017, 0.017, 0.017, 0.017]\n",
      "\n",
      "\n",
      "Iteration: 7:\n",
      "('A', {'score': 0.03465268558210703})"
     ]
    },
    {
     "name": "stderr",
     "output_type": "stream",
     "text": [
      "[8][M] \"DANGLING MASS\" | A | 0.0346526855821\n",
      "[8][M_D] DANGLING MASS: 0.0346526855821\n",
      "[9][M] \"DANGLING MASS\" | A | 0.033264147991\n",
      "[9][M_D] DANGLING MASS: 0.033264147991\n"
     ]
    },
    {
     "name": "stdout",
     "output_type": "stream",
     "text": [
      "\n",
      "('B', {'C': 1, 'score': 0.4148309820181752})\n",
      "('C', {'B': 1, 'score': 0.305275890300052})\n",
      "('D', {'A': 1, 'B': 1, 'score': 0.03988253372313722})\n",
      "('E', {'F': 1, 'B': 1, 'score': 0.08411170789096857, 'D': 1})\n",
      "('F', {'B': 1, 'E': 1, 'score': 0.03988253372313722})\n",
      "('G', {'B': 1, 'E': 1, 'score': 0.016272733352497272})\n",
      "('H', {'B': 1, 'E': 1, 'score': 0.016272733352497272})\n",
      "('I', {'B': 1, 'E': 1, 'score': 0.016272733352497272})\n",
      "('J', {'score': 0.016272733352497272, 'E': 1})\n",
      "('K', {'score': 0.016272733352497272, 'E': 1})\n",
      "\n",
      "#Iteration: 7, Page Rank (Sum): 1.0\n",
      "#Iteration: 7, Difference in Ranks: 0.156\n",
      "Prev Page Ranks:  [0.034, 0.34, 0.373, 0.043, 0.083, 0.043, 0.017, 0.017, 0.017, 0.017, 0.017]\n",
      "Curr Page Ranks:  [0.035, 0.415, 0.305, 0.04, 0.084, 0.04, 0.016, 0.016, 0.016, 0.016, 0.016]\n",
      "\n",
      "\n",
      "Iteration: 8:\n",
      "('A', {'score': 0.033264147990950135})\n",
      "('B', {'C': 1, 'score': 0.35427811717186936})\n",
      "('C', {'B': 1, 'score': 0.36892040587406566})\n",
      "('D', {'A': 1, 'B': 1, 'score': 0.04014572172772458})\n",
      "('E', {'F': 1, 'B': 1, 'score': 0.08167552971462952, 'D': 1})\n",
      "('F', {'B': 1, 'E': 1, 'score': 0.04014572172772458})\n",
      "('G', {'B': 1, 'E': 1, 'score': 0.016314071158616817})\n",
      "('H', {'B': 1, 'E': 1, 'score': 0.016314071158616817})\n",
      "('I', {'B': 1, 'E': 1, 'score': 0.016314071158616817})\n",
      "('J', {'score': 0.016314071158616817, 'E': 1})\n",
      "('K', {'score': 0.016314071158616817, 'E': 1})\n",
      "\n",
      "#Iteration: 8, Page Rank (Sum): 1.0\n",
      "#Iteration: 8, Difference in Ranks: 0.129\n",
      "Prev Page Ranks:  [0.035, 0.415, 0.305, 0.04, 0.084, 0.04, 0.016, 0.016, 0.016, 0.016, 0.016]\n",
      "Curr Page Ranks:  [0.033, 0.354, 0.369, 0.04, 0.082, 0.04, 0.016, 0.016, 0.016, 0.016, 0.016]\n",
      "\n",
      "\n",
      "Iteration: 9:\n",
      "('A', {'score': 0.03326870680631476})"
     ]
    },
    {
     "name": "stderr",
     "output_type": "stream",
     "text": [
      "[10][M] \"DANGLING MASS\" | A | 0.0332687068063\n",
      "[10][M_D] DANGLING MASS: 0.0332687068063\n",
      "[11][M] \"DANGLING MASS\" | A | 0.0329301017862\n",
      "[11][M_D] DANGLING MASS: 0.0329301017862\n"
     ]
    },
    {
     "name": "stdout",
     "output_type": "stream",
     "text": [
      "\n",
      "('B', {'C': 1, 'score': 0.40785482434660164})\n",
      "('C', {'B': 1, 'score': 0.31734317466812073})\n",
      "('D', {'A': 1, 'B': 1, 'score': 0.039348175157843515})\n",
      "('E', {'F': 1, 'B': 1, 'score': 0.0818030685031998, 'D': 1})\n",
      "('F', {'B': 1, 'E': 1, 'score': 0.039348175157843515})\n",
      "('G', {'B': 1, 'E': 1, 'score': 0.016206775072031818})\n",
      "('H', {'B': 1, 'E': 1, 'score': 0.016206775072031818})\n",
      "('I', {'B': 1, 'E': 1, 'score': 0.016206775072031818})\n",
      "('J', {'score': 0.016206775072031818, 'E': 1})\n",
      "('K', {'score': 0.016206775072031818, 'E': 1})\n",
      "\n",
      "#Iteration: 9, Page Rank (Sum): 1.0\n",
      "#Iteration: 9, Difference in Ranks: 0.108\n",
      "Prev Page Ranks:  [0.033, 0.354, 0.369, 0.04, 0.082, 0.04, 0.016, 0.016, 0.016, 0.016, 0.016]\n",
      "Curr Page Ranks:  [0.033, 0.408, 0.317, 0.039, 0.082, 0.039, 0.016, 0.016, 0.016, 0.016, 0.016]\n",
      "\n",
      "\n",
      "Iteration: 10:\n",
      "('A', {'score': 0.03293010178620667})\n",
      "('B', {'C': 1, 'score': 0.36323594898893996})\n",
      "('C', {'B': 1, 'score': 0.36288372803873453})\n",
      "('D', {'A': 1, 'B': 1, 'score': 0.03938466342002979})\n",
      "('E', {'F': 1, 'B': 1, 'score': 0.08114525762550133, 'D': 1})\n",
      "('F', {'B': 1, 'E': 1, 'score': 0.03938466342002979})\n",
      "('G', {'B': 1, 'E': 1, 'score': 0.01620712734412318})\n",
      "('H', {'B': 1, 'E': 1, 'score': 0.01620712734412318})\n",
      "('I', {'B': 1, 'E': 1, 'score': 0.01620712734412318})\n",
      "('J', {'score': 0.01620712734412318, 'E': 1})\n",
      "('K', {'score': 0.01620712734412318, 'E': 1})\n",
      "\n",
      "#Iteration: 10, Page Rank (Sum): 1.0\n",
      "#Iteration: 10, Difference in Ranks: 0.092\n",
      "Prev Page Ranks:  [0.033, 0.408, 0.317, 0.039, 0.082, 0.039, 0.016, 0.016, 0.016, 0.016, 0.016]\n",
      "Curr Page Ranks:  [0.033, 0.363, 0.363, 0.039, 0.081, 0.039, 0.016, 0.016, 0.016, 0.016, 0.016]\n",
      "\n",
      "\n",
      "Iteration: 11:\n",
      "('A', {'score': 0.03291944436426448})"
     ]
    },
    {
     "name": "stderr",
     "output_type": "stream",
     "text": [
      "[12][M] \"DANGLING MASS\" | A | 0.0329194443643\n",
      "[12][M_D] DANGLING MASS: 0.0329194443643\n",
      "[13][M] \"DANGLING MASS\" | A | 0.0328282893463\n",
      "[13][M_D] DANGLING MASS: 0.0328282893463\n"
     ]
    },
    {
     "name": "stdout",
     "output_type": "stream",
     "text": [
      "\n",
      "('B', {'C': 1, 'score': 0.40176433884168394})\n",
      "('C', {'B': 1, 'score': 0.32493151905135076})\n",
      "('D', {'A': 1, 'B': 1, 'score': 0.03917211873797719})\n",
      "('E', {'F': 1, 'B': 1, 'score': 0.08113564821303093, 'D': 1})\n",
      "('F', {'B': 1, 'E': 1, 'score': 0.03917211873797719})\n",
      "('G', {'B': 1, 'E': 1, 'score': 0.016180962410751818})\n",
      "('H', {'B': 1, 'E': 1, 'score': 0.016180962410751818})\n",
      "('I', {'B': 1, 'E': 1, 'score': 0.016180962410751818})\n",
      "('J', {'score': 0.016180962410751818, 'E': 1})\n",
      "('K', {'score': 0.016180962410751818, 'E': 1})\n",
      "\n",
      "#Iteration: 11, Page Rank (Sum): 1.0\n",
      "#Iteration: 11, Difference in Ranks: 0.077\n",
      "Prev Page Ranks:  [0.033, 0.363, 0.363, 0.039, 0.081, 0.039, 0.016, 0.016, 0.016, 0.016, 0.016]\n",
      "Curr Page Ranks:  [0.033, 0.402, 0.325, 0.039, 0.081, 0.039, 0.016, 0.016, 0.016, 0.016, 0.016]\n",
      "\n",
      "\n",
      "Iteration: 12:\n",
      "('A', {'score': 0.03282828934633621})\n",
      "('B', {'C': 1, 'score': 0.36928739173769193})\n",
      "('C', {'B': 1, 'score': 0.3576798268981272})\n",
      "('D', {'A': 1, 'B': 1, 'score': 0.03916857254305467})\n",
      "('E', {'F': 1, 'B': 1, 'score': 0.08096665251832287, 'D': 1})\n",
      "('F', {'B': 1, 'E': 1, 'score': 0.03916857254305467})\n",
      "('G', {'B': 1, 'E': 1, 'score': 0.01618013888269591})\n",
      "('H', {'B': 1, 'E': 1, 'score': 0.01618013888269591})\n",
      "('I', {'B': 1, 'E': 1, 'score': 0.01618013888269591})\n",
      "('J', {'score': 0.01618013888269591, 'E': 1})\n",
      "('K', {'score': 0.01618013888269591, 'E': 1})\n",
      "\n",
      "#Iteration: 12, Page Rank (Sum): 1.0\n",
      "#Iteration: 12, Difference in Ranks: 0.066\n",
      "Prev Page Ranks:  [0.033, 0.402, 0.325, 0.039, 0.081, 0.039, 0.016, 0.016, 0.016, 0.016, 0.016]\n",
      "Curr Page Ranks:  [0.033, 0.369, 0.358, 0.039, 0.081, 0.039, 0.016, 0.016, 0.016, 0.016, 0.016]\n",
      "\n",
      "\n",
      "Iteration: 13:\n",
      "('A', {'score': 0.03281973841664869})"
     ]
    },
    {
     "name": "stderr",
     "output_type": "stream",
     "text": [
      "[14][M] \"DANGLING MASS\" | A | 0.0328197384166\n",
      "[14][M_D] DANGLING MASS: 0.0328197384166\n",
      "[15][M] \"DANGLING MASS\" | A | 0.0327957341511\n",
      "[15][M_D] DANGLING MASS: 0.0327957341511\n"
     ]
    },
    {
     "name": "stdout",
     "output_type": "stream",
     "text": [
      "\n",
      "('B', {'C': 1, 'score': 0.3970644632331504})\n",
      "('C', {'B': 1, 'score': 0.33006737806288855})\n",
      "('D', {'A': 1, 'B': 1, 'score': 0.0391136466327086})\n",
      "('E', {'F': 1, 'B': 1, 'score': 0.08095565159266903, 'D': 1})\n",
      "('F', {'B': 1, 'E': 1, 'score': 0.0391136466327086})\n",
      "('G', {'B': 1, 'E': 1, 'score': 0.016173095085850454})\n",
      "('H', {'B': 1, 'E': 1, 'score': 0.016173095085850454})\n",
      "('I', {'B': 1, 'E': 1, 'score': 0.016173095085850454})\n",
      "('J', {'score': 0.016173095085850454, 'E': 1})\n",
      "('K', {'score': 0.016173095085850454, 'E': 1})\n",
      "\n",
      "#Iteration: 13, Page Rank (Sum): 1.0\n",
      "#Iteration: 13, Difference in Ranks: 0.056\n",
      "Prev Page Ranks:  [0.033, 0.369, 0.358, 0.039, 0.081, 0.039, 0.016, 0.016, 0.016, 0.016, 0.016]\n",
      "Curr Page Ranks:  [0.033, 0.397, 0.33, 0.039, 0.081, 0.039, 0.016, 0.016, 0.016, 0.016, 0.016]\n",
      "\n",
      "\n",
      "Iteration: 14:\n",
      "('A', {'score': 0.03279573415109297})\n",
      "('B', {'C': 1, 'score': 0.3735344361758316})\n",
      "('C', {'B': 1, 'score': 0.35367722808036967})\n",
      "('D', {'A': 1, 'B': 1, 'score': 0.03910986895011471})\n",
      "('E', {'F': 1, 'B': 1, 'score': 0.08091069203149807, 'D': 1})\n",
      "('F', {'B': 1, 'E': 1, 'score': 0.03910986895011471})\n",
      "('G', {'B': 1, 'E': 1, 'score': 0.01617243433219182})\n",
      "('H', {'B': 1, 'E': 1, 'score': 0.01617243433219182})\n",
      "('I', {'B': 1, 'E': 1, 'score': 0.01617243433219182})\n",
      "('J', {'score': 0.01617243433219182, 'E': 1})\n",
      "('K', {'score': 0.01617243433219182, 'E': 1})\n",
      "\n",
      "#Iteration: 14, Page Rank (Sum): 1.0\n",
      "#Iteration: 14, Difference in Ranks: 0.047\n",
      "Prev Page Ranks:  [0.033, 0.397, 0.33, 0.039, 0.081, 0.039, 0.016, 0.016, 0.016, 0.016, 0.016]\n",
      "Curr Page Ranks:  [0.033, 0.374, 0.354, 0.039, 0.081, 0.039, 0.016, 0.016, 0.016, 0.016, 0.016]\n",
      "\n",
      "\n",
      "Iteration: 15:\n",
      "('A', {'score': 0.032792273760929205})\n",
      "('B', {'C': 1, 'score': 0.39358416178217787})\n",
      "('C', {'B': 1, 'score': 0.3336748502065873})\n",
      "('D', {'A': 1, 'B': 1, 'score': 0.039095275532721574})\n",
      "('E', {'F': 1, 'B': 1, 'score': 0.08090526589919986, 'D': 1})\n",
      "('F', {'B': 1, 'E': 1, 'score': 0.039095275532721574})\n",
      "('G', {'B': 1, 'E': 1, 'score': 0.016170579457130452})\n",
      "('H', {'B': 1, 'E': 1, 'score': 0.016170579457130452})\n",
      "('I', {'B': 1, 'E': 1, 'score': 0.016170579457130452})\n",
      "('J', {'score': 0.016170579457130452, 'E': 1})\n",
      "('K', {'score': 0.016170579457130452, 'E': 1})\n",
      "\n",
      "#Iteration: 15, Page Rank (Sum): 1.0\n",
      "#Iteration: 15, Difference in Ranks: 0.04\n",
      "Prev Page Ranks:  [0.033, 0.374, 0.354, 0.039, 0.081, 0.039, 0.016, 0.016, 0.016, 0.016, 0.016]\n",
      "Curr Page Ranks:  [0.033, 0.394, 0.334, 0.039, 0.081, 0.039, 0.016, 0.016, 0.016, 0.016, 0.016]\n",
      "\n",
      "\n",
      "Iteration: 16:\n",
      "('A', {'score': 0.03278580416474894})\n",
      "('B', {'C': 1, 'score': 0.3765655664210361})\n",
      "('C', {'B': 1, 'score': 0.35071684957819343})\n",
      "('D', {'A': 1, 'B': 1, 'score': 0.03909347073478223})\n",
      "('E', {'F': 1, 'B': 1, 'score': 0.08089327804971204, 'D': 1})\n",
      "('F', {'B': 1, 'E': 1, 'score': 0.03909347073478223})\n",
      "('G', {'B': 1, 'E': 1, 'score': 0.01617031206334227})\n",
      "('H', {'B': 1, 'E': 1, 'score': 0.01617031206334227})\n",
      "('I', {'B': 1, 'E': 1, 'score': 0.01617031206334227})\n",
      "('J', {'score': 0.01617031206334227, 'E': 1})\n",
      "('K', {'score': 0.01617031206334227, 'E': 1})\n",
      "\n",
      "#Iteration: 16, Page Rank (Sum): 1.0\n",
      "#Iteration: 16, Difference in Ranks: 0.034\n",
      "Prev Page Ranks:  [0.033, 0.394, 0.334, 0.039, 0.081, 0.039, 0.016, 0.016, 0.016, 0.016, 0.016]\n",
      "Curr Page Ranks:  [0.033, 0.377, 0.351, 0.039, 0.081, 0.039, 0.016, 0.016, 0.016, 0.016, 0.016]\n",
      "\n",
      "\n",
      "Iteration: 17:"
     ]
    },
    {
     "name": "stderr",
     "output_type": "stream",
     "text": [
      "[16][M] \"DANGLING MASS\" | A | 0.0327922737609\n",
      "[16][M_D] DANGLING MASS: 0.0327922737609\n",
      "[17][M] \"DANGLING MASS\" | A | 0.0327858041647\n",
      "[17][M_D] DANGLING MASS: 0.0327858041647\n"
     ]
    },
    {
     "name": "stdout",
     "output_type": "stream",
     "text": [
      "\n",
      "('A', {'score': 0.03278453720228199})\n",
      "('B', {'C': 1, 'score': 0.3910454944008753})\n",
      "('C', {'B': 1, 'score': 0.3362505435978802})\n",
      "('D', {'A': 1, 'B': 1, 'score': 0.03908957425408462})\n",
      "('E', {'F': 1, 'B': 1, 'score': 0.08089121559072526, 'D': 1})\n",
      "('F', {'B': 1, 'E': 1, 'score': 0.03908957425408462})\n",
      "('G', {'B': 1, 'E': 1, 'score': 0.016169812139999545})\n",
      "('H', {'B': 1, 'E': 1, 'score': 0.016169812139999545})\n",
      "('I', {'B': 1, 'E': 1, 'score': 0.016169812139999545})\n",
      "('J', {'score': 0.016169812139999545, 'E': 1})\n",
      "('K', {'score': 0.016169812139999545, 'E': 1})\n",
      "\n",
      "#Iteration: 17, Page Rank (Sum): 1.0\n",
      "#Iteration: 17, Difference in Ranks: 0.029\n",
      "Prev Page Ranks:  [0.033, 0.377, 0.351, 0.039, 0.081, 0.039, 0.016, 0.016, 0.016, 0.016, 0.016]\n",
      "Curr Page Ranks:  [0.033, 0.391, 0.336, 0.039, 0.081, 0.039, 0.016, 0.016, 0.016, 0.016, 0.016]\n",
      "\n",
      "\n",
      "Iteration: 18:\n",
      "('A', {'score': 0.032782783296345507})\n",
      "('B', {'C': 1, 'score': 0.37874450264173454})\n",
      "('C', {'B': 1, 'score': 0.34855838447910353})"
     ]
    },
    {
     "name": "stderr",
     "output_type": "stream",
     "text": [
      "[18][M] \"DANGLING MASS\" | A | 0.0327845372023\n",
      "[18][M_D] DANGLING MASS: 0.0327845372023\n",
      "[19][M] \"DANGLING MASS\" | A | 0.0327827832963\n",
      "[19][M_D] DANGLING MASS: 0.0327827832963\n"
     ]
    },
    {
     "name": "stdout",
     "output_type": "stream",
     "text": [
      "\n",
      "('D', {'A': 1, 'B': 1, 'score': 0.03908889198906504})\n",
      "('E', {'F': 1, 'B': 1, 'score': 0.08088797441284416, 'D': 1})\n",
      "('F', {'B': 1, 'E': 1, 'score': 0.03908889198906504})\n",
      "('G', {'B': 1, 'E': 1, 'score': 0.016169714238359546})\n",
      "('H', {'B': 1, 'E': 1, 'score': 0.016169714238359546})\n",
      "('I', {'B': 1, 'E': 1, 'score': 0.016169714238359546})\n",
      "('J', {'score': 0.016169714238359546, 'E': 1})\n",
      "('K', {'score': 0.016169714238359546, 'E': 1})\n",
      "\n",
      "#Iteration: 18, Page Rank (Sum): 1.0\n",
      "#Iteration: 18, Difference in Ranks: 0.025\n",
      "Prev Page Ranks:  [0.033, 0.391, 0.336, 0.039, 0.081, 0.039, 0.016, 0.016, 0.016, 0.016, 0.016]\n",
      "Curr Page Ranks:  [0.033, 0.379, 0.349, 0.039, 0.081, 0.039, 0.016, 0.016, 0.016, 0.016, 0.016]\n",
      "\n",
      "\n",
      "Iteration: 19:\n",
      "('A', {'score': 0.03278235780461219})\n",
      "('B', {'C': 1, 'score': 0.38920440877808377})\n",
      "('C', {'B': 1, 'score': 0.3381024059547339})\n",
      "('D', {'A': 1, 'B': 1, 'score': 0.03908783812623206})\n",
      "('E', {'F': 1, 'B': 1, 'score': 0.08088725766373182, 'D': 1})\n",
      "('F', {'B': 1, 'E': 1, 'score': 0.03908783812623206})\n",
      "('G', {'B': 1, 'E': 1, 'score': 0.016169578709259544})\n",
      "('H', {'B': 1, 'E': 1, 'score': 0.016169578709259544})\n",
      "('I', {'B': 1, 'E': 1, 'score': 0.016169578709259544})\n",
      "('J', {'score': 0.016169578709259544, 'E': 1})\n",
      "('K', {'score': 0.016169578709259544, 'E': 1})\n",
      "\n",
      "#Iteration: 19, Page Rank (Sum): 1.0\n",
      "#Iteration: 19, Difference in Ranks: 0.021\n",
      "Prev Page Ranks:  [0.033, 0.379, 0.349, 0.039, 0.081, 0.039, 0.016, 0.016, 0.016, 0.016, 0.016]\n",
      "Curr Page Ranks:  [0.033, 0.389, 0.338, 0.039, 0.081, 0.039, 0.016, 0.016, 0.016, 0.016, 0.016]\n",
      "\n",
      "\n",
      "Iteration: 20:\n",
      "('A', {'score': 0.03278187703400408})"
     ]
    },
    {
     "name": "stderr",
     "output_type": "stream",
     "text": [
      "[20][M] \"DANGLING MASS\" | A | 0.0327823578046\n",
      "[20][M_D] DANGLING MASS: 0.0327823578046\n",
      "[21][M] \"DANGLING MASS\" | A | 0.032781877034\n"
     ]
    },
    {
     "name": "stdout",
     "output_type": "stream",
     "text": [
      "\n",
      "('B', {'C': 1, 'score': 0.3803155224915397})\n",
      "('C', {'B': 1, 'score': 0.3469932932917266})\n",
      "('D', {'A': 1, 'B': 1, 'score': 0.039087602168412804})\n",
      "('E', {'F': 1, 'B': 1, 'score': 0.08088637369405122, 'D': 1})\n",
      "('F', {'B': 1, 'E': 1, 'score': 0.039087602168412804})\n",
      "('G', {'B': 1, 'E': 1, 'score': 0.016169545830355455})\n",
      "('H', {'B': 1, 'E': 1, 'score': 0.016169545830355455})\n",
      "('I', {'B': 1, 'E': 1, 'score': 0.016169545830355455})\n",
      "('J', {'score': 0.016169545830355455, 'E': 1})\n",
      "('K', {'score': 0.016169545830355455, 'E': 1})\n",
      "\n",
      "#Iteration: 20, Page Rank (Sum): 1.0\n",
      "#Iteration: 20, Difference in Ranks: 0.018\n",
      "Prev Page Ranks:  [0.033, 0.389, 0.338, 0.039, 0.081, 0.039, 0.016, 0.016, 0.016, 0.016, 0.016]\n",
      "Curr Page Ranks:  [0.033, 0.38, 0.347, 0.039, 0.081, 0.039, 0.016, 0.016, 0.016, 0.016, 0.016]\n",
      "\n",
      "\n",
      "Iteration: 21:\n",
      "('A', {'score': 0.03278173960147544})"
     ]
    },
    {
     "name": "stderr",
     "output_type": "stream",
     "text": [
      "[21][M_D] DANGLING MASS: 0.032781877034\n",
      "[22][M] \"DANGLING MASS\" | A | 0.0327817396015\n"
     ]
    },
    {
     "name": "stdout",
     "output_type": "stream",
     "text": [
      "\n",
      "('B', {'C': 1, 'score': 0.3878722466347029})\n",
      "('C', {'B': 1, 'score': 0.33943770279770874})\n",
      "('D', {'A': 1, 'B': 1, 'score': 0.039087314559881174})\n",
      "('E', {'F': 1, 'B': 1, 'score': 0.08088613844678293, 'D': 1})\n",
      "('F', {'B': 1, 'E': 1, 'score': 0.039087314559881174})\n",
      "('G', {'B': 1, 'E': 1, 'score': 0.0161695086799})\n",
      "('H', {'B': 1, 'E': 1, 'score': 0.0161695086799})\n",
      "('I', {'B': 1, 'E': 1, 'score': 0.0161695086799})\n",
      "('J', {'score': 0.0161695086799, 'E': 1})\n",
      "('K', {'score': 0.0161695086799, 'E': 1})\n",
      "\n",
      "#Iteration: 21, Page Rank (Sum): 1.0\n",
      "#Iteration: 21, Difference in Ranks: 0.016\n",
      "Prev Page Ranks:  [0.033, 0.38, 0.347, 0.039, 0.081, 0.039, 0.016, 0.016, 0.016, 0.016, 0.016]\n",
      "Curr Page Ranks:  [0.033, 0.388, 0.339, 0.039, 0.081, 0.039, 0.016, 0.016, 0.016, 0.016, 0.016]\n",
      "\n",
      "\n",
      "Iteration: 22:\n",
      "('A', {'score': 0.032781606748065406})"
     ]
    },
    {
     "name": "stderr",
     "output_type": "stream",
     "text": [
      "[22][M_D] DANGLING MASS: 0.0327817396015\n",
      "[23][M] \"DANGLING MASS\" | A | 0.0327816067481\n",
      "[23][M_D] DANGLING MASS: 0.0327816067481\n",
      "[24][M] \"DANGLING MASS\" | A | 0.032781563641\n"
     ]
    },
    {
     "name": "stdout",
     "output_type": "stream",
     "text": [
      "\n",
      "('B', {'C': 1, 'score': 0.38144962560752826})\n",
      "('C', {'B': 1, 'score': 0.3458609076996133})\n",
      "('D', {'A': 1, 'B': 1, 'score': 0.0390872372867044})\n",
      "('E', {'F': 1, 'B': 1, 'score': 0.08088589507076792, 'D': 1})\n",
      "('F', {'B': 1, 'E': 1, 'score': 0.0390872372867044})\n",
      "('G', {'B': 1, 'E': 1, 'score': 0.01616949806011591})\n",
      "('H', {'B': 1, 'E': 1, 'score': 0.01616949806011591})\n",
      "('I', {'B': 1, 'E': 1, 'score': 0.01616949806011591})\n",
      "('J', {'score': 0.01616949806011591, 'E': 1})\n",
      "('K', {'score': 0.01616949806011591, 'E': 1})\n",
      "\n",
      "#Iteration: 22, Page Rank (Sum): 1.0\n",
      "#Iteration: 22, Difference in Ranks: 0.014\n",
      "Prev Page Ranks:  [0.033, 0.388, 0.339, 0.039, 0.081, 0.039, 0.016, 0.016, 0.016, 0.016, 0.016]\n",
      "Curr Page Ranks:  [0.033, 0.381, 0.346, 0.039, 0.081, 0.039, 0.016, 0.016, 0.016, 0.016, 0.016]\n",
      "\n",
      "\n",
      "Iteration: 23:\n",
      "('A', {'score': 0.03278156364102073})\n",
      "('B', {'C': 1, 'score': 0.3869091913292401})\n",
      "('C', {'B': 1, 'score': 0.3404016695605704})\n",
      "('D', {'A': 1, 'B': 1, 'score': 0.03908715806422227})\n",
      "('E', {'F': 1, 'B': 1, 'score': 0.08088582036986557, 'D': 1})\n",
      "('F', {'B': 1, 'E': 1, 'score': 0.03908715806422227})\n",
      "('G', {'B': 1, 'E': 1, 'score': 0.016169487794171364})\n",
      "('H', {'B': 1, 'E': 1, 'score': 0.016169487794171364})\n",
      "('I', {'B': 1, 'E': 1, 'score': 0.016169487794171364})\n",
      "('J', {'score': 0.016169487794171364, 'E': 1})\n",
      "('K', {'score': 0.016169487794171364, 'E': 1})\n",
      "\n",
      "#Iteration: 23, Page Rank (Sum): 1.0\n",
      "#Iteration: 23, Difference in Ranks: 0.012\n",
      "Prev Page Ranks:  [0.033, 0.381, 0.346, 0.039, 0.081, 0.039, 0.016, 0.016, 0.016, 0.016, 0.016]\n",
      "Curr Page Ranks:  [0.033, 0.387, 0.34, 0.039, 0.081, 0.039, 0.016, 0.016, 0.016, 0.016, 0.016]\n",
      "\n",
      "\n",
      "Iteration: 24:\n",
      "('A', {'score': 0.032781526640462647})"
     ]
    },
    {
     "name": "stderr",
     "output_type": "stream",
     "text": [
      "[24][M_D] DANGLING MASS: 0.032781563641\n",
      "[25][M] \"DANGLING MASS\" | A | 0.0327815266405\n",
      "[25][M_D] DANGLING MASS: 0.0327815266405\n",
      "[26][M] \"DANGLING MASS\" | A | 0.0327815133704\n"
     ]
    },
    {
     "name": "stdout",
     "output_type": "stream",
     "text": [
      "\n",
      "('B', {'C': 1, 'score': 0.3822687339866056})\n",
      "('C', {'B': 1, 'score': 0.34504229709302225})\n",
      "('D', {'A': 1, 'B': 1, 'score': 0.03908713356796342})\n",
      "('E', {'F': 1, 'B': 1, 'score': 0.08088575282812246, 'D': 1})\n",
      "('F', {'B': 1, 'E': 1, 'score': 0.03908713356796342})\n",
      "('G', {'B': 1, 'E': 1, 'score': 0.016169484463168182})\n",
      "('H', {'B': 1, 'E': 1, 'score': 0.016169484463168182})\n",
      "('I', {'B': 1, 'E': 1, 'score': 0.016169484463168182})\n",
      "('J', {'score': 0.016169484463168182, 'E': 1})\n",
      "('K', {'score': 0.016169484463168182, 'E': 1})\n",
      "\n",
      "#Iteration: 24, Page Rank (Sum): 1.0\n",
      "#Iteration: 24, Difference in Ranks: 0.01\n",
      "Prev Page Ranks:  [0.033, 0.387, 0.34, 0.039, 0.081, 0.039, 0.016, 0.016, 0.016, 0.016, 0.016]\n",
      "Curr Page Ranks:  [0.033, 0.382, 0.345, 0.039, 0.081, 0.039, 0.016, 0.016, 0.016, 0.016, 0.016]\n",
      "\n",
      "\n",
      "Iteration: 25:\n",
      "('A', {'score': 0.032781513370423086})\n",
      "('B', {'C': 1, 'score': 0.38621322032438393})\n",
      "('C', {'B': 1, 'score': 0.3410979054926534})\n",
      "('D', {'A': 1, 'B': 1, 'score': 0.039087111572006665})\n",
      "('E', {'F': 1, 'B': 1, 'score': 0.08088572964834843, 'D': 1})\n",
      "('F', {'B': 1, 'E': 1, 'score': 0.039087111572006665})\n",
      "('G', {'B': 1, 'E': 1, 'score': 0.016169481604038635})\n",
      "('H', {'B': 1, 'E': 1, 'score': 0.016169481604038635})\n",
      "('I', {'B': 1, 'E': 1, 'score': 0.016169481604038635})\n",
      "('J', {'score': 0.016169481604038635, 'E': 1})\n",
      "('K', {'score': 0.016169481604038635, 'E': 1})\n",
      "\n",
      "#Iteration: 25, Page Rank (Sum): 1.0\n",
      "#Iteration: 25, Difference in Ranks: 0.008\n",
      "Prev Page Ranks:  [0.033, 0.382, 0.345, 0.039, 0.081, 0.039, 0.016, 0.016, 0.016, 0.016, 0.016]\n",
      "Curr Page Ranks:  [0.033, 0.386, 0.341, 0.039, 0.081, 0.039, 0.016, 0.016, 0.016, 0.016, 0.016]\n",
      "\n",
      "\n",
      "Iteration: 26:\n",
      "('A', {'score': 0.03278150299672465})\n",
      "('B', {'C': 1, 'score': 0.38286045752909753})\n",
      "('C', {'B': 1, 'score': 0.34445071785434817})\n",
      "('D', {'A': 1, 'B': 1, 'score': 0.03908710397898721})\n",
      "('E', {'F': 1, 'B': 1, 'score': 0.08088571076873959, 'D': 1})\n",
      "('F', {'B': 1, 'E': 1, 'score': 0.03908710397898721})\n",
      "('G', {'B': 1, 'E': 1, 'score': 0.016169480578621817})\n",
      "('H', {'B': 1, 'E': 1, 'score': 0.016169480578621817})\n",
      "('I', {'B': 1, 'E': 1, 'score': 0.016169480578621817})\n",
      "('J', {'score': 0.016169480578621817, 'E': 1})\n",
      "('K', {'score': 0.016169480578621817, 'E': 1})\n",
      "\n",
      "#Iteration: 26, Page Rank (Sum): 1.0\n",
      "#Iteration: 26, Difference in Ranks: 0.006\n",
      "Prev Page Ranks:  [0.033, 0.386, 0.341, 0.039, 0.081, 0.039, 0.016, 0.016, 0.016, 0.016, 0.016]\n",
      "Curr Page Ranks:  [0.033, 0.383, 0.344, 0.039, 0.081, 0.039, 0.016, 0.016, 0.016, 0.016, 0.016]\n",
      "\n",
      "\n",
      "Iteration: 27:\n",
      "('A', {'score': 0.03278149896808729})\n",
      "('B', {'C': 1, 'score': 0.38571033412423844})\n",
      "('C', {'B': 1, 'score': 0.3416008686767506})\n",
      "('D', {'A': 1, 'B': 1, 'score': 0.03908709782816061})\n",
      "('E', {'F': 1, 'B': 1, 'score': 0.0808857036894872, 'D': 1})\n",
      "('F', {'B': 1, 'E': 1, 'score': 0.03908709782816061})\n",
      "('G', {'B': 1, 'E': 1, 'score': 0.016169479777017725})\n",
      "('H', {'B': 1, 'E': 1, 'score': 0.016169479777017725})\n",
      "('I', {'B': 1, 'E': 1, 'score': 0.016169479777017725})\n",
      "('J', {'score': 0.016169479777017725, 'E': 1})\n",
      "('K', {'score': 0.016169479777017725, 'E': 1})\n",
      "\n",
      "#Iteration: 27, Page Rank (Sum): 1.0\n",
      "#Iteration: 27, Difference in Ranks: 0.005\n",
      "Prev Page Ranks:  [0.033, 0.383, 0.344, 0.039, 0.081, 0.039, 0.016, 0.016, 0.016, 0.016, 0.016]\n",
      "Curr Page Ranks:  [0.033, 0.386, 0.342, 0.039, 0.081, 0.039, 0.016, 0.016, 0.016, 0.016, 0.016]\n",
      "\n",
      "\n",
      "Iteration: 28:"
     ]
    },
    {
     "name": "stderr",
     "output_type": "stream",
     "text": [
      "[26][M_D] DANGLING MASS: 0.0327815133704\n",
      "[27][M] \"DANGLING MASS\" | A | 0.0327815029967\n",
      "[27][M_D] DANGLING MASS: 0.0327815029967\n",
      "[28][M] \"DANGLING MASS\" | A | 0.0327814989681\n"
     ]
    },
    {
     "name": "stdout",
     "output_type": "stream",
     "text": [
      "\n",
      "('A', {'score': 0.03278149604268508})\n",
      "('B', {'C': 1, 'score': 0.38328795375594366})\n",
      "('C', {'B': 1, 'score': 0.34402326347131945})\n",
      "('D', {'A': 1, 'B': 1, 'score': 0.03908709551107153})\n",
      "('E', {'F': 1, 'B': 1, 'score': 0.08088569837931282, 'D': 1})\n",
      "('F', {'B': 1, 'E': 1, 'score': 0.03908709551107153})\n",
      "('G', {'B': 1, 'E': 1, 'score': 0.016169479465716816})\n",
      "('H', {'B': 1, 'E': 1, 'score': 0.016169479465716816})\n",
      "('I', {'B': 1, 'E': 1, 'score': 0.016169479465716816})\n",
      "('J', {'score': 0.016169479465716816, 'E': 1})\n",
      "('K', {'score': 0.016169479465716816, 'E': 1})\n",
      "\n",
      "#Iteration: 28, Page Rank (Sum): 1.0\n",
      "#Iteration: 28, Difference in Ranks: 0.005\n",
      "Prev Page Ranks:  [0.033, 0.386, 0.342, 0.039, 0.081, 0.039, 0.016, 0.016, 0.016, 0.016, 0.016]\n",
      "Curr Page Ranks:  [0.033, 0.383, 0.344, 0.039, 0.081, 0.039, 0.016, 0.016, 0.016, 0.016, 0.016]\n",
      "\n",
      "\n",
      "Iteration: 29:\n",
      "('A', {'score': 0.032781494831868575})"
     ]
    },
    {
     "name": "stderr",
     "output_type": "stream",
     "text": [
      "[28][M_D] DANGLING MASS: 0.0327814989681\n",
      "[29][M] \"DANGLING MASS\" | A | 0.0327814960427\n",
      "[29][M_D] DANGLING MASS: 0.0327814960427\n",
      "[30][M] \"DANGLING MASS\" | A | 0.0327814948319\n"
     ]
    },
    {
     "name": "stdout",
     "output_type": "stream",
     "text": [
      "\n",
      "('B', {'C': 1, 'score': 0.38534698523428973})\n",
      "('C', {'B': 1, 'score': 0.34196423993221525})\n",
      "('D', {'A': 1, 'B': 1, 'score': 0.039087093780468485})\n",
      "('E', {'F': 1, 'B': 1, 'score': 0.08088569624237611, 'D': 1})\n",
      "('F', {'B': 1, 'E': 1, 'score': 0.039087093780468485})\n",
      "('G', {'B': 1, 'E': 1, 'score': 0.016169479239663182})\n",
      "('H', {'B': 1, 'E': 1, 'score': 0.016169479239663182})\n",
      "('I', {'B': 1, 'E': 1, 'score': 0.016169479239663182})\n",
      "('J', {'score': 0.016169479239663182, 'E': 1})\n",
      "('K', {'score': 0.016169479239663182, 'E': 1})\n",
      "\n",
      "#Iteration: 29, Page Rank (Sum): 1.0\n",
      "#Iteration: 29, Difference in Ranks: 0.004\n",
      "Prev Page Ranks:  [0.033, 0.383, 0.344, 0.039, 0.081, 0.039, 0.016, 0.016, 0.016, 0.016, 0.016]\n",
      "Curr Page Ranks:  [0.033, 0.385, 0.342, 0.039, 0.081, 0.039, 0.016, 0.016, 0.016, 0.016, 0.016]\n",
      "\n",
      "\n",
      "Iteration: 30:\n",
      "('A', {'score': 0.03278149400280047})\n",
      "('B', {'C': 1, 'score': 0.38359681276779295})\n",
      "('C', {'B': 1, 'score': 0.3437144165952476})\n",
      "('D', {'A': 1, 'B': 1, 'score': 0.03908709308144126})\n",
      "('E', {'F': 1, 'B': 1, 'score': 0.08088569474079843, 'D': 1})\n",
      "('F', {'B': 1, 'E': 1, 'score': 0.03908709308144126})\n",
      "('G', {'B': 1, 'E': 1, 'score': 0.016169479146101364})\n",
      "('H', {'B': 1, 'E': 1, 'score': 0.016169479146101364})\n",
      "('I', {'B': 1, 'E': 1, 'score': 0.016169479146101364})\n",
      "('J', {'score': 0.016169479146101364, 'E': 1})\n",
      "('K', {'score': 0.016169479146101364, 'E': 1})\n",
      "\n",
      "#Iteration: 30, Page Rank (Sum): 1.0\n",
      "#Iteration: 30, Difference in Ranks: 0.003\n",
      "Prev Page Ranks:  [0.033, 0.385, 0.342, 0.039, 0.081, 0.039, 0.016, 0.016, 0.016, 0.016, 0.016]\n",
      "Curr Page Ranks:  [0.033, 0.384, 0.344, 0.039, 0.081, 0.039, 0.016, 0.016, 0.016, 0.016, 0.016]\n",
      "\n",
      "\n",
      "Iteration: 31:\n",
      "('A', {'score': 0.03278149364164708})"
     ]
    },
    {
     "name": "stderr",
     "output_type": "stream",
     "text": [
      "[30][M_D] DANGLING MASS: 0.0327814948319\n",
      "[31][M] \"DANGLING MASS\" | A | 0.0327814940028\n",
      "[31][M_D] DANGLING MASS: 0.0327814940028\n",
      "[32][M] \"DANGLING MASS\" | A | 0.0327814936416\n"
     ]
    },
    {
     "name": "stdout",
     "output_type": "stream",
     "text": [
      "\n",
      "('B', {'C': 1, 'score': 0.38508446172839217})\n",
      "('C', {'B': 1, 'score': 0.3422267699346585})\n",
      "('D', {'A': 1, 'B': 1, 'score': 0.03908709259192743})\n",
      "('E', {'F': 1, 'B': 1, 'score': 0.08088569410129864, 'D': 1})\n",
      "('F', {'B': 1, 'E': 1, 'score': 0.03908709259192743})\n",
      "('G', {'B': 1, 'E': 1, 'score': 0.016169479082034546})\n",
      "('H', {'B': 1, 'E': 1, 'score': 0.016169479082034546})\n",
      "('I', {'B': 1, 'E': 1, 'score': 0.016169479082034546})\n",
      "('J', {'score': 0.016169479082034546, 'E': 1})\n",
      "('K', {'score': 0.016169479082034546, 'E': 1})\n",
      "\n",
      "#Iteration: 31, Page Rank (Sum): 1.0\n",
      "#Iteration: 31, Difference in Ranks: 0.003\n",
      "Prev Page Ranks:  [0.033, 0.384, 0.344, 0.039, 0.081, 0.039, 0.016, 0.016, 0.016, 0.016, 0.016]\n",
      "Curr Page Ranks:  [0.033, 0.385, 0.342, 0.039, 0.081, 0.039, 0.016, 0.016, 0.016, 0.016, 0.016]\n",
      "\n",
      "\n",
      "Iteration: 32:\n",
      "('A', {'score': 0.032781493405692794})\n",
      "('B', {'C': 1, 'score': 0.383819961360017})\n",
      "('C', {'B': 1, 'score': 0.343491271523257})\n",
      "('D', {'A': 1, 'B': 1, 'score': 0.039087092382824914})\n",
      "('E', {'F': 1, 'B': 1, 'score': 0.08088569367474557, 'D': 1})\n",
      "('F', {'B': 1, 'E': 1, 'score': 0.039087092382824914})\n",
      "('G', {'B': 1, 'E': 1, 'score': 0.016169479054123637})\n",
      "('H', {'B': 1, 'E': 1, 'score': 0.016169479054123637})\n",
      "('I', {'B': 1, 'E': 1, 'score': 0.016169479054123637})\n",
      "('J', {'score': 0.016169479054123637, 'E': 1})\n",
      "('K', {'score': 0.016169479054123637, 'E': 1})\n",
      "\n",
      "#Iteration: 32, Page Rank (Sum): 1.0\n",
      "#Iteration: 32, Difference in Ranks: 0.002\n",
      "Prev Page Ranks:  [0.033, 0.385, 0.342, 0.039, 0.081, 0.039, 0.016, 0.016, 0.016, 0.016, 0.016]\n",
      "Curr Page Ranks:  [0.033, 0.384, 0.343, 0.039, 0.081, 0.039, 0.016, 0.016, 0.016, 0.016, 0.016]\n",
      "\n",
      "\n",
      "Iteration: 33:\n",
      "('A', {'score': 0.03278149329859559})"
     ]
    },
    {
     "name": "stderr",
     "output_type": "stream",
     "text": [
      "[32][M_D] DANGLING MASS: 0.0327814936416\n",
      "[33][M] \"DANGLING MASS\" | A | 0.0327814934057\n",
      "[33][M_D] DANGLING MASS: 0.0327814934057\n",
      "[34][M] \"DANGLING MASS\" | A | 0.0327814932986\n"
     ]
    },
    {
     "name": "stdout",
     "output_type": "stream",
     "text": [
      "\n",
      "('B', {'C': 1, 'score': 0.3848947873579168})\n",
      "('C', {'B': 1, 'score': 0.3424164461919094})\n",
      "('D', {'A': 1, 'B': 1, 'score': 0.03908709224373958})\n",
      "('E', {'F': 1, 'B': 1, 'score': 0.08088569348461341, 'D': 1})\n",
      "('F', {'B': 1, 'E': 1, 'score': 0.03908709224373958})\n",
      "('G', {'B': 1, 'E': 1, 'score': 0.016169479035895})\n",
      "('H', {'B': 1, 'E': 1, 'score': 0.016169479035895})\n",
      "('I', {'B': 1, 'E': 1, 'score': 0.016169479035895})\n",
      "('J', {'score': 0.016169479035895, 'E': 1})\n",
      "('K', {'score': 0.016169479035895, 'E': 1})\n",
      "\n",
      "#Iteration: 33, Page Rank (Sum): 1.0\n",
      "#Iteration: 33, Difference in Ranks: 0.002\n",
      "Prev Page Ranks:  [0.033, 0.384, 0.343, 0.039, 0.081, 0.039, 0.016, 0.016, 0.016, 0.016, 0.016]\n",
      "Curr Page Ranks:  [0.033, 0.385, 0.342, 0.039, 0.081, 0.039, 0.016, 0.016, 0.016, 0.016, 0.016]\n",
      "\n",
      "\n",
      "Iteration: 34:\n",
      "('A', {'score': 0.032781493231208415})\n",
      "('B', {'C': 1, 'score': 0.38398118562266065})\n",
      "('C', {'B': 1, 'score': 0.3433300482818484})\n",
      "('D', {'A': 1, 'B': 1, 'score': 0.03908709218159289})\n",
      "('E', {'F': 1, 'B': 1, 'score': 0.08088569336299603, 'D': 1})\n",
      "('F', {'B': 1, 'E': 1, 'score': 0.03908709218159289})\n",
      "('G', {'B': 1, 'E': 1, 'score': 0.01616947902761909})\n",
      "('H', {'B': 1, 'E': 1, 'score': 0.01616947902761909})\n",
      "('I', {'B': 1, 'E': 1, 'score': 0.01616947902761909})\n",
      "('J', {'score': 0.01616947902761909, 'E': 1})\n",
      "('K', {'score': 0.01616947902761909, 'E': 1})\n",
      "\n",
      "#Iteration: 34, Page Rank (Sum): 1.0\n",
      "#Iteration: 34, Difference in Ranks: 0.002\n",
      "Prev Page Ranks:  [0.033, 0.385, 0.342, 0.039, 0.081, 0.039, 0.016, 0.016, 0.016, 0.016, 0.016]\n",
      "Curr Page Ranks:  [0.033, 0.384, 0.343, 0.039, 0.081, 0.039, 0.016, 0.016, 0.016, 0.016, 0.016]\n",
      "\n",
      "\n",
      "Iteration: 35:"
     ]
    },
    {
     "name": "stderr",
     "output_type": "stream",
     "text": [
      "[34][M_D] DANGLING MASS: 0.0327814932986\n",
      "[35][M] \"DANGLING MASS\" | A | 0.0327814932312\n",
      "[35][M_D] DANGLING MASS: 0.0327814932312\n",
      "[36][M] \"DANGLING MASS\" | A | 0.0327814931996\n"
     ]
    },
    {
     "name": "stdout",
     "output_type": "stream",
     "text": [
      "\n",
      "('A', {'score': 0.03278149319958789})\n",
      "('B', {'C': 1, 'score': 0.3847577472960659})\n",
      "('C', {'B': 1, 'score': 0.3425534868016724})\n",
      "('D', {'A': 1, 'B': 1, 'score': 0.039087092141926454})\n",
      "('E', {'F': 1, 'B': 1, 'score': 0.0808856933067547, 'D': 1})\n",
      "('F', {'B': 1, 'E': 1, 'score': 0.039087092141926454})\n",
      "('G', {'B': 1, 'E': 1, 'score': 0.016169479022410907})\n",
      "('H', {'B': 1, 'E': 1, 'score': 0.016169479022410907})\n",
      "('I', {'B': 1, 'E': 1, 'score': 0.016169479022410907})\n",
      "('J', {'score': 0.016169479022410907, 'E': 1})\n",
      "('K', {'score': 0.016169479022410907, 'E': 1})\n",
      "\n",
      "#Iteration: 35, Page Rank (Sum): 1.0\n",
      "#Iteration: 35, Difference in Ranks: 0.001\n",
      "Prev Page Ranks:  [0.033, 0.384, 0.343, 0.039, 0.081, 0.039, 0.016, 0.016, 0.016, 0.016, 0.016]\n",
      "Curr Page Ranks:  [0.033, 0.385, 0.343, 0.039, 0.081, 0.039, 0.016, 0.016, 0.016, 0.016, 0.016]\n",
      "\n",
      "\n",
      "Iteration: 36:\n",
      "('A', {'score': 0.03278149318028783})"
     ]
    },
    {
     "name": "stderr",
     "output_type": "stream",
     "text": [
      "[36][M_D] DANGLING MASS: 0.0327814931996\n",
      "[37][M] \"DANGLING MASS\" | A | 0.0327814931803\n",
      "[37][M_D] DANGLING MASS: 0.0327814931803\n",
      "[38][M] \"DANGLING MASS\" | A | 0.032781493171\n"
     ]
    },
    {
     "name": "stdout",
     "output_type": "stream",
     "text": [
      "\n",
      "('B', {'C': 1, 'score': 0.3840976699791825})\n",
      "('C', {'B': 1, 'score': 0.343213564221625})\n",
      "('D', {'A': 1, 'B': 1, 'score': 0.039087092123549584})\n",
      "('E', {'F': 1, 'B': 1, 'score': 0.08088569327196028, 'D': 1})\n",
      "('F', {'B': 1, 'E': 1, 'score': 0.039087092123549584})\n",
      "('G', {'B': 1, 'E': 1, 'score': 0.01616947901996909})\n",
      "('H', {'B': 1, 'E': 1, 'score': 0.01616947901996909})\n",
      "('I', {'B': 1, 'E': 1, 'score': 0.01616947901996909})\n",
      "('J', {'score': 0.01616947901996909, 'E': 1})\n",
      "('K', {'score': 0.01616947901996909, 'E': 1})\n",
      "\n",
      "#Iteration: 36, Page Rank (Sum): 1.0\n",
      "#Iteration: 36, Difference in Ranks: 0.001\n",
      "Prev Page Ranks:  [0.033, 0.385, 0.343, 0.039, 0.081, 0.039, 0.016, 0.016, 0.016, 0.016, 0.016]\n",
      "Curr Page Ranks:  [0.033, 0.384, 0.343, 0.039, 0.081, 0.039, 0.016, 0.016, 0.016, 0.016, 0.016]\n",
      "\n",
      "\n",
      "Iteration: 37:\n",
      "('A', {'score': 0.032781493170986296})\n",
      "('B', {'C': 1, 'score': 0.3846587357560588})\n",
      "('C', {'B': 1, 'score': 0.3426524985007828})\n",
      "('D', {'A': 1, 'B': 1, 'score': 0.03908709211219981})\n",
      "('E', {'F': 1, 'B': 1, 'score': 0.08088569325539435, 'D': 1})\n",
      "('F', {'B': 1, 'E': 1, 'score': 0.03908709211219981})\n",
      "('G', {'B': 1, 'E': 1, 'score': 0.016169479018477727})\n",
      "('H', {'B': 1, 'E': 1, 'score': 0.016169479018477727})\n",
      "('I', {'B': 1, 'E': 1, 'score': 0.016169479018477727})\n",
      "('J', {'score': 0.016169479018477727, 'E': 1})\n",
      "('K', {'score': 0.016169479018477727, 'E': 1})\n",
      "\n",
      "#Iteration: 37, Page Rank (Sum): 1.0\n",
      "#Iteration: 37, Difference in Ranks: 0.001\n",
      "Prev Page Ranks:  [0.033, 0.384, 0.343, 0.039, 0.081, 0.039, 0.016, 0.016, 0.016, 0.016, 0.016]\n",
      "Curr Page Ranks:  [0.033, 0.385, 0.343, 0.039, 0.081, 0.039, 0.016, 0.016, 0.016, 0.016, 0.016]\n",
      "\n",
      "\n",
      "Iteration: 38:\n",
      "('A', {'score': 0.03278149316544401})"
     ]
    },
    {
     "name": "stderr",
     "output_type": "stream",
     "text": [
      "[38][M_D] DANGLING MASS: 0.032781493171\n",
      "[39][M] \"DANGLING MASS\" | A | 0.0327814931654\n",
      "[39][M_D] DANGLING MASS: 0.0327814931654\n",
      "[40][M] \"DANGLING MASS\" | A | 0.0327814931627\n"
     ]
    },
    {
     "name": "stdout",
     "output_type": "stream",
     "text": [
      "\n",
      "('B', {'C': 1, 'score': 0.3841818298763818})\n",
      "('C', {'B': 1, 'score': 0.34312940441040907})\n",
      "('D', {'A': 1, 'B': 1, 'score': 0.03908709210678749})\n",
      "('E', {'F': 1, 'B': 1, 'score': 0.08088569324541525, 'D': 1})\n",
      "('F', {'B': 1, 'E': 1, 'score': 0.03908709210678749})\n",
      "('G', {'B': 1, 'E': 1, 'score': 0.01616947901775909})\n",
      "('H', {'B': 1, 'E': 1, 'score': 0.01616947901775909})\n",
      "('I', {'B': 1, 'E': 1, 'score': 0.01616947901775909})\n",
      "('J', {'score': 0.01616947901775909, 'E': 1})\n",
      "('K', {'score': 0.01616947901775909, 'E': 1})\n",
      "\n",
      "#Iteration: 38, Page Rank (Sum): 1.0\n",
      "#Iteration: 38, Difference in Ranks: 0.001\n",
      "Prev Page Ranks:  [0.033, 0.385, 0.343, 0.039, 0.081, 0.039, 0.016, 0.016, 0.016, 0.016, 0.016]\n",
      "Curr Page Ranks:  [0.033, 0.384, 0.343, 0.039, 0.081, 0.039, 0.016, 0.016, 0.016, 0.016, 0.016]\n",
      "\n",
      "\n",
      "Iteration: 39:\n",
      "('A', {'score': 0.03278149316271105})\n",
      "('B', {'C': 1, 'score': 0.3845871998907872})\n",
      "('C', {'B': 1, 'score': 0.34272403441225086})\n",
      "('D', {'A': 1, 'B': 1, 'score': 0.03908709210352735})\n",
      "('E', {'F': 1, 'B': 1, 'score': 0.08088569324054433, 'D': 1})\n",
      "('F', {'B': 1, 'E': 1, 'score': 0.03908709210352735})\n",
      "('G', {'B': 1, 'E': 1, 'score': 0.016169479017326363})\n",
      "('H', {'B': 1, 'E': 1, 'score': 0.016169479017326363})\n",
      "('I', {'B': 1, 'E': 1, 'score': 0.016169479017326363})\n",
      "('J', {'score': 0.016169479017326363, 'E': 1})\n",
      "('K', {'score': 0.016169479017326363, 'E': 1})\n",
      "\n",
      "#Iteration: 39, Page Rank (Sum): 1.0\n",
      "#Iteration: 39, Difference in Ranks: 0.001\n",
      "Prev Page Ranks:  [0.033, 0.384, 0.343, 0.039, 0.081, 0.039, 0.016, 0.016, 0.016, 0.016, 0.016]\n",
      "Curr Page Ranks:  [0.033, 0.385, 0.343, 0.039, 0.081, 0.039, 0.016, 0.016, 0.016, 0.016, 0.016]\n",
      "\n",
      "\n",
      "Iteration: 40:\n",
      "('A', {'score': 0.03278149316111685})"
     ]
    },
    {
     "name": "stderr",
     "output_type": "stream",
     "text": [
      "[40][M_D] DANGLING MASS: 0.0327814931627\n",
      "[41][M] \"DANGLING MASS\" | A | 0.0327814931611\n",
      "[41][M_D] DANGLING MASS: 0.0327814931611\n",
      "[42][M] \"DANGLING MASS\" | A | 0.0327814931603\n"
     ]
    },
    {
     "name": "stdout",
     "output_type": "stream",
     "text": [
      "\n",
      "('B', {'C': 1, 'score': 0.3842426353874412})\n",
      "('C', {'B': 1, 'score': 0.3430685989242868})\n",
      "('D', {'A': 1, 'B': 1, 'score': 0.03908709210193862})\n",
      "('E', {'F': 1, 'B': 1, 'score': 0.08088569323766279, 'D': 1})\n",
      "('F', {'B': 1, 'E': 1, 'score': 0.03908709210193862})\n",
      "('G', {'B': 1, 'E': 1, 'score': 0.016169479017117728})\n",
      "('H', {'B': 1, 'E': 1, 'score': 0.016169479017117728})\n",
      "('I', {'B': 1, 'E': 1, 'score': 0.016169479017117728})\n",
      "('J', {'score': 0.016169479017117728, 'E': 1})\n",
      "('K', {'score': 0.016169479017117728, 'E': 1})\n",
      "\n",
      "#Iteration: 40, Page Rank (Sum): 1.0\n",
      "#Iteration: 40, Difference in Ranks: 0.001\n",
      "Prev Page Ranks:  [0.033, 0.385, 0.343, 0.039, 0.081, 0.039, 0.016, 0.016, 0.016, 0.016, 0.016]\n",
      "Curr Page Ranks:  [0.033, 0.384, 0.343, 0.039, 0.081, 0.039, 0.016, 0.016, 0.016, 0.016, 0.016]\n",
      "\n",
      "\n",
      "Iteration: 41:\n",
      "('A', {'score': 0.032781493160318004})\n",
      "('B', {'C': 1, 'score': 0.38453551522011525})\n",
      "('C', {'B': 1, 'score': 0.3427757190963191})\n",
      "('D', {'A': 1, 'B': 1, 'score': 0.03908709210099855})\n",
      "('E', {'F': 1, 'B': 1, 'score': 0.08088569323624324, 'D': 1})\n",
      "('F', {'B': 1, 'E': 1, 'score': 0.03908709210099855})\n",
      "('G', {'B': 1, 'E': 1, 'score': 0.01616947901699409})\n",
      "('H', {'B': 1, 'E': 1, 'score': 0.01616947901699409})\n",
      "('I', {'B': 1, 'E': 1, 'score': 0.01616947901699409})\n",
      "('J', {'score': 0.01616947901699409, 'E': 1})\n",
      "('K', {'score': 0.01616947901699409, 'E': 1})\n",
      "\n",
      "#Iteration: 41, Page Rank (Sum): 1.0\n",
      "#Iteration: 41, Difference in Ranks: 0.001\n",
      "Prev Page Ranks:  [0.033, 0.384, 0.343, 0.039, 0.081, 0.039, 0.016, 0.016, 0.016, 0.016, 0.016]\n",
      "Curr Page Ranks:  [0.033, 0.385, 0.343, 0.039, 0.081, 0.039, 0.016, 0.016, 0.016, 0.016, 0.016]\n",
      "\n",
      "\n",
      "Iteration: 42:\n",
      "('A', {'score': 0.03278149315985666})\n",
      "('B', {'C': 1, 'score': 0.38428656736492195})\n",
      "('C', {'B': 1, 'score': 0.3430246669540302})\n",
      "('D', {'A': 1, 'B': 1, 'score': 0.03908709210053452})\n",
      "('E', {'F': 1, 'B': 1, 'score': 0.08088569323541407, 'D': 1})\n",
      "('F', {'B': 1, 'E': 1, 'score': 0.03908709210053452})\n",
      "('G', {'B': 1, 'E': 1, 'score': 0.016169479016932272})\n",
      "('H', {'B': 1, 'E': 1, 'score': 0.016169479016932272})\n",
      "('I', {'B': 1, 'E': 1, 'score': 0.016169479016932272})\n",
      "('J', {'score': 0.016169479016932272, 'E': 1})\n",
      "('K', {'score': 0.016169479016932272, 'E': 1})\n",
      "\n",
      "#Iteration: 42, Page Rank (Sum): 1.0\n",
      "#Iteration: 42, Difference in Ranks: 0.001\n",
      "Prev Page Ranks:  [0.033, 0.385, 0.343, 0.039, 0.081, 0.039, 0.016, 0.016, 0.016, 0.016, 0.016]\n",
      "Curr Page Ranks:  [0.033, 0.384, 0.343, 0.039, 0.081, 0.039, 0.016, 0.016, 0.016, 0.016, 0.016]\n",
      "\n",
      "\n",
      "Iteration: 43:\n",
      "('A', {'score': 0.032781493159628534})\n",
      "('B', {'C': 1, 'score': 0.38449817304323736})\n",
      "('C', {'B': 1, 'score': 0.342813061277085})\n",
      "('D', {'A': 1, 'B': 1, 'score': 0.03908709210026868})\n",
      "('E', {'F': 1, 'B': 1, 'score': 0.08088569323500204, 'D': 1})\n",
      "('F', {'B': 1, 'E': 1, 'score': 0.03908709210026868})\n",
      "('G', {'B': 1, 'E': 1, 'score': 0.016169479016901363})\n",
      "('H', {'B': 1, 'E': 1, 'score': 0.016169479016901363})\n",
      "('I', {'B': 1, 'E': 1, 'score': 0.016169479016901363})\n",
      "('J', {'score': 0.016169479016901363, 'E': 1})\n",
      "('K', {'score': 0.016169479016901363, 'E': 1})\n",
      "\n",
      "#Iteration: 43, Page Rank (Sum): 1.0\n",
      "#Iteration: 43, Difference in Ranks: 0.0\n",
      "Prev Page Ranks:  [0.033, 0.384, 0.343, 0.039, 0.081, 0.039, 0.016, 0.016, 0.016, 0.016, 0.016]\n",
      "Curr Page Ranks:  [0.033, 0.384, 0.343, 0.039, 0.081, 0.039, 0.016, 0.016, 0.016, 0.016, 0.016]\n"
     ]
    },
    {
     "name": "stderr",
     "output_type": "stream",
     "text": [
      "[42][M_D] DANGLING MASS: 0.0327814931603\n",
      "[43][M] \"DANGLING MASS\" | A | 0.0327814931599\n",
      "[43][M_D] DANGLING MASS: 0.0327814931599\n"
     ]
    }
   ],
   "source": [
    "%reload_ext autoreload\n",
    "%autoreload 2\n",
    "from mrjob_hw91 import PageRank\n",
    "import ast\n",
    "import pprint\n",
    "\n",
    "input_file = 'PageRank-test.txt.pp'\n",
    "input_file_iter = input_file + '1'\n",
    "\n",
    "cnt = 0\n",
    "MAX_ITERATIONS = 100\n",
    "NODES = 11\n",
    "TELEPORTATION = 0.15\n",
    "\n",
    "prev_ranks = []\n",
    "curr_ranks = []\n",
    "sum_partial_diff_PR = float('inf')\n",
    "\n",
    "# After so many iterations (TBD: Convergence Criteria)\n",
    "while sum_partial_diff_PR > .0005:\n",
    "    print \"\\n\\nIteration: \" + str(cnt+1) + \":\"\n",
    "    if cnt == 0:\n",
    "        mr_job = PageRank(args=[input_file,\n",
    "                                '--jobconf', 'teleportation={0}'.format(TELEPORTATION),\n",
    "                                '--jobconf', 'nodes={0}'.format(NODES),\n",
    "                                '--jobconf', 'iteration={0}'.format(cnt+1),\n",
    "                                '--no-strict-protocol'])\n",
    "    else:\n",
    "        mr_job = PageRank(args=[input_file_iter,\n",
    "                                '--jobconf', 'teleportation={0}'.format(TELEPORTATION),\n",
    "                                '--jobconf', 'nodes={0}'.format(NODES),\n",
    "                                '--jobconf', 'iteration={0}'.format(cnt+1),\n",
    "                                '--no-strict-protocol'])\n",
    "\n",
    "    with mr_job.make_runner() as runner: \n",
    "        runner.run()\n",
    "        \n",
    "        if cnt == 0:\n",
    "            prev_ranks = [0 in xrange(NODES)]\n",
    "        else:\n",
    "            prev_ranks = curr_ranks[:]\n",
    "            del curr_ranks[:]\n",
    "        \n",
    "        total_page_rank = 0\n",
    "        ranks = []\n",
    "        with open(input_file_iter, 'w') as f:\n",
    "            for line in runner.stream_output():\n",
    "                parsed_line = mr_job.parse_output_line(line)\n",
    "                \n",
    "                print parsed_line\n",
    "                neigbors = ast.literal_eval(str(parsed_line[1]))\n",
    "                total_page_rank += float(neigbors['score'])\n",
    "                \n",
    "                curr_ranks.append(round(neigbors['score'], 3))\n",
    "                \n",
    "                f.write(line)\n",
    "                        \n",
    "        sum_partial_diff_PR = sum([abs(x-y) for x,y in zip(curr_ranks, prev_ranks)])\n",
    "        \n",
    "        print \"\\n#Iteration: {0}, Page Rank (Sum): {1}\".format(cnt + 1, total_page_rank)\n",
    "        print \"#Iteration: {0}, Difference in Ranks: {1}\".format(cnt + 1, sum_partial_diff_PR)\n",
    "        print 'Prev Page Ranks: ', prev_ranks\n",
    "        print 'Curr Page Ranks: ', curr_ranks\n",
    "                                \n",
    "    cnt += 1\n",
    "    "
   ]
  },
  {
   "cell_type": "markdown",
   "metadata": {},
   "source": [
    "### Final Page Ranks\n",
    "\n",
    "**Converged at Iteration # 43**\n",
    "\n",
    "```\n",
    "[0.033, 0.384, 0.343, 0.039, 0.081, 0.039, 0.016, 0.016, 0.016, 0.016, 0.016]\n",
    "```"
   ]
  },
  {
   "cell_type": "markdown",
   "metadata": {},
   "source": [
    "## HW 9.2\n",
    "---\n",
    "\n",
    "===HW 9.2: Exploring PageRank teleportation and network plots===\n",
    "In order to overcome  problems such as disconnected components, the damping factor (a typical value for p is 0.15) can be varied. \n",
    "Using the graph in HW1, plot the test graph (using networkx, https://networkx.github.io/) for several values of the damping parameter alpha,\n",
    "so that each nodes radius is proportional to its PageRank score. In particular you should\n",
    "do this for the following damping factors: [0,0.25,0.5,0.75,1]. Note your plots should look like the following:\n",
    "\n",
    "https://en.wikipedia.org/wiki/PageRank#/media/File:PageRanks-Example.svg"
   ]
  },
  {
   "cell_type": "code",
   "execution_count": 154,
   "metadata": {
    "collapsed": false,
    "scrolled": false
   },
   "outputs": [
    {
     "data": {
      "image/png": "[encoded data removed]",
      "text/plain": [
       "<matplotlib.figure.Figure at 0x112830150>"
      ]
     },
     "metadata": {},
     "output_type": "display_data"
    },
    {
     "name": "stdout",
     "output_type": "stream",
     "text": [
      "[0] Page Ranks: {'A': 0.09090909090909091, 'C': 0.09090909090909091, 'B': 0.09090909090909091, 'E': 0.09090909090909091, 'D': 0.09090909090909091, 'G': 0.09090909090909091, 'F': 0.09090909090909091, 'I': 0.09090909090909091, 'H': 0.09090909090909091, 'K': 0.09090909090909091, 'J': 0.09090909090909091}\n"
     ]
    },
    {
     "data": {
      "image/png": "[encoded data removed]",
      "text/plain": [
       "<matplotlib.figure.Figure at 0x113bc50d0>"
      ]
     },
     "metadata": {},
     "output_type": "display_data"
    },
    {
     "name": "stdout",
     "output_type": "stream",
     "text": [
      "[0.15] Page Ranks: {'A': 0.08478337193849536, 'C': 0.09789412880777816, 'B': 0.12976602705087864, 'E': 0.12595852528732096, 'D': 0.08472680835862145, 'G': 0.07842886603965679, 'F': 0.08472680835862145, 'I': 0.07842886603965679, 'H': 0.07842886603965679, 'K': 0.07842886603965679, 'J': 0.07842886603965679}\n"
     ]
    },
    {
     "data": {
      "image/png": "[encoded data removed]",
      "text/plain": [
       "<matplotlib.figure.Figure at 0x111adb6d0>"
      ]
     },
     "metadata": {},
     "output_type": "display_data"
    },
    {
     "name": "stdout",
     "output_type": "stream",
     "text": [
      "[0.25] Page Ranks: {'A': 0.0802296678675539, 'C': 0.10893861906184224, 'B': 0.15573019947246886, 'E': 0.1414842346470785, 'D': 0.08179558574699461, 'G': 0.07000522149141346, 'F': 0.08179558574699461, 'I': 0.07000522149141346, 'H': 0.07000522149141346, 'K': 0.07000522149141346, 'J': 0.07000522149141346}\n"
     ]
    },
    {
     "data": {
      "image/png": "[encoded data removed]",
      "text/plain": [
       "<matplotlib.figure.Figure at 0x112cdafd0>"
      ]
     },
     "metadata": {},
     "output_type": "display_data"
    },
    {
     "name": "stdout",
     "output_type": "stream",
     "text": [
      "[0.5] Page Ranks: {'A': 0.06694781264624798, 'C': 0.1627142207497308, 'B': 0.22842968831839472, 'E': 0.1518186615813921, 'D': 0.07380073858214373, 'G': 0.048497627907989393, 'F': 0.07380073858214373, 'I': 0.048497627907989393, 'H': 0.048497627907989393, 'K': 0.048497627907989393, 'J': 0.048497627907989393}\n"
     ]
    },
    {
     "data": {
      "image/png": "[encoded data removed]",
      "text/plain": [
       "<matplotlib.figure.Figure at 0x110afe890>"
      ]
     },
     "metadata": {},
     "output_type": "display_data"
    },
    {
     "name": "stdout",
     "output_type": "stream",
     "text": [
      "[0.75] Page Ranks: {'A': 0.046301461564296646, 'C': 0.2724191993634685, 'B': 0.32871881246243706, 'E': 0.11424746178750639, 'D': 0.05444605600812519, 'G': 0.025884190561208224, 'F': 0.05444605600812519, 'I': 0.025884190561208224, 'H': 0.025884190561208224, 'K': 0.025884190561208224, 'J': 0.025884190561208224}\n"
     ]
    },
    {
     "data": {
      "image/png": "[encoded data removed]",
      "text/plain": [
       "<matplotlib.figure.Figure at 0x111bf7990>"
      ]
     },
     "metadata": {},
     "output_type": "display_data"
    }
   ],
   "source": [
    "import networkx as nx\n",
    "import ast\n",
    "import matplotlib.pyplot as plt\n",
    "%matplotlib inline\n",
    "\n",
    "# Flexible Load Data Function\n",
    "def load_data(filename):\n",
    "    nodes = set()\n",
    "    edges = set()\n",
    "    with open (filename, 'r') as myfile:\n",
    "        for line in myfile:\n",
    "            line = line.split('\\t')\n",
    "            node = line[0]\n",
    "            if node not in nodes:\n",
    "                nodes.add(node)\n",
    "            node_neighbors = ast.literal_eval(line[1])\n",
    "            for k in node_neighbors.keys():\n",
    "                edges.add((node, k, node_neighbors[k]))\n",
    "                if k not in nodes:\n",
    "                    nodes.add(k)\n",
    "    return nodes, edges\n",
    "\n",
    "def plot_graph(G, title, node_size=1000):\n",
    "    # Plot network \n",
    "    pos=nx.spring_layout(G, k=0.95)\n",
    "    nx.draw(G,pos, with_labels = True, node_color='g', node_size=node_size)\n",
    "    # Specifiy Edge Labels\n",
    "    edge_labels=dict([((u,v,),d['weight']) for u,v,d in G.edges(data=True)])\n",
    "    nx.draw_networkx_edge_labels(G,pos,edge_labels=edge_labels)\n",
    "    plt.title(title)\n",
    "    plt.show()\n",
    "\n",
    "nodes, edges = load_data('./PageRank-test.txt')\n",
    "\n",
    "# Plot Directed Graph\n",
    "G=nx.DiGraph()\n",
    "\n",
    "# Load into networkx\n",
    "for node in nodes:\n",
    "    G.add_node(node)    \n",
    "for edge in edges:\n",
    "    G.add_edge(edge[0], edge[1], weight=edge[2])\n",
    "\n",
    "plot_graph(G, title=\"Directed Toy Example with Weights\")\n",
    "\n",
    "NODE_SIZE = 10000\n",
    "#alpha = [0,0.25,0.5,0.75,1]\n",
    "alpha = [0,0.15,0.25,0.5,0.75]\n",
    "for a in alpha:\n",
    "    pr = nx.pagerank(G, alpha=a)\n",
    "    print '[{0}] Page Ranks: {1}'.format(a, pr)\n",
    "    node_size =[NODE_SIZE * v for v in pr.values()]\n",
    "    #print '[{0}] Node Sizes: {1}\\n'.format(a, node_size)\n",
    "    plot_graph(G, node_size=node_size, title='Graph: Alpha - {0}'.format(a))\n",
    "        \n",
    "    "
   ]
  },
  {
   "cell_type": "markdown",
   "metadata": {},
   "source": [
    "## HW9.3\n",
    "___\n",
    "\n",
    "====HW 9.3: Applying PageRank to the Wikipedia hyperlinks network===\n",
    "\n",
    "Run your PageRank implementation on the Wikipedia dataset for 10 iterations,\n",
    "and display the top 100 ranked nodes (with alpha = 0.85).\n",
    "\n",
    "Run your PageRank implementation on the Wikipedia dataset for 50 iterations,\n",
    "and display the top 100 ranked nodes (with teleportation factor of 0.15). \n",
    "Have the top 100 ranked pages changed? Comment on your findings. Plot both 100 curves."
   ]
  },
  {
   "cell_type": "markdown",
   "metadata": {},
   "source": [
    "### Pre-Process Wiki Data\n",
    "\n",
    "***Adds all Dangling Nodes (No Outlinks) as Source***"
   ]
  },
  {
   "cell_type": "code",
   "execution_count": 210,
   "metadata": {
    "collapsed": false
   },
   "outputs": [
    {
     "name": "stdout",
     "output_type": "stream",
     "text": [
      "using configs in /Users/ssatpati/.mrjob.conf\n",
      "creating tmp directory /var/folders/h5/1q71m1c54cn07f16c232pqgm38ynd8/T/mrjob_preproc_hw91.ssatpati.20151102.025510.061810\n",
      "\n",
      "PLEASE NOTE: Starting in mrjob v0.5.0, protocols will be strict by default. It's recommended you run your job with --strict-protocols or set up mrjob.conf as described at https://pythonhosted.org/mrjob/whats-new.html#ready-for-strict-protocols\n",
      "\n",
      "writing to /var/folders/h5/1q71m1c54cn07f16c232pqgm38ynd8/T/mrjob_preproc_hw91.ssatpati.20151102.025510.061810/step-0-mapper_part-00000\n",
      "Counters from step 1:\n",
      "  (no counters found)\n",
      "writing to /var/folders/h5/1q71m1c54cn07f16c232pqgm38ynd8/T/mrjob_preproc_hw91.ssatpati.20151102.025510.061810/step-0-mapper-sorted\n",
      "> sort /var/folders/h5/1q71m1c54cn07f16c232pqgm38ynd8/T/mrjob_preproc_hw91.ssatpati.20151102.025510.061810/step-0-mapper_part-00000\n",
      "writing to /var/folders/h5/1q71m1c54cn07f16c232pqgm38ynd8/T/mrjob_preproc_hw91.ssatpati.20151102.025510.061810/step-0-reducer_part-00000\n",
      "Counters from step 1:\n",
      "  (no counters found)\n",
      "Moving /var/folders/h5/1q71m1c54cn07f16c232pqgm38ynd8/T/mrjob_preproc_hw91.ssatpati.20151102.025510.061810/step-0-reducer_part-00000 -> /var/folders/h5/1q71m1c54cn07f16c232pqgm38ynd8/T/mrjob_preproc_hw91.ssatpati.20151102.025510.061810/output/part-00000\n",
      "Streaming final output from /var/folders/h5/1q71m1c54cn07f16c232pqgm38ynd8/T/mrjob_preproc_hw91.ssatpati.20151102.025510.061810/output\n",
      "removing tmp directory /var/folders/h5/1q71m1c54cn07f16c232pqgm38ynd8/T/mrjob_preproc_hw91.ssatpati.20151102.025510.061810\n"
     ]
    }
   ],
   "source": [
    "!python mrjob_preproc_hw91.py all-pages-indexed-out.txt > all-pages-indexed-out.txt.pp"
   ]
  },
  {
   "cell_type": "markdown",
   "metadata": {},
   "source": [
    "### Making Minor Changes to the MRJOB Page Rank from 9.1 to make it AWS Compatible"
   ]
  },
  {
   "cell_type": "code",
   "execution_count": 211,
   "metadata": {
    "collapsed": false
   },
   "outputs": [
    {
     "name": "stdout",
     "output_type": "stream",
     "text": [
      "Writing mrjob_hw93.py\n"
     ]
    }
   ],
   "source": [
    "%%writefile mrjob_hw93.py\n",
    "from mrjob.job import MRJob\n",
    "from mrjob.step import MRStep\n",
    "from mrjob.protocol import RawProtocol\n",
    "from mrjob.compat import get_jobconf_value\n",
    "import sys\n",
    "import ast\n",
    "from numpy import log1p, exp, log\n",
    "from boto.s3.connection import S3Connection\n",
    "from boto.s3.key import Key\n",
    "import boto\n",
    "\n",
    "class PageRank_AWS(MRJob):\n",
    "    \n",
    "    INPUT_PROTOCOL = RawProtocol\n",
    "    \n",
    "    def steps(self):\n",
    "        return [\n",
    "            MRStep(mapper=self.mapper,\n",
    "                  reducer=self.reducer),\n",
    "            MRStep(mapper_init=self.mapper_dangling_init,\n",
    "                mapper=self.mapper_dangling)\n",
    "        ]\n",
    "    \n",
    "\n",
    "    def mapper(self, key, value):\n",
    "        nodes = int(get_jobconf_value('nodes'))\n",
    "        i = int(get_jobconf_value('iteration'))\n",
    "        #sys.stderr.write('[M] {0}, {1} \\n'.format(key, value))\n",
    "        key = key.replace(\"\\\"\",\"\")\n",
    "        key = key.replace(\"\\\\\",\"\")\n",
    "        adj_list = ast.literal_eval(value)\n",
    "      \n",
    "        score = 0\n",
    "        l = 0\n",
    "        \n",
    "        if 'score' in adj_list.keys():\n",
    "            # Previous Mass/Page Rank\n",
    "            score = adj_list['score']\n",
    "            l = len(adj_list) - 1\n",
    "        else: # First iteration ('score' not yet part of the adjacency list!)\n",
    "            # Start with uniform probability distribution\n",
    "            score = 1.0 / nodes\n",
    "            l = len(adj_list)\n",
    "            adj_list['score'] = score\n",
    "            \n",
    "        if l == 0: # Only 'score' & no out links [Dangling!]\n",
    "            sys.stderr.write('[{0}][M] \"DANGLING MASS\" | {1} | {2}\\n'.format(i, key, score))\n",
    "            # Emit using a special key; Accumlate in Reducer;Distribute in the next MRJob\n",
    "            yield 'DANGLING', ('SCORE', score)\n",
    "       \n",
    "        # Emit the Graph Structure\n",
    "        yield key, ('GRAPH', adj_list)\n",
    "                    \n",
    "        # Emit the new Mass/Page Rank\n",
    "        for n in adj_list:\n",
    "            if n != 'score':\n",
    "                yield n, ('SCORE', score/l)\n",
    "                               \n",
    "    def combiner(self, key, values):\n",
    "        pass\n",
    "\n",
    "        \n",
    "    def reducer(self, key, values):     \n",
    "        i = int(get_jobconf_value('iteration'))\n",
    "        teleportation = float(get_jobconf_value('teleportation'))\n",
    "        nodes = int(get_jobconf_value('nodes'))\n",
    "        aws_access_key_id = get_jobconf_value('aws_access_key_id')\n",
    "        aws_secret_access_key = get_jobconf_value('aws_secret_access_key')\n",
    "        \n",
    "        adj_list = None\n",
    "        total_score = 0\n",
    "\n",
    "        for value_type, value in values:\n",
    "            if value_type == 'GRAPH':\n",
    "                adj_list = value\n",
    "            else:\n",
    "                assert value_type == 'SCORE'\n",
    "                total_score += value\n",
    "                #total_score = sum_log(total_score, value)\n",
    "                \n",
    "        # Write Special Key to S3\n",
    "        if key == 'DANGLING':\n",
    "            # Write accumulated Dangling Score in a S3 Key\n",
    "            try:\n",
    "                conn = S3Connection(aws_access_key_id,aws_secret_access_key)\n",
    "                bucket = conn.get_bucket('w261')\n",
    "                k = Key(bucket)\n",
    "                k.key = 'hw93/dangling_mass/{0}'.format(i) # Same as iteration\n",
    "                k.set_contents_from_string(str(total_score))\n",
    "            except boto.exception.S3ResponseError as err:\n",
    "                sys.stderr.write(err)\n",
    "                sys.exit(1)\n",
    "        else:\n",
    "            #total_score = (teleportation / nodes) + ((1 - teleportation) * total_score)\n",
    "            #total_score = sum_log((teleportation / nodes), ((1 - teleportation) * total_score))\n",
    "            if adj_list:\n",
    "                adj_list['score'] = total_score\n",
    "            else:\n",
    "                adj_list = {'score': total_score}\n",
    "    \n",
    "            #sys.stderr.write('[R2] {0} | {1} | {2}\\n\\n'.format(key, total_score, adj_list))\n",
    "            yield key, adj_list\n",
    "       \n",
    "\n",
    "    def mapper_dangling_init(self):\n",
    "        i = int(get_jobconf_value('iteration'))\n",
    "        aws_access_key_id = get_jobconf_value('aws_access_key_id')\n",
    "        aws_secret_access_key = get_jobconf_value('aws_secret_access_key')\n",
    "        \n",
    "        self.dangling_mass = 0\n",
    "        \n",
    "        # Read Dangling Mass from S3 Bucket\n",
    "        try:\n",
    "            conn = S3Connection(aws_access_key_id,aws_secret_access_key)\n",
    "            bucket = conn.get_bucket('w261')\n",
    "            k = Key(bucket)\n",
    "            k.key = 'hw93/dangling_mass/{0}'.format(i) # Same as iteration\n",
    "            self.dangling_mass = float(k.get_contents_as_string())\n",
    "        except boto.exception.S3ResponseError as err:\n",
    "            sys.stderr.write(err)\n",
    "            sys.exit(1)\n",
    "        \n",
    "        sys.stderr.write('[{0}][M_D] DANGLING MASS: {1}\\n'.format(i, self.dangling_mass))\n",
    "        \n",
    "    def mapper_dangling(self, key, value):\n",
    "        #sys.stderr.write('[M_D] {0}, {1} \\n'.format(key, value))\n",
    "        i = int(get_jobconf_value('iteration'))\n",
    "        key = key.replace(\"\\\"\",\"\")\n",
    "        key = key.replace(\"\\\\\",\"\")\n",
    "        adj_list = ast.literal_eval(str(value))\n",
    "        \n",
    "        if self.dangling_mass > 0:\n",
    "            nodes = int(get_jobconf_value('nodes'))\n",
    "            teleportation = float(get_jobconf_value('teleportation'))\n",
    "            score = adj_list['score']\n",
    "            modified_score = (teleportation / nodes) + (1 - teleportation) * ((self.dangling_mass / nodes) + score)\n",
    "            #modified_score = sum_log((teleportation / nodes), (1 - teleportation)*(self.dangling_mass / nodes))\n",
    "            #modified_score = sum_log(modified_score, (1 - teleportation)*score)\n",
    "            adj_list['score'] = modified_score\n",
    "            \n",
    "        yield key, adj_list\n",
    "        \n",
    "\n",
    "   \n",
    "if __name__ == '__main__':\n",
    "    PageRank_AWS.run()"
   ]
  },
  {
   "cell_type": "code",
   "execution_count": 212,
   "metadata": {
    "collapsed": true
   },
   "outputs": [],
   "source": [
    "!chmod a+x mrjob_hw93.py"
   ]
  },
  {
   "cell_type": "markdown",
   "metadata": {},
   "source": [
    "### === Wikipedia Dataset: 10 Iterations ==="
   ]
  },
  {
   "cell_type": "code",
   "execution_count": 226,
   "metadata": {
    "collapsed": false
   },
   "outputs": [
    {
     "name": "stderr",
     "output_type": "stream",
     "text": [
      "WARNING:mrjob.util:hash_object() is deprecated and will be removed in v0.5\n"
     ]
    },
    {
     "name": "stdout",
     "output_type": "stream",
     "text": [
      "\n",
      "\n",
      " Start Iteration: 1:\n",
      "Output Dir: s3://w261/hw93/output/0\n",
      "\n",
      "\n",
      " Start Iteration: 2:"
     ]
    },
    {
     "name": "stderr",
     "output_type": "stream",
     "text": [
      "WARNING:mrjob.util:hash_object() is deprecated and will be removed in v0.5\n"
     ]
    },
    {
     "name": "stdout",
     "output_type": "stream",
     "text": [
      "\n",
      "Output Dir: s3://w261/hw93/output/1\n",
      "\n",
      "\n",
      " Start Iteration: 3:"
     ]
    },
    {
     "name": "stderr",
     "output_type": "stream",
     "text": [
      "WARNING:mrjob.util:hash_object() is deprecated and will be removed in v0.5\n"
     ]
    },
    {
     "name": "stdout",
     "output_type": "stream",
     "text": [
      "\n",
      "Output Dir: s3://w261/hw93/output/2\n",
      "\n",
      "\n",
      " Start Iteration: 4:"
     ]
    },
    {
     "name": "stderr",
     "output_type": "stream",
     "text": [
      "WARNING:mrjob.util:hash_object() is deprecated and will be removed in v0.5\n"
     ]
    },
    {
     "name": "stdout",
     "output_type": "stream",
     "text": [
      "\n",
      "Output Dir: s3://w261/hw93/output/3\n",
      "\n",
      "\n",
      " Start Iteration: 5:"
     ]
    },
    {
     "name": "stderr",
     "output_type": "stream",
     "text": [
      "WARNING:mrjob.util:hash_object() is deprecated and will be removed in v0.5\n"
     ]
    },
    {
     "name": "stdout",
     "output_type": "stream",
     "text": [
      "\n",
      "Output Dir: s3://w261/hw93/output/4\n",
      "\n",
      "\n",
      " Start Iteration: 6:"
     ]
    },
    {
     "name": "stderr",
     "output_type": "stream",
     "text": [
      "WARNING:mrjob.util:hash_object() is deprecated and will be removed in v0.5\n"
     ]
    },
    {
     "name": "stdout",
     "output_type": "stream",
     "text": [
      "\n",
      "Output Dir: s3://w261/hw93/output/5\n",
      "\n",
      "\n",
      " Start Iteration: 7:"
     ]
    },
    {
     "name": "stderr",
     "output_type": "stream",
     "text": [
      "WARNING:mrjob.util:hash_object() is deprecated and will be removed in v0.5\n"
     ]
    },
    {
     "name": "stdout",
     "output_type": "stream",
     "text": [
      "\n",
      "Output Dir: s3://w261/hw93/output/6\n",
      "\n",
      "\n",
      " Start Iteration: 8:"
     ]
    },
    {
     "name": "stderr",
     "output_type": "stream",
     "text": [
      "WARNING:mrjob.util:hash_object() is deprecated and will be removed in v0.5\n"
     ]
    },
    {
     "name": "stdout",
     "output_type": "stream",
     "text": [
      "\n",
      "Output Dir: s3://w261/hw93/output/7\n",
      "\n",
      "\n",
      " Start Iteration: 9:"
     ]
    },
    {
     "name": "stderr",
     "output_type": "stream",
     "text": [
      "WARNING:mrjob.util:hash_object() is deprecated and will be removed in v0.5\n"
     ]
    },
    {
     "name": "stdout",
     "output_type": "stream",
     "text": [
      "\n",
      "Output Dir: s3://w261/hw93/output/8\n",
      "\n",
      "\n",
      " Start Iteration: 10:"
     ]
    },
    {
     "name": "stderr",
     "output_type": "stream",
     "text": [
      "WARNING:mrjob.util:hash_object() is deprecated and will be removed in v0.5\n"
     ]
    },
    {
     "name": "stdout",
     "output_type": "stream",
     "text": [
      "\n",
      "Output Dir: s3://w261/hw93/output/9\n"
     ]
    }
   ],
   "source": [
    "%reload_ext autoreload\n",
    "%autoreload 2\n",
    "from mrjob_hw93 import PageRank_AWS\n",
    "import ast\n",
    "import sys\n",
    "import pprint\n",
    "\n",
    "\n",
    "cnt = 0\n",
    "MAX_ITERATIONS = 10\n",
    "NODES = 15192277\n",
    "TELEPORTATION = 0.15\n",
    "\n",
    "# Delete Existing Output\n",
    "!aws s3 rm --recursive s3://w261/hw93/output/\n",
    "\n",
    "aws_creds = {}\n",
    "with open(\"/Users/ssatpati/.aws/credentials\", \"r\") as f:\n",
    "    for l in f:\n",
    "        if l.startswith('aws'):\n",
    "            t = l.split('=')\n",
    "            aws_creds[t[0].strip()] = t[1].strip()\n",
    "\n",
    "# After so many iterations (TBD: Convergence Criteria)\n",
    "while cnt < MAX_ITERATIONS:\n",
    "    print \"\\n\\n Start Iteration: \" + str(cnt+1) + \":\"\n",
    "    \n",
    "    out_dir = 's3://w261/hw93/output/{0}'.format(cnt)\n",
    "    print 'Output Dir: {0}'.format(out_dir)\n",
    "    \n",
    "    if cnt == 0:\n",
    "        mr_job = PageRank_AWS(args=['-r', 'emr', 's3://w261/all-pages-indexed-out.txt.pp',\n",
    "                                '--output-dir', out_dir,\n",
    "                                '--jobconf', 'teleportation={0}'.format(TELEPORTATION),\n",
    "                                '--jobconf', 'nodes={0}'.format(NODES),\n",
    "                                '--jobconf', 'iteration={0}'.format(cnt+1),\n",
    "                                '--jobconf', 'aws_access_key_id={0}'.format(aws_creds['aws_access_key_id']),\n",
    "                                '--jobconf', 'aws_secret_access_key={0}'.format(aws_creds['aws_secret_access_key']),\n",
    "                                '--no-strict-protocol',\n",
    "                                '--pool-emr-job-flows', \n",
    "                                '--max-hours-idle', '1',\n",
    "                                '--no-strict-protocol'])\n",
    "    else:\n",
    "        mr_job = PageRank_AWS(args=['-r', 'emr', 's3://w261/hw93/output/{0}/'.format(cnt-1),\n",
    "                                '--output-dir', out_dir,\n",
    "                                '--jobconf', 'teleportation={0}'.format(TELEPORTATION),\n",
    "                                '--jobconf', 'nodes={0}'.format(NODES),\n",
    "                                '--jobconf', 'iteration={0}'.format(cnt+1),\n",
    "                                '--jobconf', 'aws_access_key_id={0}'.format(aws_creds['aws_access_key_id']),\n",
    "                                '--jobconf', 'aws_secret_access_key={0}'.format(aws_creds['aws_secret_access_key']),\n",
    "                                '--no-strict-protocol',\n",
    "                                '--pool-emr-job-flows', \n",
    "                                '--max-hours-idle', '1',\n",
    "                                '--no-strict-protocol'])\n",
    "\n",
    "    with mr_job.make_runner() as runner: \n",
    "        runner.run()\n",
    "                                \n",
    "    cnt += 1\n",
    "    "
   ]
  },
  {
   "cell_type": "markdown",
   "metadata": {},
   "source": [
    "### === Wikipedia Dataset: 50 Iterations ==="
   ]
  },
  {
   "cell_type": "code",
   "execution_count": 225,
   "metadata": {
    "collapsed": false
   },
   "outputs": [
    {
     "name": "stderr",
     "output_type": "stream",
     "text": [
      "WARNING:mrjob.util:hash_object() is deprecated and will be removed in v0.5\n",
      "WARNING:mrjob.util:hash_object() is deprecated and will be removed in v0.5\n"
     ]
    },
    {
     "name": "stdout",
     "output_type": "stream",
     "text": [
      "\n",
      "\n",
      " Start Iteration: 1:\n",
      "Output Dir: s3://w261/hw93/output1/0\n",
      "\n",
      "\n",
      " Start Iteration: 2:"
     ]
    },
    {
     "name": "stderr",
     "output_type": "stream",
     "text": [
      "WARNING:mrjob.util:hash_object() is deprecated and will be removed in v0.5\n"
     ]
    },
    {
     "name": "stdout",
     "output_type": "stream",
     "text": [
      "\n",
      "Output Dir: s3://w261/hw93/output1/1\n",
      "\n",
      "\n",
      " Start Iteration: 3:"
     ]
    },
    {
     "name": "stderr",
     "output_type": "stream",
     "text": [
      "WARNING:mrjob.util:hash_object() is deprecated and will be removed in v0.5\n"
     ]
    },
    {
     "name": "stdout",
     "output_type": "stream",
     "text": [
      "\n",
      "Output Dir: s3://w261/hw93/output1/2\n",
      "\n",
      "\n",
      " Start Iteration: 4:"
     ]
    },
    {
     "name": "stderr",
     "output_type": "stream",
     "text": [
      "WARNING:mrjob.util:hash_object() is deprecated and will be removed in v0.5\n"
     ]
    },
    {
     "name": "stdout",
     "output_type": "stream",
     "text": [
      "\n",
      "Output Dir: s3://w261/hw93/output1/3\n",
      "\n",
      "\n",
      " Start Iteration: 5:"
     ]
    },
    {
     "name": "stderr",
     "output_type": "stream",
     "text": [
      "WARNING:mrjob.util:hash_object() is deprecated and will be removed in v0.5\n"
     ]
    },
    {
     "name": "stdout",
     "output_type": "stream",
     "text": [
      "\n",
      "Output Dir: s3://w261/hw93/output1/4\n",
      "\n",
      "\n",
      " Start Iteration: 6:"
     ]
    },
    {
     "name": "stderr",
     "output_type": "stream",
     "text": [
      "WARNING:mrjob.util:hash_object() is deprecated and will be removed in v0.5\n"
     ]
    },
    {
     "name": "stdout",
     "output_type": "stream",
     "text": [
      "\n",
      "Output Dir: s3://w261/hw93/output1/5\n",
      "\n",
      "\n",
      " Start Iteration: 7:"
     ]
    },
    {
     "name": "stderr",
     "output_type": "stream",
     "text": [
      "WARNING:mrjob.util:hash_object() is deprecated and will be removed in v0.5\n"
     ]
    },
    {
     "name": "stdout",
     "output_type": "stream",
     "text": [
      "\n",
      "Output Dir: s3://w261/hw93/output1/6\n",
      "\n",
      "\n",
      " Start Iteration: 8:"
     ]
    },
    {
     "name": "stderr",
     "output_type": "stream",
     "text": [
      "WARNING:mrjob.util:hash_object() is deprecated and will be removed in v0.5\n"
     ]
    },
    {
     "name": "stdout",
     "output_type": "stream",
     "text": [
      "\n",
      "Output Dir: s3://w261/hw93/output1/7\n",
      "\n",
      "\n",
      " Start Iteration: 9:"
     ]
    },
    {
     "name": "stderr",
     "output_type": "stream",
     "text": [
      "WARNING:mrjob.util:hash_object() is deprecated and will be removed in v0.5\n"
     ]
    },
    {
     "name": "stdout",
     "output_type": "stream",
     "text": [
      "\n",
      "Output Dir: s3://w261/hw93/output1/8\n",
      "\n",
      "\n",
      " Start Iteration: 10:"
     ]
    },
    {
     "name": "stderr",
     "output_type": "stream",
     "text": [
      "WARNING:mrjob.util:hash_object() is deprecated and will be removed in v0.5\n"
     ]
    },
    {
     "name": "stdout",
     "output_type": "stream",
     "text": [
      "\n",
      "Output Dir: s3://w261/hw93/output1/9\n",
      "\n",
      "\n",
      " Start Iteration: 11:"
     ]
    },
    {
     "name": "stderr",
     "output_type": "stream",
     "text": [
      "WARNING:mrjob.util:hash_object() is deprecated and will be removed in v0.5\n"
     ]
    },
    {
     "name": "stdout",
     "output_type": "stream",
     "text": [
      "\n",
      "Output Dir: s3://w261/hw93/output1/10\n",
      "\n",
      "\n",
      " Start Iteration: 12:"
     ]
    },
    {
     "name": "stderr",
     "output_type": "stream",
     "text": [
      "WARNING:mrjob.util:hash_object() is deprecated and will be removed in v0.5\n"
     ]
    },
    {
     "name": "stdout",
     "output_type": "stream",
     "text": [
      "\n",
      "Output Dir: s3://w261/hw93/output1/11\n",
      "\n",
      "\n",
      " Start Iteration: 13:"
     ]
    },
    {
     "name": "stderr",
     "output_type": "stream",
     "text": [
      "WARNING:mrjob.util:hash_object() is deprecated and will be removed in v0.5\n"
     ]
    },
    {
     "name": "stdout",
     "output_type": "stream",
     "text": [
      "\n",
      "Output Dir: s3://w261/hw93/output1/12\n",
      "\n",
      "\n",
      " Start Iteration: 14:"
     ]
    },
    {
     "name": "stderr",
     "output_type": "stream",
     "text": [
      "WARNING:mrjob.util:hash_object() is deprecated and will be removed in v0.5\n"
     ]
    },
    {
     "name": "stdout",
     "output_type": "stream",
     "text": [
      "\n",
      "Output Dir: s3://w261/hw93/output1/13\n",
      "\n",
      "\n",
      " Start Iteration: 15:"
     ]
    },
    {
     "name": "stderr",
     "output_type": "stream",
     "text": [
      "WARNING:mrjob.util:hash_object() is deprecated and will be removed in v0.5\n"
     ]
    },
    {
     "name": "stdout",
     "output_type": "stream",
     "text": [
      "\n",
      "Output Dir: s3://w261/hw93/output1/14\n",
      "\n",
      "\n",
      " Start Iteration: 16:"
     ]
    },
    {
     "name": "stderr",
     "output_type": "stream",
     "text": [
      "WARNING:mrjob.util:hash_object() is deprecated and will be removed in v0.5\n"
     ]
    },
    {
     "name": "stdout",
     "output_type": "stream",
     "text": [
      "\n",
      "Output Dir: s3://w261/hw93/output1/15\n",
      "\n",
      "\n",
      " Start Iteration: 17:"
     ]
    },
    {
     "name": "stderr",
     "output_type": "stream",
     "text": [
      "WARNING:mrjob.util:hash_object() is deprecated and will be removed in v0.5\n"
     ]
    },
    {
     "name": "stdout",
     "output_type": "stream",
     "text": [
      "\n",
      "Output Dir: s3://w261/hw93/output1/16\n",
      "\n",
      "\n",
      " Start Iteration: 18:"
     ]
    },
    {
     "name": "stderr",
     "output_type": "stream",
     "text": [
      "WARNING:mrjob.util:hash_object() is deprecated and will be removed in v0.5\n"
     ]
    },
    {
     "name": "stdout",
     "output_type": "stream",
     "text": [
      "\n",
      "Output Dir: s3://w261/hw93/output1/17\n",
      "\n",
      "\n",
      " Start Iteration: 19:"
     ]
    },
    {
     "name": "stderr",
     "output_type": "stream",
     "text": [
      "WARNING:mrjob.util:hash_object() is deprecated and will be removed in v0.5\n"
     ]
    },
    {
     "name": "stdout",
     "output_type": "stream",
     "text": [
      "\n",
      "Output Dir: s3://w261/hw93/output1/18\n",
      "\n",
      "\n",
      " Start Iteration: 20:"
     ]
    },
    {
     "name": "stderr",
     "output_type": "stream",
     "text": [
      "WARNING:mrjob.util:hash_object() is deprecated and will be removed in v0.5\n"
     ]
    },
    {
     "name": "stdout",
     "output_type": "stream",
     "text": [
      "\n",
      "Output Dir: s3://w261/hw93/output1/19\n",
      "\n",
      "\n",
      " Start Iteration: 21:"
     ]
    },
    {
     "name": "stderr",
     "output_type": "stream",
     "text": [
      "WARNING:mrjob.util:hash_object() is deprecated and will be removed in v0.5\n"
     ]
    },
    {
     "name": "stdout",
     "output_type": "stream",
     "text": [
      "\n",
      "Output Dir: s3://w261/hw93/output1/20\n",
      "\n",
      "\n",
      " Start Iteration: 22:"
     ]
    },
    {
     "name": "stderr",
     "output_type": "stream",
     "text": [
      "WARNING:mrjob.util:hash_object() is deprecated and will be removed in v0.5\n"
     ]
    },
    {
     "name": "stdout",
     "output_type": "stream",
     "text": [
      "\n",
      "Output Dir: s3://w261/hw93/output1/21\n",
      "\n",
      "\n",
      " Start Iteration: 23:"
     ]
    },
    {
     "name": "stderr",
     "output_type": "stream",
     "text": [
      "WARNING:mrjob.util:hash_object() is deprecated and will be removed in v0.5\n"
     ]
    },
    {
     "name": "stdout",
     "output_type": "stream",
     "text": [
      "\n",
      "Output Dir: s3://w261/hw93/output1/22\n",
      "\n",
      "\n",
      " Start Iteration: 24:"
     ]
    },
    {
     "name": "stderr",
     "output_type": "stream",
     "text": [
      "WARNING:mrjob.util:hash_object() is deprecated and will be removed in v0.5\n"
     ]
    },
    {
     "name": "stdout",
     "output_type": "stream",
     "text": [
      "\n",
      "Output Dir: s3://w261/hw93/output1/23\n",
      "\n",
      "\n",
      " Start Iteration: 25:"
     ]
    },
    {
     "name": "stderr",
     "output_type": "stream",
     "text": [
      "WARNING:mrjob.util:hash_object() is deprecated and will be removed in v0.5\n"
     ]
    },
    {
     "name": "stdout",
     "output_type": "stream",
     "text": [
      "\n",
      "Output Dir: s3://w261/hw93/output1/24\n",
      "\n",
      "\n",
      " Start Iteration: 26:"
     ]
    },
    {
     "name": "stderr",
     "output_type": "stream",
     "text": [
      "WARNING:mrjob.util:hash_object() is deprecated and will be removed in v0.5\n"
     ]
    },
    {
     "name": "stdout",
     "output_type": "stream",
     "text": [
      "\n",
      "Output Dir: s3://w261/hw93/output1/25\n",
      "\n",
      "\n",
      " Start Iteration: 27:"
     ]
    },
    {
     "name": "stderr",
     "output_type": "stream",
     "text": [
      "WARNING:mrjob.util:hash_object() is deprecated and will be removed in v0.5\n"
     ]
    },
    {
     "name": "stdout",
     "output_type": "stream",
     "text": [
      "\n",
      "Output Dir: s3://w261/hw93/output1/26\n",
      "\n",
      "\n",
      " Start Iteration: 28:"
     ]
    },
    {
     "name": "stderr",
     "output_type": "stream",
     "text": [
      "WARNING:mrjob.util:hash_object() is deprecated and will be removed in v0.5\n"
     ]
    },
    {
     "name": "stdout",
     "output_type": "stream",
     "text": [
      "\n",
      "Output Dir: s3://w261/hw93/output1/27\n",
      "\n",
      "\n",
      " Start Iteration: 29:"
     ]
    },
    {
     "name": "stderr",
     "output_type": "stream",
     "text": [
      "WARNING:mrjob.util:hash_object() is deprecated and will be removed in v0.5\n"
     ]
    },
    {
     "name": "stdout",
     "output_type": "stream",
     "text": [
      "\n",
      "Output Dir: s3://w261/hw93/output1/28\n",
      "\n",
      "\n",
      " Start Iteration: 30:"
     ]
    },
    {
     "name": "stderr",
     "output_type": "stream",
     "text": [
      "WARNING:mrjob.util:hash_object() is deprecated and will be removed in v0.5\n"
     ]
    },
    {
     "name": "stdout",
     "output_type": "stream",
     "text": [
      "\n",
      "Output Dir: s3://w261/hw93/output1/29\n",
      "\n",
      "\n",
      " Start Iteration: 31:"
     ]
    },
    {
     "name": "stderr",
     "output_type": "stream",
     "text": [
      "WARNING:mrjob.util:hash_object() is deprecated and will be removed in v0.5\n"
     ]
    },
    {
     "name": "stdout",
     "output_type": "stream",
     "text": [
      "\n",
      "Output Dir: s3://w261/hw93/output1/30\n",
      "\n",
      "\n",
      " Start Iteration: 32:"
     ]
    },
    {
     "name": "stderr",
     "output_type": "stream",
     "text": [
      "WARNING:mrjob.util:hash_object() is deprecated and will be removed in v0.5\n"
     ]
    },
    {
     "name": "stdout",
     "output_type": "stream",
     "text": [
      "\n",
      "Output Dir: s3://w261/hw93/output1/31\n",
      "\n",
      "\n",
      " Start Iteration: 33:"
     ]
    },
    {
     "name": "stderr",
     "output_type": "stream",
     "text": [
      "WARNING:mrjob.util:hash_object() is deprecated and will be removed in v0.5\n"
     ]
    },
    {
     "name": "stdout",
     "output_type": "stream",
     "text": [
      "\n",
      "Output Dir: s3://w261/hw93/output1/32\n",
      "\n",
      "\n",
      " Start Iteration: 34:"
     ]
    },
    {
     "name": "stderr",
     "output_type": "stream",
     "text": [
      "WARNING:mrjob.util:hash_object() is deprecated and will be removed in v0.5\n"
     ]
    },
    {
     "name": "stdout",
     "output_type": "stream",
     "text": [
      "\n",
      "Output Dir: s3://w261/hw93/output1/33\n",
      "\n",
      "\n",
      " Start Iteration: 35:"
     ]
    },
    {
     "name": "stderr",
     "output_type": "stream",
     "text": [
      "WARNING:mrjob.util:hash_object() is deprecated and will be removed in v0.5\n"
     ]
    },
    {
     "name": "stdout",
     "output_type": "stream",
     "text": [
      "\n",
      "Output Dir: s3://w261/hw93/output1/34\n",
      "\n",
      "\n",
      " Start Iteration: 36:"
     ]
    },
    {
     "name": "stderr",
     "output_type": "stream",
     "text": [
      "WARNING:mrjob.util:hash_object() is deprecated and will be removed in v0.5\n"
     ]
    },
    {
     "name": "stdout",
     "output_type": "stream",
     "text": [
      "\n",
      "Output Dir: s3://w261/hw93/output1/35\n",
      "\n",
      "\n",
      " Start Iteration: 37:"
     ]
    },
    {
     "name": "stderr",
     "output_type": "stream",
     "text": [
      "WARNING:mrjob.util:hash_object() is deprecated and will be removed in v0.5\n"
     ]
    },
    {
     "name": "stdout",
     "output_type": "stream",
     "text": [
      "\n",
      "Output Dir: s3://w261/hw93/output1/36\n",
      "\n",
      "\n",
      " Start Iteration: 38:"
     ]
    },
    {
     "name": "stderr",
     "output_type": "stream",
     "text": [
      "WARNING:mrjob.util:hash_object() is deprecated and will be removed in v0.5\n"
     ]
    },
    {
     "name": "stdout",
     "output_type": "stream",
     "text": [
      "\n",
      "Output Dir: s3://w261/hw93/output1/37\n",
      "\n",
      "\n",
      " Start Iteration: 39:"
     ]
    },
    {
     "name": "stderr",
     "output_type": "stream",
     "text": [
      "WARNING:mrjob.util:hash_object() is deprecated and will be removed in v0.5\n"
     ]
    },
    {
     "name": "stdout",
     "output_type": "stream",
     "text": [
      "\n",
      "Output Dir: s3://w261/hw93/output1/38\n",
      "\n",
      "\n",
      " Start Iteration: 40:"
     ]
    },
    {
     "name": "stderr",
     "output_type": "stream",
     "text": [
      "WARNING:mrjob.util:hash_object() is deprecated and will be removed in v0.5\n"
     ]
    },
    {
     "name": "stdout",
     "output_type": "stream",
     "text": [
      "\n",
      "Output Dir: s3://w261/hw93/output1/39\n",
      "\n",
      "\n",
      " Start Iteration: 41:"
     ]
    },
    {
     "name": "stderr",
     "output_type": "stream",
     "text": [
      "WARNING:mrjob.util:hash_object() is deprecated and will be removed in v0.5\n"
     ]
    },
    {
     "name": "stdout",
     "output_type": "stream",
     "text": [
      "\n",
      "Output Dir: s3://w261/hw93/output1/40\n",
      "\n",
      "\n",
      " Start Iteration: 42:"
     ]
    },
    {
     "name": "stderr",
     "output_type": "stream",
     "text": [
      "WARNING:mrjob.util:hash_object() is deprecated and will be removed in v0.5\n"
     ]
    },
    {
     "name": "stdout",
     "output_type": "stream",
     "text": [
      "\n",
      "Output Dir: s3://w261/hw93/output1/41\n",
      "\n",
      "\n",
      " Start Iteration: 43:"
     ]
    },
    {
     "name": "stderr",
     "output_type": "stream",
     "text": [
      "WARNING:mrjob.util:hash_object() is deprecated and will be removed in v0.5\n"
     ]
    },
    {
     "name": "stdout",
     "output_type": "stream",
     "text": [
      "\n",
      "Output Dir: s3://w261/hw93/output1/42\n",
      "\n",
      "\n",
      " Start Iteration: 44:"
     ]
    },
    {
     "name": "stderr",
     "output_type": "stream",
     "text": [
      "WARNING:mrjob.util:hash_object() is deprecated and will be removed in v0.5\n"
     ]
    },
    {
     "name": "stdout",
     "output_type": "stream",
     "text": [
      "\n",
      "Output Dir: s3://w261/hw93/output1/43\n",
      "\n",
      "\n",
      " Start Iteration: 45:"
     ]
    },
    {
     "name": "stderr",
     "output_type": "stream",
     "text": [
      "WARNING:mrjob.util:hash_object() is deprecated and will be removed in v0.5\n"
     ]
    },
    {
     "name": "stdout",
     "output_type": "stream",
     "text": [
      "\n",
      "Output Dir: s3://w261/hw93/output1/44\n",
      "\n",
      "\n",
      " Start Iteration: 46:"
     ]
    },
    {
     "name": "stderr",
     "output_type": "stream",
     "text": [
      "WARNING:mrjob.util:hash_object() is deprecated and will be removed in v0.5\n"
     ]
    },
    {
     "name": "stdout",
     "output_type": "stream",
     "text": [
      "\n",
      "Output Dir: s3://w261/hw93/output1/45\n",
      "\n",
      "\n",
      " Start Iteration: 47:"
     ]
    },
    {
     "name": "stderr",
     "output_type": "stream",
     "text": [
      "WARNING:mrjob.util:hash_object() is deprecated and will be removed in v0.5\n"
     ]
    },
    {
     "name": "stdout",
     "output_type": "stream",
     "text": [
      "\n",
      "Output Dir: s3://w261/hw93/output1/46\n",
      "\n",
      "\n",
      " Start Iteration: 48:"
     ]
    },
    {
     "name": "stderr",
     "output_type": "stream",
     "text": [
      "WARNING:mrjob.util:hash_object() is deprecated and will be removed in v0.5\n"
     ]
    },
    {
     "name": "stdout",
     "output_type": "stream",
     "text": [
      "\n",
      "Output Dir: s3://w261/hw93/output1/47\n",
      "\n",
      "\n",
      " Start Iteration: 49:"
     ]
    },
    {
     "name": "stderr",
     "output_type": "stream",
     "text": [
      "WARNING:mrjob.util:hash_object() is deprecated and will be removed in v0.5\n"
     ]
    },
    {
     "name": "stdout",
     "output_type": "stream",
     "text": [
      "\n",
      "Output Dir: s3://w261/hw93/output1/48\n",
      "\n",
      "\n",
      " Start Iteration: 50:"
     ]
    },
    {
     "name": "stderr",
     "output_type": "stream",
     "text": [
      "WARNING:mrjob.util:hash_object() is deprecated and will be removed in v0.5\n"
     ]
    },
    {
     "name": "stdout",
     "output_type": "stream",
     "text": [
      "\n",
      "Output Dir: s3://w261/hw93/output1/49\n"
     ]
    }
   ],
   "source": [
    "%reload_ext autoreload\n",
    "%autoreload 2\n",
    "from mrjob_hw93 import PageRank_AWS\n",
    "import ast\n",
    "import sys\n",
    "import pprint\n",
    "\n",
    "\n",
    "cnt = 0\n",
    "MAX_ITERATIONS = 50\n",
    "NODES = 15192277\n",
    "TELEPORTATION = 0.15\n",
    "\n",
    "# Delete Existing Output\n",
    "!aws s3 rm --recursive s3://w261/hw93/output1/\n",
    "\n",
    "aws_creds = {}\n",
    "with open(\"/Users/ssatpati/.aws/credentials\", \"r\") as f:\n",
    "    for l in f:\n",
    "        if l.startswith('aws'):\n",
    "            t = l.split('=')\n",
    "            aws_creds[t[0].strip()] = t[1].strip()\n",
    "\n",
    "# After so many iterations (TBD: Convergence Criteria)\n",
    "while cnt < MAX_ITERATIONS:\n",
    "    print \"\\n\\n Start Iteration: \" + str(cnt+1) + \":\"\n",
    "    \n",
    "    out_dir = 's3://w261/hw93/output1/{0}'.format(cnt)\n",
    "    print 'Output Dir: {0}'.format(out_dir)\n",
    "    \n",
    "    if cnt == 0:\n",
    "        mr_job = PageRank_AWS(args=['-r', 'emr', 's3://w261/all-pages-indexed-out.txt.pp',\n",
    "                                '--output-dir', out_dir,\n",
    "                                '--jobconf', 'teleportation={0}'.format(TELEPORTATION),\n",
    "                                '--jobconf', 'nodes={0}'.format(NODES),\n",
    "                                '--jobconf', 'iteration={0}'.format(cnt+1),\n",
    "                                '--jobconf', 'aws_access_key_id={0}'.format(aws_creds['aws_access_key_id']),\n",
    "                                '--jobconf', 'aws_secret_access_key={0}'.format(aws_creds['aws_secret_access_key']),\n",
    "                                '--no-strict-protocol',\n",
    "                                '--pool-emr-job-flows', \n",
    "                                '--max-hours-idle', '1',\n",
    "                                '--no-strict-protocol'])\n",
    "    else:\n",
    "        mr_job = PageRank_AWS(args=['-r', 'emr', 's3://w261/hw93/output1/{0}/'.format(cnt-1),\n",
    "                                '--output-dir', out_dir,\n",
    "                                '--jobconf', 'teleportation={0}'.format(TELEPORTATION),\n",
    "                                '--jobconf', 'nodes={0}'.format(NODES),\n",
    "                                '--jobconf', 'iteration={0}'.format(cnt+1),\n",
    "                                '--jobconf', 'aws_access_key_id={0}'.format(aws_creds['aws_access_key_id']),\n",
    "                                '--jobconf', 'aws_secret_access_key={0}'.format(aws_creds['aws_secret_access_key']),\n",
    "                                '--no-strict-protocol',\n",
    "                                '--pool-emr-job-flows', \n",
    "                                '--max-hours-idle', '1',\n",
    "                                '--no-strict-protocol'])\n",
    "\n",
    "    with mr_job.make_runner() as runner: \n",
    "        runner.run()\n",
    "                                \n",
    "    cnt += 1\n",
    "    "
   ]
  },
  {
   "cell_type": "markdown",
   "metadata": {},
   "source": [
    "### Generic MRJob to find the top_N Values"
   ]
  },
  {
   "cell_type": "code",
   "execution_count": 227,
   "metadata": {
    "collapsed": false
   },
   "outputs": [
    {
     "name": "stdout",
     "output_type": "stream",
     "text": [
      "Overwriting mrjob_hw93_top100.py\n"
     ]
    }
   ],
   "source": [
    "%%writefile mrjob_hw93_top100.py\n",
    "#!/usr/bin/python\n",
    "from mrjob.job import MRJob\n",
    "from mrjob.step import MRStep\n",
    "from mrjob.protocol import RawProtocol\n",
    "from mrjob.compat import get_jobconf_value\n",
    "import ast,sys\n",
    "\n",
    "\n",
    "class TopNPageRanks(MRJob):\n",
    "    \n",
    "    INPUT_PROTOCOL = RawProtocol\n",
    "    \n",
    "    def steps(self):\n",
    "        return [\n",
    "            MRStep(mapper_init=self.mapper_topN_init,\n",
    "                   mapper=self.mapper_topN,\n",
    "                   mapper_final=self.mapper_topN_final,\n",
    "                   reducer_init=self.reducer_topN_init,\n",
    "                   reducer=self.reducer_topN,\n",
    "                   reducer_final=self.reducer_topN_final,\n",
    "                   jobconf={\n",
    "                            'mapred.output.key.comparator.class': 'org.apache.hadoop.mapred.lib.KeyFieldBasedComparator',\n",
    "                            'mapred.text.key.comparator.options': '-k1,1rn',\n",
    "                            'mapred.reduce.tasks': 1\n",
    "                            }\n",
    "                  )\n",
    "        ]\n",
    "    \n",
    "    def mapper_topN_init(self):\n",
    "        self.TOP_N = 100\n",
    "        self.top_N_pairs = []\n",
    "    \n",
    "    def mapper_topN(self, key, value):\n",
    "        key = key.replace(\"\\\"\",\"\")\n",
    "        key = key.replace(\"\\\\\",\"\")\n",
    "        adj_list = ast.literal_eval(value)\n",
    "        \n",
    "        self.top_N_pairs.append((adj_list['score'], key))\n",
    "        if len(self.top_N_pairs) > self.TOP_N:\n",
    "            self.top_N_pairs.sort(key=lambda x: -x[0])\n",
    "            self.top_N_pairs = self.top_N_pairs[:self.TOP_N]\n",
    "            \n",
    "    def mapper_topN_final(self):\n",
    "        sys.stderr.write('##### [Mapper_Final]: {0}\\n'.format(len(self.top_N_pairs)))\n",
    "        for e in self.top_N_pairs:\n",
    "            yield e[0], e[1]\n",
    "        \n",
    "    def reducer_topN_init(self):\n",
    "        self.TOP_N = 100\n",
    "        self.top_N_pairs = []\n",
    "            \n",
    "    def reducer_topN(self, key, values):\n",
    "        for value in values:\n",
    "            self.top_N_pairs.append((key, value))\n",
    "        if len(self.top_N_pairs) > self.TOP_N:\n",
    "            self.top_N_pairs.sort(key=lambda x: -x[0])\n",
    "            self.top_N_pairs = self.top_N_pairs[:self.TOP_N]\n",
    "        \n",
    "    def reducer_topN_final(self):\n",
    "        sys.stderr.write('##### [Reducer_Final]: {0}\\n'.format(len(self.top_N_pairs)))\n",
    "        for e in self.top_N_pairs:\n",
    "            yield e[0], e[1]\n",
    "    \n",
    "if __name__ == '__main__':\n",
    "    TopNPageRanks.run()"
   ]
  },
  {
   "cell_type": "code",
   "execution_count": 228,
   "metadata": {
    "collapsed": true
   },
   "outputs": [],
   "source": [
    "!chmod a+x mrjob_hw93_top100.py"
   ]
  },
  {
   "cell_type": "markdown",
   "metadata": {},
   "source": [
    "### Find Top 100 Page Ranks - Page Rank run with 10 iterations"
   ]
  },
  {
   "cell_type": "code",
   "execution_count": 229,
   "metadata": {
    "collapsed": false
   },
   "outputs": [
    {
     "name": "stdout",
     "output_type": "stream",
     "text": [
      "0.0014614491944077389\t\"13455888\"\r\n",
      "0.00066633173766243422\t\"1184351\"\r\n",
      "0.00063980518762376919\t\"4695850\"\r\n",
      "0.00057485388269411393\t\"5051368\"\r\n",
      "0.00045030471433506045\t\"1384888\"\r\n",
      "0.00044660099103889728\t\"2437837\"\r\n",
      "0.00044481824807235642\t\"6113490\"\r\n",
      "0.00044420373464869881\t\"7902219\"\r\n",
      "0.00043299524497309111\t\"13425865\"\r\n",
      "0.00042788533618055163\t\"6076759\"\r\n",
      "0.00042327595495435119\t\"4196067\"\r\n",
      "0.00039817029591602925\t\"6172466\"\r\n",
      "0.00038543367085079497\t\"14112583\"\r\n",
      "0.00036316706608724214\t\"10390714\"\r\n",
      "0.00034383110767296387\t\"15164193\"\r\n",
      "0.00033834786525998662\t\"3191491\"\r\n",
      "0.00032935246269550836\t\"6416278\"\r\n",
      "0.00032896996560107043\t\"6237129\"\r\n",
      "0.00032632071990416434\t\"7835160\"\r\n",
      "0.00032507588819237655\t\"1516699\"\r\n",
      "0.00031314344183987756\t\"13725487\"\r\n",
      "0.00030959412428348937\t\"9276255\"\r\n",
      "0.00030809546901865501\t\"7576704\"\r\n",
      "0.00030354256664463141\t\"10469541\"\r\n",
      "0.00029795335224561066\t\"5154210\"\r\n",
      "0.00028579029429588303\t\"12836211\"\r\n",
      "0.00028347554325984384\t\"7990491\"\r\n",
      "0.00026906211185536929\t\"4198751\"\r\n",
      "0.00026401327507796166\t\"2797855\"\r\n",
      "0.0002610656557758054\t\"11253108\"\r\n",
      "0.0002575586848485634\t\"9386580\"\r\n",
      "0.00025508993712132386\t\"3603527\"\r\n",
      "0.0002510430114113158\t\"12074312\"\r\n",
      "0.00024879018337752235\t\"3069099\"\r\n",
      "0.00024545732888463706\t\"14881689\"\r\n",
      "0.00024484903187638451\t\"2155467\"\r\n",
      "0.00023872444278044396\t\"1441065\"\r\n",
      "0.00023335074721345033\t\"14503460\"\r\n",
      "0.0002206050333416595\t\"2396749\"\r\n",
      "0.00021509725581341996\t\"3191268\"\r\n",
      "0.00021468682893173766\t\"10566120\"\r\n",
      "0.00021137909658653462\t\"2614581\"\r\n",
      "0.00021132415996283604\t\"11147327\"\r\n",
      "0.00020715963506789855\t\"1637982\"\r\n",
      "0.00020338117269215369\t\"12430985\"\r\n",
      "0.00020262323397539811\t\"11245362\"\r\n",
      "0.00019701920176268969\t\"9355455\"\r\n",
      "0.00019142274075303401\t\"10527224\"\r\n",
      "0.00019074389256326863\t\"14112408\"\r\n",
      "0.00018818343631188085\t\"2614578\"\r\n",
      "0.00018809311931788342\t\"9391762\"\r\n",
      "0.00018710317003267114\t\"8697871\"\r\n",
      "0.00018685330250831379\t\"6172167\"\r\n",
      "0.00018540138487607737\t\"981395\"\r\n",
      "0.0001788500153984227\t\"6171937\"\r\n",
      "0.00017834740120417967\t\"5490435\"\r\n",
      "0.00017325786785408787\t\"11582765\"\r\n",
      "0.00016954981153385264\t\"14725161\"\r\n",
      "0.00016767695232487156\t\"12067030\"\r\n",
      "0.00016731685715720853\t\"9562547\"\r\n",
      "0.00016548126936029325\t\"994890\"\r\n",
      "0.00016067308338663105\t\"9997298\"\r\n",
      "0.00016052821856657039\t\"9394907\"\r\n",
      "0.00015904269686978863\t\"13280859\"\r\n",
      "0.00015776886153144351\t\"10345830\"\r\n",
      "0.00015530367289541978\t\"4978429\"\r\n",
      "0.00015495000507560497\t\"12447593\"\r\n",
      "0.00015322797218766533\t\"8019937\"\r\n",
      "0.00014889113579662634\t\"11148415\"\r\n",
      "0.00014788104549870063\t\"13432150\"\r\n",
      "0.0001471267245910014\t\"4344962\"\r\n",
      "0.00014192897865072175\t\"1175360\"\r\n",
      "0.00014131286755729889\t\"12038331\"\r\n",
      "0.00013909604112824714\t\"14565507\"\r\n",
      "0.0001378132040770803\t\"4624519\"\r\n",
      "0.00013627013408428691\t\"1523975\"\r\n",
      "0.00013494958520301865\t\"14981725\"\r\n",
      "0.00013474185798418976\t\"13328060\"\r\n",
      "0.00013073867122642677\t\"1332806\"\r\n",
      "0.00013023139425206128\t\"10399499\"\r\n",
      "0.00013006969330594216\t\"14963657\"\r\n",
      "0.000128343130034268\t\"2578813\"\r\n",
      "0.00012828888426949357\t\"2826544\"\r\n",
      "0.00012723774170289253\t\"1575979\"\r\n",
      "0.00012713810217814615\t\"1813634\"\r\n",
      "0.00012404627525110289\t\"2778099\"\r\n",
      "0.00012083877137790823\t\"13853369\"\r\n",
      "0.00012028369797486016\t\"9924814\"\r\n",
      "0.00011582953102470509\t\"4568647\"\r\n",
      "0.00011443369324589861\t\"12785678\"\r\n",
      "0.00011442817413729292\t\"7467127\"\r\n",
      "0.00011425740364592573\t\"9742161\"\r\n",
      "0.00011368488063712799\t\"3328327\"\r\n",
      "0.00011328616899637248\t\"10246542\"\r\n",
      "0.00011326731775385284\t\"3591832\"\r\n",
      "0.00011319055335024931\t\"5274313\"\r\n",
      "0.00011298651396128615\t\"14727077\"\r\n",
      "0.00011246839613528229\t\"14709489\"\r\n",
      "0.00011223456346465526\t\"5908108\"\r\n",
      "0.00011220084058081066\t\"3973000\"\r\n"
     ]
    }
   ],
   "source": [
    "!aws s3 rm --recursive s3://w261/hw93/output_top100/\n",
    "!python mrjob_hw93_top100.py -q -r emr \\\n",
    " s3://w261/hw93/output/9/ \\\n",
    " --output-dir=s3://w261/hw93/output_top100/ \\\n",
    " --no-strict-protocol"
   ]
  },
  {
   "cell_type": "code",
   "execution_count": 231,
   "metadata": {
    "collapsed": false
   },
   "outputs": [
    {
     "name": "stdout",
     "output_type": "stream",
     "text": [
      "download: s3://w261/hw93/output_top100/part-00000 to ./part-00000\n",
      "-rw-r--r--  1 ssatpati  110056872  3325 Nov  2 09:44 wiki_pagerank_10_iter.txt\n"
     ]
    }
   ],
   "source": [
    "!aws s3 cp s3://w261/hw93/output_top100/part-00000 .\n",
    "!mv part-00000 wiki_pagerank_10_iter.txt\n",
    "!ls -l wiki_pagerank_10_iter.txt"
   ]
  },
  {
   "cell_type": "markdown",
   "metadata": {},
   "source": [
    "### Find Top 100 Page Ranks - Page Rank run with 50 iterations"
   ]
  },
  {
   "cell_type": "code",
   "execution_count": 230,
   "metadata": {
    "collapsed": false
   },
   "outputs": [
    {
     "name": "stdout",
     "output_type": "stream",
     "text": [
      "0.0014615599818950051\t\"13455888\"\r\n",
      "0.00066601779372097683\t\"1184351\"\r\n",
      "0.00063967737583050523\t\"4695850\"\r\n",
      "0.00057476719839043657\t\"5051368\"\r\n",
      "0.00045012322227649135\t\"1384888\"\r\n",
      "0.00044667005175968869\t\"2437837\"\r\n",
      "0.00044463224410275795\t\"6113490\"\r\n",
      "0.0004438786997350172\t\"7902219\"\r\n",
      "0.00043314218180878674\t\"13425865\"\r\n",
      "0.00042770776778149028\t\"6076759\"\r\n",
      "0.0004234167960369039\t\"4196067\"\r\n",
      "0.0003978260420823735\t\"6172466\"\r\n",
      "0.00038548623802966812\t\"14112583\"\r\n",
      "0.00036266653374319579\t\"10390714\"\r\n",
      "0.00034358745306681032\t\"15164193\"\r\n",
      "0.00033804961292161411\t\"3191491\"\r\n",
      "0.00032922032693070687\t\"6416278\"\r\n",
      "0.00032899474585342399\t\"6237129\"\r\n",
      "0.00032620175387261427\t\"7835160\"\r\n",
      "0.00032511085577420685\t\"1516699\"\r\n",
      "0.00031268227727687247\t\"13725487\"\r\n",
      "0.00030956927415565032\t\"9276255\"\r\n",
      "0.00030798064684121803\t\"7576704\"\r\n",
      "0.00030312038150828464\t\"10469541\"\r\n",
      "0.00029754778736255287\t\"5154210\"\r\n",
      "0.00028603760472187013\t\"12836211\"\r\n",
      "0.00028362017803191739\t\"7990491\"\r\n",
      "0.0002690535556513846\t\"4198751\"\r\n",
      "0.00026401414748113274\t\"2797855\"\r\n",
      "0.00026098474385061974\t\"11253108\"\r\n",
      "0.00025769760117179251\t\"9386580\"\r\n",
      "0.00025497086282432645\t\"3603527\"\r\n",
      "0.00025102209164296735\t\"12074312\"\r\n",
      "0.00024867559435740104\t\"3069099\"\r\n",
      "0.00024536414142058952\t\"14881689\"\r\n",
      "0.00024471986914673837\t\"2155467\"\r\n",
      "0.00023864828929663341\t\"1441065\"\r\n",
      "0.00023330403435735725\t\"14503460\"\r\n",
      "0.0002206322347874846\t\"2396749\"\r\n",
      "0.00021495546054200104\t\"3191268\"\r\n",
      "0.00021454455864481717\t\"10566120\"\r\n",
      "0.00021120319800842403\t\"2614581\"\r\n",
      "0.00021118711283438132\t\"11147327\"\r\n",
      "0.00020703164638110908\t\"1637982\"\r\n",
      "0.00020330214011246952\t\"12430985\"\r\n",
      "0.00020252992613606301\t\"11245362\"\r\n",
      "0.00019701419939821587\t\"9355455\"\r\n",
      "0.00019139065961982656\t\"10527224\"\r\n",
      "0.00019078358675899987\t\"14112408\"\r\n",
      "0.00018817152651665447\t\"9391762\"\r\n",
      "0.00018802207067968092\t\"2614578\"\r\n",
      "0.00018704386398405307\t\"8697871\"\r\n",
      "0.00018673257058017856\t\"6172167\"\r\n",
      "0.00018522886643702457\t\"981395\"\r\n",
      "0.00017874919320481946\t\"6171937\"\r\n",
      "0.00017831292468946681\t\"5490435\"\r\n",
      "0.00017334869674780063\t\"11582765\"\r\n",
      "0.00016948367866746766\t\"14725161\"\r\n",
      "0.00016765208016937522\t\"12067030\"\r\n",
      "0.00016721479992680083\t\"9562547\"\r\n",
      "0.00016539998300771401\t\"994890\"\r\n",
      "0.00016069629909549939\t\"9997298\"\r\n",
      "0.00016052347835106011\t\"9394907\"\r\n",
      "0.00015900663410962709\t\"13280859\"\r\n",
      "0.00015761805658395299\t\"10345830\"\r\n",
      "0.00015527176844112354\t\"4978429\"\r\n",
      "0.00015493020351926444\t\"12447593\"\r\n",
      "0.00015329019748242304\t\"8019937\"\r\n",
      "0.00014883434416032928\t\"11148415\"\r\n",
      "0.00014785698805004402\t\"13432150\"\r\n",
      "0.00014711081040283749\t\"4344962\"\r\n",
      "0.00014184406934522096\t\"1175360\"\r\n",
      "0.00014129930025796777\t\"12038331\"\r\n",
      "0.00013906672712316138\t\"14565507\"\r\n",
      "0.00013764660838377996\t\"4624519\"\r\n",
      "0.000136246356786735\t\"1523975\"\r\n",
      "0.00013489587626940163\t\"14981725\"\r\n",
      "0.00013474291499860629\t\"13328060\"\r\n",
      "0.00013069327814534248\t\"1332806\"\r\n",
      "0.00013020630462243256\t\"10399499\"\r\n",
      "0.00013003778511772347\t\"14963657\"\r\n",
      "0.0001284122163989838\t\"2578813\"\r\n",
      "0.00012820462233157902\t\"2826544\"\r\n",
      "0.00012732350080173229\t\"1575979\"\r\n",
      "0.00012715357037905632\t\"1813634\"\r\n",
      "0.0001241086775246093\t\"2778099\"\r\n",
      "0.00012093630819639406\t\"13853369\"\r\n",
      "0.00012024237239932796\t\"9924814\"\r\n",
      "0.00011577921741055266\t\"4568647\"\r\n",
      "0.00011450767262778133\t\"12785678\"\r\n",
      "0.00011447345059918196\t\"7467127\"\r\n",
      "0.00011430180465051302\t\"9742161\"\r\n",
      "0.00011359377948445593\t\"3328327\"\r\n",
      "0.0001132654264770748\t\"10246542\"\r\n",
      "0.0001132358765383418\t\"3591832\"\r\n",
      "0.00011319290361754453\t\"5274313\"\r\n",
      "0.00011291110380217469\t\"14727077\"\r\n",
      "0.00011241645994592694\t\"14709489\"\r\n",
      "0.00011218707481028968\t\"5908108\"\r\n",
      "0.00011212013201263317\t\"3973000\"\r\n"
     ]
    }
   ],
   "source": [
    "!aws s3 rm --recursive s3://w261/hw93/output1_top100/\n",
    "!python mrjob_hw93_top100.py -q -r emr \\\n",
    " s3://w261/hw93/output1/49/ \\\n",
    " --output-dir=s3://w261/hw93/output1_top100/ \\\n",
    " --no-strict-protocol"
   ]
  },
  {
   "cell_type": "code",
   "execution_count": 232,
   "metadata": {
    "collapsed": false
   },
   "outputs": [
    {
     "name": "stdout",
     "output_type": "stream",
     "text": [
      "download: s3://w261/hw93/output1_top100/part-00000 to ./part-00000\n",
      "-rw-r--r--  1 ssatpati  110056872  3323 Nov  2 09:53 wiki_pagerank_50_iter.txt\n"
     ]
    }
   ],
   "source": [
    "!aws s3 cp s3://w261/hw93/output1_top100/part-00000 .\n",
    "!mv part-00000 wiki_pagerank_50_iter.txt\n",
    "!ls -l wiki_pagerank_50_iter.txt"
   ]
  },
  {
   "cell_type": "markdown",
   "metadata": {},
   "source": [
    "### Analyzing the Ranks from 2 Runs"
   ]
  },
  {
   "cell_type": "code",
   "execution_count": 233,
   "metadata": {
    "collapsed": true
   },
   "outputs": [],
   "source": [
    "# Load Indices\n",
    "index = {}\n",
    "with open('indices.txt') as f:\n",
    "    for l in f:\n",
    "        t  = l.strip().split('\\t')\n",
    "        index[t[1].strip()] = t[0].strip()"
   ]
  },
  {
   "cell_type": "code",
   "execution_count": 234,
   "metadata": {
    "collapsed": true
   },
   "outputs": [],
   "source": [
    "#Load Page Ranks\n",
    "pr1 = []\n",
    "pr2 = []\n",
    "with open('wiki_pagerank_10_iter.txt') as f:\n",
    "    for l in f:\n",
    "        t  = l.strip().split('\\t')\n",
    "        pr1.append((t[0], t[1]))\n",
    "        \n",
    "with open('wiki_pagerank_50_iter.txt') as f:\n",
    "    for l in f:\n",
    "        t  = l.strip().split('\\t')\n",
    "        pr2.append((t[0], t[1]))"
   ]
  },
  {
   "cell_type": "code",
   "execution_count": 245,
   "metadata": {
    "collapsed": false
   },
   "outputs": [
    {
     "name": "stdout",
     "output_type": "stream",
     "text": [
      "### Format: <Rank_Iter_10> <PageIter_10> <Rank_Iter_50> <PageIter_50>\n",
      "\n",
      "\n",
      "0.0014614491944077389\tUnited States, 0.0014615599818950051\tUnited States\n",
      "0.00066633173766243422\tAnimal, 0.00066601779372097683\tAnimal\n",
      "0.00063980518762376919\tFrance, 0.00063967737583050523\tFrance\n",
      "0.00057485388269411393\tGermany, 0.00057476719839043657\tGermany\n",
      "0.00045030471433506045\tArthropod, 0.00045012322227649135\tArthropod\n",
      "0.00044660099103889728\tCanada, 0.00044667005175968869\tCanada\n",
      "0.00044481824807235642\tInsect, 0.00044463224410275795\tInsect\n",
      "0.00044420373464869881\tList of sovereign states, 0.0004438786997350172\tList of sovereign states\n",
      "0.00043299524497309111\tUnited Kingdom, 0.00043314218180878674\tUnited Kingdom\n",
      "0.00042788533618055163\tIndia, 0.00042770776778149028\tIndia\n",
      "0.00042327595495435119\tEngland, 0.0004234167960369039\tEngland\n",
      "0.00039817029591602925\tIran, 0.0003978260420823735\tIran\n",
      "0.00038543367085079497\tWorld War II, 0.00038548623802966812\tWorld War II\n",
      "0.00036316706608724214\tPoland, 0.00036266653374319579\tPoland\n",
      "0.00034383110767296387\tvillage, 0.00034358745306681032\tvillage\n",
      "0.00033834786525998662\tCountries of the world, 0.00033804961292161411\tCountries of the world\n",
      "0.00032935246269550836\tJapan, 0.00032922032693070687\tJapan\n",
      "0.00032896996560107043\tItaly, 0.00032899474585342399\tItaly\n",
      "0.00032632071990416434\tList of countries, 0.00032620175387261427\tList of countries\n",
      "0.00032507588819237655\tAustralia, 0.00032511085577420685\tAustralia\n",
      "0.00031314344183987756\tVoivodeships of Poland, 0.00031268227727687247\tVoivodeships of Poland\n",
      "0.00030959412428348937\tNational Register of Historic Places, 0.00030956927415565032\tNational Register of Historic Places\n",
      "0.00030809546901865501\tLepidoptera, 0.00030798064684121803\tLepidoptera\n",
      "0.00030354256664463141\tPowiat, 0.00030312038150828464\tPowiat\n",
      "0.00029795335224561066\tGmina, 0.00029754778736255287\tGmina\n",
      "0.00028579029429588303\tThe New York Times, 0.00028603760472187013\tThe New York Times\n",
      "0.00028347554325984384\tLondon, 0.00028362017803191739\tLondon\n",
      "0.00026906211185536929\tEnglish language, 0.0002690535556513846\tEnglish language\n",
      "0.00026401327507796166\tChina, 0.00026401414748113274\tChina\n",
      "0.0002610656557758054\tRussia, 0.00026098474385061974\tRussia\n",
      "0.0002575586848485634\tNew York City, 0.00025769760117179251\tNew York City\n",
      "0.00025508993712132386\tDepartments of France, 0.00025497086282432645\tDepartments of France\n",
      "0.0002510430114113158\tSpain, 0.00025102209164296735\tSpain\n",
      "0.00024879018337752235\tCommunes of France, 0.00024867559435740104\tCommunes of France\n",
      "0.00024545732888463706\tmoth, 0.00024536414142058952\tmoth\n",
      "0.00024484903187638451\tBrazil, 0.00024471986914673837\tBrazil\n",
      "0.00023872444278044396\tAssociation football, 0.00023864828929663341\tAssociation football\n",
      "0.00023335074721345033\tassociation football, 0.00023330403435735725\tassociation football\n",
      "0.0002206050333416595\tCalifornia, 0.0002206322347874846\tCalifornia\n",
      "0.00021509725581341996\tCounties of Iran, 0.00021495546054200104\tCounties of Iran\n",
      "0.00021468682893173766\tProvinces of Iran, 0.00021454455864481717\tProvinces of Iran\n",
      "0.00021137909658653462\tCentral European Time, 0.00021120319800842403\tCentral European Time\n",
      "0.00021132415996283604\tRomania, 0.00021118711283438132\tRomania\n",
      "0.00020715963506789855\tBakhsh, 0.00020703164638110908\tBakhsh\n",
      "0.00020338117269215369\tSweden, 0.00020330214011246952\tSweden\n",
      "0.00020262323397539811\tRural Districts of Iran, 0.00020252992613606301\tRural Districts of Iran\n",
      "0.00019701920176268969\tNetherlands, 0.00019701419939821587\tNetherlands\n",
      "0.00019142274075303401\tPrivate Use Areas, 0.00019139065961982656\tPrivate Use Areas\n",
      "0.00019074389256326863\tWorld War I, 0.00019078358675899987\tWorld War I\n",
      "0.00018818343631188085\tCentral European Summer Time, 0.00018817152651665447\tNew York\n"
     ]
    }
   ],
   "source": [
    "print \"### Format: <Rank_Iter_10> <PageIter_10> <Rank_Iter_50> <PageIter_50>\\n\\n\"\n",
    "for i in xrange(50):\n",
    "    print '{0}\\t{1}, {2}\\t{3}'.format(pr1[i][0], \n",
    "                                      index.get(pr1[i][1].replace(\"\\\"\",\"\"), 'NA'),\n",
    "                                      pr2[i][0], \n",
    "                                      index.get(pr2[i][1].replace(\"\\\"\",\"\"), 'NA'))"
   ]
  },
  {
   "cell_type": "code",
   "execution_count": 252,
   "metadata": {
    "collapsed": false
   },
   "outputs": [
    {
     "data": {
      "text/plain": [
       "[<matplotlib.lines.Line2D at 0x10d6fc050>]"
      ]
     },
     "execution_count": 252,
     "metadata": {},
     "output_type": "execute_result"
    },
    {
     "data": {
      "image/png": "[encoded data removed]",
      "text/plain": [
       "<matplotlib.figure.Figure at 0x10d454190>"
      ]
     },
     "metadata": {},
     "output_type": "display_data"
    }
   ],
   "source": [
    "import numpy as np\n",
    "import matplotlib.pyplot as plt\n",
    "%matplotlib inline \n",
    "\n",
    "plt.figure(figsize=(18,6))\n",
    "plt.subplot(121)\n",
    "plt.title(\"Top 100 Page Ranks - 10 Iterations\")\n",
    "plt.ylabel('Page Rank')\n",
    "plt.plot([pr[0] for pr in pr1])\n",
    "\n",
    "plt.subplot(122)\n",
    "plt.title(\"Top 100 Page Ranks - 50 Iterations\")\n",
    "plt.ylabel('Page Rank')\n",
    "plt.plot([pr[0] for pr in pr2])"
   ]
  },
  {
   "cell_type": "markdown",
   "metadata": {},
   "source": [
    "## HW94\n",
    "___\n",
    "\n",
    "\n",
    "===HW 9.4: Topic-specific PageRank implementation using MRJob===\n",
    "\n",
    "Modify your PageRank implementation to produce a topic specific PageRank implementation,\n",
    "as described in:\n",
    "\n",
    "http://www-cs-students.stanford.edu/~taherh/papers/topic-sensitive-pagerank.pdf\n",
    "\n",
    "Note in this article that there is a special caveat to ensure that the transition matrix is irreducible.\n",
    "This caveat lies in footnote 3 on page 3:\n",
    "\n",
    "\tA minor caveat: to ensure that M is irreducible when p\n",
    "\tcontains any 0 entries, nodes not reachable from nonzero\n",
    "\tnodes in p should be removed. In practice this is not problematic.\n",
    "\n",
    "and must be adhered to for convergence to be guaranteed.\n",
    "\n",
    "Run topic specific PageRank on the following randomly generated network of 100 nodes:\n",
    "\n",
    "s3://ucb-mids-mls-networks/randNet.txt\n",
    "\n",
    "which are organized into ten topics, as described in the file:\n",
    "\n",
    "s3://ucb-mids-mls-networks/randNet_topics.txt\n",
    "\n",
    "Since there are 10 topics, your result should be 11 PageRank vectors\n",
    "(one for the vanilla PageRank implementation in 9.1, and one for each topic\n",
    "with the topic specific implementation). Print out the top ten ranking nodes \n",
    "and their topics for each of the 11 versions, and comment on your result. \n",
    "Assume a teleportation factor of 0.15 in all your analyses."
   ]
  },
  {
   "cell_type": "code",
   "execution_count": 49,
   "metadata": {
    "collapsed": false
   },
   "outputs": [
    {
     "name": "stdout",
     "output_type": "stream",
     "text": [
      "Overwriting mrjob_hw94.py\n"
     ]
    }
   ],
   "source": [
    "%%writefile mrjob_hw94.py\n",
    "from mrjob.job import MRJob\n",
    "from mrjob.step import MRStep\n",
    "from mrjob.protocol import RawProtocol\n",
    "from mrjob.compat import get_jobconf_value\n",
    "import sys\n",
    "import ast\n",
    "from numpy import log1p, exp, log\n",
    "\n",
    "class TopicPageRank(MRJob):\n",
    "    \n",
    "    INPUT_PROTOCOL = RawProtocol\n",
    "    \n",
    "    def steps(self):\n",
    "        return [\n",
    "            MRStep(mapper=self.mapper,\n",
    "                  reducer=self.reducer),\n",
    "            MRStep(mapper_init=self.mapper_dangling_init,\n",
    "                mapper=self.mapper_dangling)\n",
    "        ]\n",
    "    \n",
    "\n",
    "    def mapper(self, key, value):\n",
    "        nodes = int(get_jobconf_value('nodes'))\n",
    "        i = int(get_jobconf_value('iteration'))\n",
    "        #sys.stderr.write('[M] {0}, {1} \\n'.format(key, value))\n",
    "        key = key.replace(\"\\\"\",\"\")\n",
    "        key = key.replace(\"\\\\\",\"\")\n",
    "        adj_list = ast.literal_eval(value)\n",
    "      \n",
    "        score = 0\n",
    "        l = 0\n",
    "        \n",
    "        if 'score' in adj_list.keys():\n",
    "            # Previous Mass/Page Rank\n",
    "            score = adj_list['score']\n",
    "            l = len(adj_list) - 1\n",
    "        else: # First iteration ('score' not yet part of the adjacency list!)\n",
    "            # Start with uniform probability distribution\n",
    "            score = 1.0 / nodes\n",
    "            l = len(adj_list)\n",
    "            adj_list['score'] = score\n",
    "            \n",
    "        if l == 0: # Only 'score' & no out links [Dangling!]\n",
    "            sys.stderr.write('[{0}][M] \"DANGLING MASS\" | {1} | {2}\\n'.format(i, key, score))\n",
    "            # Emit using a special key; Accumlate in Reducer;Distribute in the next MRJob\n",
    "            yield 'DANGLING', ('SCORE', score)\n",
    "       \n",
    "        # Emit the Graph Structure\n",
    "        yield key, ('GRAPH', adj_list)\n",
    "                    \n",
    "        # Emit the new Mass/Page Rank\n",
    "        for n in adj_list:\n",
    "            if n != 'score':\n",
    "                yield n, ('SCORE', score/l)\n",
    "                               \n",
    "    def combiner(self, key, values):\n",
    "        pass\n",
    "\n",
    "        \n",
    "    def reducer(self, key, values):     \n",
    "        i = int(get_jobconf_value('iteration'))\n",
    "        teleportation = float(get_jobconf_value('teleportation'))\n",
    "        nodes = int(get_jobconf_value('nodes'))\n",
    "        \n",
    "        adj_list = None\n",
    "        total_score = 0\n",
    "\n",
    "        for value_type, value in values:\n",
    "            if value_type == 'GRAPH':\n",
    "                adj_list = value\n",
    "            else:\n",
    "                assert value_type == 'SCORE'\n",
    "                total_score += value\n",
    "                #total_score = sum_log(total_score, value)\n",
    "                \n",
    "        # Special Key\n",
    "        if key == 'DANGLING':\n",
    "            # Write accumulated Dangling Score in a file\n",
    "            with open('/Users/ssatpati/0-DATASCIENCE/DEV/github/ml/w261/wk9/dangling.txt', 'w') as f:\n",
    "                f.write('DANGLING\\t{0}\\n'.format(total_score))\n",
    "        else:\n",
    "            #total_score = (teleportation / nodes) + ((1 - teleportation) * total_score)\n",
    "            #total_score = sum_log((teleportation / nodes), ((1 - teleportation) * total_score))\n",
    "            if adj_list:\n",
    "                adj_list['score'] = total_score\n",
    "            else:\n",
    "                adj_list = {'score': total_score}\n",
    "    \n",
    "            #sys.stderr.write('[R2] {0} | {1} | {2}\\n\\n'.format(key, total_score, adj_list))\n",
    "            yield key, adj_list\n",
    "       \n",
    "\n",
    "    def mapper_dangling_init(self):\n",
    "        i = int(get_jobconf_value('iteration'))\n",
    "        \n",
    "        # Page/Topic Mapping & Topic Counts for each Topic.\n",
    "        self.topics = {}\n",
    "        self.topicCounts = {}\n",
    "        with open('randNet_topics.txt') as f:\n",
    "            for l in f:\n",
    "                t = l.split('\\t')\n",
    "                self.topics[t[0].strip()] = t[1].strip()\n",
    "                \n",
    "        for k,v in self.topics.iteritems():\n",
    "            self.topicCounts[v] = self.topicCounts.get(v, 0) + 1\n",
    "        \n",
    "        self.dangling_mass = 0\n",
    "        f_dangling = '/Users/ssatpati/0-DATASCIENCE/DEV/github/ml/w261/wk9/dangling.txt'\n",
    "        try:\n",
    "            with open(f_dangling, 'r') as f:\n",
    "                l = f.readlines()\n",
    "                if l:\n",
    "                    self.dangling_mass = float(l[0].split('\\t')[1])\n",
    "            open(f_dangling, 'w').close()\n",
    "        except Exception as e:\n",
    "            pass\n",
    "        #sys.stderr.write('[{0}][M_D] DANGLING MASS: {1}\\n'.format(i, self.dangling_mass))\n",
    "        \n",
    "    def mapper_dangling(self, key, value):\n",
    "        # Topic of Current Node\n",
    "        topic = get_jobconf_value('topic')\n",
    "        # Number of Nodes in same Topic as current Node\n",
    "        n_nodes_topic = self.topicCounts.get(topic, 0)\n",
    "        \n",
    "        #sys.stderr.write('[M_D] {0}, {1}, {2} \\n'.format(key, topic, n_nodes_topic)) \n",
    "        \n",
    "        i = int(get_jobconf_value('iteration'))\n",
    "        key = key.replace(\"\\\"\",\"\")\n",
    "        key = key.replace(\"\\\\\",\"\")\n",
    "        adj_list = ast.literal_eval(str(value))\n",
    "        \n",
    "        nodes = int(get_jobconf_value('nodes'))\n",
    "        teleportation = float(get_jobconf_value('teleportation'))\n",
    "        topic_bias = float(get_jobconf_value('topic_bias'))\n",
    "        \n",
    "        score = adj_list['score']\n",
    "        \n",
    "        '''\n",
    "            Adjust for Topic Bias\n",
    "            Random Surfer selects Nodes in same Topic as current node using a Topic Bias (> 0.5: Topic Sensitive)\n",
    "        '''\n",
    "        if topic != '0':\n",
    "            random_topic_jump = teleportation * ((topic_bias/n_nodes_topic) + ((1 - topic_bias)/ (nodes - n_nodes_topic)))\n",
    "            modified_score = random_topic_jump + (1 - teleportation) * ((self.dangling_mass / nodes) + score)\n",
    "        else:\n",
    "            modified_score = (teleportation / nodes) + (1 - teleportation) * ((self.dangling_mass / nodes) + score)\n",
    "        \n",
    "        #modified_score = (teleportation / nodes) + (1 - teleportation) * ((self.dangling_mass / nodes) + score)\n",
    "        #modified_score = sum_log((teleportation / nodes), (1 - teleportation)*(self.dangling_mass / nodes))\n",
    "        #modified_score = sum_log(modified_score, (1 - teleportation)*score)\n",
    "        adj_list['score'] = modified_score\n",
    "            \n",
    "        yield key, adj_list\n",
    "        \n",
    "\n",
    "   \n",
    "if __name__ == '__main__':\n",
    "    TopicPageRank.run()"
   ]
  },
  {
   "cell_type": "code",
   "execution_count": 50,
   "metadata": {
    "collapsed": true
   },
   "outputs": [],
   "source": [
    "!chmod a+x mrjob_hw94.py"
   ]
  },
  {
   "cell_type": "code",
   "execution_count": 52,
   "metadata": {
    "collapsed": false
   },
   "outputs": [
    {
     "name": "stdout",
     "output_type": "stream",
     "text": [
      "TOPICS: [0, 1, 2, 3, 4, 5, 6, 7, 8, 9, 10]\n",
      "### Iteration: 1, Topic 0:\n",
      "#Iteration: 1, Page Rank (Sum): 1.0\n",
      "#Iteration: 1, Difference in Ranks: 1.002\n",
      "### Iteration: 2, Topic 0:\n",
      "#Iteration: 2, Page Rank (Sum): 1.0\n",
      "#Iteration: 2, Difference in Ranks: 0.048\n",
      "### Iteration: 3, Topic 0:\n",
      "#Iteration: 3, Page Rank (Sum): 1.0\n",
      "#Iteration: 3, Difference in Ranks: 0.016\n",
      "### Iteration: 4, Topic 0:\n",
      "#Iteration: 4, Page Rank (Sum): 1.0\n",
      "#Iteration: 4, Difference in Ranks: 0.004\n",
      "### Iteration: 5, Topic 0:\n",
      "#Iteration: 5, Page Rank (Sum): 1.0\n",
      "#Iteration: 5, Difference in Ranks: 0.001\n",
      "### Iteration: 6, Topic 0:\n",
      "#Iteration: 6, Page Rank (Sum): 1.0\n",
      "#Iteration: 6, Difference in Ranks: 0.001\n",
      "### Iteration: 7, Topic 0:\n",
      "#Iteration: 7, Page Rank (Sum): 1.0\n",
      "#Iteration: 7, Difference in Ranks: 0.0\n",
      "\n",
      "### Final Page Rank, Topic 0: \n",
      "[('15', 0.016), ('63', 0.016), ('74', 0.016), ('100', 0.015), ('58', 0.015), ('85', 0.015), ('9', 0.015), ('52', 0.014), ('61', 0.014), ('71', 0.014)]\n",
      "\n",
      "\n",
      "### Iteration: 8, Topic 1:\n",
      "#Iteration: 8, Page Rank (Sum): 1.72533664068\n",
      "#Iteration: 8, Difference in Ranks: 0\n",
      "\n",
      "### Final Page Rank, Topic 1: \n",
      "[('15', 0.024), ('100', 0.023), ('63', 0.023), ('74', 0.023), ('52', 0.022), ('58', 0.022), ('61', 0.022), ('71', 0.022), ('85', 0.022), ('9', 0.022)]\n",
      "\n",
      "\n",
      "### Iteration: 9, Topic 2:\n",
      "#Iteration: 9, Page Rank (Sum): 3.32441657936\n",
      "#Iteration: 9, Difference in Ranks: 0\n",
      "\n",
      "### Final Page Rank, Topic 2: \n",
      "[('15', 0.044), ('100', 0.043), ('63', 0.043), ('74', 0.043), ('85', 0.042), ('9', 0.042), ('58', 0.041), ('61', 0.041), ('71', 0.041), ('52', 0.04)]\n",
      "\n",
      "\n",
      "### Iteration: 10, Topic 3:\n",
      "#Iteration: 10, Page Rank (Sum): 4.47740244411\n",
      "#Iteration: 10, Difference in Ranks: 0\n",
      "\n",
      "### Final Page Rank, Topic 3: \n",
      "[('15', 0.065), ('63', 0.065), ('100', 0.064), ('74', 0.062), ('9', 0.062), ('85', 0.061), ('58', 0.06), ('61', 0.059), ('71', 0.059), ('52', 0.057)]\n",
      "\n",
      "\n",
      "### Iteration: 11, Topic 4:\n",
      "#Iteration: 11, Page Rank (Sum): 4.94982390773\n",
      "#Iteration: 11, Difference in Ranks: 0\n",
      "\n",
      "### Final Page Rank, Topic 4: \n",
      "[('15', 0.077), ('63', 0.076), ('100', 0.074), ('74', 0.074), ('9', 0.073), ('85', 0.071), ('58', 0.07), ('61', 0.069), ('71', 0.069), ('52', 0.068)]\n",
      "\n",
      "\n",
      "### Iteration: 12, Topic 5:\n",
      "#Iteration: 12, Page Rank (Sum): 5.85899867322\n",
      "#Iteration: 12, Difference in Ranks: 0\n",
      "\n",
      "### Final Page Rank, Topic 5: \n",
      "[('15', 0.089), ('63', 0.088), ('74', 0.087), ('100', 0.086), ('85', 0.084), ('9', 0.084), ('58', 0.082), ('61', 0.08), ('71', 0.08), ('52', 0.079)]\n",
      "\n",
      "\n",
      "### Iteration: 13, Topic 6:\n",
      "#Iteration: 13, Page Rank (Sum): 7.45674461692\n",
      "#Iteration: 13, Difference in Ranks: 0\n",
      "\n",
      "### Final Page Rank, Topic 6: \n",
      "[('15', 0.111), ('63', 0.109), ('74', 0.108), ('100', 0.107), ('85', 0.104), ('9', 0.104), ('58', 0.102), ('61', 0.1), ('71', 0.1), ('52', 0.099)]\n",
      "\n",
      "\n",
      "### Iteration: 14, Topic 7:\n",
      "#Iteration: 14, Page Rank (Sum): 7.82489959104\n",
      "#Iteration: 14, Difference in Ranks: 0\n",
      "\n",
      "### Final Page Rank, Topic 7: \n",
      "[('15', 0.125), ('63', 0.122), ('74', 0.121), ('100', 0.12), ('9', 0.117), ('85', 0.116), ('58', 0.113), ('61', 0.111), ('71', 0.111), ('52', 0.108)]\n",
      "\n",
      "\n",
      "### Iteration: 15, Topic 8:\n",
      "#Iteration: 15, Page Rank (Sum): 8.30281300404\n",
      "#Iteration: 15, Difference in Ranks: 0\n",
      "\n",
      "### Final Page Rank, Topic 8: \n",
      "[('15', 0.132), ('63', 0.129), ('74', 0.129), ('100', 0.125), ('85', 0.123), ('9', 0.123), ('58', 0.12), ('71', 0.118), ('52', 0.117), ('61', 0.117)]\n",
      "\n",
      "\n",
      "### Iteration: 16, Topic 9:\n",
      "#Iteration: 16, Page Rank (Sum): 9.18043252809\n",
      "#Iteration: 16, Difference in Ranks: 0\n",
      "\n",
      "### Final Page Rank, Topic 9: \n",
      "[('15', 0.144), ('74', 0.141), ('63', 0.14), ('100', 0.137), ('85', 0.134), ('9', 0.134), ('58', 0.132), ('71', 0.129), ('61', 0.128), ('52', 0.127)]\n",
      "\n",
      "\n",
      "### Iteration: 17, Topic 10:\n",
      "#Iteration: 17, Page Rank (Sum): 9.04257219433\n",
      "#Iteration: 17, Difference in Ranks: 0\n",
      "\n",
      "### Final Page Rank, Topic 10: \n",
      "[('15', 0.148), ('63', 0.144), ('74', 0.144), ('100', 0.141), ('85', 0.137), ('9', 0.137), ('58', 0.134), ('61', 0.131), ('71', 0.131), ('52', 0.129)]\n",
      "\n",
      "\n",
      "\n",
      "### PAGE RANK SUMMARY ###\n",
      "\n",
      "\n",
      "# Topic: 0\n",
      "\n",
      "[('15', 0.016), ('63', 0.016), ('74', 0.016), ('100', 0.015), ('58', 0.015), ('85', 0.015), ('9', 0.015), ('52', 0.014), ('61', 0.014), ('71', 0.014)]\n",
      "\n",
      "# Topic: 1\n",
      "\n",
      "[('15', 0.024), ('100', 0.023), ('63', 0.023), ('74', 0.023), ('52', 0.022), ('58', 0.022), ('61', 0.022), ('71', 0.022), ('85', 0.022), ('9', 0.022)]\n",
      "\n",
      "# Topic: 2\n",
      "\n",
      "[('15', 0.044), ('100', 0.043), ('63', 0.043), ('74', 0.043), ('85', 0.042), ('9', 0.042), ('58', 0.041), ('61', 0.041), ('71', 0.041), ('52', 0.04)]\n",
      "\n",
      "# Topic: 3\n",
      "\n",
      "[('15', 0.065), ('63', 0.065), ('100', 0.064), ('74', 0.062), ('9', 0.062), ('85', 0.061), ('58', 0.06), ('61', 0.059), ('71', 0.059), ('52', 0.057)]\n",
      "\n",
      "# Topic: 4\n",
      "\n",
      "[('15', 0.077), ('63', 0.076), ('100', 0.074), ('74', 0.074), ('9', 0.073), ('85', 0.071), ('58', 0.07), ('61', 0.069), ('71', 0.069), ('52', 0.068)]\n",
      "\n",
      "# Topic: 5\n",
      "\n",
      "[('15', 0.089), ('63', 0.088), ('74', 0.087), ('100', 0.086), ('85', 0.084), ('9', 0.084), ('58', 0.082), ('61', 0.08), ('71', 0.08), ('52', 0.079)]\n",
      "\n",
      "# Topic: 6\n",
      "\n",
      "[('15', 0.111), ('63', 0.109), ('74', 0.108), ('100', 0.107), ('85', 0.104), ('9', 0.104), ('58', 0.102), ('61', 0.1), ('71', 0.1), ('52', 0.099)]\n",
      "\n",
      "# Topic: 7\n",
      "\n",
      "[('15', 0.125), ('63', 0.122), ('74', 0.121), ('100', 0.12), ('9', 0.117), ('85', 0.116), ('58', 0.113), ('61', 0.111), ('71', 0.111), ('52', 0.108)]\n",
      "\n",
      "# Topic: 8\n",
      "\n",
      "[('15', 0.132), ('63', 0.129), ('74', 0.129), ('100', 0.125), ('85', 0.123), ('9', 0.123), ('58', 0.12), ('71', 0.118), ('52', 0.117), ('61', 0.117)]\n",
      "\n",
      "# Topic: 9\n",
      "\n",
      "[('15', 0.144), ('74', 0.141), ('63', 0.14), ('100', 0.137), ('85', 0.134), ('9', 0.134), ('58', 0.132), ('71', 0.129), ('61', 0.128), ('52', 0.127)]\n",
      "\n",
      "# Topic: 10\n",
      "\n",
      "[('15', 0.148), ('63', 0.144), ('74', 0.144), ('100', 0.141), ('85', 0.137), ('9', 0.137), ('58', 0.134), ('61', 0.131), ('71', 0.131), ('52', 0.129)]\n"
     ]
    }
   ],
   "source": [
    "%reload_ext autoreload\n",
    "%autoreload 2\n",
    "from mrjob_hw94 import TopicPageRank\n",
    "import ast\n",
    "import sys\n",
    "import pprint\n",
    "\n",
    "input_file = 'randNet.txt'\n",
    "input_file_iter = input_file + '1'\n",
    "\n",
    "cnt = 0\n",
    "MAX_ITERATIONS = 100\n",
    "NODES = 100\n",
    "TELEPORTATION = 0.15\n",
    "TOPIC_BIAS = 0.99\n",
    "\n",
    "topics = [i for i in xrange(10+1)]\n",
    "tpr = {}\n",
    "\n",
    "print 'TOPICS: {0}'.format(topics)\n",
    "\n",
    "for topic in topics:\n",
    "    \n",
    "    prev_ranks = []\n",
    "    curr_ranks = []\n",
    "    sum_partial_diff_PR = float('inf')\n",
    "\n",
    "    # After so many iterations (TBD: Convergence Criteria)\n",
    "    while sum_partial_diff_PR > .0005:\n",
    "        print '### Iteration: {0}, Topic {1}:'.format(cnt+1, topic)\n",
    "        if cnt == 0:\n",
    "            mr_job = TopicPageRank(args=[input_file,\n",
    "                                    '--file', 'randNet_topics.txt',\n",
    "                                    '--jobconf', 'teleportation={0}'.format(TELEPORTATION),\n",
    "                                    '--jobconf', 'topic_bias={0}'.format(TOPIC_BIAS),\n",
    "                                    '--jobconf', 'topic={0}'.format(topic),\n",
    "                                    '--jobconf', 'nodes={0}'.format(NODES),\n",
    "                                    '--jobconf', 'iteration={0}'.format(cnt+1),\n",
    "                                    '--no-strict-protocol'])\n",
    "        else:\n",
    "            mr_job = TopicPageRank(args=[input_file_iter,\n",
    "                                    '--file', 'randNet_topics.txt',\n",
    "                                    '--jobconf', 'teleportation={0}'.format(TELEPORTATION),\n",
    "                                    '--jobconf', 'topic_bias={0}'.format(TOPIC_BIAS),\n",
    "                                    '--jobconf', 'topic={0}'.format(topic),\n",
    "                                    '--jobconf', 'nodes={0}'.format(NODES),\n",
    "                                    '--jobconf', 'iteration={0}'.format(cnt+1),\n",
    "                                    '--no-strict-protocol'])\n",
    "\n",
    "        with mr_job.make_runner() as runner: \n",
    "            runner.run()\n",
    "\n",
    "            if cnt == 0:\n",
    "                prev_ranks = [(i+1, 0) for i in xrange(NODES)]\n",
    "            else:\n",
    "                prev_ranks = curr_ranks[:]\n",
    "                del curr_ranks[:]\n",
    "\n",
    "            total_page_rank = 0\n",
    "            ranks = []\n",
    "            with open(input_file_iter, 'w') as f:\n",
    "                for line in runner.stream_output():\n",
    "                    parsed_line = mr_job.parse_output_line(line)\n",
    "\n",
    "                    #print parsed_line\n",
    "                    neigbors = ast.literal_eval(str(parsed_line[1]))\n",
    "                    total_page_rank += float(neigbors['score'])\n",
    "\n",
    "                    curr_ranks.append((parsed_line[0], round(neigbors['score'], 3)))\n",
    "\n",
    "                    f.write(line)\n",
    "\n",
    "            sum_partial_diff_PR = sum([abs(x[1]-y[1]) for x,y in zip(curr_ranks, prev_ranks)])\n",
    "\n",
    "            print \"#Iteration: {0}, Page Rank (Sum): {1}\".format(cnt + 1, total_page_rank)\n",
    "            print \"#Iteration: {0}, Difference in Ranks: {1}\".format(cnt + 1, sum_partial_diff_PR)\n",
    "            #print 'Prev Page Ranks: ', prev_ranks\n",
    "            #print 'Curr Page Ranks: ', curr_ranks\n",
    "\n",
    "        cnt += 1\n",
    "    \n",
    "    tpr[topic] = sorted(curr_ranks, key=lambda x: -x[1])[:10]\n",
    "    print '\\n### Final Page Rank, Topic {0}: \\n{1}\\n\\n'.format(topic, sorted(curr_ranks, key=lambda x: -x[1])[:10])\n",
    "    \n",
    "print '\\n### PAGE RANK SUMMARY ###\\n'    \n",
    "for k,v in tpr.iteritems():\n",
    "    print '\\n# Topic: {0}\\n'.format(k)\n",
    "    print v\n",
    "    "
   ]
  },
  {
   "cell_type": "markdown",
   "metadata": {},
   "source": [
    "### ============= PAGE RANK SUMMARY ============= ###\n",
    "\n",
    "```\n",
    "# Topic: 0 (No Topic or BASE CASE)\n",
    "\n",
    "[('15', 0.016), ('63', 0.016), ('74', 0.016), ('100', 0.015), ('58', 0.015), ('85', 0.015), ('9', 0.015), ('52', 0.014), ('61', 0.014), ('71', 0.014)]\n",
    "\n",
    "# Topic: 1\n",
    "\n",
    "[('15', 0.024), ('100', 0.023), ('63', 0.023), ('74', 0.023), ('52', 0.022), ('58', 0.022), ('61', 0.022), ('71', 0.022), ('85', 0.022), ('9', 0.022)]\n",
    "\n",
    "# Topic: 2\n",
    "\n",
    "[('15', 0.044), ('100', 0.043), ('63', 0.043), ('74', 0.043), ('85', 0.042), ('9', 0.042), ('58', 0.041), ('61', 0.041), ('71', 0.041), ('52', 0.04)]\n",
    "\n",
    "# Topic: 3\n",
    "\n",
    "[('15', 0.065), ('63', 0.065), ('100', 0.064), ('74', 0.062), ('9', 0.062), ('85', 0.061), ('58', 0.06), ('61', 0.059), ('71', 0.059), ('52', 0.057)]\n",
    "\n",
    "# Topic: 4\n",
    "\n",
    "[('15', 0.077), ('63', 0.076), ('100', 0.074), ('74', 0.074), ('9', 0.073), ('85', 0.071), ('58', 0.07), ('61', 0.069), ('71', 0.069), ('52', 0.068)]\n",
    "\n",
    "# Topic: 5\n",
    "\n",
    "[('15', 0.089), ('63', 0.088), ('74', 0.087), ('100', 0.086), ('85', 0.084), ('9', 0.084), ('58', 0.082), ('61', 0.08), ('71', 0.08), ('52', 0.079)]\n",
    "\n",
    "# Topic: 6\n",
    "\n",
    "[('15', 0.111), ('63', 0.109), ('74', 0.108), ('100', 0.107), ('85', 0.104), ('9', 0.104), ('58', 0.102), ('61', 0.1), ('71', 0.1), ('52', 0.099)]\n",
    "\n",
    "# Topic: 7\n",
    "\n",
    "[('15', 0.125), ('63', 0.122), ('74', 0.121), ('100', 0.12), ('9', 0.117), ('85', 0.116), ('58', 0.113), ('61', 0.111), ('71', 0.111), ('52', 0.108)]\n",
    "\n",
    "# Topic: 8\n",
    "\n",
    "[('15', 0.132), ('63', 0.129), ('74', 0.129), ('100', 0.125), ('85', 0.123), ('9', 0.123), ('58', 0.12), ('71', 0.118), ('52', 0.117), ('61', 0.117)]\n",
    "\n",
    "# Topic: 9\n",
    "\n",
    "[('15', 0.144), ('74', 0.141), ('63', 0.14), ('100', 0.137), ('85', 0.134), ('9', 0.134), ('58', 0.132), ('71', 0.129), ('61', 0.128), ('52', 0.127)]\n",
    "\n",
    "# Topic: 10\n",
    "\n",
    "[('15', 0.148), ('63', 0.144), ('74', 0.144), ('100', 0.141), ('85', 0.137), ('9', 0.137), ('58', 0.134), ('61', 0.131), ('71', 0.131), ('52', 0.129)]\n",
    "```"
   ]
  },
  {
   "cell_type": "code",
   "execution_count": null,
   "metadata": {
    "collapsed": true
   },
   "outputs": [],
   "source": []
  },
  {
   "cell_type": "code",
   "execution_count": null,
   "metadata": {
    "collapsed": true
   },
   "outputs": [],
   "source": []
  },
  {
   "cell_type": "code",
   "execution_count": null,
   "metadata": {
    "collapsed": true
   },
   "outputs": [],
   "source": []
  }
 ],
 "metadata": {
  "kernelspec": {
   "display_name": "Python 2",
   "language": "python",
   "name": "python2"
  },
  "language_info": {
   "codemirror_mode": {
    "name": "ipython",
    "version": 2
   },
   "file_extension": ".py",
   "mimetype": "text/x-python",
   "name": "python",
   "nbconvert_exporter": "python",
   "pygments_lexer": "ipython2",
   "version": "2.7.10"
  }
 },
 "nbformat": 4,
 "nbformat_minor": 0
}
